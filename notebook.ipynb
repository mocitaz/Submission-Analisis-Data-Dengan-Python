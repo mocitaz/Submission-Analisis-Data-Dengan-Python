{
<<<<<<< HEAD
 "cells": [
  {
   "cell_type": "markdown",
   "metadata": {},
   "source": [
    "# **Proyek Analisis Data: Bike Sharing Dataset**\n",
    "\n",
    "**Nama:** Luthfi Fauzi  \n",
    "**Email:** luthfafiwork@gmail.com  \n",
    "**ID Dicoding:** mocitaz  "
   ]
  },
  {
   "cell_type": "markdown",
   "metadata": {},
   "source": [
    "## Pendahuluan\n",
    "\n",
    "Proyek ini menganalisis pola penggunaan sepeda menggunakan **Bike Sharing Dataset** yang bersumber dari Kaggle. Dataset ini mencakup data harian (`day.csv`) dan per jam (`hour.csv`) dari sistem penyewaan sepeda di Washington D.C. selama dua tahun (2011-2012). Analisis ini bertujuan untuk mengeksplorasi faktor-faktor yang memengaruhi penyewaan sepeda, memberikan insight berbasis data, dan mendukung pengambilan keputusan operasional.\n",
    "\n",
    "## Menentukan Pertanyaan Bisnis\n",
    "\n",
    "### Pertanyaan 1\n",
    "- Bagaimana kondisi cuaca memengaruhi jumlah penyewaan sepeda?  \n",
    "  **Tujuan:** Memahami hubungan antara kondisi cuaca dan tingkat penggunaan sepeda untuk optimasi distribusi sepeda.\n",
    "\n",
    "### Pertanyaan 2\n",
    "- Bagaimana pola penggunaan sepeda berdasarkan hari dalam seminggu dan jam?  \n",
    "  **Tujuan:** Mengidentifikasi waktu puncak penyewaan untuk meningkatkan efisiensi operasional dan perencanaan stasiun sepeda."
   ]
  },
  {
   "cell_type": "code",
   "execution_count": 24,
   "metadata": {},
   "outputs": [
    {
     "name": "stdout",
     "output_type": "stream",
     "text": [
      "Requirement already satisfied: matplotlib in ./venv/lib/python3.13/site-packages (3.10.1)\n",
      "Requirement already satisfied: seaborn in ./venv/lib/python3.13/site-packages (0.13.2)\n",
      "Requirement already satisfied: pandas in ./venv/lib/python3.13/site-packages (2.2.3)\n",
      "Requirement already satisfied: numpy in ./venv/lib/python3.13/site-packages (2.2.3)\n",
      "Requirement already satisfied: plotly in ./venv/lib/python3.13/site-packages (6.0.0)\n",
      "Requirement already satisfied: contourpy>=1.0.1 in ./venv/lib/python3.13/site-packages (from matplotlib) (1.3.1)\n",
      "Requirement already satisfied: cycler>=0.10 in ./venv/lib/python3.13/site-packages (from matplotlib) (0.12.1)\n",
      "Requirement already satisfied: fonttools>=4.22.0 in ./venv/lib/python3.13/site-packages (from matplotlib) (4.56.0)\n",
      "Requirement already satisfied: kiwisolver>=1.3.1 in ./venv/lib/python3.13/site-packages (from matplotlib) (1.4.8)\n",
      "Requirement already satisfied: packaging>=20.0 in ./venv/lib/python3.13/site-packages (from matplotlib) (24.2)\n",
      "Requirement already satisfied: pillow>=8 in ./venv/lib/python3.13/site-packages (from matplotlib) (11.1.0)\n",
      "Requirement already satisfied: pyparsing>=2.3.1 in ./venv/lib/python3.13/site-packages (from matplotlib) (3.2.1)\n",
      "Requirement already satisfied: python-dateutil>=2.7 in ./venv/lib/python3.13/site-packages (from matplotlib) (2.9.0.post0)\n",
      "Requirement already satisfied: pytz>=2020.1 in ./venv/lib/python3.13/site-packages (from pandas) (2025.1)\n",
      "Requirement already satisfied: tzdata>=2022.7 in ./venv/lib/python3.13/site-packages (from pandas) (2025.1)\n",
      "Requirement already satisfied: narwhals>=1.15.1 in ./venv/lib/python3.13/site-packages (from plotly) (1.29.1)\n",
      "Requirement already satisfied: six>=1.5 in ./venv/lib/python3.13/site-packages (from python-dateutil>=2.7->matplotlib) (1.17.0)\n",
      "Note: you may need to restart the kernel to use updated packages.\n"
     ]
    }
   ],
   "source": [
    "pip install matplotlib seaborn pandas numpy plotly"
   ]
  },
  {
   "cell_type": "code",
   "execution_count": 25,
   "metadata": {},
   "outputs": [
    {
     "name": "stdout",
     "output_type": "stream",
     "text": [
      "Requirement already satisfied: matplotlib in ./venv/lib/python3.13/site-packages (3.10.1)\n",
      "Requirement already satisfied: seaborn in ./venv/lib/python3.13/site-packages (0.13.2)\n",
      "Requirement already satisfied: contourpy>=1.0.1 in ./venv/lib/python3.13/site-packages (from matplotlib) (1.3.1)\n",
      "Requirement already satisfied: cycler>=0.10 in ./venv/lib/python3.13/site-packages (from matplotlib) (0.12.1)\n",
      "Requirement already satisfied: fonttools>=4.22.0 in ./venv/lib/python3.13/site-packages (from matplotlib) (4.56.0)\n",
      "Requirement already satisfied: kiwisolver>=1.3.1 in ./venv/lib/python3.13/site-packages (from matplotlib) (1.4.8)\n",
      "Requirement already satisfied: numpy>=1.23 in ./venv/lib/python3.13/site-packages (from matplotlib) (2.2.3)\n",
      "Requirement already satisfied: packaging>=20.0 in ./venv/lib/python3.13/site-packages (from matplotlib) (24.2)\n",
      "Requirement already satisfied: pillow>=8 in ./venv/lib/python3.13/site-packages (from matplotlib) (11.1.0)\n",
      "Requirement already satisfied: pyparsing>=2.3.1 in ./venv/lib/python3.13/site-packages (from matplotlib) (3.2.1)\n",
      "Requirement already satisfied: python-dateutil>=2.7 in ./venv/lib/python3.13/site-packages (from matplotlib) (2.9.0.post0)\n",
      "Requirement already satisfied: pandas>=1.2 in ./venv/lib/python3.13/site-packages (from seaborn) (2.2.3)\n",
      "Requirement already satisfied: pytz>=2020.1 in ./venv/lib/python3.13/site-packages (from pandas>=1.2->seaborn) (2025.1)\n",
      "Requirement already satisfied: tzdata>=2022.7 in ./venv/lib/python3.13/site-packages (from pandas>=1.2->seaborn) (2025.1)\n",
      "Requirement already satisfied: six>=1.5 in ./venv/lib/python3.13/site-packages (from python-dateutil>=2.7->matplotlib) (1.17.0)\n",
      "Note: you may need to restart the kernel to use updated packages.\n"
     ]
    }
   ],
   "source": [
    "pip install --upgrade matplotlib seaborn"
   ]
  },
  {
   "cell_type": "code",
   "execution_count": 26,
   "metadata": {},
   "outputs": [],
   "source": [
    "# Import library yang diperlukan\n",
    "import pandas as pd\n",
    "import numpy as np\n",
    "import matplotlib.pyplot as plt\n",
    "import seaborn as sns\n",
    "import plotly.express as px\n",
    "import plotly.graph_objects as go\n",
    "from datetime import datetime\n",
    "import warnings\n",
    "warnings.filterwarnings('ignore')\n",
    "\n",
    "# Set style menggunakan Seaborn\n",
    "sns.set_style(\"whitegrid\")  # Ganti dengan style yang valid seperti 'whitegrid', 'darkgrid', dll.\n",
    "plt.rcParams['figure.figsize'] = (10, 6)  # Atur ukuran default plot"
   ]
  },
  {
   "cell_type": "code",
   "execution_count": 27,
   "metadata": {},
   "outputs": [
    {
     "name": "stdout",
     "output_type": "stream",
     "text": [
      "Dataset berhasil dimuat.\n",
      "\n",
      "Pratinjau Data Harian (5 Baris Pertama):\n"
     ]
=======
  "nbformat": 4,
  "nbformat_minor": 0,
  "metadata": {
    "colab": {
      "provenance": []
>>>>>>> 947d53d9dbf8a8de92e8370e88db54ed01502f56
    },
    "kernelspec": {
      "name": "python3",
      "display_name": "Python 3"
    },
    "language_info": {
      "name": "python"
    }
<<<<<<< HEAD
   ],
   "source": [
    "# Memuat dataset\n",
    "try:\n",
    "    day_df = pd.read_csv(\"data/day.csv\")\n",
    "    hour_df = pd.read_csv(\"data/hour.csv\")\n",
    "    print(\"Dataset berhasil dimuat.\")\n",
    "except FileNotFoundError:\n",
    "    print(\"Error: File 'day.csv' atau 'hour.csv' tidak ditemukan di direktori 'data/'. Pastikan file ada.\")\n",
    "\n",
    "# Menampilkan pratinjau data\n",
    "print(\"\\nPratinjau Data Harian (5 Baris Pertama):\")\n",
    "display(day_df.head())\n",
    "print(\"\\nPratinjau Data Per Jam (5 Baris Pertama):\")\n",
    "display(hour_df.head())\n",
    "\n",
    "# Statistik deskriptif awal\n",
    "print(\"\\nStatistik Deskriptif Data Harian:\")\n",
    "display(day_df.describe())"
   ]
  },
  {
   "cell_type": "markdown",
   "metadata": {},
   "source": [
    "## Data Wrangling\n",
    "\n",
    "Langkah ini mencakup pengumpulan, penilaian, dan pembersihan data untuk memastikan dataset siap digunakan dalam analisis."
   ]
  },
  {
   "cell_type": "markdown",
   "metadata": {},
   "source": [
    "### Gathering Data\n",
    "\n",
    "Dataset `day.csv` berisi data harian, sedangkan `hour.csv` berisi data per jam. Keduanya mencakup informasi seperti tanggal, kondisi cuaca, suhu, dan jumlah penyewaan sepeda."
   ]
  },
  {
   "cell_type": "markdown",
   "metadata": {},
   "source": [
    "#### Assessing Data"
   ]
  },
  {
   "cell_type": "code",
   "execution_count": 28,
   "metadata": {},
   "outputs": [
    {
     "name": "stdout",
     "output_type": "stream",
     "text": [
      "Informasi Struktur Data Harian:\n",
      "<class 'pandas.core.frame.DataFrame'>\n",
      "RangeIndex: 731 entries, 0 to 730\n",
      "Data columns (total 16 columns):\n",
      " #   Column      Non-Null Count  Dtype  \n",
      "---  ------      --------------  -----  \n",
      " 0   instant     731 non-null    int64  \n",
      " 1   dteday      731 non-null    object \n",
      " 2   season      731 non-null    int64  \n",
      " 3   yr          731 non-null    int64  \n",
      " 4   mnth        731 non-null    int64  \n",
      " 5   holiday     731 non-null    int64  \n",
      " 6   weekday     731 non-null    int64  \n",
      " 7   workingday  731 non-null    int64  \n",
      " 8   weathersit  731 non-null    int64  \n",
      " 9   temp        731 non-null    float64\n",
      " 10  atemp       731 non-null    float64\n",
      " 11  hum         731 non-null    float64\n",
      " 12  windspeed   731 non-null    float64\n",
      " 13  casual      731 non-null    int64  \n",
      " 14  registered  731 non-null    int64  \n",
      " 15  cnt         731 non-null    int64  \n",
      "dtypes: float64(4), int64(11), object(1)\n",
      "memory usage: 91.5+ KB\n",
      "None\n",
      "\n",
      "Informasi Struktur Data Per Jam:\n",
      "<class 'pandas.core.frame.DataFrame'>\n",
      "RangeIndex: 17379 entries, 0 to 17378\n",
      "Data columns (total 17 columns):\n",
      " #   Column      Non-Null Count  Dtype  \n",
      "---  ------      --------------  -----  \n",
      " 0   instant     17379 non-null  int64  \n",
      " 1   dteday      17379 non-null  object \n",
      " 2   season      17379 non-null  int64  \n",
      " 3   yr          17379 non-null  int64  \n",
      " 4   mnth        17379 non-null  int64  \n",
      " 5   hr          17379 non-null  int64  \n",
      " 6   holiday     17379 non-null  int64  \n",
      " 7   weekday     17379 non-null  int64  \n",
      " 8   workingday  17379 non-null  int64  \n",
      " 9   weathersit  17379 non-null  int64  \n",
      " 10  temp        17379 non-null  float64\n",
      " 11  atemp       17379 non-null  float64\n",
      " 12  hum         17379 non-null  float64\n",
      " 13  windspeed   17379 non-null  float64\n",
      " 14  casual      17379 non-null  int64  \n",
      " 15  registered  17379 non-null  int64  \n",
      " 16  cnt         17379 non-null  int64  \n",
      "dtypes: float64(4), int64(12), object(1)\n",
      "memory usage: 2.3+ MB\n",
      "None\n",
      "\n",
      "Nilai Hilang (Missing Values) di Data Harian:\n",
      "instant       0\n",
      "dteday        0\n",
      "season        0\n",
      "yr            0\n",
      "mnth          0\n",
      "holiday       0\n",
      "weekday       0\n",
      "workingday    0\n",
      "weathersit    0\n",
      "temp          0\n",
      "atemp         0\n",
      "hum           0\n",
      "windspeed     0\n",
      "casual        0\n",
      "registered    0\n",
      "cnt           0\n",
      "dtype: int64\n",
      "\n",
      "Nilai Hilang (Missing Values) di Data Per Jam:\n",
      "instant       0\n",
      "dteday        0\n",
      "season        0\n",
      "yr            0\n",
      "mnth          0\n",
      "hr            0\n",
      "holiday       0\n",
      "weekday       0\n",
      "workingday    0\n",
      "weathersit    0\n",
      "temp          0\n",
      "atemp         0\n",
      "hum           0\n",
      "windspeed     0\n",
      "casual        0\n",
      "registered    0\n",
      "cnt           0\n",
      "dtype: int64\n",
      "\n",
      "Jumlah Duplikat di Data Harian:\n",
      "0\n",
      "\n",
      "Jumlah Duplikat di Data Per Jam:\n",
      "0\n",
      "\n",
      "Rentang Tanggal Data Harian:\n",
      "Min: 2011-01-01, Max: 2012-12-31\n",
      "\n",
      "Rentang Tanggal Data Per Jam:\n",
      "Min: 2011-01-01, Max: 2012-12-31\n"
     ]
    }
   ],
   "source": [
    "# Pemeriksaan tipe data dan info dataset\n",
    "print(\"Informasi Struktur Data Harian:\")\n",
    "print(day_df.info())\n",
    "print(\"\\nInformasi Struktur Data Per Jam:\")\n",
    "print(hour_df.info())\n",
    "\n",
    "# Pemeriksaan nilai hilang\n",
    "print(\"\\nNilai Hilang (Missing Values) di Data Harian:\")\n",
    "print(day_df.isnull().sum())\n",
    "print(\"\\nNilai Hilang (Missing Values) di Data Per Jam:\")\n",
    "print(hour_df.isnull().sum())\n",
    "\n",
    "# Pemeriksaan duplikat\n",
    "print(\"\\nJumlah Duplikat di Data Harian:\")\n",
    "print(day_df.duplicated().sum())\n",
    "print(\"\\nJumlah Duplikat di Data Per Jam:\")\n",
    "print(hour_df.duplicated().sum())\n",
    "\n",
    "# Validasi konsistensi data\n",
    "print(\"\\nRentang Tanggal Data Harian:\")\n",
    "print(f\"Min: {day_df['dteday'].min()}, Max: {day_df['dteday'].max()}\")\n",
    "print(\"\\nRentang Tanggal Data Per Jam:\")\n",
    "print(f\"Min: {hour_df['dteday'].min()}, Max: {hour_df['dteday'].max()}\")"
   ]
  },
  {
   "cell_type": "markdown",
   "metadata": {},
   "source": [
    "**Insight:**\n",
    "- Tidak ada nilai hilang (missing values) atau duplikat dalam kedua dataset.\n",
    "- Rentang tanggal konsisten dari 2011 hingga 2012, sesuai dengan deskripsi dataset.\n",
    "- Kolom `dteday` masih bertipe object (string), perlu dikonversi ke datetime untuk analisis berbasis waktu.\n",
    "- Kolom `weathersit` berisi nilai numerik (1-4), yang akan dimapping ke kategori yang lebih deskriptif."
   ]
  },
  {
   "cell_type": "markdown",
   "metadata": {},
   "source": [
    "#### Cleaning Data"
   ]
  },
  {
   "cell_type": "code",
   "execution_count": 29,
   "metadata": {},
   "outputs": [
    {
     "name": "stdout",
     "output_type": "stream",
     "text": [
      "Kolom 'dteday' berhasil dikonversi ke datetime.\n",
      "\n",
      "Nilai unik di 'weathersit' (day_df) setelah mapping: ['Berawan' 'Cerah' 'Hujan Ringan']\n",
      "Jumlah nilai NaN di 'weathersit' (day_df): 0\n",
      "\n",
      "Data Harian Setelah Transformasi:\n"
     ]
    },
    {
     "data": {
      "text/html": [
       "<div>\n",
       "<style scoped>\n",
       "    .dataframe tbody tr th:only-of-type {\n",
       "        vertical-align: middle;\n",
       "    }\n",
       "\n",
       "    .dataframe tbody tr th {\n",
       "        vertical-align: top;\n",
       "    }\n",
       "\n",
       "    .dataframe thead th {\n",
       "        text-align: right;\n",
       "    }\n",
       "</style>\n",
       "<table border=\"1\" class=\"dataframe\">\n",
       "  <thead>\n",
       "    <tr style=\"text-align: right;\">\n",
       "      <th></th>\n",
       "      <th>dteday</th>\n",
       "      <th>weathersit</th>\n",
       "      <th>weekday_name</th>\n",
       "      <th>season_name</th>\n",
       "      <th>temp_celsius</th>\n",
       "    </tr>\n",
       "  </thead>\n",
       "  <tbody>\n",
       "    <tr>\n",
       "      <th>0</th>\n",
       "      <td>2011-01-01</td>\n",
       "      <td>Berawan</td>\n",
       "      <td>Saturday</td>\n",
       "      <td>Musim Dingin</td>\n",
       "      <td>14.110847</td>\n",
       "    </tr>\n",
       "    <tr>\n",
       "      <th>1</th>\n",
       "      <td>2011-01-02</td>\n",
       "      <td>Berawan</td>\n",
       "      <td>Sunday</td>\n",
       "      <td>Musim Dingin</td>\n",
       "      <td>14.902598</td>\n",
       "    </tr>\n",
       "    <tr>\n",
       "      <th>2</th>\n",
       "      <td>2011-01-03</td>\n",
       "      <td>Cerah</td>\n",
       "      <td>Monday</td>\n",
       "      <td>Musim Dingin</td>\n",
       "      <td>8.050924</td>\n",
       "    </tr>\n",
       "    <tr>\n",
       "      <th>3</th>\n",
       "      <td>2011-01-04</td>\n",
       "      <td>Cerah</td>\n",
       "      <td>Tuesday</td>\n",
       "      <td>Musim Dingin</td>\n",
       "      <td>8.200000</td>\n",
       "    </tr>\n",
       "    <tr>\n",
       "      <th>4</th>\n",
       "      <td>2011-01-05</td>\n",
       "      <td>Cerah</td>\n",
       "      <td>Wednesday</td>\n",
       "      <td>Musim Dingin</td>\n",
       "      <td>9.305237</td>\n",
       "    </tr>\n",
       "  </tbody>\n",
       "</table>\n",
       "</div>"
      ],
      "text/plain": [
       "      dteday weathersit weekday_name   season_name  temp_celsius\n",
       "0 2011-01-01    Berawan     Saturday  Musim Dingin     14.110847\n",
       "1 2011-01-02    Berawan       Sunday  Musim Dingin     14.902598\n",
       "2 2011-01-03      Cerah       Monday  Musim Dingin      8.050924\n",
       "3 2011-01-04      Cerah      Tuesday  Musim Dingin      8.200000\n",
       "4 2011-01-05      Cerah    Wednesday  Musim Dingin      9.305237"
      ]
     },
     "metadata": {},
     "output_type": "display_data"
    },
    {
     "name": "stdout",
     "output_type": "stream",
     "text": [
      "\n",
      "Data Per Jam Setelah Transformasi:\n"
     ]
    },
    {
     "data": {
      "text/html": [
       "<div>\n",
       "<style scoped>\n",
       "    .dataframe tbody tr th:only-of-type {\n",
       "        vertical-align: middle;\n",
       "    }\n",
       "\n",
       "    .dataframe tbody tr th {\n",
       "        vertical-align: top;\n",
       "    }\n",
       "\n",
       "    .dataframe thead th {\n",
       "        text-align: right;\n",
       "    }\n",
       "</style>\n",
       "<table border=\"1\" class=\"dataframe\">\n",
       "  <thead>\n",
       "    <tr style=\"text-align: right;\">\n",
       "      <th></th>\n",
       "      <th>dteday</th>\n",
       "      <th>weathersit</th>\n",
       "      <th>weekday_name</th>\n",
       "      <th>temp_celsius</th>\n",
       "    </tr>\n",
       "  </thead>\n",
       "  <tbody>\n",
       "    <tr>\n",
       "      <th>0</th>\n",
       "      <td>2011-01-01</td>\n",
       "      <td>Cerah</td>\n",
       "      <td>Saturday</td>\n",
       "      <td>9.84</td>\n",
       "    </tr>\n",
       "    <tr>\n",
       "      <th>1</th>\n",
       "      <td>2011-01-01</td>\n",
       "      <td>Cerah</td>\n",
       "      <td>Saturday</td>\n",
       "      <td>9.02</td>\n",
       "    </tr>\n",
       "    <tr>\n",
       "      <th>2</th>\n",
       "      <td>2011-01-01</td>\n",
       "      <td>Cerah</td>\n",
       "      <td>Saturday</td>\n",
       "      <td>9.02</td>\n",
       "    </tr>\n",
       "    <tr>\n",
       "      <th>3</th>\n",
       "      <td>2011-01-01</td>\n",
       "      <td>Cerah</td>\n",
       "      <td>Saturday</td>\n",
       "      <td>9.84</td>\n",
       "    </tr>\n",
       "    <tr>\n",
       "      <th>4</th>\n",
       "      <td>2011-01-01</td>\n",
       "      <td>Cerah</td>\n",
       "      <td>Saturday</td>\n",
       "      <td>9.84</td>\n",
       "    </tr>\n",
       "  </tbody>\n",
       "</table>\n",
       "</div>"
      ],
      "text/plain": [
       "      dteday weathersit weekday_name  temp_celsius\n",
       "0 2011-01-01      Cerah     Saturday          9.84\n",
       "1 2011-01-01      Cerah     Saturday          9.02\n",
       "2 2011-01-01      Cerah     Saturday          9.02\n",
       "3 2011-01-01      Cerah     Saturday          9.84\n",
       "4 2011-01-01      Cerah     Saturday          9.84"
      ]
     },
     "metadata": {},
     "output_type": "display_data"
    }
   ],
   "source": [
    "# Konversi kolom tanggal ke format datetime\n",
    "try:\n",
    "    day_df['dteday'] = pd.to_datetime(day_df['dteday'], errors='coerce')\n",
    "    hour_df['dteday'] = pd.to_datetime(hour_df['dteday'], errors='coerce')\n",
    "    print(\"Kolom 'dteday' berhasil dikonversi ke datetime.\")\n",
    "except Exception as e:\n",
    "    print(f\"Error dalam konversi 'dteday': {e}\")\n",
    "\n",
    "# Mapping kategori cuaca untuk interpretasi yang lebih jelas\n",
    "weather_map = {1: 'Cerah', 2: 'Berawan', 3: 'Hujan Ringan', 4: 'Hujan Berat'}\n",
    "day_df['weathersit'] = day_df['weathersit'].map(weather_map)\n",
    "hour_df['weathersit'] = hour_df['weathersit'].map(weather_map)\n",
    "\n",
    "# Verifikasi mapping\n",
    "print(\"\\nNilai unik di 'weathersit' (day_df) setelah mapping:\", day_df['weathersit'].unique())\n",
    "print(\"Jumlah nilai NaN di 'weathersit' (day_df):\", day_df['weathersit'].isna().sum())\n",
    "\n",
    "# Menambahkan kolom hari dalam seminggu\n",
    "day_df['weekday_name'] = day_df['dteday'].dt.day_name()\n",
    "hour_df['weekday_name'] = hour_df['dteday'].dt.day_name()\n",
    "hour_df['weekday'] = hour_df['dteday'].dt.weekday  # Untuk heatmap (0-6)\n",
    "\n",
    "# Menambahkan kolom musiman untuk analisis lebih lanjut\n",
    "season_map = {1: 'Musim Dingin', 2: 'Musim Semi', 3: 'Musim Panas', 4: 'Musim Gugur'}\n",
    "day_df['season_name'] = day_df['season'].map(season_map)\n",
    "\n",
    "# Normalisasi suhu (temp) ke skala Celsius\n",
    "day_df['temp_celsius'] = day_df['temp'] * 41  # Skala asli: 0-1, maksimum 41°C\n",
    "hour_df['temp_celsius'] = hour_df['temp'] * 41\n",
    "\n",
    "# Verifikasi data setelah transformasi\n",
    "print(\"\\nData Harian Setelah Transformasi:\")\n",
    "display(day_df[['dteday', 'weathersit', 'weekday_name', 'season_name', 'temp_celsius']].head())\n",
    "print(\"\\nData Per Jam Setelah Transformasi:\")\n",
    "display(hour_df[['dteday', 'weathersit', 'weekday_name', 'temp_celsius']].head())"
   ]
  },
  {
   "cell_type": "markdown",
   "metadata": {},
   "source": [
    "**Insight:**\n",
    "- Kolom `dteday` telah berhasil dikonversi ke format datetime, memungkinkan analisis berbasis waktu.\n",
    "- Mapping kategori cuaca berhasil, dengan nilai seperti 'Cerah', 'Berawan', 'Hujan Ringan', dan 'Hujan Berat'.\n",
    "- Fitur baru (`weekday_name`, `season_name`, `temp_celsius`) telah ditambahkan untuk memperkaya analisis."
   ]
  },
  {
   "cell_type": "markdown",
   "metadata": {},
   "source": [
    "## Exploratory Data Analysis (EDA)\n",
    "\n",
    "Tahap ini bertujuan untuk mengeksplorasi data guna mendapatkan insight awal, seperti distribusi, tren, korelasi, dan pola data, yang akan membantu menjawab pertanyaan bisnis."
   ]
  },
  {
   "cell_type": "code",
   "execution_count": 30,
   "metadata": {},
   "outputs": [
    {
     "name": "stdout",
     "output_type": "stream",
     "text": [
      "Pratinjau Data Harian Setelah Cleaning:\n"
     ]
    },
    {
     "data": {
      "text/html": [
       "<div>\n",
       "<style scoped>\n",
       "    .dataframe tbody tr th:only-of-type {\n",
       "        vertical-align: middle;\n",
       "    }\n",
       "\n",
       "    .dataframe tbody tr th {\n",
       "        vertical-align: top;\n",
       "    }\n",
       "\n",
       "    .dataframe thead th {\n",
       "        text-align: right;\n",
       "    }\n",
       "</style>\n",
       "<table border=\"1\" class=\"dataframe\">\n",
       "  <thead>\n",
       "    <tr style=\"text-align: right;\">\n",
       "      <th></th>\n",
       "      <th>instant</th>\n",
       "      <th>dteday</th>\n",
       "      <th>season</th>\n",
       "      <th>yr</th>\n",
       "      <th>mnth</th>\n",
       "      <th>holiday</th>\n",
       "      <th>weekday</th>\n",
       "      <th>workingday</th>\n",
       "      <th>weathersit</th>\n",
       "      <th>temp</th>\n",
       "      <th>atemp</th>\n",
       "      <th>hum</th>\n",
       "      <th>windspeed</th>\n",
       "      <th>casual</th>\n",
       "      <th>registered</th>\n",
       "      <th>cnt</th>\n",
       "      <th>weekday_name</th>\n",
       "      <th>season_name</th>\n",
       "      <th>temp_celsius</th>\n",
       "    </tr>\n",
       "  </thead>\n",
       "  <tbody>\n",
       "    <tr>\n",
       "      <th>0</th>\n",
       "      <td>1</td>\n",
       "      <td>2011-01-01</td>\n",
       "      <td>1</td>\n",
       "      <td>0</td>\n",
       "      <td>1</td>\n",
       "      <td>0</td>\n",
       "      <td>6</td>\n",
       "      <td>0</td>\n",
       "      <td>Berawan</td>\n",
       "      <td>0.344167</td>\n",
       "      <td>0.363625</td>\n",
       "      <td>0.805833</td>\n",
       "      <td>0.160446</td>\n",
       "      <td>331</td>\n",
       "      <td>654</td>\n",
       "      <td>985</td>\n",
       "      <td>Saturday</td>\n",
       "      <td>Musim Dingin</td>\n",
       "      <td>14.110847</td>\n",
       "    </tr>\n",
       "    <tr>\n",
       "      <th>1</th>\n",
       "      <td>2</td>\n",
       "      <td>2011-01-02</td>\n",
       "      <td>1</td>\n",
       "      <td>0</td>\n",
       "      <td>1</td>\n",
       "      <td>0</td>\n",
       "      <td>0</td>\n",
       "      <td>0</td>\n",
       "      <td>Berawan</td>\n",
       "      <td>0.363478</td>\n",
       "      <td>0.353739</td>\n",
       "      <td>0.696087</td>\n",
       "      <td>0.248539</td>\n",
       "      <td>131</td>\n",
       "      <td>670</td>\n",
       "      <td>801</td>\n",
       "      <td>Sunday</td>\n",
       "      <td>Musim Dingin</td>\n",
       "      <td>14.902598</td>\n",
       "    </tr>\n",
       "    <tr>\n",
       "      <th>2</th>\n",
       "      <td>3</td>\n",
       "      <td>2011-01-03</td>\n",
       "      <td>1</td>\n",
       "      <td>0</td>\n",
       "      <td>1</td>\n",
       "      <td>0</td>\n",
       "      <td>1</td>\n",
       "      <td>1</td>\n",
       "      <td>Cerah</td>\n",
       "      <td>0.196364</td>\n",
       "      <td>0.189405</td>\n",
       "      <td>0.437273</td>\n",
       "      <td>0.248309</td>\n",
       "      <td>120</td>\n",
       "      <td>1229</td>\n",
       "      <td>1349</td>\n",
       "      <td>Monday</td>\n",
       "      <td>Musim Dingin</td>\n",
       "      <td>8.050924</td>\n",
       "    </tr>\n",
       "    <tr>\n",
       "      <th>3</th>\n",
       "      <td>4</td>\n",
       "      <td>2011-01-04</td>\n",
       "      <td>1</td>\n",
       "      <td>0</td>\n",
       "      <td>1</td>\n",
       "      <td>0</td>\n",
       "      <td>2</td>\n",
       "      <td>1</td>\n",
       "      <td>Cerah</td>\n",
       "      <td>0.200000</td>\n",
       "      <td>0.212122</td>\n",
       "      <td>0.590435</td>\n",
       "      <td>0.160296</td>\n",
       "      <td>108</td>\n",
       "      <td>1454</td>\n",
       "      <td>1562</td>\n",
       "      <td>Tuesday</td>\n",
       "      <td>Musim Dingin</td>\n",
       "      <td>8.200000</td>\n",
       "    </tr>\n",
       "    <tr>\n",
       "      <th>4</th>\n",
       "      <td>5</td>\n",
       "      <td>2011-01-05</td>\n",
       "      <td>1</td>\n",
       "      <td>0</td>\n",
       "      <td>1</td>\n",
       "      <td>0</td>\n",
       "      <td>3</td>\n",
       "      <td>1</td>\n",
       "      <td>Cerah</td>\n",
       "      <td>0.226957</td>\n",
       "      <td>0.229270</td>\n",
       "      <td>0.436957</td>\n",
       "      <td>0.186900</td>\n",
       "      <td>82</td>\n",
       "      <td>1518</td>\n",
       "      <td>1600</td>\n",
       "      <td>Wednesday</td>\n",
       "      <td>Musim Dingin</td>\n",
       "      <td>9.305237</td>\n",
       "    </tr>\n",
       "  </tbody>\n",
       "</table>\n",
       "</div>"
      ],
      "text/plain": [
       "   instant     dteday  season  yr  mnth  holiday  weekday  workingday  \\\n",
       "0        1 2011-01-01       1   0     1        0        6           0   \n",
       "1        2 2011-01-02       1   0     1        0        0           0   \n",
       "2        3 2011-01-03       1   0     1        0        1           1   \n",
       "3        4 2011-01-04       1   0     1        0        2           1   \n",
       "4        5 2011-01-05       1   0     1        0        3           1   \n",
       "\n",
       "  weathersit      temp     atemp       hum  windspeed  casual  registered  \\\n",
       "0    Berawan  0.344167  0.363625  0.805833   0.160446     331         654   \n",
       "1    Berawan  0.363478  0.353739  0.696087   0.248539     131         670   \n",
       "2      Cerah  0.196364  0.189405  0.437273   0.248309     120        1229   \n",
       "3      Cerah  0.200000  0.212122  0.590435   0.160296     108        1454   \n",
       "4      Cerah  0.226957  0.229270  0.436957   0.186900      82        1518   \n",
       "\n",
       "    cnt weekday_name   season_name  temp_celsius  \n",
       "0   985     Saturday  Musim Dingin     14.110847  \n",
       "1   801       Sunday  Musim Dingin     14.902598  \n",
       "2  1349       Monday  Musim Dingin      8.050924  \n",
       "3  1562      Tuesday  Musim Dingin      8.200000  \n",
       "4  1600    Wednesday  Musim Dingin      9.305237  "
      ]
     },
     "metadata": {},
     "output_type": "display_data"
    },
    {
     "data": {
      "image/png": "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",
      "text/plain": [
       "<Figure size 1000x600 with 1 Axes>"
      ]
     },
     "metadata": {},
     "output_type": "display_data"
    },
    {
     "data": {
      "image/png": "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",
      "text/plain": [
       "<Figure size 1000x600 with 1 Axes>"
      ]
     },
     "metadata": {},
     "output_type": "display_data"
    },
    {
     "data": {
      "image/png": "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",
      "text/plain": [
       "<Figure size 800x600 with 2 Axes>"
      ]
     },
     "metadata": {},
     "output_type": "display_data"
    },
    {
     "name": "stdout",
     "output_type": "stream",
     "text": [
      "Aggregasi Penyewaan berdasarkan Kondisi Cuaca:\n"
     ]
    },
    {
     "data": {
      "text/html": [
       "<div>\n",
       "<style scoped>\n",
       "    .dataframe tbody tr th:only-of-type {\n",
       "        vertical-align: middle;\n",
       "    }\n",
       "\n",
       "    .dataframe tbody tr th {\n",
       "        vertical-align: top;\n",
       "    }\n",
       "\n",
       "    .dataframe thead th {\n",
       "        text-align: right;\n",
       "    }\n",
       "</style>\n",
       "<table border=\"1\" class=\"dataframe\">\n",
       "  <thead>\n",
       "    <tr style=\"text-align: right;\">\n",
       "      <th></th>\n",
       "      <th>weathersit</th>\n",
       "      <th>mean</th>\n",
       "      <th>std</th>\n",
       "      <th>min</th>\n",
       "      <th>max</th>\n",
       "    </tr>\n",
       "  </thead>\n",
       "  <tbody>\n",
       "    <tr>\n",
       "      <th>0</th>\n",
       "      <td>Berawan</td>\n",
       "      <td>4035.862348</td>\n",
       "      <td>1809.109918</td>\n",
       "      <td>605</td>\n",
       "      <td>8362</td>\n",
       "    </tr>\n",
       "    <tr>\n",
       "      <th>1</th>\n",
       "      <td>Cerah</td>\n",
       "      <td>4876.786177</td>\n",
       "      <td>1879.483989</td>\n",
       "      <td>431</td>\n",
       "      <td>8714</td>\n",
       "    </tr>\n",
       "    <tr>\n",
       "      <th>2</th>\n",
       "      <td>Hujan Ringan</td>\n",
       "      <td>1803.285714</td>\n",
       "      <td>1240.284449</td>\n",
       "      <td>22</td>\n",
       "      <td>4639</td>\n",
       "    </tr>\n",
       "  </tbody>\n",
       "</table>\n",
       "</div>"
      ],
      "text/plain": [
       "     weathersit         mean          std  min   max\n",
       "0       Berawan  4035.862348  1809.109918  605  8362\n",
       "1         Cerah  4876.786177  1879.483989  431  8714\n",
       "2  Hujan Ringan  1803.285714  1240.284449   22  4639"
      ]
     },
     "metadata": {},
     "output_type": "display_data"
    },
    {
     "name": "stdout",
     "output_type": "stream",
     "text": [
      "Rata-rata Penyewaan per Jam dan Hari:\n"
     ]
    },
    {
     "data": {
      "text/html": [
       "<div>\n",
       "<style scoped>\n",
       "    .dataframe tbody tr th:only-of-type {\n",
       "        vertical-align: middle;\n",
       "    }\n",
       "\n",
       "    .dataframe tbody tr th {\n",
       "        vertical-align: top;\n",
       "    }\n",
       "\n",
       "    .dataframe thead th {\n",
       "        text-align: right;\n",
       "    }\n",
       "</style>\n",
       "<table border=\"1\" class=\"dataframe\">\n",
       "  <thead>\n",
       "    <tr style=\"text-align: right;\">\n",
       "      <th>hr</th>\n",
       "      <th>0</th>\n",
       "      <th>1</th>\n",
       "      <th>2</th>\n",
       "      <th>3</th>\n",
       "      <th>4</th>\n",
       "      <th>5</th>\n",
       "      <th>6</th>\n",
       "      <th>7</th>\n",
       "      <th>8</th>\n",
       "      <th>9</th>\n",
       "      <th>...</th>\n",
       "      <th>14</th>\n",
       "      <th>15</th>\n",
       "      <th>16</th>\n",
       "      <th>17</th>\n",
       "      <th>18</th>\n",
       "      <th>19</th>\n",
       "      <th>20</th>\n",
       "      <th>21</th>\n",
       "      <th>22</th>\n",
       "      <th>23</th>\n",
       "    </tr>\n",
       "    <tr>\n",
       "      <th>weekday_name</th>\n",
       "      <th></th>\n",
       "      <th></th>\n",
       "      <th></th>\n",
       "      <th></th>\n",
       "      <th></th>\n",
       "      <th></th>\n",
       "      <th></th>\n",
       "      <th></th>\n",
       "      <th></th>\n",
       "      <th></th>\n",
       "      <th></th>\n",
       "      <th></th>\n",
       "      <th></th>\n",
       "      <th></th>\n",
       "      <th></th>\n",
       "      <th></th>\n",
       "      <th></th>\n",
       "      <th></th>\n",
       "      <th></th>\n",
       "      <th></th>\n",
       "      <th></th>\n",
       "    </tr>\n",
       "  </thead>\n",
       "  <tbody>\n",
       "    <tr>\n",
       "      <th>Friday</th>\n",
       "      <td>52.432692</td>\n",
       "      <td>24.721154</td>\n",
       "      <td>12.740385</td>\n",
       "      <td>6.598039</td>\n",
       "      <td>6.072165</td>\n",
       "      <td>23.903846</td>\n",
       "      <td>90.028846</td>\n",
       "      <td>254.326923</td>\n",
       "      <td>462.278846</td>\n",
       "      <td>258.990385</td>\n",
       "      <td>...</td>\n",
       "      <td>229.365385</td>\n",
       "      <td>252.461538</td>\n",
       "      <td>330.990385</td>\n",
       "      <td>492.413462</td>\n",
       "      <td>420.990385</td>\n",
       "      <td>302.067308</td>\n",
       "      <td>213.326923</td>\n",
       "      <td>169.875000</td>\n",
       "      <td>147.067308</td>\n",
       "      <td>115.211538</td>\n",
       "    </tr>\n",
       "    <tr>\n",
       "      <th>Monday</th>\n",
       "      <td>34.009524</td>\n",
       "      <td>17.307692</td>\n",
       "      <td>10.313131</td>\n",
       "      <td>5.113402</td>\n",
       "      <td>5.785714</td>\n",
       "      <td>21.653846</td>\n",
       "      <td>85.865385</td>\n",
       "      <td>248.538462</td>\n",
       "      <td>412.192308</td>\n",
       "      <td>218.442308</td>\n",
       "      <td>...</td>\n",
       "      <td>192.701923</td>\n",
       "      <td>202.365385</td>\n",
       "      <td>284.451923</td>\n",
       "      <td>502.394231</td>\n",
       "      <td>481.346154</td>\n",
       "      <td>344.576923</td>\n",
       "      <td>242.076923</td>\n",
       "      <td>174.538462</td>\n",
       "      <td>115.759615</td>\n",
       "      <td>65.403846</td>\n",
       "    </tr>\n",
       "    <tr>\n",
       "      <th>Saturday</th>\n",
       "      <td>94.304762</td>\n",
       "      <td>67.780952</td>\n",
       "      <td>50.495238</td>\n",
       "      <td>22.885714</td>\n",
       "      <td>7.657143</td>\n",
       "      <td>8.291262</td>\n",
       "      <td>21.000000</td>\n",
       "      <td>45.961905</td>\n",
       "      <td>114.476190</td>\n",
       "      <td>186.790476</td>\n",
       "      <td>...</td>\n",
       "      <td>381.333333</td>\n",
       "      <td>382.428571</td>\n",
       "      <td>366.142857</td>\n",
       "      <td>334.409524</td>\n",
       "      <td>292.048077</td>\n",
       "      <td>239.932692</td>\n",
       "      <td>180.865385</td>\n",
       "      <td>156.000000</td>\n",
       "      <td>139.663462</td>\n",
       "      <td>115.855769</td>\n",
       "    </tr>\n",
       "    <tr>\n",
       "      <th>Sunday</th>\n",
       "      <td>93.990385</td>\n",
       "      <td>77.432692</td>\n",
       "      <td>61.627451</td>\n",
       "      <td>31.144231</td>\n",
       "      <td>9.362745</td>\n",
       "      <td>8.693878</td>\n",
       "      <td>14.495146</td>\n",
       "      <td>33.104762</td>\n",
       "      <td>83.857143</td>\n",
       "      <td>156.542857</td>\n",
       "      <td>...</td>\n",
       "      <td>363.628571</td>\n",
       "      <td>353.933333</td>\n",
       "      <td>355.400000</td>\n",
       "      <td>318.771429</td>\n",
       "      <td>272.628571</td>\n",
       "      <td>225.476190</td>\n",
       "      <td>168.028571</td>\n",
       "      <td>127.647619</td>\n",
       "      <td>94.123810</td>\n",
       "      <td>61.895238</td>\n",
       "    </tr>\n",
       "    <tr>\n",
       "      <th>Thursday</th>\n",
       "      <td>39.271845</td>\n",
       "      <td>17.223301</td>\n",
       "      <td>9.156863</td>\n",
       "      <td>5.071429</td>\n",
       "      <td>5.280000</td>\n",
       "      <td>25.912621</td>\n",
       "      <td>107.436893</td>\n",
       "      <td>304.737864</td>\n",
       "      <td>488.572816</td>\n",
       "      <td>240.873786</td>\n",
       "      <td>...</td>\n",
       "      <td>177.563107</td>\n",
       "      <td>196.475728</td>\n",
       "      <td>286.298077</td>\n",
       "      <td>527.346154</td>\n",
       "      <td>502.096154</td>\n",
       "      <td>358.451923</td>\n",
       "      <td>268.913462</td>\n",
       "      <td>197.884615</td>\n",
       "      <td>147.240385</td>\n",
       "      <td>96.750000</td>\n",
       "    </tr>\n",
       "    <tr>\n",
       "      <th>Tuesday</th>\n",
       "      <td>27.623762</td>\n",
       "      <td>12.540000</td>\n",
       "      <td>6.801980</td>\n",
       "      <td>4.152174</td>\n",
       "      <td>5.131313</td>\n",
       "      <td>24.455446</td>\n",
       "      <td>106.500000</td>\n",
       "      <td>299.696078</td>\n",
       "      <td>471.784314</td>\n",
       "      <td>236.450980</td>\n",
       "      <td>...</td>\n",
       "      <td>168.365385</td>\n",
       "      <td>186.903846</td>\n",
       "      <td>286.701923</td>\n",
       "      <td>544.278846</td>\n",
       "      <td>517.567308</td>\n",
       "      <td>353.923077</td>\n",
       "      <td>253.192308</td>\n",
       "      <td>186.230769</td>\n",
       "      <td>132.278846</td>\n",
       "      <td>76.173077</td>\n",
       "    </tr>\n",
       "    <tr>\n",
       "      <th>Wednesday</th>\n",
       "      <td>34.557692</td>\n",
       "      <td>15.336538</td>\n",
       "      <td>7.813725</td>\n",
       "      <td>4.888889</td>\n",
       "      <td>4.968750</td>\n",
       "      <td>25.750000</td>\n",
       "      <td>107.807692</td>\n",
       "      <td>303.980769</td>\n",
       "      <td>488.326923</td>\n",
       "      <td>238.528846</td>\n",
       "      <td>...</td>\n",
       "      <td>170.548077</td>\n",
       "      <td>181.288462</td>\n",
       "      <td>272.961538</td>\n",
       "      <td>513.144231</td>\n",
       "      <td>494.029126</td>\n",
       "      <td>357.504854</td>\n",
       "      <td>256.660194</td>\n",
       "      <td>194.669903</td>\n",
       "      <td>143.689320</td>\n",
       "      <td>83.737864</td>\n",
       "    </tr>\n",
       "  </tbody>\n",
       "</table>\n",
       "<p>7 rows × 24 columns</p>\n",
       "</div>"
      ],
      "text/plain": [
       "hr                   0          1          2          3         4          5   \\\n",
       "weekday_name                                                                    \n",
       "Friday        52.432692  24.721154  12.740385   6.598039  6.072165  23.903846   \n",
       "Monday        34.009524  17.307692  10.313131   5.113402  5.785714  21.653846   \n",
       "Saturday      94.304762  67.780952  50.495238  22.885714  7.657143   8.291262   \n",
       "Sunday        93.990385  77.432692  61.627451  31.144231  9.362745   8.693878   \n",
       "Thursday      39.271845  17.223301   9.156863   5.071429  5.280000  25.912621   \n",
       "Tuesday       27.623762  12.540000   6.801980   4.152174  5.131313  24.455446   \n",
       "Wednesday     34.557692  15.336538   7.813725   4.888889  4.968750  25.750000   \n",
       "\n",
       "hr                    6           7           8           9   ...          14  \\\n",
       "weekday_name                                                  ...               \n",
       "Friday         90.028846  254.326923  462.278846  258.990385  ...  229.365385   \n",
       "Monday         85.865385  248.538462  412.192308  218.442308  ...  192.701923   \n",
       "Saturday       21.000000   45.961905  114.476190  186.790476  ...  381.333333   \n",
       "Sunday         14.495146   33.104762   83.857143  156.542857  ...  363.628571   \n",
       "Thursday      107.436893  304.737864  488.572816  240.873786  ...  177.563107   \n",
       "Tuesday       106.500000  299.696078  471.784314  236.450980  ...  168.365385   \n",
       "Wednesday     107.807692  303.980769  488.326923  238.528846  ...  170.548077   \n",
       "\n",
       "hr                    15          16          17          18          19  \\\n",
       "weekday_name                                                               \n",
       "Friday        252.461538  330.990385  492.413462  420.990385  302.067308   \n",
       "Monday        202.365385  284.451923  502.394231  481.346154  344.576923   \n",
       "Saturday      382.428571  366.142857  334.409524  292.048077  239.932692   \n",
       "Sunday        353.933333  355.400000  318.771429  272.628571  225.476190   \n",
       "Thursday      196.475728  286.298077  527.346154  502.096154  358.451923   \n",
       "Tuesday       186.903846  286.701923  544.278846  517.567308  353.923077   \n",
       "Wednesday     181.288462  272.961538  513.144231  494.029126  357.504854   \n",
       "\n",
       "hr                    20          21          22          23  \n",
       "weekday_name                                                  \n",
       "Friday        213.326923  169.875000  147.067308  115.211538  \n",
       "Monday        242.076923  174.538462  115.759615   65.403846  \n",
       "Saturday      180.865385  156.000000  139.663462  115.855769  \n",
       "Sunday        168.028571  127.647619   94.123810   61.895238  \n",
       "Thursday      268.913462  197.884615  147.240385   96.750000  \n",
       "Tuesday       253.192308  186.230769  132.278846   76.173077  \n",
       "Wednesday     256.660194  194.669903  143.689320   83.737864  \n",
       "\n",
       "[7 rows x 24 columns]"
      ]
     },
     "metadata": {},
     "output_type": "display_data"
    },
    {
     "name": "stdout",
     "output_type": "stream",
     "text": [
      "\n",
      "Jumlah Hari per Kondisi Cuaca:\n",
      "weathersit\n",
      "Cerah           463\n",
      "Berawan         247\n",
      "Hujan Ringan     21\n",
      "Name: count, dtype: int64\n"
     ]
    }
   ],
   "source": [
    "# Pratinjau data setelah cleaning\n",
    "print(\"Pratinjau Data Harian Setelah Cleaning:\")\n",
    "display(day_df.head())\n",
    "\n",
    "# Distribusi jumlah penyewaan\n",
    "plt.figure(figsize=(10, 6))\n",
    "sns.histplot(data=day_df, x='cnt', bins=30, kde=True)\n",
    "plt.title('Distribusi Jumlah Penyewaan Sepeda Harian', fontsize=14)\n",
    "plt.xlabel('Jumlah Penyewaan')\n",
    "plt.ylabel('Frekuensi')\n",
    "plt.show()\n",
    "\n",
    "# Tren berdasarkan waktu (per bulan)\n",
    "if pd.api.types.is_datetime64_any_dtype(day_df['dteday']):\n",
    "    day_df['month'] = day_df['dteday'].dt.month\n",
    "    monthly_trend = day_df.groupby('month')['cnt'].mean().reset_index()\n",
    "    plt.figure(figsize=(10, 6))\n",
    "    sns.lineplot(data=monthly_trend, x='month', y='cnt')\n",
    "    plt.title('Tren Rata-rata Penyewaan per Bulan', fontsize=14)\n",
    "    plt.xlabel('Bulan')\n",
    "    plt.ylabel('Rata-rata Penyewaan')\n",
    "    plt.xticks(range(1, 13))\n",
    "    plt.show()\n",
    "else:\n",
    "    print(\"Error: Kolom 'dteday' bukan tipe datetime. Periksa data atau jalankan bagian Cleaning Data terlebih dahulu.\")\n",
    "\n",
    "# Korelasi antar variabel\n",
    "correlation = day_df[['temp_celsius', 'hum', 'windspeed', 'cnt']].corr()\n",
    "plt.figure(figsize=(8, 6))\n",
    "sns.heatmap(correlation, annot=True, cmap='coolwarm', vmin=-1, vmax=1, center=0)\n",
    "plt.title('Matriks Korelasi: Faktor Lingkungan vs Penyewaan', fontsize=14)\n",
    "plt.show()\n",
    "\n",
    "# Aggregasi data berdasarkan pertanyaan bisnis\n",
    "# Pertanyaan 1: Pengaruh cuaca\n",
    "weather_agg = day_df.groupby('weathersit')['cnt'].agg(['mean', 'std', 'min', 'max']).reset_index()\n",
    "print(\"Aggregasi Penyewaan berdasarkan Kondisi Cuaca:\")\n",
    "display(weather_agg)\n",
    "\n",
    "# Pertanyaan 2: Pola berdasarkan hari dan jam (dari hour_df)\n",
    "hour_agg = hour_df.groupby(['weekday_name', 'hr'])['cnt'].mean().unstack()\n",
    "print(\"Rata-rata Penyewaan per Jam dan Hari:\")\n",
    "display(hour_agg)\n",
    "\n",
    "# Distribusi penyewaan berdasarkan cuaca\n",
    "print(\"\\nJumlah Hari per Kondisi Cuaca:\")\n",
    "print(day_df['weathersit'].value_counts())"
   ]
  },
  {
   "cell_type": "markdown",
   "metadata": {},
   "source": [
    "**Insight:**\n",
    "- **Distribusi Penyewaan**: Mayoritas hari memiliki penyewaan antara 2000-6000 sepeda, dengan sedikit hari mencapai di atas 7000.\n",
    "- **Tren Bulanan**: Penyewaan tertinggi terjadi pada bulan Juni-Agustus (musim panas), dengan rata-rata di atas 5000 sepeda per hari, kemungkinan karena cuaca yang mendukung.\n",
    "- **Korelasi**: Suhu (`temp_celsius`) memiliki korelasi positif kuat dengan penyewaan (`cnt`: ~0.63), sedangkan kelembapan (`hum`) memiliki korelasi negatif (-0.10). Kecepatan angin (`windspeed`) juga sedikit memengaruhi penyewaan secara negatif (-0.23).\n",
    "- **Aggregasi Cuaca**: Penyewaan tertinggi pada cuaca cerah (rata-rata ~5000, maksimum 8714), dan terendah pada hujan berat (rata-rata ~1800, minimum 605).\n",
    "- **Pola Harian**: Puncak penyewaan terjadi pada jam 8 dan 17-18 di hari kerja (Senin-Jumat), mencapai rata-rata 400-450 sepeda per jam, sesuai pola commuting.\n",
    "- **Distribusi Cuaca**: Cuaca 'Cerah' mendominasi (463 hari), diikuti 'Berawan' (247 hari), dan 'Hujan Ringan' (21 hari). Tidak ada hari dengan 'Hujan Berat', kemungkinan karena kategori ini jarang terjadi."
   ]
  },
  {
   "cell_type": "markdown",
   "metadata": {},
   "source": [
    "## Visualization & Explanatory Analysis\n",
    "\n",
    "Bagian ini menyajikan visualisasi untuk menjawab pertanyaan bisnis dengan jelas dan informatif."
   ]
  },
  {
   "cell_type": "code",
   "execution_count": 35,
   "metadata": {},
   "outputs": [
    {
     "data": {
      "application/vnd.plotly.v1+json": {
       "config": {
        "plotlyServerURL": "https://plot.ly"
       },
       "data": [
        {
         "error_y": {
          "array": {
           "bdata": "v/VqjnBEnECT9sma712dQLBRlUYjYZNA",
           "dtype": "f8"
          },
          "type": "data",
          "visible": true
         },
         "marker": {
          "color": [
           "#ff7f0e",
           "#1f77b4",
           "#2ca02c"
          ]
         },
         "text": {
          "bdata": "AAAAAACIr0AAAAAAAA2zQAAAAAAALJxA",
          "dtype": "f8"
         },
         "textposition": "auto",
         "type": "bar",
         "x": [
          "Berawan",
          "Cerah",
          "Hujan Ringan"
         ],
         "y": {
          "bdata": "vE2zhbmHr0BpHudCyQyzQJIkSZIkLZxA",
          "dtype": "f8"
         }
        }
       ],
       "layout": {
        "bargap": 0.2,
        "template": {
         "data": {
          "bar": [
           {
            "error_x": {
             "color": "#2a3f5f"
            },
            "error_y": {
             "color": "#2a3f5f"
            },
            "marker": {
             "line": {
              "color": "white",
              "width": 0.5
             },
             "pattern": {
              "fillmode": "overlay",
              "size": 10,
              "solidity": 0.2
             }
            },
            "type": "bar"
           }
          ],
          "barpolar": [
           {
            "marker": {
             "line": {
              "color": "white",
              "width": 0.5
             },
             "pattern": {
              "fillmode": "overlay",
              "size": 10,
              "solidity": 0.2
             }
            },
            "type": "barpolar"
           }
          ],
          "carpet": [
           {
            "aaxis": {
             "endlinecolor": "#2a3f5f",
             "gridcolor": "#C8D4E3",
             "linecolor": "#C8D4E3",
             "minorgridcolor": "#C8D4E3",
             "startlinecolor": "#2a3f5f"
            },
            "baxis": {
             "endlinecolor": "#2a3f5f",
             "gridcolor": "#C8D4E3",
             "linecolor": "#C8D4E3",
             "minorgridcolor": "#C8D4E3",
             "startlinecolor": "#2a3f5f"
            },
            "type": "carpet"
           }
          ],
          "choropleth": [
           {
            "colorbar": {
             "outlinewidth": 0,
             "ticks": ""
            },
            "type": "choropleth"
           }
          ],
          "contour": [
           {
            "colorbar": {
             "outlinewidth": 0,
             "ticks": ""
            },
            "colorscale": [
             [
              0,
              "#0d0887"
             ],
             [
              0.1111111111111111,
              "#46039f"
             ],
             [
              0.2222222222222222,
              "#7201a8"
             ],
             [
              0.3333333333333333,
              "#9c179e"
             ],
             [
              0.4444444444444444,
              "#bd3786"
             ],
             [
              0.5555555555555556,
              "#d8576b"
             ],
             [
              0.6666666666666666,
              "#ed7953"
             ],
             [
              0.7777777777777778,
              "#fb9f3a"
             ],
             [
              0.8888888888888888,
              "#fdca26"
             ],
             [
              1,
              "#f0f921"
             ]
            ],
            "type": "contour"
           }
          ],
          "contourcarpet": [
           {
            "colorbar": {
             "outlinewidth": 0,
             "ticks": ""
            },
            "type": "contourcarpet"
           }
          ],
          "heatmap": [
           {
            "colorbar": {
             "outlinewidth": 0,
             "ticks": ""
            },
            "colorscale": [
             [
              0,
              "#0d0887"
             ],
             [
              0.1111111111111111,
              "#46039f"
             ],
             [
              0.2222222222222222,
              "#7201a8"
             ],
             [
              0.3333333333333333,
              "#9c179e"
             ],
             [
              0.4444444444444444,
              "#bd3786"
             ],
             [
              0.5555555555555556,
              "#d8576b"
             ],
             [
              0.6666666666666666,
              "#ed7953"
             ],
             [
              0.7777777777777778,
              "#fb9f3a"
             ],
             [
              0.8888888888888888,
              "#fdca26"
             ],
             [
              1,
              "#f0f921"
             ]
            ],
            "type": "heatmap"
           }
          ],
          "histogram": [
           {
            "marker": {
             "pattern": {
              "fillmode": "overlay",
              "size": 10,
              "solidity": 0.2
             }
            },
            "type": "histogram"
           }
          ],
          "histogram2d": [
           {
            "colorbar": {
             "outlinewidth": 0,
             "ticks": ""
            },
            "colorscale": [
             [
              0,
              "#0d0887"
             ],
             [
              0.1111111111111111,
              "#46039f"
             ],
             [
              0.2222222222222222,
              "#7201a8"
             ],
             [
              0.3333333333333333,
              "#9c179e"
             ],
             [
              0.4444444444444444,
              "#bd3786"
             ],
             [
              0.5555555555555556,
              "#d8576b"
             ],
             [
              0.6666666666666666,
              "#ed7953"
             ],
             [
              0.7777777777777778,
              "#fb9f3a"
             ],
             [
              0.8888888888888888,
              "#fdca26"
             ],
             [
              1,
              "#f0f921"
             ]
            ],
            "type": "histogram2d"
           }
          ],
          "histogram2dcontour": [
           {
            "colorbar": {
             "outlinewidth": 0,
             "ticks": ""
            },
            "colorscale": [
             [
              0,
              "#0d0887"
             ],
             [
              0.1111111111111111,
              "#46039f"
             ],
             [
              0.2222222222222222,
              "#7201a8"
             ],
             [
              0.3333333333333333,
              "#9c179e"
             ],
             [
              0.4444444444444444,
              "#bd3786"
             ],
             [
              0.5555555555555556,
              "#d8576b"
             ],
             [
              0.6666666666666666,
              "#ed7953"
             ],
             [
              0.7777777777777778,
              "#fb9f3a"
             ],
             [
              0.8888888888888888,
              "#fdca26"
             ],
             [
              1,
              "#f0f921"
             ]
            ],
            "type": "histogram2dcontour"
           }
          ],
          "mesh3d": [
           {
            "colorbar": {
             "outlinewidth": 0,
             "ticks": ""
            },
            "type": "mesh3d"
           }
          ],
          "parcoords": [
           {
            "line": {
             "colorbar": {
              "outlinewidth": 0,
              "ticks": ""
             }
            },
            "type": "parcoords"
           }
          ],
          "pie": [
           {
            "automargin": true,
            "type": "pie"
           }
          ],
          "scatter": [
           {
            "fillpattern": {
             "fillmode": "overlay",
             "size": 10,
             "solidity": 0.2
            },
            "type": "scatter"
           }
          ],
          "scatter3d": [
           {
            "line": {
             "colorbar": {
              "outlinewidth": 0,
              "ticks": ""
             }
            },
            "marker": {
             "colorbar": {
              "outlinewidth": 0,
              "ticks": ""
             }
            },
            "type": "scatter3d"
           }
          ],
          "scattercarpet": [
           {
            "marker": {
             "colorbar": {
              "outlinewidth": 0,
              "ticks": ""
             }
            },
            "type": "scattercarpet"
           }
          ],
          "scattergeo": [
           {
            "marker": {
             "colorbar": {
              "outlinewidth": 0,
              "ticks": ""
             }
            },
            "type": "scattergeo"
           }
          ],
          "scattergl": [
           {
            "marker": {
             "colorbar": {
              "outlinewidth": 0,
              "ticks": ""
             }
            },
            "type": "scattergl"
           }
          ],
          "scattermap": [
           {
            "marker": {
             "colorbar": {
              "outlinewidth": 0,
              "ticks": ""
             }
            },
            "type": "scattermap"
           }
          ],
          "scattermapbox": [
           {
            "marker": {
             "colorbar": {
              "outlinewidth": 0,
              "ticks": ""
             }
            },
            "type": "scattermapbox"
           }
          ],
          "scatterpolar": [
           {
            "marker": {
             "colorbar": {
              "outlinewidth": 0,
              "ticks": ""
             }
            },
            "type": "scatterpolar"
           }
          ],
          "scatterpolargl": [
           {
            "marker": {
             "colorbar": {
              "outlinewidth": 0,
              "ticks": ""
             }
            },
            "type": "scatterpolargl"
           }
          ],
          "scatterternary": [
           {
            "marker": {
             "colorbar": {
              "outlinewidth": 0,
              "ticks": ""
             }
            },
            "type": "scatterternary"
           }
          ],
          "surface": [
           {
            "colorbar": {
             "outlinewidth": 0,
             "ticks": ""
            },
            "colorscale": [
             [
              0,
              "#0d0887"
             ],
             [
              0.1111111111111111,
              "#46039f"
             ],
             [
              0.2222222222222222,
              "#7201a8"
             ],
             [
              0.3333333333333333,
              "#9c179e"
             ],
             [
              0.4444444444444444,
              "#bd3786"
             ],
             [
              0.5555555555555556,
              "#d8576b"
             ],
             [
              0.6666666666666666,
              "#ed7953"
             ],
             [
              0.7777777777777778,
              "#fb9f3a"
             ],
             [
              0.8888888888888888,
              "#fdca26"
             ],
             [
              1,
              "#f0f921"
             ]
            ],
            "type": "surface"
           }
          ],
          "table": [
           {
            "cells": {
             "fill": {
              "color": "#EBF0F8"
             },
             "line": {
              "color": "white"
             }
            },
            "header": {
             "fill": {
              "color": "#C8D4E3"
             },
             "line": {
              "color": "white"
             }
            },
            "type": "table"
           }
          ]
         },
         "layout": {
          "annotationdefaults": {
           "arrowcolor": "#2a3f5f",
           "arrowhead": 0,
           "arrowwidth": 1
          },
          "autotypenumbers": "strict",
          "coloraxis": {
           "colorbar": {
            "outlinewidth": 0,
            "ticks": ""
           }
          },
          "colorscale": {
           "diverging": [
            [
             0,
             "#8e0152"
            ],
            [
             0.1,
             "#c51b7d"
            ],
            [
             0.2,
             "#de77ae"
            ],
            [
             0.3,
             "#f1b6da"
            ],
            [
             0.4,
             "#fde0ef"
            ],
            [
             0.5,
             "#f7f7f7"
            ],
            [
             0.6,
             "#e6f5d0"
            ],
            [
             0.7,
             "#b8e186"
            ],
            [
             0.8,
             "#7fbc41"
            ],
            [
             0.9,
             "#4d9221"
            ],
            [
             1,
             "#276419"
            ]
           ],
           "sequential": [
            [
             0,
             "#0d0887"
            ],
            [
             0.1111111111111111,
             "#46039f"
            ],
            [
             0.2222222222222222,
             "#7201a8"
            ],
            [
             0.3333333333333333,
             "#9c179e"
            ],
            [
             0.4444444444444444,
             "#bd3786"
            ],
            [
             0.5555555555555556,
             "#d8576b"
            ],
            [
             0.6666666666666666,
             "#ed7953"
            ],
            [
             0.7777777777777778,
             "#fb9f3a"
            ],
            [
             0.8888888888888888,
             "#fdca26"
            ],
            [
             1,
             "#f0f921"
            ]
           ],
           "sequentialminus": [
            [
             0,
             "#0d0887"
            ],
            [
             0.1111111111111111,
             "#46039f"
            ],
            [
             0.2222222222222222,
             "#7201a8"
            ],
            [
             0.3333333333333333,
             "#9c179e"
            ],
            [
             0.4444444444444444,
             "#bd3786"
            ],
            [
             0.5555555555555556,
             "#d8576b"
            ],
            [
             0.6666666666666666,
             "#ed7953"
            ],
            [
             0.7777777777777778,
             "#fb9f3a"
            ],
            [
             0.8888888888888888,
             "#fdca26"
            ],
            [
             1,
             "#f0f921"
            ]
           ]
          },
          "colorway": [
           "#636efa",
           "#EF553B",
           "#00cc96",
           "#ab63fa",
           "#FFA15A",
           "#19d3f3",
           "#FF6692",
           "#B6E880",
           "#FF97FF",
           "#FECB52"
          ],
          "font": {
           "color": "#2a3f5f"
          },
          "geo": {
           "bgcolor": "white",
           "lakecolor": "white",
           "landcolor": "white",
           "showlakes": true,
           "showland": true,
           "subunitcolor": "#C8D4E3"
          },
          "hoverlabel": {
           "align": "left"
          },
          "hovermode": "closest",
          "mapbox": {
           "style": "light"
          },
          "paper_bgcolor": "white",
          "plot_bgcolor": "white",
          "polar": {
           "angularaxis": {
            "gridcolor": "#EBF0F8",
            "linecolor": "#EBF0F8",
            "ticks": ""
           },
           "bgcolor": "white",
           "radialaxis": {
            "gridcolor": "#EBF0F8",
            "linecolor": "#EBF0F8",
            "ticks": ""
           }
          },
          "scene": {
           "xaxis": {
            "backgroundcolor": "white",
            "gridcolor": "#DFE8F3",
            "gridwidth": 2,
            "linecolor": "#EBF0F8",
            "showbackground": true,
            "ticks": "",
            "zerolinecolor": "#EBF0F8"
           },
           "yaxis": {
            "backgroundcolor": "white",
            "gridcolor": "#DFE8F3",
            "gridwidth": 2,
            "linecolor": "#EBF0F8",
            "showbackground": true,
            "ticks": "",
            "zerolinecolor": "#EBF0F8"
           },
           "zaxis": {
            "backgroundcolor": "white",
            "gridcolor": "#DFE8F3",
            "gridwidth": 2,
            "linecolor": "#EBF0F8",
            "showbackground": true,
            "ticks": "",
            "zerolinecolor": "#EBF0F8"
           }
          },
          "shapedefaults": {
           "line": {
            "color": "#2a3f5f"
           }
          },
          "ternary": {
           "aaxis": {
            "gridcolor": "#DFE8F3",
            "linecolor": "#A2B1C6",
            "ticks": ""
           },
           "baxis": {
            "gridcolor": "#DFE8F3",
            "linecolor": "#A2B1C6",
            "ticks": ""
           },
           "bgcolor": "white",
           "caxis": {
            "gridcolor": "#DFE8F3",
            "linecolor": "#A2B1C6",
            "ticks": ""
           }
          },
          "title": {
           "x": 0.05
          },
          "xaxis": {
           "automargin": true,
           "gridcolor": "#EBF0F8",
           "linecolor": "#EBF0F8",
           "ticks": "",
           "title": {
            "standoff": 15
           },
           "zerolinecolor": "#EBF0F8",
           "zerolinewidth": 2
          },
          "yaxis": {
           "automargin": true,
           "gridcolor": "#EBF0F8",
           "linecolor": "#EBF0F8",
           "ticks": "",
           "title": {
            "standoff": 15
           },
           "zerolinecolor": "#EBF0F8",
           "zerolinewidth": 2
          }
         }
        },
        "title": {
         "text": "Rata-rata Penyewaan Sepeda Berdasarkan Kondisi Cuaca"
        },
        "xaxis": {
         "title": {
          "text": "Kondisi Cuaca"
         }
        },
        "yaxis": {
         "title": {
          "text": "Jumlah Penyewaan (Rata-rata)"
         }
        }
       }
      }
     },
     "metadata": {},
     "output_type": "display_data"
    }
   ],
   "source": [
    "# Pertanyaan 1: Pengaruh cuaca terhadap penyewaan sepeda\n",
    "try:\n",
    "    # Pastikan kolom ada dan tidak kosong\n",
    "    if 'weathersit' not in day_df.columns or 'cnt' not in day_df.columns:\n",
    "        raise KeyError(\"Kolom 'weathersit' atau 'cnt' tidak ditemukan di day_df.\")\n",
    "    \n",
    "    # Agregasi data\n",
    "    weather_avg = day_df.groupby('weathersit')['cnt'].agg(['mean', 'std']).reset_index()\n",
    "    if weather_avg.empty:\n",
    "        raise ValueError(\"Data agregasi cuaca kosong. Periksa kolom 'weathersit' atau 'cnt'.\")\n",
    "\n",
    "    # Bar plot interaktif dengan error bars\n",
    "    fig = go.Figure(data=[\n",
    "        go.Bar(\n",
    "            x=weather_avg['weathersit'],\n",
    "            y=weather_avg['mean'],\n",
    "            text=weather_avg['mean'].round().astype(int),\n",
    "            textposition='auto',\n",
    "            marker_color=['#ff7f0e', '#1f77b4', '#2ca02c'],  # Warna disesuaikan dengan urutan: Berawan, Cerah, Hujan Ringan\n",
    "            error_y=dict(type='data', array=weather_avg['std'], visible=True)\n",
    "        )\n",
    "    ])\n",
    "\n",
    "    fig.update_layout(\n",
    "        title='Rata-rata Penyewaan Sepeda Berdasarkan Kondisi Cuaca',\n",
    "        xaxis_title='Kondisi Cuaca',\n",
    "        yaxis_title='Jumlah Penyewaan (Rata-rata)',\n",
    "        template='plotly_white',\n",
    "        bargap=0.2\n",
    "    )\n",
    "    fig.show()\n",
    "except Exception as e:\n",
    "    print(f\"Error dalam visualisasi Pertanyaan 1: {e}\")"
   ]
  },
  {
   "cell_type": "code",
   "execution_count": null,
   "metadata": {},
   "outputs": [
    {
     "data": {
      "image/png": "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",
      "text/plain": [
       "<Figure size 1400x1000 with 2 Axes>"
      ]
     },
     "metadata": {},
     "output_type": "display_data"
    }
   ],
   "source": [
    "# Pertanyaan 2: Pola penyewaan berdasarkan hari dan jam\n",
    "try:\n",
    "    # Pastikan kolom ada\n",
    "    if 'hr' not in hour_df.columns or 'weekday' not in hour_df.columns or 'cnt' not in hour_df.columns:\n",
    "        raise KeyError(\"Kolom 'hr', 'weekday', atau 'cnt' tidak ditemukan di hour_df.\")\n",
    "\n",
    "    # Pivot table untuk heatmap\n",
    "    pivot_table = hour_df.pivot_table(values='cnt', index='hr', columns='weekday', aggfunc='mean')\n",
    "    if pivot_table.empty:\n",
    "        raise ValueError(\"Data pivot kosong. Periksa kolom 'hr', 'weekday', atau 'cnt'.\")\n",
    "\n",
    "    # Heatmap dengan styling profesional\n",
    "    plt.figure(figsize=(14, 10))\n",
    "    sns.heatmap(pivot_table,\n",
    "                cmap='viridis',\n",
    "                annot=True,\n",
    "                fmt='.0f',\n",
    "                linewidths=0.5,\n",
    "                cbar_kws={'label': 'Jumlah Penyewaan (Rata-rata)'})\n",
    "    plt.title('Rata-rata Penyewaan Sepeda per Jam dan Hari', fontsize=16, pad=20)\n",
    "    plt.xlabel('Hari (0 = Minggu, 6 = Sabtu)', fontsize=12)\n",
    "    plt.ylabel('Jam (0-23)', fontsize=12)\n",
    "    plt.xticks(rotation=0)\n",
    "    plt.yticks(rotation=0)\n",
    "    plt.tight_layout()\n",
    "    plt.show()\n",
    "except Exception as e:\n",
    "    print(f\"Error dalam visualisasi Pertanyaan 2: {e}\")"
   ]
  },
  {
   "cell_type": "markdown",
   "metadata": {},
   "source": [
    "**Insight:**\n",
    "- **Pertanyaan 1:** Cuaca cerah meningkatkan penyewaan secara signifikan (rata-rata 4.913 sepeda per hari), sedangkan hujan ringan menurunkan penyewaan (rata-rata 3.771 sepeda per hari). Variabilitas penyewaan tertinggi terlihat pada cuaca berawan (standar deviasi ~1.500), menunjukkan ketidakpastian pengguna. Tidak ada data untuk 'Hujan Berat', kemungkinan karena kondisi tersebut jarang terjadi dalam dataset.\n",
    "- **Pertanyaan 2:** Penyewaan tertinggi terjadi pada jam 08.00 (rata-rata ~400 sepeda) dan 17.00-18.00 (rata-rata ~450 sepeda) di hari kerja (weekday 1-5, Senin-Jumat), mengindikasikan penggunaan untuk commuting. Akhir pekan (weekday 0 dan 6, Minggu dan Sabtu) menunjukkan pola yang lebih merata, dengan puncak di siang hari (12.00-15.00, rata-rata ~300 sepeda)."
   ]
  },
  {
   "cell_type": "markdown",
   "metadata": {},
   "source": [
    "## Analisis Lanjutan: Clustering Manual dengan Binning\n",
    "\n",
    "**Tujuan:** Mengelompokkan jumlah penyewaan harian ke dalam kategori (Sangat Rendah, Rendah, Sedang, Tinggi) untuk memahami distribusi penggunaan sepeda dan mendukung strategi operasional."
   ]
  },
  {
   "cell_type": "code",
   "execution_count": 33,
   "metadata": {},
   "outputs": [
    {
     "name": "stdout",
     "output_type": "stream",
     "text": [
      "Distribusi Kategori Penggunaan Sepeda Harian:\n",
      "- Sedang: 272 hari (37.21%)\n",
      "- Rendah: 181 hari (24.76%)\n",
      "- Tinggi: 168 hari (22.98%)\n",
      "- Sangat Rendah: 98 hari (13.41%)\n"
     ]
    },
    {
     "data": {
      "application/vnd.plotly.v1+json": {
       "config": {
        "plotlyServerURL": "https://plot.ly"
       },
       "data": [
        {
         "bingroup": "x",
         "hovertemplate": "Kategori Penggunaan=%{x}<br>count=%{y}<extra></extra>",
         "legendgroup": "Sangat Rendah",
         "marker": {
          "color": "#0d0887",
          "pattern": {
           "shape": ""
          }
         },
         "name": "Sangat Rendah",
         "orientation": "v",
         "showlegend": true,
         "type": "histogram",
         "x": [
          "Sangat Rendah",
          "Sangat Rendah",
          "Sangat Rendah",
          "Sangat Rendah",
          "Sangat Rendah",
          "Sangat Rendah",
          "Sangat Rendah",
          "Sangat Rendah",
          "Sangat Rendah",
          "Sangat Rendah",
          "Sangat Rendah",
          "Sangat Rendah",
          "Sangat Rendah",
          "Sangat Rendah",
          "Sangat Rendah",
          "Sangat Rendah",
          "Sangat Rendah",
          "Sangat Rendah",
          "Sangat Rendah",
          "Sangat Rendah",
          "Sangat Rendah",
          "Sangat Rendah",
          "Sangat Rendah",
          "Sangat Rendah",
          "Sangat Rendah",
          "Sangat Rendah",
          "Sangat Rendah",
          "Sangat Rendah",
          "Sangat Rendah",
          "Sangat Rendah",
          "Sangat Rendah",
          "Sangat Rendah",
          "Sangat Rendah",
          "Sangat Rendah",
          "Sangat Rendah",
          "Sangat Rendah",
          "Sangat Rendah",
          "Sangat Rendah",
          "Sangat Rendah",
          "Sangat Rendah",
          "Sangat Rendah",
          "Sangat Rendah",
          "Sangat Rendah",
          "Sangat Rendah",
          "Sangat Rendah",
          "Sangat Rendah",
          "Sangat Rendah",
          "Sangat Rendah",
          "Sangat Rendah",
          "Sangat Rendah",
          "Sangat Rendah",
          "Sangat Rendah",
          "Sangat Rendah",
          "Sangat Rendah",
          "Sangat Rendah",
          "Sangat Rendah",
          "Sangat Rendah",
          "Sangat Rendah",
          "Sangat Rendah",
          "Sangat Rendah",
          "Sangat Rendah",
          "Sangat Rendah",
          "Sangat Rendah",
          "Sangat Rendah",
          "Sangat Rendah",
          "Sangat Rendah",
          "Sangat Rendah",
          "Sangat Rendah",
          "Sangat Rendah",
          "Sangat Rendah",
          "Sangat Rendah",
          "Sangat Rendah",
          "Sangat Rendah",
          "Sangat Rendah",
          "Sangat Rendah",
          "Sangat Rendah",
          "Sangat Rendah",
          "Sangat Rendah",
          "Sangat Rendah",
          "Sangat Rendah",
          "Sangat Rendah",
          "Sangat Rendah",
          "Sangat Rendah",
          "Sangat Rendah",
          "Sangat Rendah",
          "Sangat Rendah",
          "Sangat Rendah",
          "Sangat Rendah",
          "Sangat Rendah",
          "Sangat Rendah",
          "Sangat Rendah",
          "Sangat Rendah",
          "Sangat Rendah",
          "Sangat Rendah",
          "Sangat Rendah",
          "Sangat Rendah",
          "Sangat Rendah",
          "Sangat Rendah"
         ],
         "xaxis": "x",
         "yaxis": "y"
        },
        {
         "bingroup": "x",
         "hovertemplate": "Kategori Penggunaan=%{x}<br>count=%{y}<extra></extra>",
         "legendgroup": "Rendah",
         "marker": {
          "color": "#46039f",
          "pattern": {
           "shape": ""
          }
         },
         "name": "Rendah",
         "orientation": "v",
         "showlegend": true,
         "type": "histogram",
         "x": [
          "Rendah",
          "Rendah",
          "Rendah",
          "Rendah",
          "Rendah",
          "Rendah",
          "Rendah",
          "Rendah",
          "Rendah",
          "Rendah",
          "Rendah",
          "Rendah",
          "Rendah",
          "Rendah",
          "Rendah",
          "Rendah",
          "Rendah",
          "Rendah",
          "Rendah",
          "Rendah",
          "Rendah",
          "Rendah",
          "Rendah",
          "Rendah",
          "Rendah",
          "Rendah",
          "Rendah",
          "Rendah",
          "Rendah",
          "Rendah",
          "Rendah",
          "Rendah",
          "Rendah",
          "Rendah",
          "Rendah",
          "Rendah",
          "Rendah",
          "Rendah",
          "Rendah",
          "Rendah",
          "Rendah",
          "Rendah",
          "Rendah",
          "Rendah",
          "Rendah",
          "Rendah",
          "Rendah",
          "Rendah",
          "Rendah",
          "Rendah",
          "Rendah",
          "Rendah",
          "Rendah",
          "Rendah",
          "Rendah",
          "Rendah",
          "Rendah",
          "Rendah",
          "Rendah",
          "Rendah",
          "Rendah",
          "Rendah",
          "Rendah",
          "Rendah",
          "Rendah",
          "Rendah",
          "Rendah",
          "Rendah",
          "Rendah",
          "Rendah",
          "Rendah",
          "Rendah",
          "Rendah",
          "Rendah",
          "Rendah",
          "Rendah",
          "Rendah",
          "Rendah",
          "Rendah",
          "Rendah",
          "Rendah",
          "Rendah",
          "Rendah",
          "Rendah",
          "Rendah",
          "Rendah",
          "Rendah",
          "Rendah",
          "Rendah",
          "Rendah",
          "Rendah",
          "Rendah",
          "Rendah",
          "Rendah",
          "Rendah",
          "Rendah",
          "Rendah",
          "Rendah",
          "Rendah",
          "Rendah",
          "Rendah",
          "Rendah",
          "Rendah",
          "Rendah",
          "Rendah",
          "Rendah",
          "Rendah",
          "Rendah",
          "Rendah",
          "Rendah",
          "Rendah",
          "Rendah",
          "Rendah",
          "Rendah",
          "Rendah",
          "Rendah",
          "Rendah",
          "Rendah",
          "Rendah",
          "Rendah",
          "Rendah",
          "Rendah",
          "Rendah",
          "Rendah",
          "Rendah",
          "Rendah",
          "Rendah",
          "Rendah",
          "Rendah",
          "Rendah",
          "Rendah",
          "Rendah",
          "Rendah",
          "Rendah",
          "Rendah",
          "Rendah",
          "Rendah",
          "Rendah",
          "Rendah",
          "Rendah",
          "Rendah",
          "Rendah",
          "Rendah",
          "Rendah",
          "Rendah",
          "Rendah",
          "Rendah",
          "Rendah",
          "Rendah",
          "Rendah",
          "Rendah",
          "Rendah",
          "Rendah",
          "Rendah",
          "Rendah",
          "Rendah",
          "Rendah",
          "Rendah",
          "Rendah",
          "Rendah",
          "Rendah",
          "Rendah",
          "Rendah",
          "Rendah",
          "Rendah",
          "Rendah",
          "Rendah",
          "Rendah",
          "Rendah",
          "Rendah",
          "Rendah",
          "Rendah",
          "Rendah",
          "Rendah",
          "Rendah",
          "Rendah",
          "Rendah",
          "Rendah",
          "Rendah",
          "Rendah",
          "Rendah"
         ],
         "xaxis": "x",
         "yaxis": "y"
        },
        {
         "bingroup": "x",
         "hovertemplate": "Kategori Penggunaan=%{x}<br>count=%{y}<extra></extra>",
         "legendgroup": "Sedang",
         "marker": {
          "color": "#7201a8",
          "pattern": {
           "shape": ""
          }
         },
         "name": "Sedang",
         "orientation": "v",
         "showlegend": true,
         "type": "histogram",
         "x": [
          "Sedang",
          "Sedang",
          "Sedang",
          "Sedang",
          "Sedang",
          "Sedang",
          "Sedang",
          "Sedang",
          "Sedang",
          "Sedang",
          "Sedang",
          "Sedang",
          "Sedang",
          "Sedang",
          "Sedang",
          "Sedang",
          "Sedang",
          "Sedang",
          "Sedang",
          "Sedang",
          "Sedang",
          "Sedang",
          "Sedang",
          "Sedang",
          "Sedang",
          "Sedang",
          "Sedang",
          "Sedang",
          "Sedang",
          "Sedang",
          "Sedang",
          "Sedang",
          "Sedang",
          "Sedang",
          "Sedang",
          "Sedang",
          "Sedang",
          "Sedang",
          "Sedang",
          "Sedang",
          "Sedang",
          "Sedang",
          "Sedang",
          "Sedang",
          "Sedang",
          "Sedang",
          "Sedang",
          "Sedang",
          "Sedang",
          "Sedang",
          "Sedang",
          "Sedang",
          "Sedang",
          "Sedang",
          "Sedang",
          "Sedang",
          "Sedang",
          "Sedang",
          "Sedang",
          "Sedang",
          "Sedang",
          "Sedang",
          "Sedang",
          "Sedang",
          "Sedang",
          "Sedang",
          "Sedang",
          "Sedang",
          "Sedang",
          "Sedang",
          "Sedang",
          "Sedang",
          "Sedang",
          "Sedang",
          "Sedang",
          "Sedang",
          "Sedang",
          "Sedang",
          "Sedang",
          "Sedang",
          "Sedang",
          "Sedang",
          "Sedang",
          "Sedang",
          "Sedang",
          "Sedang",
          "Sedang",
          "Sedang",
          "Sedang",
          "Sedang",
          "Sedang",
          "Sedang",
          "Sedang",
          "Sedang",
          "Sedang",
          "Sedang",
          "Sedang",
          "Sedang",
          "Sedang",
          "Sedang",
          "Sedang",
          "Sedang",
          "Sedang",
          "Sedang",
          "Sedang",
          "Sedang",
          "Sedang",
          "Sedang",
          "Sedang",
          "Sedang",
          "Sedang",
          "Sedang",
          "Sedang",
          "Sedang",
          "Sedang",
          "Sedang",
          "Sedang",
          "Sedang",
          "Sedang",
          "Sedang",
          "Sedang",
          "Sedang",
          "Sedang",
          "Sedang",
          "Sedang",
          "Sedang",
          "Sedang",
          "Sedang",
          "Sedang",
          "Sedang",
          "Sedang",
          "Sedang",
          "Sedang",
          "Sedang",
          "Sedang",
          "Sedang",
          "Sedang",
          "Sedang",
          "Sedang",
          "Sedang",
          "Sedang",
          "Sedang",
          "Sedang",
          "Sedang",
          "Sedang",
          "Sedang",
          "Sedang",
          "Sedang",
          "Sedang",
          "Sedang",
          "Sedang",
          "Sedang",
          "Sedang",
          "Sedang",
          "Sedang",
          "Sedang",
          "Sedang",
          "Sedang",
          "Sedang",
          "Sedang",
          "Sedang",
          "Sedang",
          "Sedang",
          "Sedang",
          "Sedang",
          "Sedang",
          "Sedang",
          "Sedang",
          "Sedang",
          "Sedang",
          "Sedang",
          "Sedang",
          "Sedang",
          "Sedang",
          "Sedang",
          "Sedang",
          "Sedang",
          "Sedang",
          "Sedang",
          "Sedang",
          "Sedang",
          "Sedang",
          "Sedang",
          "Sedang",
          "Sedang",
          "Sedang",
          "Sedang",
          "Sedang",
          "Sedang",
          "Sedang",
          "Sedang",
          "Sedang",
          "Sedang",
          "Sedang",
          "Sedang",
          "Sedang",
          "Sedang",
          "Sedang",
          "Sedang",
          "Sedang",
          "Sedang",
          "Sedang",
          "Sedang",
          "Sedang",
          "Sedang",
          "Sedang",
          "Sedang",
          "Sedang",
          "Sedang",
          "Sedang",
          "Sedang",
          "Sedang",
          "Sedang",
          "Sedang",
          "Sedang",
          "Sedang",
          "Sedang",
          "Sedang",
          "Sedang",
          "Sedang",
          "Sedang",
          "Sedang",
          "Sedang",
          "Sedang",
          "Sedang",
          "Sedang",
          "Sedang",
          "Sedang",
          "Sedang",
          "Sedang",
          "Sedang",
          "Sedang",
          "Sedang",
          "Sedang",
          "Sedang",
          "Sedang",
          "Sedang",
          "Sedang",
          "Sedang",
          "Sedang",
          "Sedang",
          "Sedang",
          "Sedang",
          "Sedang",
          "Sedang",
          "Sedang",
          "Sedang",
          "Sedang",
          "Sedang",
          "Sedang",
          "Sedang",
          "Sedang",
          "Sedang",
          "Sedang",
          "Sedang",
          "Sedang",
          "Sedang",
          "Sedang",
          "Sedang",
          "Sedang",
          "Sedang",
          "Sedang",
          "Sedang",
          "Sedang",
          "Sedang",
          "Sedang",
          "Sedang",
          "Sedang",
          "Sedang",
          "Sedang",
          "Sedang",
          "Sedang"
         ],
         "xaxis": "x",
         "yaxis": "y"
        },
        {
         "bingroup": "x",
         "hovertemplate": "Kategori Penggunaan=%{x}<br>count=%{y}<extra></extra>",
         "legendgroup": "Tinggi",
         "marker": {
          "color": "#9c179e",
          "pattern": {
           "shape": ""
          }
         },
         "name": "Tinggi",
         "orientation": "v",
         "showlegend": true,
         "type": "histogram",
         "x": [
          "Tinggi",
          "Tinggi",
          "Tinggi",
          "Tinggi",
          "Tinggi",
          "Tinggi",
          "Tinggi",
          "Tinggi",
          "Tinggi",
          "Tinggi",
          "Tinggi",
          "Tinggi",
          "Tinggi",
          "Tinggi",
          "Tinggi",
          "Tinggi",
          "Tinggi",
          "Tinggi",
          "Tinggi",
          "Tinggi",
          "Tinggi",
          "Tinggi",
          "Tinggi",
          "Tinggi",
          "Tinggi",
          "Tinggi",
          "Tinggi",
          "Tinggi",
          "Tinggi",
          "Tinggi",
          "Tinggi",
          "Tinggi",
          "Tinggi",
          "Tinggi",
          "Tinggi",
          "Tinggi",
          "Tinggi",
          "Tinggi",
          "Tinggi",
          "Tinggi",
          "Tinggi",
          "Tinggi",
          "Tinggi",
          "Tinggi",
          "Tinggi",
          "Tinggi",
          "Tinggi",
          "Tinggi",
          "Tinggi",
          "Tinggi",
          "Tinggi",
          "Tinggi",
          "Tinggi",
          "Tinggi",
          "Tinggi",
          "Tinggi",
          "Tinggi",
          "Tinggi",
          "Tinggi",
          "Tinggi",
          "Tinggi",
          "Tinggi",
          "Tinggi",
          "Tinggi",
          "Tinggi",
          "Tinggi",
          "Tinggi",
          "Tinggi",
          "Tinggi",
          "Tinggi",
          "Tinggi",
          "Tinggi",
          "Tinggi",
          "Tinggi",
          "Tinggi",
          "Tinggi",
          "Tinggi",
          "Tinggi",
          "Tinggi",
          "Tinggi",
          "Tinggi",
          "Tinggi",
          "Tinggi",
          "Tinggi",
          "Tinggi",
          "Tinggi",
          "Tinggi",
          "Tinggi",
          "Tinggi",
          "Tinggi",
          "Tinggi",
          "Tinggi",
          "Tinggi",
          "Tinggi",
          "Tinggi",
          "Tinggi",
          "Tinggi",
          "Tinggi",
          "Tinggi",
          "Tinggi",
          "Tinggi",
          "Tinggi",
          "Tinggi",
          "Tinggi",
          "Tinggi",
          "Tinggi",
          "Tinggi",
          "Tinggi",
          "Tinggi",
          "Tinggi",
          "Tinggi",
          "Tinggi",
          "Tinggi",
          "Tinggi",
          "Tinggi",
          "Tinggi",
          "Tinggi",
          "Tinggi",
          "Tinggi",
          "Tinggi",
          "Tinggi",
          "Tinggi",
          "Tinggi",
          "Tinggi",
          "Tinggi",
          "Tinggi",
          "Tinggi",
          "Tinggi",
          "Tinggi",
          "Tinggi",
          "Tinggi",
          "Tinggi",
          "Tinggi",
          "Tinggi",
          "Tinggi",
          "Tinggi",
          "Tinggi",
          "Tinggi",
          "Tinggi",
          "Tinggi",
          "Tinggi",
          "Tinggi",
          "Tinggi",
          "Tinggi",
          "Tinggi",
          "Tinggi",
          "Tinggi",
          "Tinggi",
          "Tinggi",
          "Tinggi",
          "Tinggi",
          "Tinggi",
          "Tinggi",
          "Tinggi",
          "Tinggi",
          "Tinggi",
          "Tinggi",
          "Tinggi",
          "Tinggi",
          "Tinggi",
          "Tinggi",
          "Tinggi",
          "Tinggi",
          "Tinggi",
          "Tinggi",
          "Tinggi",
          "Tinggi",
          "Tinggi"
         ],
         "xaxis": "x",
         "yaxis": "y"
        }
       ],
       "layout": {
        "bargap": 0.1,
        "barmode": "relative",
        "legend": {
         "title": {
          "text": "Kategori Penggunaan"
         },
         "tracegroupgap": 0
        },
        "template": {
         "data": {
          "bar": [
           {
            "error_x": {
             "color": "#2a3f5f"
            },
            "error_y": {
             "color": "#2a3f5f"
            },
            "marker": {
             "line": {
              "color": "white",
              "width": 0.5
             },
             "pattern": {
              "fillmode": "overlay",
              "size": 10,
              "solidity": 0.2
             }
            },
            "type": "bar"
           }
          ],
          "barpolar": [
           {
            "marker": {
             "line": {
              "color": "white",
              "width": 0.5
             },
             "pattern": {
              "fillmode": "overlay",
              "size": 10,
              "solidity": 0.2
             }
            },
            "type": "barpolar"
           }
          ],
          "carpet": [
           {
            "aaxis": {
             "endlinecolor": "#2a3f5f",
             "gridcolor": "#C8D4E3",
             "linecolor": "#C8D4E3",
             "minorgridcolor": "#C8D4E3",
             "startlinecolor": "#2a3f5f"
            },
            "baxis": {
             "endlinecolor": "#2a3f5f",
             "gridcolor": "#C8D4E3",
             "linecolor": "#C8D4E3",
             "minorgridcolor": "#C8D4E3",
             "startlinecolor": "#2a3f5f"
            },
            "type": "carpet"
           }
          ],
          "choropleth": [
           {
            "colorbar": {
             "outlinewidth": 0,
             "ticks": ""
            },
            "type": "choropleth"
           }
          ],
          "contour": [
           {
            "colorbar": {
             "outlinewidth": 0,
             "ticks": ""
            },
            "colorscale": [
             [
              0,
              "#0d0887"
             ],
             [
              0.1111111111111111,
              "#46039f"
             ],
             [
              0.2222222222222222,
              "#7201a8"
             ],
             [
              0.3333333333333333,
              "#9c179e"
             ],
             [
              0.4444444444444444,
              "#bd3786"
             ],
             [
              0.5555555555555556,
              "#d8576b"
             ],
             [
              0.6666666666666666,
              "#ed7953"
             ],
             [
              0.7777777777777778,
              "#fb9f3a"
             ],
             [
              0.8888888888888888,
              "#fdca26"
             ],
             [
              1,
              "#f0f921"
             ]
            ],
            "type": "contour"
           }
          ],
          "contourcarpet": [
           {
            "colorbar": {
             "outlinewidth": 0,
             "ticks": ""
            },
            "type": "contourcarpet"
           }
          ],
          "heatmap": [
           {
            "colorbar": {
             "outlinewidth": 0,
             "ticks": ""
            },
            "colorscale": [
             [
              0,
              "#0d0887"
             ],
             [
              0.1111111111111111,
              "#46039f"
             ],
             [
              0.2222222222222222,
              "#7201a8"
             ],
             [
              0.3333333333333333,
              "#9c179e"
             ],
             [
              0.4444444444444444,
              "#bd3786"
             ],
             [
              0.5555555555555556,
              "#d8576b"
             ],
             [
              0.6666666666666666,
              "#ed7953"
             ],
             [
              0.7777777777777778,
              "#fb9f3a"
             ],
             [
              0.8888888888888888,
              "#fdca26"
             ],
             [
              1,
              "#f0f921"
             ]
            ],
            "type": "heatmap"
           }
          ],
          "histogram": [
           {
            "marker": {
             "pattern": {
              "fillmode": "overlay",
              "size": 10,
              "solidity": 0.2
             }
            },
            "type": "histogram"
           }
          ],
          "histogram2d": [
           {
            "colorbar": {
             "outlinewidth": 0,
             "ticks": ""
            },
            "colorscale": [
             [
              0,
              "#0d0887"
             ],
             [
              0.1111111111111111,
              "#46039f"
             ],
             [
              0.2222222222222222,
              "#7201a8"
             ],
             [
              0.3333333333333333,
              "#9c179e"
             ],
             [
              0.4444444444444444,
              "#bd3786"
             ],
             [
              0.5555555555555556,
              "#d8576b"
             ],
             [
              0.6666666666666666,
              "#ed7953"
             ],
             [
              0.7777777777777778,
              "#fb9f3a"
             ],
             [
              0.8888888888888888,
              "#fdca26"
             ],
             [
              1,
              "#f0f921"
             ]
            ],
            "type": "histogram2d"
           }
          ],
          "histogram2dcontour": [
           {
            "colorbar": {
             "outlinewidth": 0,
             "ticks": ""
            },
            "colorscale": [
             [
              0,
              "#0d0887"
             ],
             [
              0.1111111111111111,
              "#46039f"
             ],
             [
              0.2222222222222222,
              "#7201a8"
             ],
             [
              0.3333333333333333,
              "#9c179e"
             ],
             [
              0.4444444444444444,
              "#bd3786"
             ],
             [
              0.5555555555555556,
              "#d8576b"
             ],
             [
              0.6666666666666666,
              "#ed7953"
             ],
             [
              0.7777777777777778,
              "#fb9f3a"
             ],
             [
              0.8888888888888888,
              "#fdca26"
             ],
             [
              1,
              "#f0f921"
             ]
            ],
            "type": "histogram2dcontour"
           }
          ],
          "mesh3d": [
           {
            "colorbar": {
             "outlinewidth": 0,
             "ticks": ""
            },
            "type": "mesh3d"
           }
          ],
          "parcoords": [
           {
            "line": {
             "colorbar": {
              "outlinewidth": 0,
              "ticks": ""
             }
            },
            "type": "parcoords"
           }
          ],
          "pie": [
           {
            "automargin": true,
            "type": "pie"
           }
          ],
          "scatter": [
           {
            "fillpattern": {
             "fillmode": "overlay",
             "size": 10,
             "solidity": 0.2
            },
            "type": "scatter"
           }
          ],
          "scatter3d": [
           {
            "line": {
             "colorbar": {
              "outlinewidth": 0,
              "ticks": ""
             }
            },
            "marker": {
             "colorbar": {
              "outlinewidth": 0,
              "ticks": ""
             }
            },
            "type": "scatter3d"
           }
          ],
          "scattercarpet": [
           {
            "marker": {
             "colorbar": {
              "outlinewidth": 0,
              "ticks": ""
             }
            },
            "type": "scattercarpet"
           }
          ],
          "scattergeo": [
           {
            "marker": {
             "colorbar": {
              "outlinewidth": 0,
              "ticks": ""
             }
            },
            "type": "scattergeo"
           }
          ],
          "scattergl": [
           {
            "marker": {
             "colorbar": {
              "outlinewidth": 0,
              "ticks": ""
             }
            },
            "type": "scattergl"
           }
          ],
          "scattermap": [
           {
            "marker": {
             "colorbar": {
              "outlinewidth": 0,
              "ticks": ""
             }
            },
            "type": "scattermap"
           }
          ],
          "scattermapbox": [
           {
            "marker": {
             "colorbar": {
              "outlinewidth": 0,
              "ticks": ""
             }
            },
            "type": "scattermapbox"
           }
          ],
          "scatterpolar": [
           {
            "marker": {
             "colorbar": {
              "outlinewidth": 0,
              "ticks": ""
             }
            },
            "type": "scatterpolar"
           }
          ],
          "scatterpolargl": [
           {
            "marker": {
             "colorbar": {
              "outlinewidth": 0,
              "ticks": ""
             }
            },
            "type": "scatterpolargl"
           }
          ],
          "scatterternary": [
           {
            "marker": {
             "colorbar": {
              "outlinewidth": 0,
              "ticks": ""
             }
            },
            "type": "scatterternary"
           }
          ],
          "surface": [
           {
            "colorbar": {
             "outlinewidth": 0,
             "ticks": ""
            },
            "colorscale": [
             [
              0,
              "#0d0887"
             ],
             [
              0.1111111111111111,
              "#46039f"
             ],
             [
              0.2222222222222222,
              "#7201a8"
             ],
             [
              0.3333333333333333,
              "#9c179e"
             ],
             [
              0.4444444444444444,
              "#bd3786"
             ],
             [
              0.5555555555555556,
              "#d8576b"
             ],
             [
              0.6666666666666666,
              "#ed7953"
             ],
             [
              0.7777777777777778,
              "#fb9f3a"
             ],
             [
              0.8888888888888888,
              "#fdca26"
             ],
             [
              1,
              "#f0f921"
             ]
            ],
            "type": "surface"
           }
          ],
          "table": [
           {
            "cells": {
             "fill": {
              "color": "#EBF0F8"
             },
             "line": {
              "color": "white"
             }
            },
            "header": {
             "fill": {
              "color": "#C8D4E3"
             },
             "line": {
              "color": "white"
             }
            },
            "type": "table"
           }
          ]
         },
         "layout": {
          "annotationdefaults": {
           "arrowcolor": "#2a3f5f",
           "arrowhead": 0,
           "arrowwidth": 1
          },
          "autotypenumbers": "strict",
          "coloraxis": {
           "colorbar": {
            "outlinewidth": 0,
            "ticks": ""
           }
          },
          "colorscale": {
           "diverging": [
            [
             0,
             "#8e0152"
            ],
            [
             0.1,
             "#c51b7d"
            ],
            [
             0.2,
             "#de77ae"
            ],
            [
             0.3,
             "#f1b6da"
            ],
            [
             0.4,
             "#fde0ef"
            ],
            [
             0.5,
             "#f7f7f7"
            ],
            [
             0.6,
             "#e6f5d0"
            ],
            [
             0.7,
             "#b8e186"
            ],
            [
             0.8,
             "#7fbc41"
            ],
            [
             0.9,
             "#4d9221"
            ],
            [
             1,
             "#276419"
            ]
           ],
           "sequential": [
            [
             0,
             "#0d0887"
            ],
            [
             0.1111111111111111,
             "#46039f"
            ],
            [
             0.2222222222222222,
             "#7201a8"
            ],
            [
             0.3333333333333333,
             "#9c179e"
            ],
            [
             0.4444444444444444,
             "#bd3786"
            ],
            [
             0.5555555555555556,
             "#d8576b"
            ],
            [
             0.6666666666666666,
             "#ed7953"
            ],
            [
             0.7777777777777778,
             "#fb9f3a"
            ],
            [
             0.8888888888888888,
             "#fdca26"
            ],
            [
             1,
             "#f0f921"
            ]
           ],
           "sequentialminus": [
            [
             0,
             "#0d0887"
            ],
            [
             0.1111111111111111,
             "#46039f"
            ],
            [
             0.2222222222222222,
             "#7201a8"
            ],
            [
             0.3333333333333333,
             "#9c179e"
            ],
            [
             0.4444444444444444,
             "#bd3786"
            ],
            [
             0.5555555555555556,
             "#d8576b"
            ],
            [
             0.6666666666666666,
             "#ed7953"
            ],
            [
             0.7777777777777778,
             "#fb9f3a"
            ],
            [
             0.8888888888888888,
             "#fdca26"
            ],
            [
             1,
             "#f0f921"
            ]
           ]
          },
          "colorway": [
           "#636efa",
           "#EF553B",
           "#00cc96",
           "#ab63fa",
           "#FFA15A",
           "#19d3f3",
           "#FF6692",
           "#B6E880",
           "#FF97FF",
           "#FECB52"
          ],
          "font": {
           "color": "#2a3f5f"
          },
          "geo": {
           "bgcolor": "white",
           "lakecolor": "white",
           "landcolor": "white",
           "showlakes": true,
           "showland": true,
           "subunitcolor": "#C8D4E3"
          },
          "hoverlabel": {
           "align": "left"
          },
          "hovermode": "closest",
          "mapbox": {
           "style": "light"
          },
          "paper_bgcolor": "white",
          "plot_bgcolor": "white",
          "polar": {
           "angularaxis": {
            "gridcolor": "#EBF0F8",
            "linecolor": "#EBF0F8",
            "ticks": ""
           },
           "bgcolor": "white",
           "radialaxis": {
            "gridcolor": "#EBF0F8",
            "linecolor": "#EBF0F8",
            "ticks": ""
           }
          },
          "scene": {
           "xaxis": {
            "backgroundcolor": "white",
            "gridcolor": "#DFE8F3",
            "gridwidth": 2,
            "linecolor": "#EBF0F8",
            "showbackground": true,
            "ticks": "",
            "zerolinecolor": "#EBF0F8"
           },
           "yaxis": {
            "backgroundcolor": "white",
            "gridcolor": "#DFE8F3",
            "gridwidth": 2,
            "linecolor": "#EBF0F8",
            "showbackground": true,
            "ticks": "",
            "zerolinecolor": "#EBF0F8"
           },
           "zaxis": {
            "backgroundcolor": "white",
            "gridcolor": "#DFE8F3",
            "gridwidth": 2,
            "linecolor": "#EBF0F8",
            "showbackground": true,
            "ticks": "",
            "zerolinecolor": "#EBF0F8"
           }
          },
          "shapedefaults": {
           "line": {
            "color": "#2a3f5f"
           }
          },
          "ternary": {
           "aaxis": {
            "gridcolor": "#DFE8F3",
            "linecolor": "#A2B1C6",
            "ticks": ""
           },
           "baxis": {
            "gridcolor": "#DFE8F3",
            "linecolor": "#A2B1C6",
            "ticks": ""
           },
           "bgcolor": "white",
           "caxis": {
            "gridcolor": "#DFE8F3",
            "linecolor": "#A2B1C6",
            "ticks": ""
           }
          },
          "title": {
           "x": 0.05
          },
          "xaxis": {
           "automargin": true,
           "gridcolor": "#EBF0F8",
           "linecolor": "#EBF0F8",
           "ticks": "",
           "title": {
            "standoff": 15
           },
           "zerolinecolor": "#EBF0F8",
           "zerolinewidth": 2
          },
          "yaxis": {
           "automargin": true,
           "gridcolor": "#EBF0F8",
           "linecolor": "#EBF0F8",
           "ticks": "",
           "title": {
            "standoff": 15
           },
           "zerolinecolor": "#EBF0F8",
           "zerolinewidth": 2
          }
         }
        },
        "title": {
         "text": "Distribusi Kategori Penggunaan Sepeda Harian"
        },
        "xaxis": {
         "anchor": "y",
         "categoryarray": [
          "Sangat Rendah",
          "Rendah",
          "Sedang",
          "Tinggi",
          null
         ],
         "categoryorder": "array",
         "domain": [
          0,
          1
         ],
         "title": {
          "text": "Kategori Penggunaan"
         }
        },
        "yaxis": {
         "anchor": "x",
         "domain": [
          0,
          1
         ],
         "title": {
          "text": "count"
         }
        }
       }
      }
     },
     "metadata": {},
     "output_type": "display_data"
    }
   ],
   "source": [
    "# Clustering manual dengan binning\n",
    "bins = [0, 2000, 4000, 6000, 8000]\n",
    "labels = ['Sangat Rendah', 'Rendah', 'Sedang', 'Tinggi']\n",
    "day_df['usage_category'] = pd.cut(day_df['cnt'], bins=bins, labels=labels, include_lowest=True)\n",
    "\n",
    "# Distribusi kategori\n",
    "category_counts = day_df['usage_category'].value_counts()\n",
    "total_days = len(day_df)\n",
    "category_percentages = (category_counts / total_days * 100).round(2)\n",
    "\n",
    "print(\"Distribusi Kategori Penggunaan Sepeda Harian:\")\n",
    "for category, count, percentage in zip(category_counts.index, category_counts, category_percentages):\n",
    "    print(f\"- {category}: {count} hari ({percentage}%)\")\n",
    "\n",
    "# Visualisasi distribusi kategori\n",
    "try:\n",
    "    fig = px.histogram(day_df,\n",
    "                       x='usage_category',\n",
    "                       title='Distribusi Kategori Penggunaan Sepeda Harian',\n",
    "                       labels={'usage_category': 'Kategori Penggunaan', 'count': 'Jumlah Hari'},\n",
    "                       color='usage_category',\n",
    "                       color_discrete_sequence=px.colors.sequential.Plasma)\n",
    "    fig.update_layout(bargap=0.1, template='plotly_white')\n",
    "    fig.show()\n",
    "except Exception as e:\n",
    "    print(f\"Error dalam visualisasi analisis lanjutan: {e}\")"
   ]
  },
  {
   "cell_type": "markdown",
   "metadata": {},
   "source": [
    "**Insight:**\n",
    "- Sebanyak 47% hari termasuk kategori \"Sedang\" (2000-4000 penyewaan), menunjukkan penggunaan sepeda yang stabil sepanjang tahun.\n",
    "- Kategori \"Tinggi\" (>6000 penyewaan) terjadi pada 19% hari, kebanyakan saat cuaca cerah di musim panas (Juni-Agustus), memberikan wawasan untuk perencanaan inventaris.\n",
    "- Kategori \"Sangat Rendah\" (<2000 penyewaan) terjadi pada 5% hari, terutama saat cuaca buruk (hujan ringan) atau musim dingin, menunjukkan perlunya strategi khusus untuk meningkatkan penggunaan pada hari-hari ini."
   ]
  },
  {
   "cell_type": "markdown",
   "metadata": {},
   "source": [
    "## Conclusion\n",
    "\n",
    "### Conclusion Pertanyaan 1: Bagaimana kondisi cuaca memengaruhi jumlah penyewaan sepeda?\n",
    "- Cuaca cerah menghasilkan penyewaan tertinggi dengan rata-rata 4.913 sepeda per hari, sedangkan hujan ringan menurunkan penyewaan menjadi rata-rata 3.771 sepeda per hari. Variabilitas penyewaan tertinggi terlihat pada cuaca berawan (standar deviasi ~1.500), menunjukkan ketidakpastian pengguna.\n",
    "- **Insight:** Cuaca cerah adalah pendorong utama penyewaan, dengan peningkatan hingga 30% dibandingkan hujan ringan. Tidak adanya data untuk 'Hujan Berat' menunjukkan kondisi ini sangat jarang atau tidak tercatat.\n",
    "- **Rekomendasi:** Tingkatkan distribusi sepeda saat cuaca cerah (khususnya musim panas) dengan menambah stok di stasiun utama. Pada hari hujan ringan, pertimbangkan promosi atau diskon untuk menarik pengguna.\n",
    "\n",
    "### Conclusion Pertanyaan 2: Bagaimana pola penggunaan sepeda berdasarkan hari dalam seminggu dan jam?\n",
    "- Penyewaan puncak terjadi pada jam 08.00 (rata-rata ~400 sepeda) dan 17.00-18.00 (rata-rata ~450 sepeda) di hari kerja (Senin-Jumat), menunjukkan penggunaan utama untuk commuting. Akhir pekan menunjukkan pola merata dengan puncak di siang hari (12.00-15.00, rata-rata ~300 sepeda).\n",
    "- **Insight:** Pola commuting mendominasi di hari kerja, dengan peningkatan hingga 50% pada jam sibuk dibandingkan jam lainnya. Akhir pekan lebih digunakan untuk rekreasi, dengan distribusi merata sepanjang siang.\n",
    "- **Rekomendasi:** Tambah jumlah sepeda di stasiun utama pada jam sibuk hari kerja (08.00 dan 17.00-18.00). Untuk akhir pekan, siapkan sepeda di area rekreasi pada siang hari dan optimalkan jadwal perawatan pada malam hari.\n",
    "\n",
    "### Analisis Lanjutan: Clustering Manual\n",
    "- Teknik clustering manual dengan binning menunjukkan 47% hari termasuk kategori \"Sedang\" (2000-4000 penyewaan), memberikan wawasan untuk perencanaan inventaris yang stabil.\n",
    "- **Insight:** Kategori \"Sangat Rendah\" (<2000 penyewaan) sering terjadi saat cuaca buruk (5% hari), sedangkan \"Tinggi\" (>6000 penyewaan) terjadi pada 19% hari dengan cuaca cerah.\n",
    "- **Rekomendasi:** Fokus pada strategi pemasaran (misalnya, diskon atau kampanye) untuk meningkatkan penyewaan pada hari dengan kategori \"Sangat Rendah\". Untuk hari \"Tinggi\", pastikan stok sepeda mencukupi untuk menghindari kekurangan."
   ]
  }
 ],
 "metadata": {
  "language_info": {
   "name": "python"
  }
 },
 "nbformat": 4,
 "nbformat_minor": 2
}
=======
  },
  "cells": [
    {
      "cell_type": "markdown",
      "source": [
        "# **Proyek Analisis Data: Bike Sharing Dataset**\n",
        "Nama: Luthfi Fauzi\n",
        "Email: luthfafiwork@gmail.com\n",
        "ID Dicoding: mocitaz\n",
        "\n"
      ],
      "metadata": {
        "id": "5YbI_9Pn1LR9"
      }
    },
    {
      "cell_type": "markdown",
      "source": [
        "## Menentukan Pertanyaan Bisnis\n",
        "### Pertanyaan 1\n",
        "- Bagaimana kondisi cuaca memengaruhi jumlah penyewaan sepeda?\n",
        "\n",
        "### Pertanyaan 2\n",
        "- Bagaimana pola penggunaan sepeda berdasarkan hari dalam seminggu dan jam?"
      ],
      "metadata": {
        "id": "gAJIEpmQ1b_C"
      }
    },
    {
      "cell_type": "code",
      "execution_count": 1,
      "metadata": {
        "id": "Tu1CJryx1Kf0"
      },
      "outputs": [],
      "source": [
        "import pandas as pd\n",
        "import numpy as np\n",
        "import matplotlib.pyplot as plt\n",
        "import seaborn as sns\n",
        "import plotly.express as px\n",
        "import plotly.graph_objects as go\n",
        "from datetime import datetime\n",
        "import warnings\n",
        "warnings.filterwarnings('ignore')"
      ]
    },
    {
      "cell_type": "markdown",
      "source": [
        "# Analisis Data Bike Sharing: Studi Pola Penggunaan Sepeda\n",
        "\n",
        "Proyek ini bertujuan untuk menganalisis pola penggunaan sepeda menggunakan **Bike Sharing Dataset** yang bersumber dari Kaggle. Analisis ini mencakup eksplorasi mendalam terhadap faktor-faktor yang memengaruhi penyewaan sepeda, dengan fokus pada dua pertanyaan bisnis utama:\n",
        "\n",
        "1. **Bagaimana kondisi cuaca memengaruhi jumlah penyewaan sepeda?**  \n",
        "   - Tujuan: Memahami hubungan antara variabel cuaca dan tingkat penggunaan sepeda untuk mendukung pengambilan keputusan operasional.\n",
        "2. **Bagaimana pola penggunaan sepeda berdasarkan hari dalam seminggu dan jam?**  \n",
        "   - Tujuan: Mengidentifikasi waktu puncak penyewaan untuk optimalisasi distribusi sepeda.\n",
        "\n",
        "Dataset ini mencakup data harian (`day.csv`) dan per jam (`hour.csv`) dari sistem penyewaan sepeda di Washington D.C. selama dua tahun (2011-2012)."
      ],
      "metadata": {
        "id": "oKZKrXbJ11hj"
      }
    },
    {
      "cell_type": "code",
      "source": [
        "# Memuat dataset\n",
        "day_df = pd.read_csv(\"/content/day.csv\")\n",
        "hour_df = pd.read_csv(\"/content/hour.csv\")\n",
        "\n",
        "# Menampilkan pratinjau data\n",
        "print(\"Pratinjau Data Harian (5 Baris Pertama):\")\n",
        "display(day_df.head())\n",
        "print(\"\\nPratinjau Data Per Jam (5 Baris Pertama):\")\n",
        "display(hour_df.head())\n",
        "\n",
        "# Statistik deskriptif awal\n",
        "print(\"\\nStatistik Deskriptif Data Harian:\")\n",
        "display(day_df.describe())"
      ],
      "metadata": {
        "colab": {
          "base_uri": "https://localhost:8080/",
          "height": 961
        },
        "id": "tAOa4CN4123u",
        "outputId": "3a1c6447-c064-40d3-a671-04a72c657042"
      },
      "execution_count": 2,
      "outputs": [
        {
          "output_type": "stream",
          "name": "stdout",
          "text": [
            "Pratinjau Data Harian (5 Baris Pertama):\n"
          ]
        },
        {
          "output_type": "display_data",
          "data": {
            "text/plain": [
              "   instant      dteday  season  yr  mnth  holiday  weekday  workingday  \\\n",
              "0        1  2011-01-01       1   0     1        0        6           0   \n",
              "1        2  2011-01-02       1   0     1        0        0           0   \n",
              "2        3  2011-01-03       1   0     1        0        1           1   \n",
              "3        4  2011-01-04       1   0     1        0        2           1   \n",
              "4        5  2011-01-05       1   0     1        0        3           1   \n",
              "\n",
              "   weathersit      temp     atemp       hum  windspeed  casual  registered  \\\n",
              "0           2  0.344167  0.363625  0.805833   0.160446     331         654   \n",
              "1           2  0.363478  0.353739  0.696087   0.248539     131         670   \n",
              "2           1  0.196364  0.189405  0.437273   0.248309     120        1229   \n",
              "3           1  0.200000  0.212122  0.590435   0.160296     108        1454   \n",
              "4           1  0.226957  0.229270  0.436957   0.186900      82        1518   \n",
              "\n",
              "    cnt  \n",
              "0   985  \n",
              "1   801  \n",
              "2  1349  \n",
              "3  1562  \n",
              "4  1600  "
            ],
            "text/html": [
              "\n",
              "  <div id=\"df-bba2c770-92fb-4076-9b28-0b8e29a85dad\" class=\"colab-df-container\">\n",
              "    <div>\n",
              "<style scoped>\n",
              "    .dataframe tbody tr th:only-of-type {\n",
              "        vertical-align: middle;\n",
              "    }\n",
              "\n",
              "    .dataframe tbody tr th {\n",
              "        vertical-align: top;\n",
              "    }\n",
              "\n",
              "    .dataframe thead th {\n",
              "        text-align: right;\n",
              "    }\n",
              "</style>\n",
              "<table border=\"1\" class=\"dataframe\">\n",
              "  <thead>\n",
              "    <tr style=\"text-align: right;\">\n",
              "      <th></th>\n",
              "      <th>instant</th>\n",
              "      <th>dteday</th>\n",
              "      <th>season</th>\n",
              "      <th>yr</th>\n",
              "      <th>mnth</th>\n",
              "      <th>holiday</th>\n",
              "      <th>weekday</th>\n",
              "      <th>workingday</th>\n",
              "      <th>weathersit</th>\n",
              "      <th>temp</th>\n",
              "      <th>atemp</th>\n",
              "      <th>hum</th>\n",
              "      <th>windspeed</th>\n",
              "      <th>casual</th>\n",
              "      <th>registered</th>\n",
              "      <th>cnt</th>\n",
              "    </tr>\n",
              "  </thead>\n",
              "  <tbody>\n",
              "    <tr>\n",
              "      <th>0</th>\n",
              "      <td>1</td>\n",
              "      <td>2011-01-01</td>\n",
              "      <td>1</td>\n",
              "      <td>0</td>\n",
              "      <td>1</td>\n",
              "      <td>0</td>\n",
              "      <td>6</td>\n",
              "      <td>0</td>\n",
              "      <td>2</td>\n",
              "      <td>0.344167</td>\n",
              "      <td>0.363625</td>\n",
              "      <td>0.805833</td>\n",
              "      <td>0.160446</td>\n",
              "      <td>331</td>\n",
              "      <td>654</td>\n",
              "      <td>985</td>\n",
              "    </tr>\n",
              "    <tr>\n",
              "      <th>1</th>\n",
              "      <td>2</td>\n",
              "      <td>2011-01-02</td>\n",
              "      <td>1</td>\n",
              "      <td>0</td>\n",
              "      <td>1</td>\n",
              "      <td>0</td>\n",
              "      <td>0</td>\n",
              "      <td>0</td>\n",
              "      <td>2</td>\n",
              "      <td>0.363478</td>\n",
              "      <td>0.353739</td>\n",
              "      <td>0.696087</td>\n",
              "      <td>0.248539</td>\n",
              "      <td>131</td>\n",
              "      <td>670</td>\n",
              "      <td>801</td>\n",
              "    </tr>\n",
              "    <tr>\n",
              "      <th>2</th>\n",
              "      <td>3</td>\n",
              "      <td>2011-01-03</td>\n",
              "      <td>1</td>\n",
              "      <td>0</td>\n",
              "      <td>1</td>\n",
              "      <td>0</td>\n",
              "      <td>1</td>\n",
              "      <td>1</td>\n",
              "      <td>1</td>\n",
              "      <td>0.196364</td>\n",
              "      <td>0.189405</td>\n",
              "      <td>0.437273</td>\n",
              "      <td>0.248309</td>\n",
              "      <td>120</td>\n",
              "      <td>1229</td>\n",
              "      <td>1349</td>\n",
              "    </tr>\n",
              "    <tr>\n",
              "      <th>3</th>\n",
              "      <td>4</td>\n",
              "      <td>2011-01-04</td>\n",
              "      <td>1</td>\n",
              "      <td>0</td>\n",
              "      <td>1</td>\n",
              "      <td>0</td>\n",
              "      <td>2</td>\n",
              "      <td>1</td>\n",
              "      <td>1</td>\n",
              "      <td>0.200000</td>\n",
              "      <td>0.212122</td>\n",
              "      <td>0.590435</td>\n",
              "      <td>0.160296</td>\n",
              "      <td>108</td>\n",
              "      <td>1454</td>\n",
              "      <td>1562</td>\n",
              "    </tr>\n",
              "    <tr>\n",
              "      <th>4</th>\n",
              "      <td>5</td>\n",
              "      <td>2011-01-05</td>\n",
              "      <td>1</td>\n",
              "      <td>0</td>\n",
              "      <td>1</td>\n",
              "      <td>0</td>\n",
              "      <td>3</td>\n",
              "      <td>1</td>\n",
              "      <td>1</td>\n",
              "      <td>0.226957</td>\n",
              "      <td>0.229270</td>\n",
              "      <td>0.436957</td>\n",
              "      <td>0.186900</td>\n",
              "      <td>82</td>\n",
              "      <td>1518</td>\n",
              "      <td>1600</td>\n",
              "    </tr>\n",
              "  </tbody>\n",
              "</table>\n",
              "</div>\n",
              "    <div class=\"colab-df-buttons\">\n",
              "\n",
              "  <div class=\"colab-df-container\">\n",
              "    <button class=\"colab-df-convert\" onclick=\"convertToInteractive('df-bba2c770-92fb-4076-9b28-0b8e29a85dad')\"\n",
              "            title=\"Convert this dataframe to an interactive table.\"\n",
              "            style=\"display:none;\">\n",
              "\n",
              "  <svg xmlns=\"http://www.w3.org/2000/svg\" height=\"24px\" viewBox=\"0 -960 960 960\">\n",
              "    <path d=\"M120-120v-720h720v720H120Zm60-500h600v-160H180v160Zm220 220h160v-160H400v160Zm0 220h160v-160H400v160ZM180-400h160v-160H180v160Zm440 0h160v-160H620v160ZM180-180h160v-160H180v160Zm440 0h160v-160H620v160Z\"/>\n",
              "  </svg>\n",
              "    </button>\n",
              "\n",
              "  <style>\n",
              "    .colab-df-container {\n",
              "      display:flex;\n",
              "      gap: 12px;\n",
              "    }\n",
              "\n",
              "    .colab-df-convert {\n",
              "      background-color: #E8F0FE;\n",
              "      border: none;\n",
              "      border-radius: 50%;\n",
              "      cursor: pointer;\n",
              "      display: none;\n",
              "      fill: #1967D2;\n",
              "      height: 32px;\n",
              "      padding: 0 0 0 0;\n",
              "      width: 32px;\n",
              "    }\n",
              "\n",
              "    .colab-df-convert:hover {\n",
              "      background-color: #E2EBFA;\n",
              "      box-shadow: 0px 1px 2px rgba(60, 64, 67, 0.3), 0px 1px 3px 1px rgba(60, 64, 67, 0.15);\n",
              "      fill: #174EA6;\n",
              "    }\n",
              "\n",
              "    .colab-df-buttons div {\n",
              "      margin-bottom: 4px;\n",
              "    }\n",
              "\n",
              "    [theme=dark] .colab-df-convert {\n",
              "      background-color: #3B4455;\n",
              "      fill: #D2E3FC;\n",
              "    }\n",
              "\n",
              "    [theme=dark] .colab-df-convert:hover {\n",
              "      background-color: #434B5C;\n",
              "      box-shadow: 0px 1px 3px 1px rgba(0, 0, 0, 0.15);\n",
              "      filter: drop-shadow(0px 1px 2px rgba(0, 0, 0, 0.3));\n",
              "      fill: #FFFFFF;\n",
              "    }\n",
              "  </style>\n",
              "\n",
              "    <script>\n",
              "      const buttonEl =\n",
              "        document.querySelector('#df-bba2c770-92fb-4076-9b28-0b8e29a85dad button.colab-df-convert');\n",
              "      buttonEl.style.display =\n",
              "        google.colab.kernel.accessAllowed ? 'block' : 'none';\n",
              "\n",
              "      async function convertToInteractive(key) {\n",
              "        const element = document.querySelector('#df-bba2c770-92fb-4076-9b28-0b8e29a85dad');\n",
              "        const dataTable =\n",
              "          await google.colab.kernel.invokeFunction('convertToInteractive',\n",
              "                                                    [key], {});\n",
              "        if (!dataTable) return;\n",
              "\n",
              "        const docLinkHtml = 'Like what you see? Visit the ' +\n",
              "          '<a target=\"_blank\" href=https://colab.research.google.com/notebooks/data_table.ipynb>data table notebook</a>'\n",
              "          + ' to learn more about interactive tables.';\n",
              "        element.innerHTML = '';\n",
              "        dataTable['output_type'] = 'display_data';\n",
              "        await google.colab.output.renderOutput(dataTable, element);\n",
              "        const docLink = document.createElement('div');\n",
              "        docLink.innerHTML = docLinkHtml;\n",
              "        element.appendChild(docLink);\n",
              "      }\n",
              "    </script>\n",
              "  </div>\n",
              "\n",
              "\n",
              "<div id=\"df-aaf71cf3-629a-4721-8d1f-e6015999887c\">\n",
              "  <button class=\"colab-df-quickchart\" onclick=\"quickchart('df-aaf71cf3-629a-4721-8d1f-e6015999887c')\"\n",
              "            title=\"Suggest charts\"\n",
              "            style=\"display:none;\">\n",
              "\n",
              "<svg xmlns=\"http://www.w3.org/2000/svg\" height=\"24px\"viewBox=\"0 0 24 24\"\n",
              "     width=\"24px\">\n",
              "    <g>\n",
              "        <path d=\"M19 3H5c-1.1 0-2 .9-2 2v14c0 1.1.9 2 2 2h14c1.1 0 2-.9 2-2V5c0-1.1-.9-2-2-2zM9 17H7v-7h2v7zm4 0h-2V7h2v10zm4 0h-2v-4h2v4z\"/>\n",
              "    </g>\n",
              "</svg>\n",
              "  </button>\n",
              "\n",
              "<style>\n",
              "  .colab-df-quickchart {\n",
              "      --bg-color: #E8F0FE;\n",
              "      --fill-color: #1967D2;\n",
              "      --hover-bg-color: #E2EBFA;\n",
              "      --hover-fill-color: #174EA6;\n",
              "      --disabled-fill-color: #AAA;\n",
              "      --disabled-bg-color: #DDD;\n",
              "  }\n",
              "\n",
              "  [theme=dark] .colab-df-quickchart {\n",
              "      --bg-color: #3B4455;\n",
              "      --fill-color: #D2E3FC;\n",
              "      --hover-bg-color: #434B5C;\n",
              "      --hover-fill-color: #FFFFFF;\n",
              "      --disabled-bg-color: #3B4455;\n",
              "      --disabled-fill-color: #666;\n",
              "  }\n",
              "\n",
              "  .colab-df-quickchart {\n",
              "    background-color: var(--bg-color);\n",
              "    border: none;\n",
              "    border-radius: 50%;\n",
              "    cursor: pointer;\n",
              "    display: none;\n",
              "    fill: var(--fill-color);\n",
              "    height: 32px;\n",
              "    padding: 0;\n",
              "    width: 32px;\n",
              "  }\n",
              "\n",
              "  .colab-df-quickchart:hover {\n",
              "    background-color: var(--hover-bg-color);\n",
              "    box-shadow: 0 1px 2px rgba(60, 64, 67, 0.3), 0 1px 3px 1px rgba(60, 64, 67, 0.15);\n",
              "    fill: var(--button-hover-fill-color);\n",
              "  }\n",
              "\n",
              "  .colab-df-quickchart-complete:disabled,\n",
              "  .colab-df-quickchart-complete:disabled:hover {\n",
              "    background-color: var(--disabled-bg-color);\n",
              "    fill: var(--disabled-fill-color);\n",
              "    box-shadow: none;\n",
              "  }\n",
              "\n",
              "  .colab-df-spinner {\n",
              "    border: 2px solid var(--fill-color);\n",
              "    border-color: transparent;\n",
              "    border-bottom-color: var(--fill-color);\n",
              "    animation:\n",
              "      spin 1s steps(1) infinite;\n",
              "  }\n",
              "\n",
              "  @keyframes spin {\n",
              "    0% {\n",
              "      border-color: transparent;\n",
              "      border-bottom-color: var(--fill-color);\n",
              "      border-left-color: var(--fill-color);\n",
              "    }\n",
              "    20% {\n",
              "      border-color: transparent;\n",
              "      border-left-color: var(--fill-color);\n",
              "      border-top-color: var(--fill-color);\n",
              "    }\n",
              "    30% {\n",
              "      border-color: transparent;\n",
              "      border-left-color: var(--fill-color);\n",
              "      border-top-color: var(--fill-color);\n",
              "      border-right-color: var(--fill-color);\n",
              "    }\n",
              "    40% {\n",
              "      border-color: transparent;\n",
              "      border-right-color: var(--fill-color);\n",
              "      border-top-color: var(--fill-color);\n",
              "    }\n",
              "    60% {\n",
              "      border-color: transparent;\n",
              "      border-right-color: var(--fill-color);\n",
              "    }\n",
              "    80% {\n",
              "      border-color: transparent;\n",
              "      border-right-color: var(--fill-color);\n",
              "      border-bottom-color: var(--fill-color);\n",
              "    }\n",
              "    90% {\n",
              "      border-color: transparent;\n",
              "      border-bottom-color: var(--fill-color);\n",
              "    }\n",
              "  }\n",
              "</style>\n",
              "\n",
              "  <script>\n",
              "    async function quickchart(key) {\n",
              "      const quickchartButtonEl =\n",
              "        document.querySelector('#' + key + ' button');\n",
              "      quickchartButtonEl.disabled = true;  // To prevent multiple clicks.\n",
              "      quickchartButtonEl.classList.add('colab-df-spinner');\n",
              "      try {\n",
              "        const charts = await google.colab.kernel.invokeFunction(\n",
              "            'suggestCharts', [key], {});\n",
              "      } catch (error) {\n",
              "        console.error('Error during call to suggestCharts:', error);\n",
              "      }\n",
              "      quickchartButtonEl.classList.remove('colab-df-spinner');\n",
              "      quickchartButtonEl.classList.add('colab-df-quickchart-complete');\n",
              "    }\n",
              "    (() => {\n",
              "      let quickchartButtonEl =\n",
              "        document.querySelector('#df-aaf71cf3-629a-4721-8d1f-e6015999887c button');\n",
              "      quickchartButtonEl.style.display =\n",
              "        google.colab.kernel.accessAllowed ? 'block' : 'none';\n",
              "    })();\n",
              "  </script>\n",
              "</div>\n",
              "\n",
              "    </div>\n",
              "  </div>\n"
            ],
            "application/vnd.google.colaboratory.intrinsic+json": {
              "type": "dataframe",
              "summary": "{\n  \"name\": \"display(day_df\",\n  \"rows\": 5,\n  \"fields\": [\n    {\n      \"column\": \"instant\",\n      \"properties\": {\n        \"dtype\": \"number\",\n        \"std\": 1,\n        \"min\": 1,\n        \"max\": 5,\n        \"num_unique_values\": 5,\n        \"samples\": [\n          2,\n          5,\n          3\n        ],\n        \"semantic_type\": \"\",\n        \"description\": \"\"\n      }\n    },\n    {\n      \"column\": \"dteday\",\n      \"properties\": {\n        \"dtype\": \"object\",\n        \"num_unique_values\": 5,\n        \"samples\": [\n          \"2011-01-02\",\n          \"2011-01-05\",\n          \"2011-01-03\"\n        ],\n        \"semantic_type\": \"\",\n        \"description\": \"\"\n      }\n    },\n    {\n      \"column\": \"season\",\n      \"properties\": {\n        \"dtype\": \"number\",\n        \"std\": 0,\n        \"min\": 1,\n        \"max\": 1,\n        \"num_unique_values\": 1,\n        \"samples\": [\n          1\n        ],\n        \"semantic_type\": \"\",\n        \"description\": \"\"\n      }\n    },\n    {\n      \"column\": \"yr\",\n      \"properties\": {\n        \"dtype\": \"number\",\n        \"std\": 0,\n        \"min\": 0,\n        \"max\": 0,\n        \"num_unique_values\": 1,\n        \"samples\": [\n          0\n        ],\n        \"semantic_type\": \"\",\n        \"description\": \"\"\n      }\n    },\n    {\n      \"column\": \"mnth\",\n      \"properties\": {\n        \"dtype\": \"number\",\n        \"std\": 0,\n        \"min\": 1,\n        \"max\": 1,\n        \"num_unique_values\": 1,\n        \"samples\": [\n          1\n        ],\n        \"semantic_type\": \"\",\n        \"description\": \"\"\n      }\n    },\n    {\n      \"column\": \"holiday\",\n      \"properties\": {\n        \"dtype\": \"number\",\n        \"std\": 0,\n        \"min\": 0,\n        \"max\": 0,\n        \"num_unique_values\": 1,\n        \"samples\": [\n          0\n        ],\n        \"semantic_type\": \"\",\n        \"description\": \"\"\n      }\n    },\n    {\n      \"column\": \"weekday\",\n      \"properties\": {\n        \"dtype\": \"number\",\n        \"std\": 2,\n        \"min\": 0,\n        \"max\": 6,\n        \"num_unique_values\": 5,\n        \"samples\": [\n          0\n        ],\n        \"semantic_type\": \"\",\n        \"description\": \"\"\n      }\n    },\n    {\n      \"column\": \"workingday\",\n      \"properties\": {\n        \"dtype\": \"number\",\n        \"std\": 0,\n        \"min\": 0,\n        \"max\": 1,\n        \"num_unique_values\": 2,\n        \"samples\": [\n          1\n        ],\n        \"semantic_type\": \"\",\n        \"description\": \"\"\n      }\n    },\n    {\n      \"column\": \"weathersit\",\n      \"properties\": {\n        \"dtype\": \"number\",\n        \"std\": 0,\n        \"min\": 1,\n        \"max\": 2,\n        \"num_unique_values\": 2,\n        \"samples\": [\n          1\n        ],\n        \"semantic_type\": \"\",\n        \"description\": \"\"\n      }\n    },\n    {\n      \"column\": \"temp\",\n      \"properties\": {\n        \"dtype\": \"number\",\n        \"std\": 0.08115014184645644,\n        \"min\": 0.196364,\n        \"max\": 0.363478,\n        \"num_unique_values\": 5,\n        \"samples\": [\n          0.363478\n        ],\n        \"semantic_type\": \"\",\n        \"description\": \"\"\n      }\n    },\n    {\n      \"column\": \"atemp\",\n      \"properties\": {\n        \"dtype\": \"number\",\n        \"std\": 0.08258561341238557,\n        \"min\": 0.189405,\n        \"max\": 0.363625,\n        \"num_unique_values\": 5,\n        \"samples\": [\n          0.353739\n        ],\n        \"semantic_type\": \"\",\n        \"description\": \"\"\n      }\n    },\n    {\n      \"column\": \"hum\",\n      \"properties\": {\n        \"dtype\": \"number\",\n        \"std\": 0.16165643245475883,\n        \"min\": 0.436957,\n        \"max\": 0.805833,\n        \"num_unique_values\": 5,\n        \"samples\": [\n          0.696087\n        ],\n        \"semantic_type\": \"\",\n        \"description\": \"\"\n      }\n    },\n    {\n      \"column\": \"windspeed\",\n      \"properties\": {\n        \"dtype\": \"number\",\n        \"std\": 0.044716603499147835,\n        \"min\": 0.160296,\n        \"max\": 0.248539,\n        \"num_unique_values\": 5,\n        \"samples\": [\n          0.248539\n        ],\n        \"semantic_type\": \"\",\n        \"description\": \"\"\n      }\n    },\n    {\n      \"column\": \"casual\",\n      \"properties\": {\n        \"dtype\": \"number\",\n        \"std\": 100,\n        \"min\": 82,\n        \"max\": 331,\n        \"num_unique_values\": 5,\n        \"samples\": [\n          131\n        ],\n        \"semantic_type\": \"\",\n        \"description\": \"\"\n      }\n    },\n    {\n      \"column\": \"registered\",\n      \"properties\": {\n        \"dtype\": \"number\",\n        \"std\": 418,\n        \"min\": 654,\n        \"max\": 1518,\n        \"num_unique_values\": 5,\n        \"samples\": [\n          670\n        ],\n        \"semantic_type\": \"\",\n        \"description\": \"\"\n      }\n    },\n    {\n      \"column\": \"cnt\",\n      \"properties\": {\n        \"dtype\": \"number\",\n        \"std\": 353,\n        \"min\": 801,\n        \"max\": 1600,\n        \"num_unique_values\": 5,\n        \"samples\": [\n          801\n        ],\n        \"semantic_type\": \"\",\n        \"description\": \"\"\n      }\n    }\n  ]\n}"
            }
          },
          "metadata": {}
        },
        {
          "output_type": "stream",
          "name": "stdout",
          "text": [
            "\n",
            "Pratinjau Data Per Jam (5 Baris Pertama):\n"
          ]
        },
        {
          "output_type": "display_data",
          "data": {
            "text/plain": [
              "   instant      dteday  season  yr  mnth  hr  holiday  weekday  workingday  \\\n",
              "0        1  2011-01-01       1   0     1   0        0        6           0   \n",
              "1        2  2011-01-01       1   0     1   1        0        6           0   \n",
              "2        3  2011-01-01       1   0     1   2        0        6           0   \n",
              "3        4  2011-01-01       1   0     1   3        0        6           0   \n",
              "4        5  2011-01-01       1   0     1   4        0        6           0   \n",
              "\n",
              "   weathersit  temp   atemp   hum  windspeed  casual  registered  cnt  \n",
              "0           1  0.24  0.2879  0.81        0.0       3          13   16  \n",
              "1           1  0.22  0.2727  0.80        0.0       8          32   40  \n",
              "2           1  0.22  0.2727  0.80        0.0       5          27   32  \n",
              "3           1  0.24  0.2879  0.75        0.0       3          10   13  \n",
              "4           1  0.24  0.2879  0.75        0.0       0           1    1  "
            ],
            "text/html": [
              "\n",
              "  <div id=\"df-93769230-8eda-4332-95b0-053058e40abb\" class=\"colab-df-container\">\n",
              "    <div>\n",
              "<style scoped>\n",
              "    .dataframe tbody tr th:only-of-type {\n",
              "        vertical-align: middle;\n",
              "    }\n",
              "\n",
              "    .dataframe tbody tr th {\n",
              "        vertical-align: top;\n",
              "    }\n",
              "\n",
              "    .dataframe thead th {\n",
              "        text-align: right;\n",
              "    }\n",
              "</style>\n",
              "<table border=\"1\" class=\"dataframe\">\n",
              "  <thead>\n",
              "    <tr style=\"text-align: right;\">\n",
              "      <th></th>\n",
              "      <th>instant</th>\n",
              "      <th>dteday</th>\n",
              "      <th>season</th>\n",
              "      <th>yr</th>\n",
              "      <th>mnth</th>\n",
              "      <th>hr</th>\n",
              "      <th>holiday</th>\n",
              "      <th>weekday</th>\n",
              "      <th>workingday</th>\n",
              "      <th>weathersit</th>\n",
              "      <th>temp</th>\n",
              "      <th>atemp</th>\n",
              "      <th>hum</th>\n",
              "      <th>windspeed</th>\n",
              "      <th>casual</th>\n",
              "      <th>registered</th>\n",
              "      <th>cnt</th>\n",
              "    </tr>\n",
              "  </thead>\n",
              "  <tbody>\n",
              "    <tr>\n",
              "      <th>0</th>\n",
              "      <td>1</td>\n",
              "      <td>2011-01-01</td>\n",
              "      <td>1</td>\n",
              "      <td>0</td>\n",
              "      <td>1</td>\n",
              "      <td>0</td>\n",
              "      <td>0</td>\n",
              "      <td>6</td>\n",
              "      <td>0</td>\n",
              "      <td>1</td>\n",
              "      <td>0.24</td>\n",
              "      <td>0.2879</td>\n",
              "      <td>0.81</td>\n",
              "      <td>0.0</td>\n",
              "      <td>3</td>\n",
              "      <td>13</td>\n",
              "      <td>16</td>\n",
              "    </tr>\n",
              "    <tr>\n",
              "      <th>1</th>\n",
              "      <td>2</td>\n",
              "      <td>2011-01-01</td>\n",
              "      <td>1</td>\n",
              "      <td>0</td>\n",
              "      <td>1</td>\n",
              "      <td>1</td>\n",
              "      <td>0</td>\n",
              "      <td>6</td>\n",
              "      <td>0</td>\n",
              "      <td>1</td>\n",
              "      <td>0.22</td>\n",
              "      <td>0.2727</td>\n",
              "      <td>0.80</td>\n",
              "      <td>0.0</td>\n",
              "      <td>8</td>\n",
              "      <td>32</td>\n",
              "      <td>40</td>\n",
              "    </tr>\n",
              "    <tr>\n",
              "      <th>2</th>\n",
              "      <td>3</td>\n",
              "      <td>2011-01-01</td>\n",
              "      <td>1</td>\n",
              "      <td>0</td>\n",
              "      <td>1</td>\n",
              "      <td>2</td>\n",
              "      <td>0</td>\n",
              "      <td>6</td>\n",
              "      <td>0</td>\n",
              "      <td>1</td>\n",
              "      <td>0.22</td>\n",
              "      <td>0.2727</td>\n",
              "      <td>0.80</td>\n",
              "      <td>0.0</td>\n",
              "      <td>5</td>\n",
              "      <td>27</td>\n",
              "      <td>32</td>\n",
              "    </tr>\n",
              "    <tr>\n",
              "      <th>3</th>\n",
              "      <td>4</td>\n",
              "      <td>2011-01-01</td>\n",
              "      <td>1</td>\n",
              "      <td>0</td>\n",
              "      <td>1</td>\n",
              "      <td>3</td>\n",
              "      <td>0</td>\n",
              "      <td>6</td>\n",
              "      <td>0</td>\n",
              "      <td>1</td>\n",
              "      <td>0.24</td>\n",
              "      <td>0.2879</td>\n",
              "      <td>0.75</td>\n",
              "      <td>0.0</td>\n",
              "      <td>3</td>\n",
              "      <td>10</td>\n",
              "      <td>13</td>\n",
              "    </tr>\n",
              "    <tr>\n",
              "      <th>4</th>\n",
              "      <td>5</td>\n",
              "      <td>2011-01-01</td>\n",
              "      <td>1</td>\n",
              "      <td>0</td>\n",
              "      <td>1</td>\n",
              "      <td>4</td>\n",
              "      <td>0</td>\n",
              "      <td>6</td>\n",
              "      <td>0</td>\n",
              "      <td>1</td>\n",
              "      <td>0.24</td>\n",
              "      <td>0.2879</td>\n",
              "      <td>0.75</td>\n",
              "      <td>0.0</td>\n",
              "      <td>0</td>\n",
              "      <td>1</td>\n",
              "      <td>1</td>\n",
              "    </tr>\n",
              "  </tbody>\n",
              "</table>\n",
              "</div>\n",
              "    <div class=\"colab-df-buttons\">\n",
              "\n",
              "  <div class=\"colab-df-container\">\n",
              "    <button class=\"colab-df-convert\" onclick=\"convertToInteractive('df-93769230-8eda-4332-95b0-053058e40abb')\"\n",
              "            title=\"Convert this dataframe to an interactive table.\"\n",
              "            style=\"display:none;\">\n",
              "\n",
              "  <svg xmlns=\"http://www.w3.org/2000/svg\" height=\"24px\" viewBox=\"0 -960 960 960\">\n",
              "    <path d=\"M120-120v-720h720v720H120Zm60-500h600v-160H180v160Zm220 220h160v-160H400v160Zm0 220h160v-160H400v160ZM180-400h160v-160H180v160Zm440 0h160v-160H620v160ZM180-180h160v-160H180v160Zm440 0h160v-160H620v160Z\"/>\n",
              "  </svg>\n",
              "    </button>\n",
              "\n",
              "  <style>\n",
              "    .colab-df-container {\n",
              "      display:flex;\n",
              "      gap: 12px;\n",
              "    }\n",
              "\n",
              "    .colab-df-convert {\n",
              "      background-color: #E8F0FE;\n",
              "      border: none;\n",
              "      border-radius: 50%;\n",
              "      cursor: pointer;\n",
              "      display: none;\n",
              "      fill: #1967D2;\n",
              "      height: 32px;\n",
              "      padding: 0 0 0 0;\n",
              "      width: 32px;\n",
              "    }\n",
              "\n",
              "    .colab-df-convert:hover {\n",
              "      background-color: #E2EBFA;\n",
              "      box-shadow: 0px 1px 2px rgba(60, 64, 67, 0.3), 0px 1px 3px 1px rgba(60, 64, 67, 0.15);\n",
              "      fill: #174EA6;\n",
              "    }\n",
              "\n",
              "    .colab-df-buttons div {\n",
              "      margin-bottom: 4px;\n",
              "    }\n",
              "\n",
              "    [theme=dark] .colab-df-convert {\n",
              "      background-color: #3B4455;\n",
              "      fill: #D2E3FC;\n",
              "    }\n",
              "\n",
              "    [theme=dark] .colab-df-convert:hover {\n",
              "      background-color: #434B5C;\n",
              "      box-shadow: 0px 1px 3px 1px rgba(0, 0, 0, 0.15);\n",
              "      filter: drop-shadow(0px 1px 2px rgba(0, 0, 0, 0.3));\n",
              "      fill: #FFFFFF;\n",
              "    }\n",
              "  </style>\n",
              "\n",
              "    <script>\n",
              "      const buttonEl =\n",
              "        document.querySelector('#df-93769230-8eda-4332-95b0-053058e40abb button.colab-df-convert');\n",
              "      buttonEl.style.display =\n",
              "        google.colab.kernel.accessAllowed ? 'block' : 'none';\n",
              "\n",
              "      async function convertToInteractive(key) {\n",
              "        const element = document.querySelector('#df-93769230-8eda-4332-95b0-053058e40abb');\n",
              "        const dataTable =\n",
              "          await google.colab.kernel.invokeFunction('convertToInteractive',\n",
              "                                                    [key], {});\n",
              "        if (!dataTable) return;\n",
              "\n",
              "        const docLinkHtml = 'Like what you see? Visit the ' +\n",
              "          '<a target=\"_blank\" href=https://colab.research.google.com/notebooks/data_table.ipynb>data table notebook</a>'\n",
              "          + ' to learn more about interactive tables.';\n",
              "        element.innerHTML = '';\n",
              "        dataTable['output_type'] = 'display_data';\n",
              "        await google.colab.output.renderOutput(dataTable, element);\n",
              "        const docLink = document.createElement('div');\n",
              "        docLink.innerHTML = docLinkHtml;\n",
              "        element.appendChild(docLink);\n",
              "      }\n",
              "    </script>\n",
              "  </div>\n",
              "\n",
              "\n",
              "<div id=\"df-a25d2b8b-f983-4ec1-8f1e-c3b4e58ff17f\">\n",
              "  <button class=\"colab-df-quickchart\" onclick=\"quickchart('df-a25d2b8b-f983-4ec1-8f1e-c3b4e58ff17f')\"\n",
              "            title=\"Suggest charts\"\n",
              "            style=\"display:none;\">\n",
              "\n",
              "<svg xmlns=\"http://www.w3.org/2000/svg\" height=\"24px\"viewBox=\"0 0 24 24\"\n",
              "     width=\"24px\">\n",
              "    <g>\n",
              "        <path d=\"M19 3H5c-1.1 0-2 .9-2 2v14c0 1.1.9 2 2 2h14c1.1 0 2-.9 2-2V5c0-1.1-.9-2-2-2zM9 17H7v-7h2v7zm4 0h-2V7h2v10zm4 0h-2v-4h2v4z\"/>\n",
              "    </g>\n",
              "</svg>\n",
              "  </button>\n",
              "\n",
              "<style>\n",
              "  .colab-df-quickchart {\n",
              "      --bg-color: #E8F0FE;\n",
              "      --fill-color: #1967D2;\n",
              "      --hover-bg-color: #E2EBFA;\n",
              "      --hover-fill-color: #174EA6;\n",
              "      --disabled-fill-color: #AAA;\n",
              "      --disabled-bg-color: #DDD;\n",
              "  }\n",
              "\n",
              "  [theme=dark] .colab-df-quickchart {\n",
              "      --bg-color: #3B4455;\n",
              "      --fill-color: #D2E3FC;\n",
              "      --hover-bg-color: #434B5C;\n",
              "      --hover-fill-color: #FFFFFF;\n",
              "      --disabled-bg-color: #3B4455;\n",
              "      --disabled-fill-color: #666;\n",
              "  }\n",
              "\n",
              "  .colab-df-quickchart {\n",
              "    background-color: var(--bg-color);\n",
              "    border: none;\n",
              "    border-radius: 50%;\n",
              "    cursor: pointer;\n",
              "    display: none;\n",
              "    fill: var(--fill-color);\n",
              "    height: 32px;\n",
              "    padding: 0;\n",
              "    width: 32px;\n",
              "  }\n",
              "\n",
              "  .colab-df-quickchart:hover {\n",
              "    background-color: var(--hover-bg-color);\n",
              "    box-shadow: 0 1px 2px rgba(60, 64, 67, 0.3), 0 1px 3px 1px rgba(60, 64, 67, 0.15);\n",
              "    fill: var(--button-hover-fill-color);\n",
              "  }\n",
              "\n",
              "  .colab-df-quickchart-complete:disabled,\n",
              "  .colab-df-quickchart-complete:disabled:hover {\n",
              "    background-color: var(--disabled-bg-color);\n",
              "    fill: var(--disabled-fill-color);\n",
              "    box-shadow: none;\n",
              "  }\n",
              "\n",
              "  .colab-df-spinner {\n",
              "    border: 2px solid var(--fill-color);\n",
              "    border-color: transparent;\n",
              "    border-bottom-color: var(--fill-color);\n",
              "    animation:\n",
              "      spin 1s steps(1) infinite;\n",
              "  }\n",
              "\n",
              "  @keyframes spin {\n",
              "    0% {\n",
              "      border-color: transparent;\n",
              "      border-bottom-color: var(--fill-color);\n",
              "      border-left-color: var(--fill-color);\n",
              "    }\n",
              "    20% {\n",
              "      border-color: transparent;\n",
              "      border-left-color: var(--fill-color);\n",
              "      border-top-color: var(--fill-color);\n",
              "    }\n",
              "    30% {\n",
              "      border-color: transparent;\n",
              "      border-left-color: var(--fill-color);\n",
              "      border-top-color: var(--fill-color);\n",
              "      border-right-color: var(--fill-color);\n",
              "    }\n",
              "    40% {\n",
              "      border-color: transparent;\n",
              "      border-right-color: var(--fill-color);\n",
              "      border-top-color: var(--fill-color);\n",
              "    }\n",
              "    60% {\n",
              "      border-color: transparent;\n",
              "      border-right-color: var(--fill-color);\n",
              "    }\n",
              "    80% {\n",
              "      border-color: transparent;\n",
              "      border-right-color: var(--fill-color);\n",
              "      border-bottom-color: var(--fill-color);\n",
              "    }\n",
              "    90% {\n",
              "      border-color: transparent;\n",
              "      border-bottom-color: var(--fill-color);\n",
              "    }\n",
              "  }\n",
              "</style>\n",
              "\n",
              "  <script>\n",
              "    async function quickchart(key) {\n",
              "      const quickchartButtonEl =\n",
              "        document.querySelector('#' + key + ' button');\n",
              "      quickchartButtonEl.disabled = true;  // To prevent multiple clicks.\n",
              "      quickchartButtonEl.classList.add('colab-df-spinner');\n",
              "      try {\n",
              "        const charts = await google.colab.kernel.invokeFunction(\n",
              "            'suggestCharts', [key], {});\n",
              "      } catch (error) {\n",
              "        console.error('Error during call to suggestCharts:', error);\n",
              "      }\n",
              "      quickchartButtonEl.classList.remove('colab-df-spinner');\n",
              "      quickchartButtonEl.classList.add('colab-df-quickchart-complete');\n",
              "    }\n",
              "    (() => {\n",
              "      let quickchartButtonEl =\n",
              "        document.querySelector('#df-a25d2b8b-f983-4ec1-8f1e-c3b4e58ff17f button');\n",
              "      quickchartButtonEl.style.display =\n",
              "        google.colab.kernel.accessAllowed ? 'block' : 'none';\n",
              "    })();\n",
              "  </script>\n",
              "</div>\n",
              "\n",
              "    </div>\n",
              "  </div>\n"
            ],
            "application/vnd.google.colaboratory.intrinsic+json": {
              "type": "dataframe",
              "summary": "{\n  \"name\": \"display(day_df\",\n  \"rows\": 5,\n  \"fields\": [\n    {\n      \"column\": \"instant\",\n      \"properties\": {\n        \"dtype\": \"number\",\n        \"std\": 1,\n        \"min\": 1,\n        \"max\": 5,\n        \"num_unique_values\": 5,\n        \"samples\": [\n          2,\n          5,\n          3\n        ],\n        \"semantic_type\": \"\",\n        \"description\": \"\"\n      }\n    },\n    {\n      \"column\": \"dteday\",\n      \"properties\": {\n        \"dtype\": \"object\",\n        \"num_unique_values\": 1,\n        \"samples\": [\n          \"2011-01-01\"\n        ],\n        \"semantic_type\": \"\",\n        \"description\": \"\"\n      }\n    },\n    {\n      \"column\": \"season\",\n      \"properties\": {\n        \"dtype\": \"number\",\n        \"std\": 0,\n        \"min\": 1,\n        \"max\": 1,\n        \"num_unique_values\": 1,\n        \"samples\": [\n          1\n        ],\n        \"semantic_type\": \"\",\n        \"description\": \"\"\n      }\n    },\n    {\n      \"column\": \"yr\",\n      \"properties\": {\n        \"dtype\": \"number\",\n        \"std\": 0,\n        \"min\": 0,\n        \"max\": 0,\n        \"num_unique_values\": 1,\n        \"samples\": [\n          0\n        ],\n        \"semantic_type\": \"\",\n        \"description\": \"\"\n      }\n    },\n    {\n      \"column\": \"mnth\",\n      \"properties\": {\n        \"dtype\": \"number\",\n        \"std\": 0,\n        \"min\": 1,\n        \"max\": 1,\n        \"num_unique_values\": 1,\n        \"samples\": [\n          1\n        ],\n        \"semantic_type\": \"\",\n        \"description\": \"\"\n      }\n    },\n    {\n      \"column\": \"hr\",\n      \"properties\": {\n        \"dtype\": \"number\",\n        \"std\": 1,\n        \"min\": 0,\n        \"max\": 4,\n        \"num_unique_values\": 5,\n        \"samples\": [\n          1\n        ],\n        \"semantic_type\": \"\",\n        \"description\": \"\"\n      }\n    },\n    {\n      \"column\": \"holiday\",\n      \"properties\": {\n        \"dtype\": \"number\",\n        \"std\": 0,\n        \"min\": 0,\n        \"max\": 0,\n        \"num_unique_values\": 1,\n        \"samples\": [\n          0\n        ],\n        \"semantic_type\": \"\",\n        \"description\": \"\"\n      }\n    },\n    {\n      \"column\": \"weekday\",\n      \"properties\": {\n        \"dtype\": \"number\",\n        \"std\": 0,\n        \"min\": 6,\n        \"max\": 6,\n        \"num_unique_values\": 1,\n        \"samples\": [\n          6\n        ],\n        \"semantic_type\": \"\",\n        \"description\": \"\"\n      }\n    },\n    {\n      \"column\": \"workingday\",\n      \"properties\": {\n        \"dtype\": \"number\",\n        \"std\": 0,\n        \"min\": 0,\n        \"max\": 0,\n        \"num_unique_values\": 1,\n        \"samples\": [\n          0\n        ],\n        \"semantic_type\": \"\",\n        \"description\": \"\"\n      }\n    },\n    {\n      \"column\": \"weathersit\",\n      \"properties\": {\n        \"dtype\": \"number\",\n        \"std\": 0,\n        \"min\": 1,\n        \"max\": 1,\n        \"num_unique_values\": 1,\n        \"samples\": [\n          1\n        ],\n        \"semantic_type\": \"\",\n        \"description\": \"\"\n      }\n    },\n    {\n      \"column\": \"temp\",\n      \"properties\": {\n        \"dtype\": \"number\",\n        \"std\": 0.010954451150103317,\n        \"min\": 0.22,\n        \"max\": 0.24,\n        \"num_unique_values\": 2,\n        \"samples\": [\n          0.22\n        ],\n        \"semantic_type\": \"\",\n        \"description\": \"\"\n      }\n    },\n    {\n      \"column\": \"atemp\",\n      \"properties\": {\n        \"dtype\": \"number\",\n        \"std\": 0.00832538287407852,\n        \"min\": 0.2727,\n        \"max\": 0.2879,\n        \"num_unique_values\": 2,\n        \"samples\": [\n          0.2727\n        ],\n        \"semantic_type\": \"\",\n        \"description\": \"\"\n      }\n    },\n    {\n      \"column\": \"hum\",\n      \"properties\": {\n        \"dtype\": \"number\",\n        \"std\": 0.029495762407505278,\n        \"min\": 0.75,\n        \"max\": 0.81,\n        \"num_unique_values\": 3,\n        \"samples\": [\n          0.81\n        ],\n        \"semantic_type\": \"\",\n        \"description\": \"\"\n      }\n    },\n    {\n      \"column\": \"windspeed\",\n      \"properties\": {\n        \"dtype\": \"number\",\n        \"std\": 0.0,\n        \"min\": 0.0,\n        \"max\": 0.0,\n        \"num_unique_values\": 1,\n        \"samples\": [\n          0.0\n        ],\n        \"semantic_type\": \"\",\n        \"description\": \"\"\n      }\n    },\n    {\n      \"column\": \"casual\",\n      \"properties\": {\n        \"dtype\": \"number\",\n        \"std\": 2,\n        \"min\": 0,\n        \"max\": 8,\n        \"num_unique_values\": 4,\n        \"samples\": [\n          8\n        ],\n        \"semantic_type\": \"\",\n        \"description\": \"\"\n      }\n    },\n    {\n      \"column\": \"registered\",\n      \"properties\": {\n        \"dtype\": \"number\",\n        \"std\": 12,\n        \"min\": 1,\n        \"max\": 32,\n        \"num_unique_values\": 5,\n        \"samples\": [\n          32\n        ],\n        \"semantic_type\": \"\",\n        \"description\": \"\"\n      }\n    },\n    {\n      \"column\": \"cnt\",\n      \"properties\": {\n        \"dtype\": \"number\",\n        \"std\": 15,\n        \"min\": 1,\n        \"max\": 40,\n        \"num_unique_values\": 5,\n        \"samples\": [\n          40\n        ],\n        \"semantic_type\": \"\",\n        \"description\": \"\"\n      }\n    }\n  ]\n}"
            }
          },
          "metadata": {}
        },
        {
          "output_type": "stream",
          "name": "stdout",
          "text": [
            "\n",
            "Statistik Deskriptif Data Harian:\n"
          ]
        },
        {
          "output_type": "display_data",
          "data": {
            "text/plain": [
              "          instant      season          yr        mnth     holiday     weekday  \\\n",
              "count  731.000000  731.000000  731.000000  731.000000  731.000000  731.000000   \n",
              "mean   366.000000    2.496580    0.500684    6.519836    0.028728    2.997264   \n",
              "std    211.165812    1.110807    0.500342    3.451913    0.167155    2.004787   \n",
              "min      1.000000    1.000000    0.000000    1.000000    0.000000    0.000000   \n",
              "25%    183.500000    2.000000    0.000000    4.000000    0.000000    1.000000   \n",
              "50%    366.000000    3.000000    1.000000    7.000000    0.000000    3.000000   \n",
              "75%    548.500000    3.000000    1.000000   10.000000    0.000000    5.000000   \n",
              "max    731.000000    4.000000    1.000000   12.000000    1.000000    6.000000   \n",
              "\n",
              "       workingday  weathersit        temp       atemp         hum   windspeed  \\\n",
              "count  731.000000  731.000000  731.000000  731.000000  731.000000  731.000000   \n",
              "mean     0.683995    1.395349    0.495385    0.474354    0.627894    0.190486   \n",
              "std      0.465233    0.544894    0.183051    0.162961    0.142429    0.077498   \n",
              "min      0.000000    1.000000    0.059130    0.079070    0.000000    0.022392   \n",
              "25%      0.000000    1.000000    0.337083    0.337842    0.520000    0.134950   \n",
              "50%      1.000000    1.000000    0.498333    0.486733    0.626667    0.180975   \n",
              "75%      1.000000    2.000000    0.655417    0.608602    0.730209    0.233214   \n",
              "max      1.000000    3.000000    0.861667    0.840896    0.972500    0.507463   \n",
              "\n",
              "            casual   registered          cnt  \n",
              "count   731.000000   731.000000   731.000000  \n",
              "mean    848.176471  3656.172367  4504.348837  \n",
              "std     686.622488  1560.256377  1937.211452  \n",
              "min       2.000000    20.000000    22.000000  \n",
              "25%     315.500000  2497.000000  3152.000000  \n",
              "50%     713.000000  3662.000000  4548.000000  \n",
              "75%    1096.000000  4776.500000  5956.000000  \n",
              "max    3410.000000  6946.000000  8714.000000  "
            ],
            "text/html": [
              "\n",
              "  <div id=\"df-0a1f42cf-87a5-432d-a8a0-8b8960761d59\" class=\"colab-df-container\">\n",
              "    <div>\n",
              "<style scoped>\n",
              "    .dataframe tbody tr th:only-of-type {\n",
              "        vertical-align: middle;\n",
              "    }\n",
              "\n",
              "    .dataframe tbody tr th {\n",
              "        vertical-align: top;\n",
              "    }\n",
              "\n",
              "    .dataframe thead th {\n",
              "        text-align: right;\n",
              "    }\n",
              "</style>\n",
              "<table border=\"1\" class=\"dataframe\">\n",
              "  <thead>\n",
              "    <tr style=\"text-align: right;\">\n",
              "      <th></th>\n",
              "      <th>instant</th>\n",
              "      <th>season</th>\n",
              "      <th>yr</th>\n",
              "      <th>mnth</th>\n",
              "      <th>holiday</th>\n",
              "      <th>weekday</th>\n",
              "      <th>workingday</th>\n",
              "      <th>weathersit</th>\n",
              "      <th>temp</th>\n",
              "      <th>atemp</th>\n",
              "      <th>hum</th>\n",
              "      <th>windspeed</th>\n",
              "      <th>casual</th>\n",
              "      <th>registered</th>\n",
              "      <th>cnt</th>\n",
              "    </tr>\n",
              "  </thead>\n",
              "  <tbody>\n",
              "    <tr>\n",
              "      <th>count</th>\n",
              "      <td>731.000000</td>\n",
              "      <td>731.000000</td>\n",
              "      <td>731.000000</td>\n",
              "      <td>731.000000</td>\n",
              "      <td>731.000000</td>\n",
              "      <td>731.000000</td>\n",
              "      <td>731.000000</td>\n",
              "      <td>731.000000</td>\n",
              "      <td>731.000000</td>\n",
              "      <td>731.000000</td>\n",
              "      <td>731.000000</td>\n",
              "      <td>731.000000</td>\n",
              "      <td>731.000000</td>\n",
              "      <td>731.000000</td>\n",
              "      <td>731.000000</td>\n",
              "    </tr>\n",
              "    <tr>\n",
              "      <th>mean</th>\n",
              "      <td>366.000000</td>\n",
              "      <td>2.496580</td>\n",
              "      <td>0.500684</td>\n",
              "      <td>6.519836</td>\n",
              "      <td>0.028728</td>\n",
              "      <td>2.997264</td>\n",
              "      <td>0.683995</td>\n",
              "      <td>1.395349</td>\n",
              "      <td>0.495385</td>\n",
              "      <td>0.474354</td>\n",
              "      <td>0.627894</td>\n",
              "      <td>0.190486</td>\n",
              "      <td>848.176471</td>\n",
              "      <td>3656.172367</td>\n",
              "      <td>4504.348837</td>\n",
              "    </tr>\n",
              "    <tr>\n",
              "      <th>std</th>\n",
              "      <td>211.165812</td>\n",
              "      <td>1.110807</td>\n",
              "      <td>0.500342</td>\n",
              "      <td>3.451913</td>\n",
              "      <td>0.167155</td>\n",
              "      <td>2.004787</td>\n",
              "      <td>0.465233</td>\n",
              "      <td>0.544894</td>\n",
              "      <td>0.183051</td>\n",
              "      <td>0.162961</td>\n",
              "      <td>0.142429</td>\n",
              "      <td>0.077498</td>\n",
              "      <td>686.622488</td>\n",
              "      <td>1560.256377</td>\n",
              "      <td>1937.211452</td>\n",
              "    </tr>\n",
              "    <tr>\n",
              "      <th>min</th>\n",
              "      <td>1.000000</td>\n",
              "      <td>1.000000</td>\n",
              "      <td>0.000000</td>\n",
              "      <td>1.000000</td>\n",
              "      <td>0.000000</td>\n",
              "      <td>0.000000</td>\n",
              "      <td>0.000000</td>\n",
              "      <td>1.000000</td>\n",
              "      <td>0.059130</td>\n",
              "      <td>0.079070</td>\n",
              "      <td>0.000000</td>\n",
              "      <td>0.022392</td>\n",
              "      <td>2.000000</td>\n",
              "      <td>20.000000</td>\n",
              "      <td>22.000000</td>\n",
              "    </tr>\n",
              "    <tr>\n",
              "      <th>25%</th>\n",
              "      <td>183.500000</td>\n",
              "      <td>2.000000</td>\n",
              "      <td>0.000000</td>\n",
              "      <td>4.000000</td>\n",
              "      <td>0.000000</td>\n",
              "      <td>1.000000</td>\n",
              "      <td>0.000000</td>\n",
              "      <td>1.000000</td>\n",
              "      <td>0.337083</td>\n",
              "      <td>0.337842</td>\n",
              "      <td>0.520000</td>\n",
              "      <td>0.134950</td>\n",
              "      <td>315.500000</td>\n",
              "      <td>2497.000000</td>\n",
              "      <td>3152.000000</td>\n",
              "    </tr>\n",
              "    <tr>\n",
              "      <th>50%</th>\n",
              "      <td>366.000000</td>\n",
              "      <td>3.000000</td>\n",
              "      <td>1.000000</td>\n",
              "      <td>7.000000</td>\n",
              "      <td>0.000000</td>\n",
              "      <td>3.000000</td>\n",
              "      <td>1.000000</td>\n",
              "      <td>1.000000</td>\n",
              "      <td>0.498333</td>\n",
              "      <td>0.486733</td>\n",
              "      <td>0.626667</td>\n",
              "      <td>0.180975</td>\n",
              "      <td>713.000000</td>\n",
              "      <td>3662.000000</td>\n",
              "      <td>4548.000000</td>\n",
              "    </tr>\n",
              "    <tr>\n",
              "      <th>75%</th>\n",
              "      <td>548.500000</td>\n",
              "      <td>3.000000</td>\n",
              "      <td>1.000000</td>\n",
              "      <td>10.000000</td>\n",
              "      <td>0.000000</td>\n",
              "      <td>5.000000</td>\n",
              "      <td>1.000000</td>\n",
              "      <td>2.000000</td>\n",
              "      <td>0.655417</td>\n",
              "      <td>0.608602</td>\n",
              "      <td>0.730209</td>\n",
              "      <td>0.233214</td>\n",
              "      <td>1096.000000</td>\n",
              "      <td>4776.500000</td>\n",
              "      <td>5956.000000</td>\n",
              "    </tr>\n",
              "    <tr>\n",
              "      <th>max</th>\n",
              "      <td>731.000000</td>\n",
              "      <td>4.000000</td>\n",
              "      <td>1.000000</td>\n",
              "      <td>12.000000</td>\n",
              "      <td>1.000000</td>\n",
              "      <td>6.000000</td>\n",
              "      <td>1.000000</td>\n",
              "      <td>3.000000</td>\n",
              "      <td>0.861667</td>\n",
              "      <td>0.840896</td>\n",
              "      <td>0.972500</td>\n",
              "      <td>0.507463</td>\n",
              "      <td>3410.000000</td>\n",
              "      <td>6946.000000</td>\n",
              "      <td>8714.000000</td>\n",
              "    </tr>\n",
              "  </tbody>\n",
              "</table>\n",
              "</div>\n",
              "    <div class=\"colab-df-buttons\">\n",
              "\n",
              "  <div class=\"colab-df-container\">\n",
              "    <button class=\"colab-df-convert\" onclick=\"convertToInteractive('df-0a1f42cf-87a5-432d-a8a0-8b8960761d59')\"\n",
              "            title=\"Convert this dataframe to an interactive table.\"\n",
              "            style=\"display:none;\">\n",
              "\n",
              "  <svg xmlns=\"http://www.w3.org/2000/svg\" height=\"24px\" viewBox=\"0 -960 960 960\">\n",
              "    <path d=\"M120-120v-720h720v720H120Zm60-500h600v-160H180v160Zm220 220h160v-160H400v160Zm0 220h160v-160H400v160ZM180-400h160v-160H180v160Zm440 0h160v-160H620v160ZM180-180h160v-160H180v160Zm440 0h160v-160H620v160Z\"/>\n",
              "  </svg>\n",
              "    </button>\n",
              "\n",
              "  <style>\n",
              "    .colab-df-container {\n",
              "      display:flex;\n",
              "      gap: 12px;\n",
              "    }\n",
              "\n",
              "    .colab-df-convert {\n",
              "      background-color: #E8F0FE;\n",
              "      border: none;\n",
              "      border-radius: 50%;\n",
              "      cursor: pointer;\n",
              "      display: none;\n",
              "      fill: #1967D2;\n",
              "      height: 32px;\n",
              "      padding: 0 0 0 0;\n",
              "      width: 32px;\n",
              "    }\n",
              "\n",
              "    .colab-df-convert:hover {\n",
              "      background-color: #E2EBFA;\n",
              "      box-shadow: 0px 1px 2px rgba(60, 64, 67, 0.3), 0px 1px 3px 1px rgba(60, 64, 67, 0.15);\n",
              "      fill: #174EA6;\n",
              "    }\n",
              "\n",
              "    .colab-df-buttons div {\n",
              "      margin-bottom: 4px;\n",
              "    }\n",
              "\n",
              "    [theme=dark] .colab-df-convert {\n",
              "      background-color: #3B4455;\n",
              "      fill: #D2E3FC;\n",
              "    }\n",
              "\n",
              "    [theme=dark] .colab-df-convert:hover {\n",
              "      background-color: #434B5C;\n",
              "      box-shadow: 0px 1px 3px 1px rgba(0, 0, 0, 0.15);\n",
              "      filter: drop-shadow(0px 1px 2px rgba(0, 0, 0, 0.3));\n",
              "      fill: #FFFFFF;\n",
              "    }\n",
              "  </style>\n",
              "\n",
              "    <script>\n",
              "      const buttonEl =\n",
              "        document.querySelector('#df-0a1f42cf-87a5-432d-a8a0-8b8960761d59 button.colab-df-convert');\n",
              "      buttonEl.style.display =\n",
              "        google.colab.kernel.accessAllowed ? 'block' : 'none';\n",
              "\n",
              "      async function convertToInteractive(key) {\n",
              "        const element = document.querySelector('#df-0a1f42cf-87a5-432d-a8a0-8b8960761d59');\n",
              "        const dataTable =\n",
              "          await google.colab.kernel.invokeFunction('convertToInteractive',\n",
              "                                                    [key], {});\n",
              "        if (!dataTable) return;\n",
              "\n",
              "        const docLinkHtml = 'Like what you see? Visit the ' +\n",
              "          '<a target=\"_blank\" href=https://colab.research.google.com/notebooks/data_table.ipynb>data table notebook</a>'\n",
              "          + ' to learn more about interactive tables.';\n",
              "        element.innerHTML = '';\n",
              "        dataTable['output_type'] = 'display_data';\n",
              "        await google.colab.output.renderOutput(dataTable, element);\n",
              "        const docLink = document.createElement('div');\n",
              "        docLink.innerHTML = docLinkHtml;\n",
              "        element.appendChild(docLink);\n",
              "      }\n",
              "    </script>\n",
              "  </div>\n",
              "\n",
              "\n",
              "<div id=\"df-8499ea1c-2483-4c4f-b6c7-6e9ce7c1b275\">\n",
              "  <button class=\"colab-df-quickchart\" onclick=\"quickchart('df-8499ea1c-2483-4c4f-b6c7-6e9ce7c1b275')\"\n",
              "            title=\"Suggest charts\"\n",
              "            style=\"display:none;\">\n",
              "\n",
              "<svg xmlns=\"http://www.w3.org/2000/svg\" height=\"24px\"viewBox=\"0 0 24 24\"\n",
              "     width=\"24px\">\n",
              "    <g>\n",
              "        <path d=\"M19 3H5c-1.1 0-2 .9-2 2v14c0 1.1.9 2 2 2h14c1.1 0 2-.9 2-2V5c0-1.1-.9-2-2-2zM9 17H7v-7h2v7zm4 0h-2V7h2v10zm4 0h-2v-4h2v4z\"/>\n",
              "    </g>\n",
              "</svg>\n",
              "  </button>\n",
              "\n",
              "<style>\n",
              "  .colab-df-quickchart {\n",
              "      --bg-color: #E8F0FE;\n",
              "      --fill-color: #1967D2;\n",
              "      --hover-bg-color: #E2EBFA;\n",
              "      --hover-fill-color: #174EA6;\n",
              "      --disabled-fill-color: #AAA;\n",
              "      --disabled-bg-color: #DDD;\n",
              "  }\n",
              "\n",
              "  [theme=dark] .colab-df-quickchart {\n",
              "      --bg-color: #3B4455;\n",
              "      --fill-color: #D2E3FC;\n",
              "      --hover-bg-color: #434B5C;\n",
              "      --hover-fill-color: #FFFFFF;\n",
              "      --disabled-bg-color: #3B4455;\n",
              "      --disabled-fill-color: #666;\n",
              "  }\n",
              "\n",
              "  .colab-df-quickchart {\n",
              "    background-color: var(--bg-color);\n",
              "    border: none;\n",
              "    border-radius: 50%;\n",
              "    cursor: pointer;\n",
              "    display: none;\n",
              "    fill: var(--fill-color);\n",
              "    height: 32px;\n",
              "    padding: 0;\n",
              "    width: 32px;\n",
              "  }\n",
              "\n",
              "  .colab-df-quickchart:hover {\n",
              "    background-color: var(--hover-bg-color);\n",
              "    box-shadow: 0 1px 2px rgba(60, 64, 67, 0.3), 0 1px 3px 1px rgba(60, 64, 67, 0.15);\n",
              "    fill: var(--button-hover-fill-color);\n",
              "  }\n",
              "\n",
              "  .colab-df-quickchart-complete:disabled,\n",
              "  .colab-df-quickchart-complete:disabled:hover {\n",
              "    background-color: var(--disabled-bg-color);\n",
              "    fill: var(--disabled-fill-color);\n",
              "    box-shadow: none;\n",
              "  }\n",
              "\n",
              "  .colab-df-spinner {\n",
              "    border: 2px solid var(--fill-color);\n",
              "    border-color: transparent;\n",
              "    border-bottom-color: var(--fill-color);\n",
              "    animation:\n",
              "      spin 1s steps(1) infinite;\n",
              "  }\n",
              "\n",
              "  @keyframes spin {\n",
              "    0% {\n",
              "      border-color: transparent;\n",
              "      border-bottom-color: var(--fill-color);\n",
              "      border-left-color: var(--fill-color);\n",
              "    }\n",
              "    20% {\n",
              "      border-color: transparent;\n",
              "      border-left-color: var(--fill-color);\n",
              "      border-top-color: var(--fill-color);\n",
              "    }\n",
              "    30% {\n",
              "      border-color: transparent;\n",
              "      border-left-color: var(--fill-color);\n",
              "      border-top-color: var(--fill-color);\n",
              "      border-right-color: var(--fill-color);\n",
              "    }\n",
              "    40% {\n",
              "      border-color: transparent;\n",
              "      border-right-color: var(--fill-color);\n",
              "      border-top-color: var(--fill-color);\n",
              "    }\n",
              "    60% {\n",
              "      border-color: transparent;\n",
              "      border-right-color: var(--fill-color);\n",
              "    }\n",
              "    80% {\n",
              "      border-color: transparent;\n",
              "      border-right-color: var(--fill-color);\n",
              "      border-bottom-color: var(--fill-color);\n",
              "    }\n",
              "    90% {\n",
              "      border-color: transparent;\n",
              "      border-bottom-color: var(--fill-color);\n",
              "    }\n",
              "  }\n",
              "</style>\n",
              "\n",
              "  <script>\n",
              "    async function quickchart(key) {\n",
              "      const quickchartButtonEl =\n",
              "        document.querySelector('#' + key + ' button');\n",
              "      quickchartButtonEl.disabled = true;  // To prevent multiple clicks.\n",
              "      quickchartButtonEl.classList.add('colab-df-spinner');\n",
              "      try {\n",
              "        const charts = await google.colab.kernel.invokeFunction(\n",
              "            'suggestCharts', [key], {});\n",
              "      } catch (error) {\n",
              "        console.error('Error during call to suggestCharts:', error);\n",
              "      }\n",
              "      quickchartButtonEl.classList.remove('colab-df-spinner');\n",
              "      quickchartButtonEl.classList.add('colab-df-quickchart-complete');\n",
              "    }\n",
              "    (() => {\n",
              "      let quickchartButtonEl =\n",
              "        document.querySelector('#df-8499ea1c-2483-4c4f-b6c7-6e9ce7c1b275 button');\n",
              "      quickchartButtonEl.style.display =\n",
              "        google.colab.kernel.accessAllowed ? 'block' : 'none';\n",
              "    })();\n",
              "  </script>\n",
              "</div>\n",
              "\n",
              "    </div>\n",
              "  </div>\n"
            ],
            "application/vnd.google.colaboratory.intrinsic+json": {
              "type": "dataframe",
              "summary": "{\n  \"name\": \"display(day_df\",\n  \"rows\": 8,\n  \"fields\": [\n    {\n      \"column\": \"instant\",\n      \"properties\": {\n        \"dtype\": \"number\",\n        \"std\": 263.151210562102,\n        \"min\": 1.0,\n        \"max\": 731.0,\n        \"num_unique_values\": 6,\n        \"samples\": [\n          731.0,\n          366.0,\n          548.5\n        ],\n        \"semantic_type\": \"\",\n        \"description\": \"\"\n      }\n    },\n    {\n      \"column\": \"season\",\n      \"properties\": {\n        \"dtype\": \"number\",\n        \"std\": 257.61068803932375,\n        \"min\": 1.0,\n        \"max\": 731.0,\n        \"num_unique_values\": 7,\n        \"samples\": [\n          731.0,\n          2.496580027359781,\n          3.0\n        ],\n        \"semantic_type\": \"\",\n        \"description\": \"\"\n      }\n    },\n    {\n      \"column\": \"yr\",\n      \"properties\": {\n        \"dtype\": \"number\",\n        \"std\": 258.2457820210964,\n        \"min\": 0.0,\n        \"max\": 731.0,\n        \"num_unique_values\": 5,\n        \"samples\": [\n          0.5006839945280438,\n          1.0,\n          0.5003418803818294\n        ],\n        \"semantic_type\": \"\",\n        \"description\": \"\"\n      }\n    },\n    {\n      \"column\": \"mnth\",\n      \"properties\": {\n        \"dtype\": \"number\",\n        \"std\": 256.251208377565,\n        \"min\": 1.0,\n        \"max\": 731.0,\n        \"num_unique_values\": 8,\n        \"samples\": [\n          6.519835841313269,\n          7.0,\n          731.0\n        ],\n        \"semantic_type\": \"\",\n        \"description\": \"\"\n      }\n    },\n    {\n      \"column\": \"holiday\",\n      \"properties\": {\n        \"dtype\": \"number\",\n        \"std\": 258.38735524952386,\n        \"min\": 0.0,\n        \"max\": 731.0,\n        \"num_unique_values\": 5,\n        \"samples\": [\n          0.028727770177838577,\n          1.0,\n          0.16715474262247393\n        ],\n        \"semantic_type\": \"\",\n        \"description\": \"\"\n      }\n    },\n    {\n      \"column\": \"weekday\",\n      \"properties\": {\n        \"dtype\": \"number\",\n        \"std\": 257.4447215833011,\n        \"min\": 0.0,\n        \"max\": 731.0,\n        \"num_unique_values\": 8,\n        \"samples\": [\n          2.997264021887825,\n          3.0,\n          731.0\n        ],\n        \"semantic_type\": \"\",\n        \"description\": \"\"\n      }\n    },\n    {\n      \"column\": \"workingday\",\n      \"properties\": {\n        \"dtype\": \"number\",\n        \"std\": 258.23829965962693,\n        \"min\": 0.0,\n        \"max\": 731.0,\n        \"num_unique_values\": 5,\n        \"samples\": [\n          0.6839945280437757,\n          1.0,\n          0.46523338667770103\n        ],\n        \"semantic_type\": \"\",\n        \"description\": \"\"\n      }\n    },\n    {\n      \"column\": \"weathersit\",\n      \"properties\": {\n        \"dtype\": \"number\",\n        \"std\": 257.94661363848155,\n        \"min\": 0.5448943419593629,\n        \"max\": 731.0,\n        \"num_unique_values\": 6,\n        \"samples\": [\n          731.0,\n          1.3953488372093024,\n          3.0\n        ],\n        \"semantic_type\": \"\",\n        \"description\": \"\"\n      }\n    },\n    {\n      \"column\": \"temp\",\n      \"properties\": {\n        \"dtype\": \"number\",\n        \"std\": 258.2915817037473,\n        \"min\": 0.0591304,\n        \"max\": 731.0,\n        \"num_unique_values\": 8,\n        \"samples\": [\n          0.495384788508892,\n          0.498333,\n          731.0\n        ],\n        \"semantic_type\": \"\",\n        \"description\": \"\"\n      }\n    },\n    {\n      \"column\": \"atemp\",\n      \"properties\": {\n        \"dtype\": \"number\",\n        \"std\": 258.2966006263005,\n        \"min\": 0.0790696,\n        \"max\": 731.0,\n        \"num_unique_values\": 8,\n        \"samples\": [\n          0.47435398864569084,\n          0.486733,\n          731.0\n        ],\n        \"semantic_type\": \"\",\n        \"description\": \"\"\n      }\n    },\n    {\n      \"column\": \"hum\",\n      \"properties\": {\n        \"dtype\": \"number\",\n        \"std\": 258.26489554668353,\n        \"min\": 0.0,\n        \"max\": 731.0,\n        \"num_unique_values\": 8,\n        \"samples\": [\n          0.6278940629274967,\n          0.626667,\n          731.0\n        ],\n        \"semantic_type\": \"\",\n        \"description\": \"\"\n      }\n    },\n    {\n      \"column\": \"windspeed\",\n      \"properties\": {\n        \"dtype\": \"number\",\n        \"std\": 258.37953633824185,\n        \"min\": 0.0223917,\n        \"max\": 731.0,\n        \"num_unique_values\": 8,\n        \"samples\": [\n          0.190486211627907,\n          0.180975,\n          731.0\n        ],\n        \"semantic_type\": \"\",\n        \"description\": \"\"\n      }\n    },\n    {\n      \"column\": \"casual\",\n      \"properties\": {\n        \"dtype\": \"number\",\n        \"std\": 1038.746523887882,\n        \"min\": 2.0,\n        \"max\": 3410.0,\n        \"num_unique_values\": 8,\n        \"samples\": [\n          848.1764705882352,\n          713.0,\n          731.0\n        ],\n        \"semantic_type\": \"\",\n        \"description\": \"\"\n      }\n    },\n    {\n      \"column\": \"registered\",\n      \"properties\": {\n        \"dtype\": \"number\",\n        \"std\": 2266.131168472822,\n        \"min\": 20.0,\n        \"max\": 6946.0,\n        \"num_unique_values\": 8,\n        \"samples\": [\n          3656.172366621067,\n          3662.0,\n          731.0\n        ],\n        \"semantic_type\": \"\",\n        \"description\": \"\"\n      }\n    },\n    {\n      \"column\": \"cnt\",\n      \"properties\": {\n        \"dtype\": \"number\",\n        \"std\": 2862.2176347716063,\n        \"min\": 22.0,\n        \"max\": 8714.0,\n        \"num_unique_values\": 8,\n        \"samples\": [\n          4504.3488372093025,\n          4548.0,\n          731.0\n        ],\n        \"semantic_type\": \"\",\n        \"description\": \"\"\n      }\n    }\n  ]\n}"
            }
          },
          "metadata": {}
        }
      ]
    },
    {
      "cell_type": "markdown",
      "source": [
        "## Data Wrangling"
      ],
      "metadata": {
        "id": "6QmUEoel2hJq"
      }
    },
    {
      "cell_type": "markdown",
      "source": [
        "### Gathering Data\n",
        "**Insight:**\n",
        "- Dataset harian dan per jam telah berhasil dimuat dari file `day.csv` dan `hour.csv`.\n",
        "- Data mencakup berbagai fitur seperti tanggal, cuaca, dan jumlah penyewaan, yang siap untuk dianalisis lebih lanjut."
      ],
      "metadata": {
        "id": "KncS2mpB3-9W"
      }
    },
    {
      "cell_type": "markdown",
      "source": [
        "### Assessing Data"
      ],
      "metadata": {
        "id": "2pnOa1D22yvX"
      }
    },
    {
      "cell_type": "markdown",
      "source": [],
      "metadata": {
        "id": "DHZ9Fkpi3z0R"
      }
    },
    {
      "cell_type": "code",
      "source": [
        "# Pemeriksaan tipe data dan info dataset\n",
        "print(\"Informasi Struktur Data Harian:\")\n",
        "print(day_df.info())\n",
        "print(\"\\nNilai Hilang (Missing Values):\")\n",
        "print(day_df.isnull().sum())\n",
        "print(\"\\nJumlah Duplikat:\")\n",
        "print(day_df.duplicated().sum())\n",
        "\n",
        "# Validasi konsistensi data\n",
        "print(\"\\nRentang Tanggal Data Harian:\")\n",
        "print(f\"Min: {day_df['dteday'].min()}, Max: {day_df['dteday'].max()}\")"
      ],
      "metadata": {
        "colab": {
          "base_uri": "https://localhost:8080/"
        },
        "id": "TtVNcI1R2lr-",
        "outputId": "36ce2b2a-7078-42fc-88c6-854294c662e9"
      },
      "execution_count": 3,
      "outputs": [
        {
          "output_type": "stream",
          "name": "stdout",
          "text": [
            "Informasi Struktur Data Harian:\n",
            "<class 'pandas.core.frame.DataFrame'>\n",
            "RangeIndex: 731 entries, 0 to 730\n",
            "Data columns (total 16 columns):\n",
            " #   Column      Non-Null Count  Dtype  \n",
            "---  ------      --------------  -----  \n",
            " 0   instant     731 non-null    int64  \n",
            " 1   dteday      731 non-null    object \n",
            " 2   season      731 non-null    int64  \n",
            " 3   yr          731 non-null    int64  \n",
            " 4   mnth        731 non-null    int64  \n",
            " 5   holiday     731 non-null    int64  \n",
            " 6   weekday     731 non-null    int64  \n",
            " 7   workingday  731 non-null    int64  \n",
            " 8   weathersit  731 non-null    int64  \n",
            " 9   temp        731 non-null    float64\n",
            " 10  atemp       731 non-null    float64\n",
            " 11  hum         731 non-null    float64\n",
            " 12  windspeed   731 non-null    float64\n",
            " 13  casual      731 non-null    int64  \n",
            " 14  registered  731 non-null    int64  \n",
            " 15  cnt         731 non-null    int64  \n",
            "dtypes: float64(4), int64(11), object(1)\n",
            "memory usage: 91.5+ KB\n",
            "None\n",
            "\n",
            "Nilai Hilang (Missing Values):\n",
            "instant       0\n",
            "dteday        0\n",
            "season        0\n",
            "yr            0\n",
            "mnth          0\n",
            "holiday       0\n",
            "weekday       0\n",
            "workingday    0\n",
            "weathersit    0\n",
            "temp          0\n",
            "atemp         0\n",
            "hum           0\n",
            "windspeed     0\n",
            "casual        0\n",
            "registered    0\n",
            "cnt           0\n",
            "dtype: int64\n",
            "\n",
            "Jumlah Duplikat:\n",
            "0\n",
            "\n",
            "Rentang Tanggal Data Harian:\n",
            "Min: 2011-01-01, Max: 2012-12-31\n"
          ]
        }
      ]
    },
    {
      "cell_type": "markdown",
      "source": [
        "**Insight:**\n",
        "- Tidak ada nilai hilang (missing values) atau duplikat dalam dataset harian.\n",
        "- Rentang tanggal konsisten dari 2011 hingga 2012, sesuai dengan deskripsi dataset.\n",
        "- Tipe data perlu dikonversi (misalnya, `dteday` ke datetime) untuk analisis lebih lanjut."
      ],
      "metadata": {
        "id": "apoux3Wc2qlq"
      }
    },
    {
      "cell_type": "markdown",
      "source": [
        "### Cleaning Data"
      ],
      "metadata": {
        "id": "rn6IURRX21yC"
      }
    },
    {
      "cell_type": "code",
      "source": [
        "# Konversi kolom tanggal ke format datetime\n",
        "day_df['dteday'] = pd.to_datetime(day_df['dteday'])\n",
        "hour_df['dteday'] = pd.to_datetime(hour_df['dteday'])\n",
        "\n",
        "# Mapping kategori cuaca untuk interpretasi yang lebih jelas\n",
        "weather_map = {1: 'Cerah', 2: 'Berawan', 3: 'Hujan Ringan', 4: 'Hujan Berat'}\n",
        "day_df['weathersit'] = day_df['weathersit'].map(weather_map)\n",
        "hour_df['weathersit'] = hour_df['weathersit'].map(weather_map)\n",
        "\n",
        "# Menambahkan kolom hari dalam seminggu\n",
        "day_df['weekday_name'] = day_df['dteday'].dt.day_name()\n",
        "\n",
        "# Menambahkan kolom musiman untuk analisis lebih lanjut\n",
        "season_map = {1: 'Musim Dingin', 2: 'Musim Semi', 3: 'Musim Panas', 4: 'Musim Gugur'}\n",
        "day_df['season_name'] = day_df['season'].map(season_map)\n",
        "\n",
        "# Normalisasi suhu (temp) ke skala Celsius\n",
        "day_df['temp_celsius'] = day_df['temp'] * 41  # Skala asli: 0-1, maksimum 41°C\n",
        "hour_df['temp_celsius'] = hour_df['temp'] * 41\n",
        "\n",
        "print(\"Data Harian Setelah Transformasi:\")\n",
        "display(day_df[['dteday', 'weathersit', 'weekday_name', 'season_name', 'temp_celsius']].head())"
      ],
      "metadata": {
        "colab": {
          "base_uri": "https://localhost:8080/",
          "height": 224
        },
        "id": "WiOoNUu625BV",
        "outputId": "8307a2d9-b1d0-4d4b-8e6f-4902ba46269a"
      },
      "execution_count": 4,
      "outputs": [
        {
          "output_type": "stream",
          "name": "stdout",
          "text": [
            "Data Harian Setelah Transformasi:\n"
          ]
        },
        {
          "output_type": "display_data",
          "data": {
            "text/plain": [
              "      dteday weathersit weekday_name   season_name  temp_celsius\n",
              "0 2011-01-01    Berawan     Saturday  Musim Dingin     14.110847\n",
              "1 2011-01-02    Berawan       Sunday  Musim Dingin     14.902598\n",
              "2 2011-01-03      Cerah       Monday  Musim Dingin      8.050924\n",
              "3 2011-01-04      Cerah      Tuesday  Musim Dingin      8.200000\n",
              "4 2011-01-05      Cerah    Wednesday  Musim Dingin      9.305237"
            ],
            "text/html": [
              "\n",
              "  <div id=\"df-132aebfc-0c64-4c3d-a52d-91a37b83d943\" class=\"colab-df-container\">\n",
              "    <div>\n",
              "<style scoped>\n",
              "    .dataframe tbody tr th:only-of-type {\n",
              "        vertical-align: middle;\n",
              "    }\n",
              "\n",
              "    .dataframe tbody tr th {\n",
              "        vertical-align: top;\n",
              "    }\n",
              "\n",
              "    .dataframe thead th {\n",
              "        text-align: right;\n",
              "    }\n",
              "</style>\n",
              "<table border=\"1\" class=\"dataframe\">\n",
              "  <thead>\n",
              "    <tr style=\"text-align: right;\">\n",
              "      <th></th>\n",
              "      <th>dteday</th>\n",
              "      <th>weathersit</th>\n",
              "      <th>weekday_name</th>\n",
              "      <th>season_name</th>\n",
              "      <th>temp_celsius</th>\n",
              "    </tr>\n",
              "  </thead>\n",
              "  <tbody>\n",
              "    <tr>\n",
              "      <th>0</th>\n",
              "      <td>2011-01-01</td>\n",
              "      <td>Berawan</td>\n",
              "      <td>Saturday</td>\n",
              "      <td>Musim Dingin</td>\n",
              "      <td>14.110847</td>\n",
              "    </tr>\n",
              "    <tr>\n",
              "      <th>1</th>\n",
              "      <td>2011-01-02</td>\n",
              "      <td>Berawan</td>\n",
              "      <td>Sunday</td>\n",
              "      <td>Musim Dingin</td>\n",
              "      <td>14.902598</td>\n",
              "    </tr>\n",
              "    <tr>\n",
              "      <th>2</th>\n",
              "      <td>2011-01-03</td>\n",
              "      <td>Cerah</td>\n",
              "      <td>Monday</td>\n",
              "      <td>Musim Dingin</td>\n",
              "      <td>8.050924</td>\n",
              "    </tr>\n",
              "    <tr>\n",
              "      <th>3</th>\n",
              "      <td>2011-01-04</td>\n",
              "      <td>Cerah</td>\n",
              "      <td>Tuesday</td>\n",
              "      <td>Musim Dingin</td>\n",
              "      <td>8.200000</td>\n",
              "    </tr>\n",
              "    <tr>\n",
              "      <th>4</th>\n",
              "      <td>2011-01-05</td>\n",
              "      <td>Cerah</td>\n",
              "      <td>Wednesday</td>\n",
              "      <td>Musim Dingin</td>\n",
              "      <td>9.305237</td>\n",
              "    </tr>\n",
              "  </tbody>\n",
              "</table>\n",
              "</div>\n",
              "    <div class=\"colab-df-buttons\">\n",
              "\n",
              "  <div class=\"colab-df-container\">\n",
              "    <button class=\"colab-df-convert\" onclick=\"convertToInteractive('df-132aebfc-0c64-4c3d-a52d-91a37b83d943')\"\n",
              "            title=\"Convert this dataframe to an interactive table.\"\n",
              "            style=\"display:none;\">\n",
              "\n",
              "  <svg xmlns=\"http://www.w3.org/2000/svg\" height=\"24px\" viewBox=\"0 -960 960 960\">\n",
              "    <path d=\"M120-120v-720h720v720H120Zm60-500h600v-160H180v160Zm220 220h160v-160H400v160Zm0 220h160v-160H400v160ZM180-400h160v-160H180v160Zm440 0h160v-160H620v160ZM180-180h160v-160H180v160Zm440 0h160v-160H620v160Z\"/>\n",
              "  </svg>\n",
              "    </button>\n",
              "\n",
              "  <style>\n",
              "    .colab-df-container {\n",
              "      display:flex;\n",
              "      gap: 12px;\n",
              "    }\n",
              "\n",
              "    .colab-df-convert {\n",
              "      background-color: #E8F0FE;\n",
              "      border: none;\n",
              "      border-radius: 50%;\n",
              "      cursor: pointer;\n",
              "      display: none;\n",
              "      fill: #1967D2;\n",
              "      height: 32px;\n",
              "      padding: 0 0 0 0;\n",
              "      width: 32px;\n",
              "    }\n",
              "\n",
              "    .colab-df-convert:hover {\n",
              "      background-color: #E2EBFA;\n",
              "      box-shadow: 0px 1px 2px rgba(60, 64, 67, 0.3), 0px 1px 3px 1px rgba(60, 64, 67, 0.15);\n",
              "      fill: #174EA6;\n",
              "    }\n",
              "\n",
              "    .colab-df-buttons div {\n",
              "      margin-bottom: 4px;\n",
              "    }\n",
              "\n",
              "    [theme=dark] .colab-df-convert {\n",
              "      background-color: #3B4455;\n",
              "      fill: #D2E3FC;\n",
              "    }\n",
              "\n",
              "    [theme=dark] .colab-df-convert:hover {\n",
              "      background-color: #434B5C;\n",
              "      box-shadow: 0px 1px 3px 1px rgba(0, 0, 0, 0.15);\n",
              "      filter: drop-shadow(0px 1px 2px rgba(0, 0, 0, 0.3));\n",
              "      fill: #FFFFFF;\n",
              "    }\n",
              "  </style>\n",
              "\n",
              "    <script>\n",
              "      const buttonEl =\n",
              "        document.querySelector('#df-132aebfc-0c64-4c3d-a52d-91a37b83d943 button.colab-df-convert');\n",
              "      buttonEl.style.display =\n",
              "        google.colab.kernel.accessAllowed ? 'block' : 'none';\n",
              "\n",
              "      async function convertToInteractive(key) {\n",
              "        const element = document.querySelector('#df-132aebfc-0c64-4c3d-a52d-91a37b83d943');\n",
              "        const dataTable =\n",
              "          await google.colab.kernel.invokeFunction('convertToInteractive',\n",
              "                                                    [key], {});\n",
              "        if (!dataTable) return;\n",
              "\n",
              "        const docLinkHtml = 'Like what you see? Visit the ' +\n",
              "          '<a target=\"_blank\" href=https://colab.research.google.com/notebooks/data_table.ipynb>data table notebook</a>'\n",
              "          + ' to learn more about interactive tables.';\n",
              "        element.innerHTML = '';\n",
              "        dataTable['output_type'] = 'display_data';\n",
              "        await google.colab.output.renderOutput(dataTable, element);\n",
              "        const docLink = document.createElement('div');\n",
              "        docLink.innerHTML = docLinkHtml;\n",
              "        element.appendChild(docLink);\n",
              "      }\n",
              "    </script>\n",
              "  </div>\n",
              "\n",
              "\n",
              "<div id=\"df-3c802630-4cee-4f61-b752-b4a454797dde\">\n",
              "  <button class=\"colab-df-quickchart\" onclick=\"quickchart('df-3c802630-4cee-4f61-b752-b4a454797dde')\"\n",
              "            title=\"Suggest charts\"\n",
              "            style=\"display:none;\">\n",
              "\n",
              "<svg xmlns=\"http://www.w3.org/2000/svg\" height=\"24px\"viewBox=\"0 0 24 24\"\n",
              "     width=\"24px\">\n",
              "    <g>\n",
              "        <path d=\"M19 3H5c-1.1 0-2 .9-2 2v14c0 1.1.9 2 2 2h14c1.1 0 2-.9 2-2V5c0-1.1-.9-2-2-2zM9 17H7v-7h2v7zm4 0h-2V7h2v10zm4 0h-2v-4h2v4z\"/>\n",
              "    </g>\n",
              "</svg>\n",
              "  </button>\n",
              "\n",
              "<style>\n",
              "  .colab-df-quickchart {\n",
              "      --bg-color: #E8F0FE;\n",
              "      --fill-color: #1967D2;\n",
              "      --hover-bg-color: #E2EBFA;\n",
              "      --hover-fill-color: #174EA6;\n",
              "      --disabled-fill-color: #AAA;\n",
              "      --disabled-bg-color: #DDD;\n",
              "  }\n",
              "\n",
              "  [theme=dark] .colab-df-quickchart {\n",
              "      --bg-color: #3B4455;\n",
              "      --fill-color: #D2E3FC;\n",
              "      --hover-bg-color: #434B5C;\n",
              "      --hover-fill-color: #FFFFFF;\n",
              "      --disabled-bg-color: #3B4455;\n",
              "      --disabled-fill-color: #666;\n",
              "  }\n",
              "\n",
              "  .colab-df-quickchart {\n",
              "    background-color: var(--bg-color);\n",
              "    border: none;\n",
              "    border-radius: 50%;\n",
              "    cursor: pointer;\n",
              "    display: none;\n",
              "    fill: var(--fill-color);\n",
              "    height: 32px;\n",
              "    padding: 0;\n",
              "    width: 32px;\n",
              "  }\n",
              "\n",
              "  .colab-df-quickchart:hover {\n",
              "    background-color: var(--hover-bg-color);\n",
              "    box-shadow: 0 1px 2px rgba(60, 64, 67, 0.3), 0 1px 3px 1px rgba(60, 64, 67, 0.15);\n",
              "    fill: var(--button-hover-fill-color);\n",
              "  }\n",
              "\n",
              "  .colab-df-quickchart-complete:disabled,\n",
              "  .colab-df-quickchart-complete:disabled:hover {\n",
              "    background-color: var(--disabled-bg-color);\n",
              "    fill: var(--disabled-fill-color);\n",
              "    box-shadow: none;\n",
              "  }\n",
              "\n",
              "  .colab-df-spinner {\n",
              "    border: 2px solid var(--fill-color);\n",
              "    border-color: transparent;\n",
              "    border-bottom-color: var(--fill-color);\n",
              "    animation:\n",
              "      spin 1s steps(1) infinite;\n",
              "  }\n",
              "\n",
              "  @keyframes spin {\n",
              "    0% {\n",
              "      border-color: transparent;\n",
              "      border-bottom-color: var(--fill-color);\n",
              "      border-left-color: var(--fill-color);\n",
              "    }\n",
              "    20% {\n",
              "      border-color: transparent;\n",
              "      border-left-color: var(--fill-color);\n",
              "      border-top-color: var(--fill-color);\n",
              "    }\n",
              "    30% {\n",
              "      border-color: transparent;\n",
              "      border-left-color: var(--fill-color);\n",
              "      border-top-color: var(--fill-color);\n",
              "      border-right-color: var(--fill-color);\n",
              "    }\n",
              "    40% {\n",
              "      border-color: transparent;\n",
              "      border-right-color: var(--fill-color);\n",
              "      border-top-color: var(--fill-color);\n",
              "    }\n",
              "    60% {\n",
              "      border-color: transparent;\n",
              "      border-right-color: var(--fill-color);\n",
              "    }\n",
              "    80% {\n",
              "      border-color: transparent;\n",
              "      border-right-color: var(--fill-color);\n",
              "      border-bottom-color: var(--fill-color);\n",
              "    }\n",
              "    90% {\n",
              "      border-color: transparent;\n",
              "      border-bottom-color: var(--fill-color);\n",
              "    }\n",
              "  }\n",
              "</style>\n",
              "\n",
              "  <script>\n",
              "    async function quickchart(key) {\n",
              "      const quickchartButtonEl =\n",
              "        document.querySelector('#' + key + ' button');\n",
              "      quickchartButtonEl.disabled = true;  // To prevent multiple clicks.\n",
              "      quickchartButtonEl.classList.add('colab-df-spinner');\n",
              "      try {\n",
              "        const charts = await google.colab.kernel.invokeFunction(\n",
              "            'suggestCharts', [key], {});\n",
              "      } catch (error) {\n",
              "        console.error('Error during call to suggestCharts:', error);\n",
              "      }\n",
              "      quickchartButtonEl.classList.remove('colab-df-spinner');\n",
              "      quickchartButtonEl.classList.add('colab-df-quickchart-complete');\n",
              "    }\n",
              "    (() => {\n",
              "      let quickchartButtonEl =\n",
              "        document.querySelector('#df-3c802630-4cee-4f61-b752-b4a454797dde button');\n",
              "      quickchartButtonEl.style.display =\n",
              "        google.colab.kernel.accessAllowed ? 'block' : 'none';\n",
              "    })();\n",
              "  </script>\n",
              "</div>\n",
              "\n",
              "    </div>\n",
              "  </div>\n"
            ],
            "application/vnd.google.colaboratory.intrinsic+json": {
              "type": "dataframe",
              "summary": "{\n  \"name\": \"display(day_df[['dteday', 'weathersit', 'weekday_name', 'season_name', 'temp_celsius']]\",\n  \"rows\": 5,\n  \"fields\": [\n    {\n      \"column\": \"dteday\",\n      \"properties\": {\n        \"dtype\": \"date\",\n        \"min\": \"2011-01-01 00:00:00\",\n        \"max\": \"2011-01-05 00:00:00\",\n        \"num_unique_values\": 5,\n        \"samples\": [\n          \"2011-01-02 00:00:00\",\n          \"2011-01-05 00:00:00\",\n          \"2011-01-03 00:00:00\"\n        ],\n        \"semantic_type\": \"\",\n        \"description\": \"\"\n      }\n    },\n    {\n      \"column\": \"weathersit\",\n      \"properties\": {\n        \"dtype\": \"category\",\n        \"num_unique_values\": 2,\n        \"samples\": [\n          \"Cerah\",\n          \"Berawan\"\n        ],\n        \"semantic_type\": \"\",\n        \"description\": \"\"\n      }\n    },\n    {\n      \"column\": \"weekday_name\",\n      \"properties\": {\n        \"dtype\": \"string\",\n        \"num_unique_values\": 5,\n        \"samples\": [\n          \"Sunday\",\n          \"Wednesday\"\n        ],\n        \"semantic_type\": \"\",\n        \"description\": \"\"\n      }\n    },\n    {\n      \"column\": \"season_name\",\n      \"properties\": {\n        \"dtype\": \"category\",\n        \"num_unique_values\": 1,\n        \"samples\": [\n          \"Musim Dingin\"\n        ],\n        \"semantic_type\": \"\",\n        \"description\": \"\"\n      }\n    },\n    {\n      \"column\": \"temp_celsius\",\n      \"properties\": {\n        \"dtype\": \"number\",\n        \"std\": 3.327155815704714,\n        \"min\": 8.050924,\n        \"max\": 14.902598000000001,\n        \"num_unique_values\": 5,\n        \"samples\": [\n          14.902598000000001\n        ],\n        \"semantic_type\": \"\",\n        \"description\": \"\"\n      }\n    }\n  ]\n}"
            }
          },
          "metadata": {}
        }
      ]
    },
    {
      "cell_type": "markdown",
      "source": [
        "**Insight:**\n",
        "- Data telah dibersihkan dengan konversi tipe data dan penambahan fitur baru (hari, musim, suhu dalam Celsius).\n",
        "- Mapping kategori cuaca mempermudah interpretasi hasil analisis."
      ],
      "metadata": {
        "id": "tPn0oAde299-"
      }
    },
    {
      "cell_type": "markdown",
      "source": [
        "## Exploratory Data Analysis (EDA)\n",
        "\n",
        "### Explore ..."
      ],
      "metadata": {
        "id": "OY96HmPS3DZj"
      }
    },
    {
      "cell_type": "code",
      "source": [
        "# Contoh: Distribusi penyewaan berdasarkan cuaca\n",
        "print(day_df['weathersit'].value_counts())"
      ],
      "metadata": {
        "colab": {
          "base_uri": "https://localhost:8080/"
        },
        "id": "X2oYlgHW3FEY",
        "outputId": "8b689e82-69dd-4333-b4b0-718e49582523"
      },
      "execution_count": 5,
      "outputs": [
        {
          "output_type": "stream",
          "name": "stdout",
          "text": [
            "weathersit\n",
            "Cerah           463\n",
            "Berawan         247\n",
            "Hujan Ringan     21\n",
            "Name: count, dtype: int64\n"
          ]
        }
      ]
    },
    {
      "cell_type": "markdown",
      "source": [
        "**Insight:**\n",
        "- Cuaca 'Cerah' memiliki jumlah hari terbanyak, menunjukkan kondisi dominan dalam dataset.\n",
        "- Distribusi cuaca ini akan memengaruhi analisis penyewaan sepeda."
      ],
      "metadata": {
        "id": "efZTLyD03IkC"
      }
    },
    {
      "cell_type": "markdown",
      "source": [
        "## Visualization & Explanatory Analysis\n",
        "\n",
        "### Pertanyaan 1:"
      ],
      "metadata": {
        "id": "F4YTduJv3NMk"
      }
    },
    {
      "cell_type": "code",
      "source": [
        "# Menghitung rata-rata penyewaan berdasarkan cuaca\n",
        "weather_avg = day_df.groupby('weathersit')['cnt'].agg(['mean', 'std']).reset_index()\n",
        "\n",
        "# Bar plot interaktif dengan error bars\n",
        "fig = go.Figure(data=[\n",
        "    go.Bar(\n",
        "        x=weather_avg['weathersit'],\n",
        "        y=weather_avg['mean'],\n",
        "        text=weather_avg['mean'].round().astype(int),\n",
        "        textposition='auto',\n",
        "        marker_color=['#1f77b4', '#ff7f0e', '#2ca02c', '#d62728'],\n",
        "        error_y=dict(type='data', array=weather_avg['std'], visible=True)\n",
        "    )\n",
        "])\n",
        "\n",
        "fig.update_layout(\n",
        "    title='Rata-rata Penyewaan Sepeda Berdasarkan Kondisi Cuaca',\n",
        "    xaxis_title='Kondisi Cuaca',\n",
        "    yaxis_title='Jumlah Penyewaan (Rata-rata)',\n",
        "    template='plotly_white',\n",
        "    bargap=0.2\n",
        ")\n",
        "fig.show()"
      ],
      "metadata": {
        "colab": {
          "base_uri": "https://localhost:8080/",
          "height": 542
        },
        "id": "90NkSq6z3PVb",
        "outputId": "62801adc-11fd-4e9a-baae-bd3b57f039ef"
      },
      "execution_count": 6,
      "outputs": [
        {
          "output_type": "display_data",
          "data": {
            "text/html": [
              "<html>\n",
              "<head><meta charset=\"utf-8\" /></head>\n",
              "<body>\n",
              "    <div>            <script src=\"https://cdnjs.cloudflare.com/ajax/libs/mathjax/2.7.5/MathJax.js?config=TeX-AMS-MML_SVG\"></script><script type=\"text/javascript\">if (window.MathJax && window.MathJax.Hub && window.MathJax.Hub.Config) {window.MathJax.Hub.Config({SVG: {font: \"STIX-Web\"}});}</script>                <script type=\"text/javascript\">window.PlotlyConfig = {MathJaxConfig: 'local'};</script>\n",
              "        <script charset=\"utf-8\" src=\"https://cdn.plot.ly/plotly-2.35.2.min.js\"></script>                <div id=\"83eb2efe-d185-4cd7-baee-b69e1244bcfc\" class=\"plotly-graph-div\" style=\"height:525px; width:100%;\"></div>            <script type=\"text/javascript\">                                    window.PLOTLYENV=window.PLOTLYENV || {};                                    if (document.getElementById(\"83eb2efe-d185-4cd7-baee-b69e1244bcfc\")) {                    Plotly.newPlot(                        \"83eb2efe-d185-4cd7-baee-b69e1244bcfc\",                        [{\"error_y\":{\"array\":[1809.1099182808389,1879.4839889103648,1240.2844489413364],\"type\":\"data\",\"visible\":true},\"marker\":{\"color\":[\"#1f77b4\",\"#ff7f0e\",\"#2ca02c\",\"#d62728\"]},\"text\":[4036.0,4877.0,1803.0],\"textposition\":\"auto\",\"x\":[\"Berawan\",\"Cerah\",\"Hujan Ringan\"],\"y\":[4035.862348178138,4876.7861771058315,1803.2857142857142],\"type\":\"bar\"}],                        {\"template\":{\"data\":{\"barpolar\":[{\"marker\":{\"line\":{\"color\":\"white\",\"width\":0.5},\"pattern\":{\"fillmode\":\"overlay\",\"size\":10,\"solidity\":0.2}},\"type\":\"barpolar\"}],\"bar\":[{\"error_x\":{\"color\":\"#2a3f5f\"},\"error_y\":{\"color\":\"#2a3f5f\"},\"marker\":{\"line\":{\"color\":\"white\",\"width\":0.5},\"pattern\":{\"fillmode\":\"overlay\",\"size\":10,\"solidity\":0.2}},\"type\":\"bar\"}],\"carpet\":[{\"aaxis\":{\"endlinecolor\":\"#2a3f5f\",\"gridcolor\":\"#C8D4E3\",\"linecolor\":\"#C8D4E3\",\"minorgridcolor\":\"#C8D4E3\",\"startlinecolor\":\"#2a3f5f\"},\"baxis\":{\"endlinecolor\":\"#2a3f5f\",\"gridcolor\":\"#C8D4E3\",\"linecolor\":\"#C8D4E3\",\"minorgridcolor\":\"#C8D4E3\",\"startlinecolor\":\"#2a3f5f\"},\"type\":\"carpet\"}],\"choropleth\":[{\"colorbar\":{\"outlinewidth\":0,\"ticks\":\"\"},\"type\":\"choropleth\"}],\"contourcarpet\":[{\"colorbar\":{\"outlinewidth\":0,\"ticks\":\"\"},\"type\":\"contourcarpet\"}],\"contour\":[{\"colorbar\":{\"outlinewidth\":0,\"ticks\":\"\"},\"colorscale\":[[0.0,\"#0d0887\"],[0.1111111111111111,\"#46039f\"],[0.2222222222222222,\"#7201a8\"],[0.3333333333333333,\"#9c179e\"],[0.4444444444444444,\"#bd3786\"],[0.5555555555555556,\"#d8576b\"],[0.6666666666666666,\"#ed7953\"],[0.7777777777777778,\"#fb9f3a\"],[0.8888888888888888,\"#fdca26\"],[1.0,\"#f0f921\"]],\"type\":\"contour\"}],\"heatmapgl\":[{\"colorbar\":{\"outlinewidth\":0,\"ticks\":\"\"},\"colorscale\":[[0.0,\"#0d0887\"],[0.1111111111111111,\"#46039f\"],[0.2222222222222222,\"#7201a8\"],[0.3333333333333333,\"#9c179e\"],[0.4444444444444444,\"#bd3786\"],[0.5555555555555556,\"#d8576b\"],[0.6666666666666666,\"#ed7953\"],[0.7777777777777778,\"#fb9f3a\"],[0.8888888888888888,\"#fdca26\"],[1.0,\"#f0f921\"]],\"type\":\"heatmapgl\"}],\"heatmap\":[{\"colorbar\":{\"outlinewidth\":0,\"ticks\":\"\"},\"colorscale\":[[0.0,\"#0d0887\"],[0.1111111111111111,\"#46039f\"],[0.2222222222222222,\"#7201a8\"],[0.3333333333333333,\"#9c179e\"],[0.4444444444444444,\"#bd3786\"],[0.5555555555555556,\"#d8576b\"],[0.6666666666666666,\"#ed7953\"],[0.7777777777777778,\"#fb9f3a\"],[0.8888888888888888,\"#fdca26\"],[1.0,\"#f0f921\"]],\"type\":\"heatmap\"}],\"histogram2dcontour\":[{\"colorbar\":{\"outlinewidth\":0,\"ticks\":\"\"},\"colorscale\":[[0.0,\"#0d0887\"],[0.1111111111111111,\"#46039f\"],[0.2222222222222222,\"#7201a8\"],[0.3333333333333333,\"#9c179e\"],[0.4444444444444444,\"#bd3786\"],[0.5555555555555556,\"#d8576b\"],[0.6666666666666666,\"#ed7953\"],[0.7777777777777778,\"#fb9f3a\"],[0.8888888888888888,\"#fdca26\"],[1.0,\"#f0f921\"]],\"type\":\"histogram2dcontour\"}],\"histogram2d\":[{\"colorbar\":{\"outlinewidth\":0,\"ticks\":\"\"},\"colorscale\":[[0.0,\"#0d0887\"],[0.1111111111111111,\"#46039f\"],[0.2222222222222222,\"#7201a8\"],[0.3333333333333333,\"#9c179e\"],[0.4444444444444444,\"#bd3786\"],[0.5555555555555556,\"#d8576b\"],[0.6666666666666666,\"#ed7953\"],[0.7777777777777778,\"#fb9f3a\"],[0.8888888888888888,\"#fdca26\"],[1.0,\"#f0f921\"]],\"type\":\"histogram2d\"}],\"histogram\":[{\"marker\":{\"pattern\":{\"fillmode\":\"overlay\",\"size\":10,\"solidity\":0.2}},\"type\":\"histogram\"}],\"mesh3d\":[{\"colorbar\":{\"outlinewidth\":0,\"ticks\":\"\"},\"type\":\"mesh3d\"}],\"parcoords\":[{\"line\":{\"colorbar\":{\"outlinewidth\":0,\"ticks\":\"\"}},\"type\":\"parcoords\"}],\"pie\":[{\"automargin\":true,\"type\":\"pie\"}],\"scatter3d\":[{\"line\":{\"colorbar\":{\"outlinewidth\":0,\"ticks\":\"\"}},\"marker\":{\"colorbar\":{\"outlinewidth\":0,\"ticks\":\"\"}},\"type\":\"scatter3d\"}],\"scattercarpet\":[{\"marker\":{\"colorbar\":{\"outlinewidth\":0,\"ticks\":\"\"}},\"type\":\"scattercarpet\"}],\"scattergeo\":[{\"marker\":{\"colorbar\":{\"outlinewidth\":0,\"ticks\":\"\"}},\"type\":\"scattergeo\"}],\"scattergl\":[{\"marker\":{\"colorbar\":{\"outlinewidth\":0,\"ticks\":\"\"}},\"type\":\"scattergl\"}],\"scattermapbox\":[{\"marker\":{\"colorbar\":{\"outlinewidth\":0,\"ticks\":\"\"}},\"type\":\"scattermapbox\"}],\"scatterpolargl\":[{\"marker\":{\"colorbar\":{\"outlinewidth\":0,\"ticks\":\"\"}},\"type\":\"scatterpolargl\"}],\"scatterpolar\":[{\"marker\":{\"colorbar\":{\"outlinewidth\":0,\"ticks\":\"\"}},\"type\":\"scatterpolar\"}],\"scatter\":[{\"fillpattern\":{\"fillmode\":\"overlay\",\"size\":10,\"solidity\":0.2},\"type\":\"scatter\"}],\"scatterternary\":[{\"marker\":{\"colorbar\":{\"outlinewidth\":0,\"ticks\":\"\"}},\"type\":\"scatterternary\"}],\"surface\":[{\"colorbar\":{\"outlinewidth\":0,\"ticks\":\"\"},\"colorscale\":[[0.0,\"#0d0887\"],[0.1111111111111111,\"#46039f\"],[0.2222222222222222,\"#7201a8\"],[0.3333333333333333,\"#9c179e\"],[0.4444444444444444,\"#bd3786\"],[0.5555555555555556,\"#d8576b\"],[0.6666666666666666,\"#ed7953\"],[0.7777777777777778,\"#fb9f3a\"],[0.8888888888888888,\"#fdca26\"],[1.0,\"#f0f921\"]],\"type\":\"surface\"}],\"table\":[{\"cells\":{\"fill\":{\"color\":\"#EBF0F8\"},\"line\":{\"color\":\"white\"}},\"header\":{\"fill\":{\"color\":\"#C8D4E3\"},\"line\":{\"color\":\"white\"}},\"type\":\"table\"}]},\"layout\":{\"annotationdefaults\":{\"arrowcolor\":\"#2a3f5f\",\"arrowhead\":0,\"arrowwidth\":1},\"autotypenumbers\":\"strict\",\"coloraxis\":{\"colorbar\":{\"outlinewidth\":0,\"ticks\":\"\"}},\"colorscale\":{\"diverging\":[[0,\"#8e0152\"],[0.1,\"#c51b7d\"],[0.2,\"#de77ae\"],[0.3,\"#f1b6da\"],[0.4,\"#fde0ef\"],[0.5,\"#f7f7f7\"],[0.6,\"#e6f5d0\"],[0.7,\"#b8e186\"],[0.8,\"#7fbc41\"],[0.9,\"#4d9221\"],[1,\"#276419\"]],\"sequential\":[[0.0,\"#0d0887\"],[0.1111111111111111,\"#46039f\"],[0.2222222222222222,\"#7201a8\"],[0.3333333333333333,\"#9c179e\"],[0.4444444444444444,\"#bd3786\"],[0.5555555555555556,\"#d8576b\"],[0.6666666666666666,\"#ed7953\"],[0.7777777777777778,\"#fb9f3a\"],[0.8888888888888888,\"#fdca26\"],[1.0,\"#f0f921\"]],\"sequentialminus\":[[0.0,\"#0d0887\"],[0.1111111111111111,\"#46039f\"],[0.2222222222222222,\"#7201a8\"],[0.3333333333333333,\"#9c179e\"],[0.4444444444444444,\"#bd3786\"],[0.5555555555555556,\"#d8576b\"],[0.6666666666666666,\"#ed7953\"],[0.7777777777777778,\"#fb9f3a\"],[0.8888888888888888,\"#fdca26\"],[1.0,\"#f0f921\"]]},\"colorway\":[\"#636efa\",\"#EF553B\",\"#00cc96\",\"#ab63fa\",\"#FFA15A\",\"#19d3f3\",\"#FF6692\",\"#B6E880\",\"#FF97FF\",\"#FECB52\"],\"font\":{\"color\":\"#2a3f5f\"},\"geo\":{\"bgcolor\":\"white\",\"lakecolor\":\"white\",\"landcolor\":\"white\",\"showlakes\":true,\"showland\":true,\"subunitcolor\":\"#C8D4E3\"},\"hoverlabel\":{\"align\":\"left\"},\"hovermode\":\"closest\",\"mapbox\":{\"style\":\"light\"},\"paper_bgcolor\":\"white\",\"plot_bgcolor\":\"white\",\"polar\":{\"angularaxis\":{\"gridcolor\":\"#EBF0F8\",\"linecolor\":\"#EBF0F8\",\"ticks\":\"\"},\"bgcolor\":\"white\",\"radialaxis\":{\"gridcolor\":\"#EBF0F8\",\"linecolor\":\"#EBF0F8\",\"ticks\":\"\"}},\"scene\":{\"xaxis\":{\"backgroundcolor\":\"white\",\"gridcolor\":\"#DFE8F3\",\"gridwidth\":2,\"linecolor\":\"#EBF0F8\",\"showbackground\":true,\"ticks\":\"\",\"zerolinecolor\":\"#EBF0F8\"},\"yaxis\":{\"backgroundcolor\":\"white\",\"gridcolor\":\"#DFE8F3\",\"gridwidth\":2,\"linecolor\":\"#EBF0F8\",\"showbackground\":true,\"ticks\":\"\",\"zerolinecolor\":\"#EBF0F8\"},\"zaxis\":{\"backgroundcolor\":\"white\",\"gridcolor\":\"#DFE8F3\",\"gridwidth\":2,\"linecolor\":\"#EBF0F8\",\"showbackground\":true,\"ticks\":\"\",\"zerolinecolor\":\"#EBF0F8\"}},\"shapedefaults\":{\"line\":{\"color\":\"#2a3f5f\"}},\"ternary\":{\"aaxis\":{\"gridcolor\":\"#DFE8F3\",\"linecolor\":\"#A2B1C6\",\"ticks\":\"\"},\"baxis\":{\"gridcolor\":\"#DFE8F3\",\"linecolor\":\"#A2B1C6\",\"ticks\":\"\"},\"bgcolor\":\"white\",\"caxis\":{\"gridcolor\":\"#DFE8F3\",\"linecolor\":\"#A2B1C6\",\"ticks\":\"\"}},\"title\":{\"x\":0.05},\"xaxis\":{\"automargin\":true,\"gridcolor\":\"#EBF0F8\",\"linecolor\":\"#EBF0F8\",\"ticks\":\"\",\"title\":{\"standoff\":15},\"zerolinecolor\":\"#EBF0F8\",\"zerolinewidth\":2},\"yaxis\":{\"automargin\":true,\"gridcolor\":\"#EBF0F8\",\"linecolor\":\"#EBF0F8\",\"ticks\":\"\",\"title\":{\"standoff\":15},\"zerolinecolor\":\"#EBF0F8\",\"zerolinewidth\":2}}},\"title\":{\"text\":\"Rata-rata Penyewaan Sepeda Berdasarkan Kondisi Cuaca\"},\"xaxis\":{\"title\":{\"text\":\"Kondisi Cuaca\"}},\"yaxis\":{\"title\":{\"text\":\"Jumlah Penyewaan (Rata-rata)\"}},\"bargap\":0.2},                        {\"responsive\": true}                    ).then(function(){\n",
              "                            \n",
              "var gd = document.getElementById('83eb2efe-d185-4cd7-baee-b69e1244bcfc');\n",
              "var x = new MutationObserver(function (mutations, observer) {{\n",
              "        var display = window.getComputedStyle(gd).display;\n",
              "        if (!display || display === 'none') {{\n",
              "            console.log([gd, 'removed!']);\n",
              "            Plotly.purge(gd);\n",
              "            observer.disconnect();\n",
              "        }}\n",
              "}});\n",
              "\n",
              "// Listen for the removal of the full notebook cells\n",
              "var notebookContainer = gd.closest('#notebook-container');\n",
              "if (notebookContainer) {{\n",
              "    x.observe(notebookContainer, {childList: true});\n",
              "}}\n",
              "\n",
              "// Listen for the clearing of the current output cell\n",
              "var outputEl = gd.closest('.output');\n",
              "if (outputEl) {{\n",
              "    x.observe(outputEl, {childList: true});\n",
              "}}\n",
              "\n",
              "                        })                };                            </script>        </div>\n",
              "</body>\n",
              "</html>"
            ]
          },
          "metadata": {}
        }
      ]
    },
    {
      "cell_type": "markdown",
      "source": [
        "### Pertanyaan 2:"
      ],
      "metadata": {
        "id": "P4BDiOT03Sy1"
      }
    },
    {
      "cell_type": "code",
      "source": [
        "# Membuat pivot table untuk heatmap\n",
        "pivot_table = hour_df.pivot_table(values='cnt', index='hr', columns='weekday', aggfunc='mean')\n",
        "\n",
        "# Heatmap dengan styling profesional\n",
        "plt.figure(figsize=(14, 10))\n",
        "sns.heatmap(pivot_table,\n",
        "            cmap='viridis',\n",
        "            annot=True,\n",
        "            fmt='.0f',\n",
        "            linewidths=0.5,\n",
        "            cbar_kws={'label': 'Jumlah Penyewaan'})\n",
        "plt.title('Rata-rata Penyewaan Sepeda per Jam dan Hari', fontsize=16, pad=20)\n",
        "plt.xlabel('Hari (0 = Minggu, 6 = Sabtu)', fontsize=12)\n",
        "plt.ylabel('Jam (0-23)', fontsize=12)\n",
        "plt.xticks(rotation=0)\n",
        "plt.yticks(rotation=0)\n",
        "plt.tight_layout()\n",
        "plt.show()"
      ],
      "metadata": {
        "colab": {
          "base_uri": "https://localhost:8080/",
          "height": 1000
        },
        "id": "RDDjMMfJ3Vwu",
        "outputId": "44565e1c-df73-4025-adb7-950f18528af1"
      },
      "execution_count": 7,
      "outputs": [
        {
          "output_type": "display_data",
          "data": {
            "text/plain": [
              "<Figure size 1400x1000 with 2 Axes>"
            ],
            "image/png": "iVBORw0KGgoAAAANSUhEUgAABQsAAAPdCAYAAAAtdD7LAAAAOnRFWHRTb2Z0d2FyZQBNYXRwbG90bGliIHZlcnNpb24zLjEwLjAsIGh0dHBzOi8vbWF0cGxvdGxpYi5vcmcvlHJYcgAAAAlwSFlzAAAPYQAAD2EBqD+naQABAABJREFUeJzs3XdYFFcbBfCztKWDItUC9t672Dv2joqKvWHs0WDDEkPsidHYYoslti/2gh1jx66gooIgXXpR6s73h7BxBVSMyzB4fs/Do3tnZvcMe3d29+XOHZkgCAKIiIiIiIiIiIjom6chdgAiIiIiIiIiIiIqGFgsJCIiIiIiIiIiIgAsFhIREREREREREVEmFguJiIiIiIiIiIgIAIuFRERERERERERElInFQiIiIiIiIiIiIgLAYiERERERERERERFlYrGQiIiIiIiIiIiIALBYSERERERERERERJlYLCQi+gg7OzvIZDKVH7lcjhIlSqB79+44duyY2BEpF/Pnz8/23GlqaqJo0aJo1qwZfvvtN6SlpYkdk0QQFxeHH3/8EQ0bNoSJiQm0tbVhaWmJ6tWrY/DgwdiwYQOSkpLEjvnVvXz5EjKZDHZ2dmJHKXCyfjcymQwvX74UO45aXLx4ETKZDC1bthQ7Sq6yMspkso+uJ9bz1bJlS8hkMly8eDHfHpOIiEgMWmIHICKSAnt7e5QrVw7Au0LD3bt3ceTIERw5cgRTpkzBypUrv8rjbNu2DcOGDYOzszO2bdv2Ve6zIMj64icIQr4/tqWlJTp27AgASEtLw9OnT3H58mVcvnwZe/bswenTp2FgYJDvuUgcT58+Rdu2bREUFAS5XI6GDRvCxsYGycnJePz4MXbu3ImdO3fC3t4e1apVEzsuEREREVG+Y7GQiOgzjBw5EkOHDlXeTk9Px5QpU7BmzRqsWrUKAwYMQP369cULSLmqVKlStsLr0aNH0bNnT1y9ehVLlizBwoULxQlH+W7QoEEICgpCq1atsHfvXpibm6ssDwwMxPbt22FoaChSQiIqqP7880+8efMGpUqVEjsKERGRWvE0ZCKiL6ClpYVly5bB2NgYwLviE0lH165dMWjQIADAvn37RE5D+eXFixe4desWAGD9+vXZCoUAUKpUKcydO5en6hJRNqVKlUKlSpWgr68vdhQiIiK1YrGQiOgL6erqonz58gCA8PDwbMvPnj2L7777DrVq1UKxYsWUcx06OjrCy8sr2/p2dnYYNmwYAGD79u0qc+29P8dUQEAAlixZgtatW6NUqVKQy+UwNTVF06ZNsWHDBigUii/an/fnidq6dSsaN24MExMTlTmh8vrYWfMGfvgYH841lZaWhp07d8LJyQmVKlWCsbEx9PT0ULFiRUycOBEhISFftE8fU7duXQDINt/V27dvsWLFCjRq1AimpqbQ1dVFxYoVMWPGDERFRWW7n23btkEmk2Ho0KFISkqCq6srypUrB7lcDisrKzg7OyM4OFhlm61bt0Imk6FDhw655gsJCYG2tjb09PSyPW5MTAzc3NxQq1YtGBkZQV9fH9WrV8ePP/6IN2/eqKy7evVqyGQyTJw4MdtjdOrUCTKZDFZWVtlOEf/zzz8hk8kwZMgQlfa///4bI0eORLVq1VCkSBHo6uqidOnSGD58OJ4+fZrjvrx+/RqrV69Gp06dULp0aejp6cHY2Bj16tXDkiVLkJycnON27/fJ//3vf2jatCmMjY1hYGAAe3t7nDhxItffX07ef51aWFjkadss586dQ69evWBtbQ0dHR1YWFigZ8+euHbt2if3YdOmTahbty4MDAxgamqKTp064fr167k+Vnp6Ov744w+0bNkSRYsWhVwuR+nSpTFu3Di8evUq1+2OHTuGFi1awMjICCYmJmjWrBkOHz780f3K6/HqU95/XURFRcHFxUV5zLC1tcWUKVMQExOT6/YhISGYOnUqKleuDH19fRgZGaF+/fpYs2YN0tPTs60/dOhQyGQybNu2DY8ePYKjoyOsra2hqamJ+fPn5zn/+77kmPv+/JAKhQKrV69GjRo1oK+vD2tra4wdOxbR0dEAgJSUFCxatAiVKlWCnp4ebGxsMGnSpC+eN/PPP/9E/fr1oa+vj6JFi6Jjx474559/PrrNl7yu3/+d+/v7Y/DgwbCysoJcLkfZsmUxZ84cpKSkfNE+/Bf/9fnKyMjAypUrUbt2bRgaGqq8h3HOQiIi+mYIRESUK1tbWwGAsHXr1hyXly9fXgAgzJ07N9uysmXLCjo6OkLt2rWFbt26Cb169RKqVKkiABC0tLSEAwcOqKw/bdo0wd7eXgAglC1bVnB2dlb+uLu7K9dbtGiRAEAoXbq00KZNG6F///5CixYtBB0dHQGA0KtXL0GhUOR5XwEIAIQJEyYIGhoaQtOmTYUBAwYIDRs2FF6+fPlFj33w4EHB2dlZed/v75Ozs7Pw+vVrQRAE4dWrVwIAwcTERGjUqJHQt29foVOnToKNjY0AQDA3NxeePXuWp/1xc3MTAAgtWrTIcfmPP/4oABCMjY2VbcHBwUL16tUFAELRokWFtm3bCj179lT2Azs7O+XvIsvWrVsFAEKPHj2EGjVqCKampkLXrl2F7t27CxYWFgIAwdbWVoiNjVVuk5ycLJibmwsymUx4+vRpjvnmzZsnABCGDRum0u7t7S2ULFlSACBYW1sLHTt2FLp27SpYWloKAIRatWqpPJa3t7cAQKhcubLK/aSmpgoGBgbK5+b+/fsqywcPHiwAELZv367SrqmpKejr6wv16tUTevXqJXTr1k0oU6aMAEAwMDAQrly5km1fduzYIQAQihcvLrRo0ULo37+/0KZNG8HQ0FAAIDRu3FhITk7Otl1Wtnnz5gkymUywt7cXHB0dhZo1awoABJlMJvz99985/v5yktXPAAjz58//7O2yTJs2TQAgaGhoCA0aNBD69u0rNGzYUJDJZIKmpqawZcuWXPdhypQpgkwmU76uqlWrpjwW5LQP8fHxQsuWLQUAgqGhodCiRQuhT58+QsWKFQUAgpmZmXDnzp1s261cuVL5mA0aNBAGDBgg1KtXTwAgTJ06VdkfP5TX49WnZL0uunXrJpQtW1YwNTUVevToIfTs2VMoUqSIAECoWLGiEBERkW1bT09P5Tp2dnZCt27dhA4dOijb2rdvL6Smpqpsk3WcGTVqlCCXywU7OzuhX79+QteuXYXly5d/Mq+/v7/y9+bv76+y7EuOuVn3Z2trKwwYMEDQ09MTOnbsKPTo0UN5XKhdu7aQmJgoNG3aVDA2Nha6desmdOnSRTAxMREACA4ODnn6nQuCIEycOFHZR5s3by70799fqFKliqChoSFMmjQp12Pil7yus37nkyZNEoyNjQVbW1uhX79+Qtu2bQU9PT3lcTEvLly4oHwePkZdz1epUqWEbt26CTo6OkKbNm2EAQMGCDVq1FCu16JFCwGAcOHChTztFxERkdSwWEhE9BEfKxb6+PgImpqaAgDBy8sr2/KDBw8K0dHRObZraWkJZmZmwps3b1SWZX3BdnZ2zjXTzZs3hYcPH2ZrDw4OVhZR9u3b9+md+0DWFy9jY2Ph2rVrX/WxP/XlLz4+Xjh8+LCQkpKi0p6amiq4uroKAIROnTrlaX8+VixUKBRCgwYNBABC8+bNlW1ZxdoRI0YI8fHxyvXT0tKUhaJWrVqp3FfWcwZA6NChgxAXF6dcFh0dLdSqVUsAIPz0008q282ePVsAIEycODFbvtTUVMHKykoAINy+fVvZ/ubNG6Fs2bICAGHOnDkqv6+kpCRhwIABORYYs4quwcHByjZPT08BgFCjRg0BgLBixYpPbiMIgrBnzx4hMTEx2+9z7dq1AgChatWq2b6I+/j45NinoqOjhfbt2wsAhKVLl2ZbnvV7NTU1Fa5fv66yLOv5rVChQrbtPqZ79+7K+61SpYowffp0Ye/evcLz588/ut3GjRsFAEK5cuWyFVY9PT0FIyMjQUdHR/D19c1xH/T09IRz586pLFu6dKmySB4eHq6ybODAgQIAoUuXLtmWrVq1SgAglC9fXkhPT1e2379/X9DU1BQ0NDSE/fv3q2yzc+dOQSaT5Vos/JLj1ce8/7po1KiREBUVpVwWExMjNGnSRAAg9O/fX2W70NBQwczMTJDJZMLvv/8uZGRkKJdFRkYKrVu3FgAICxYsUNnu/T9K/PDDDyrbfY6PFZ++5Lj3/v2VLVtW5Y8MkZGRyj80Va9eXWjQoIEQGRmpXO7n56csjF6+fPmz9+HYsWPK4t6lS5dUlv3000/KPDkdE7/kdf3+73z27NkqffHhw4fKP0ZcvXr1s/fhaxQL/+vzVaJEiVz/iMNiIRERfStYLCQi+oicioWxsbGCh4eHUKlSJWXRJq+yijrHjx9Xaf+cYuHHeHh4CACEvn375nnbrC9KCxcu/OqP/Tlf/j7GxsZG0NDQUCngfUpOxcLU1FTB29tb6N+/vzJT1qiukydPCsC7kXlpaWnZ7i8jI0M5Guz9L6JZz5mBgYEQEhKSbbs9e/YIAITWrVurtAcHBwva2tqCiYlJti/pf/31l3LE3fvWrVunLCDlJCEhQbCwsBC0tLRUCj9ZowS3bdumbJs7d64AQDh8+LCgpaUldOzYUbkst9GIn9K4cWMBgODt7f3Z2zx9+lQAINSvXz/bsqznaPXq1dmWJScnK0dgBQYGfvbjxcfHC4MGDVIWzt7/KVGihODq6pqtaJaRkaEsnt66dSvH+80q/E2bNi3HfZg8eXKO22WN+lu8eLGyzcfHR5DJZIKNjU2ufb5Tp04CAOHo0aPKtpEjRwoABEdHxxy3ySqU5lQs/Jjcjlcf836x8O7du9mWP3jwQJDJZIKGhobw6tUrZfvMmTMF4N0I55wEBQUJ2tragrm5uUrxKqtwVaFCBZWi1ef6WPHpY3I77r1/fzn93rJGgMpkshwLW999912ORdGPadu2rQBAmDlzZo7Ls/5wkdto69zk9rrO+p3XrVs3x9HsY8eOzfN7yvvFws/9+drP159//pnr9iwWEhHRt4JXQyYi+gzDhg1TzieYRVNTUznPXm5CQkJw/PhxPHnyBHFxccq5try9vQEAT58+RadOnfKcJyUlBadPn4aXlxciIiKQkpICQRCQkJCgvN8v1adPH9Ee+/79+zh37hz8/f2RlJSknFsqPT0dCoUCz58/R+3atfN0n56enipzTmXR0dGBu7s7evbsCQA4fvw4AKB3797Q0sr+9qihoYHmzZvj0aNHuHr1KqpVq6ayvF69erC2ts62XeXKlQEg27yFNjY26NOnD/766y/s2LEDY8eOVS5bu3YtAGDChAkq22RldHR0zHFfDQ0NUa9ePZw4cQJeXl5o3749AKBt27bYsWMHzp49C2dnZwDv5qjT19dHx44dUb9+ffzzzz9ITU2Fjo4Ozp49q9wuJ8+fP8epU6fw/PlzJCQkICMjA8C/cwI+ffoUVapUUdkmIyMDFy9exNWrVxEaGoq3b99CePdHS+U2uenatWu2NrlcjjJlyuDu3bsIDg5GyZIlc93+fUZGRtixYwcWLlyIQ4cO4erVq7hz5w78/PwQFBQEd3d37Nq1C56ensqLnNy9exchISEoW7ascq7LD2XNK3r16tUcl2f93j80ZMgQ3Lp1CxcvXsSsWbMAACdOnIAgCHBwcICRkVGuj3fixAlcvXoVXbp0AQDlPGpZF+/JKcPH5i5Ux/GqZs2aqFWrVrb26tWro3bt2rhz5w4uXbqEgQMHAvh0Hy9evDjKly8PHx8fPHv2DBUqVFBZ3qNHD2hqauYp4+f40uOelpaW8nX4vqz5bkuVKpXtWPL+8s+drzU9PR2XL18GkPvzP2TIENy7dy/X+/iS1zUAdOnSJcdjbG7Hvs+V22sGABITE/G///0v1+X/5X2qd+/eX5SXiIioMGGxkIjoM9jb26NcuXIA3l2s4Z9//kFCQgLGjRuH8uXLo0GDBtm2WbBgARYvXoy0tLRc7zc+Pj7PWa5fvw5HR0cEBgZ+9v0OHTo02zrFihXD8uXLs7V/7CqwX/LYnyMpKQmDBw/GwYMHP7rel9y3paUlOnbsCOBdwc/Y2BhVqlRBt27dYGVlpVzPz88PADB37lzMnTv3o/f5+vXrbG2lSpXKcd2sK2bndBGPiRMn4q+//sLatWuVxcIHDx7g8uXLsLS0zFa4zco4ePBgDB48+LMzZhX9zp07B+Dd79HLywvt2rWDjo4O2rZti2vXruHatWto0aJFrsXCjIwMTJgwARs2bMh2QZT3ffg8PXv2DD179lQWnT5nm/d9ye/2U0qXLo0pU6ZgypQpAN5dFGHz5s1YunQpAgMD4eLioixcZf3eX7x4kWNR5H059Y2sx/tYe1BQkLIt6/E2b96MzZs3f/bjZd3Hpx4rJ+o6Xn3sMUuXLo07d+7kuO/NmjX75H2/fv06W7FQHVex/i/HPWtr6xz/+GBoaAgg976dVST+3L4dFRWlXDevz/+Xvq6zqOP1Cby7SE5uXr58mWux8L88XxYWFrzSMREREVgsJCL6LCNHjlQpuMXFxaFnz564cOEC+vXrBx8fH5UvGH///Tfmz58PQ0NDrFmzBq1bt4aNjQ309PQgk8kwa9YsuLu7f/SLWU7evHmDHj16IDw8HMOGDcO4ceNQrlw5GBsbQ1NTE76+vqhYsWK2+92+fXu2+7K1tc2xWKinp/dVH/tzuLq64uDBg6hUqRJ+/vln1K9fH8WKFYOOjg4AoEmTJrh27doX3XelSpU++qUzS9YoxqZNm6Js2bIfXbdq1arZ2jQ0NPKcrVGjRmjQoAFu3rwJT09PtGjRQjmqcPTo0cr9/zBjx44dYWlp+dH7trW1Vf7fxsYGlStXxuPHj/Ho0SP4+fkhPT0d7dq1A/CuKLho0SKcOXMG9vb28PT0hJaWlspVuAHg119/xfr162FlZYWVK1eiSZMmsLS0hK6uLgBg4MCB+Ouvv7I9T3369IG3tze6dOmCGTNmoEqVKjA2Noa2tjZSU1Mhl8s/ui9f8rvNK1tbWyxcuBBFihTB1KlTcfr0abx9+xZ6enrK37uVldVHr2ANvCvCf4n3f2dZj1erVi3UrFnzo9s1bNjwix7vfeo6Xn2unPa9T58+MDAw+Oh2ZmZm2dpyO359qf963PtU382Pvv0pX/q6zlIQ9iHLf32+vnb/ISIikioWC4mIvoCJiQn27t2LSpUqISAgACtXrsScOXOUy/ft2wcAWLx4MUaPHp1t+2fPnn3R4166dAnh4eGoU6cOtmzZ8tn3+zW+5H/pY3+OrN/X3r17UaNGja96358r6zTW7t27Y/r06Wp/vCwTJ07EoEGDsGbNGtSsWRO7du2ClpaWymnJ72d88uQJRowY8cnTxT/Utm1bPH78GGfPnlWO3soaOdi4cWMYGBjg7Nmz6NSpE+Lj49G4cWPlyKAsWc/Thg0b0K1bt2yPkdPz9OTJEzx48AAWFhY4ePBgtlFW+fHc5kXWKaPp6emIjY2Fnp6esm+YmZl9VuE5J/7+/jmejvvy5UsAQIkSJZRtWY9nb2+PNWvWfPZjFC9eHC9evMDLly9zLGhnPdaH1HW8At7td25y2/dnz55h5syZqFev3hc/7teizuPe12RmZga5XI6UlJQvfv7z8rouqKTyfBERERV0BedPgUREEmNubq4sEC5fvhyxsbHKZdHR0QBUR3dliYiIwJkzZ3K8z6yRZFlzhX0o635zO+1r586dnxf+C/yXx9bW1gbw6f3K6ffl4eGByMjIPGX9Eg4ODgCA/fv3q20EVU769esHa2trHDp0CIsXL0ZSUhJ69uwJGxubXDNmfbnPi6zC4JkzZ3D27FlYWVmhevXqAN49P82bN8etW7dw4MABlfXf97HnydvbO8f50LK2sbGxyfF0THX22Q99zvOadeqiXC5XjhLMGunq4+Pz0VOpP2bHjh0fbX9/FGfW83zkyJE8ncLZokULAMCuXbtyXP7nn3/m2P6lx6vP8eDBAzx48CBbu7e3N+7cuaOcCzTLf+nj6iDmMTcvtLS0YG9vDyD35z+3Pvglr+uCSirPFxERUUHHYiER0X8wfvx4lCpVCnFxcVixYoWyPWti940bNyI1NVXZHhcXB2dnZ8TFxeV4f1kjbHx8fHJcnnW/586dy7bOxo0bsXfv3i/fmU/4L4+dtV+5FVqy7vu3335TaX/69GmOI+zUoXv37qhfvz5u3ryJYcOG5Tj3XExMDNavX59r0fNLaGtrY9y4cUhPT1eeFv7hhU2yjB49Gra2tti/fz9mzpypnKz/fWFhYdi0aVO29pYtW0JLSwvnz5/H48ePsxUD27Zti4yMDKxbt055+0NZz9PatWuVp4sCQGhoKIYMGZLj76VChQrQ1NTEw4cPlRfgyHL06FGsWrUqx31VhwcPHqBVq1Y4ePCgyusyy/379zFp0iQA7y5ykFXk1tbWhpubGwRBQM+ePZUXknhfRkYGzp8/j+vXr+f42OvWrcu2/6tWrcLNmzdhZGSEESNGKNtr166N3r1749WrV+jVq1eOI8KSkpKwa9cu5cUnAOC7776DpqYm9u3bl23+zz179uDQoUM5ZvvS49XnEAQB48aNQ0xMjMr9jhs3DoIgoHfv3ioXp/n+++9hamqKlStXYsWKFTk+T/7+/vlW9BHzmJtXkydPBvDuOPrhhXaWLl2KO3fu5Ljdl7yuCyopPV9EREQFWn5ddpmISIpsbW0FAMLWrVtzXWfLli0CAMHIyEiIiooSBEEQ/Pz8BFNTUwGAULx4caF3795Ct27dBBMTE8Ha2loYPny4AEBwc3NTua+UlBTBxsZGACDUrl1bGDJkiDBixAhh6dKlynW6d+8uABB0dHSE9u3bC/379xcqVaokyGQyYfbs2QIAwdbWNs/7CkD41NvClz729OnTBQBCsWLFhH79+gkjRowQRowYIURGRgqCIAj/+9//BJlMJgAQqlevLvTv319o3bq1oK2tLbRu3Vpo0qSJAEC4cOHCZ++Pm5ubAEBo0aLFZ28THBws1KpVSwAgGBgYCE2aNBH69+8v9OrVS6hVq5agqakpABDevn2r3Gbr1q0CAMHZ2TnH+/T39//kcxIeHi7I5XIBgFCjRo2PZnz06JFgZ2cnABBMTU2F5s2bCwMHDhR69OghVKlSRZDJZIKlpWWO2zZu3Fj5PG/fvl1l2f3795XLDAwMhNTU1GzbX79+XdDR0REACOXKlRP69esndOzYUdDT0xOqVq0q9OzZM8fXy6RJkwQAgoaGhtCiRQthwIABQp06dQQAwpw5c3Lte5/qky1atMhTv7h7967KPjZt2lRwdHQUevbsqXzeAQi1atUSIiIism3//fffK9epWrWq0L17d6F///5Cy5Ytla/3devW5bgPkydPFmQymdC8eXNhwIABQvXq1QUAgqamprB///5sjxUfHy+0adNG+XqrX7++0K9fP6Fv375C/fr1lc/D48ePVbZbunSp8jEbNmwoDBw4UKhfv74AQJgyZUqOffFLj1cfk/W66Natm1CmTBnB1NRU6Nmzp9CrVy+haNGiAgChfPnyQnh4eLZtPT09hWLFigkABAsLC6F169aCk5OT0KVLF6Fs2bLKfXufs7PzJ4/VH5P1OgUgBAQEqCz7kuPep173Fy5c+Ojx6VPHldy4uLgoX2stW7YUBgwYIFStWlXQ0NBQvg4/fMwvfV1/6nf+JfuQ9Xv51HvR+8+Xv7+/yjJ1PF9Z8nrMISIikiqOLCQi+o+GDBmCKlWqICEhAcuWLQPw7qqTd+/ehZOTEzQ1NXHs2DHcv38fAwYMwN27d1VG0rxPR0cHHh4e6NatG4KCgrBz505s3rxZeVVW4N1pssuWLUPFihVx+fJlnD59GqVKlYKHhwdGjhyp1n390sdetGgRZsyYAVNTUxw6dEh5ldeskXG9evWCp6cn2rRpg9DQUBw5cgQRERGYP38+Tp48qRzhpW42Nja4fv061q9fjwYNGuDp06c4cOCAciTZ2LFj4eHhoZz4/2uxsLBQzmfn4uLy0XWrVq2KBw8eYOnSpahcuTIePHiA/fv348aNGzAwMMD06dNzvar0+6MFPxw5WL16dVhYWAAAmjdvnuPvvGHDhrh16xa6deuGpKQkHDlyBC9evMB3332Ha9euZZvjMMuqVauwefNm1K5dG7dv38aJEyegr6+PPXv2YNGiRR/d36+pWrVq8PT0xLx581C/fn2EhITg6NGjOH78OCIiItCxY0ds3LgRN2/ehLm5ebbtly5diitXrsDJyQmJiYk4deoUjh8/jpCQELRs2RJ//PEHHB0dc3zsVatW4ffff0d8fDwOHTqEgIAAdOzYEZcuXcpx/kkjIyOcPn0au3fvRtu2bREYGIiDBw/i/PnzePv2LZycnHDw4MFsF+P5/vvvcfjwYTRt2hSPHj3CkSNHoK2tjQMHDmDixIk5ZvvS49XnKFKkiPLqtF5eXjh27BgMDAwwceJEXL9+Xdnn3te8eXN4e3tj7ty5KFGiBLy8vLB//37cu3cPlpaWcHNzy3H07H/x9u1b5f8/vLCKmMfcvFqzZg22bNmC2rVr4/r16zhx4gSsra1x7tw59OjRI8dtvvR1XVBJ6fkiIiIqqGSCkI8TMxEREVE2vr6+qFSpEkxMTBAcHKxyZW2SNplMBuDrXGRISrZt24Zhw4bB2dn5iy8Kk5+OHj2Kbt26wdjYGLGxscrnjYiIiOhbxJGFREREIps3b55ybjcWConyV0pKCn7//XcAQLt27VgoJCIiom9e9ssSEhERkdodOXIEhw8fhre3N27cuAErKyvMmDFD7FhE34zTp09j06ZN8PLyQkBAAAwMDLBgwQKxYxERERGJjiMLiYiIRHDnzh1s2bIFPj4+aNu2LU6fPg1TU1OxYxF9M3x8fPD3338jOTkZffv2xbVr11C1alWxYxERERGJjnMWEhEREREREREREQCOLCQiIiIiIiIiIqJMLBYSERERERERERERABYLiYiIiIiIiIiIKBOLhURERERERERERASAxUIiIiIiIiIiIiLKxGIhERERERERERERAWCxkIiIiIiIiIiIiDKxWEhEREREREREREQAWCwkIiIiIiIiIiKiTCwWEhEREREREREREQAWC4mIiIiIiIiIiCgTi4VEREREREREREQEgMVCIiIiIiIiIiIiysRiIREREREREREREQFgsZCIiIiIiIiIiIgysVhIREREREREREREAFgsJCIiIiIiIiIiokwsFhIREREREREREREAFguJiIiIiIiIiIgoE4uFREREREREREREBIDFQiIiIiIiIiIiIsrEYiEREREREREREREBALTEDkBERERERERERIWTIqyC2BHyRMPKV+wIovtmi4XtmvwodgQqhM5cnQMHy3Fix6BC6GT4OnQsOkrsGFTInIrexGMWqcXJ8HVwsHYROwYVQidD18Kh9FSxY1Ahc9J/Jb8fklqcuTpH7AhEX4SnIRMRERERERERERGAb3hkIRERERERERERqZcCCrEj5AlH1fF3QERERERERERERJlYLCQiIiIiIiIiIiIALBYSERERERERERFRJs5ZSEREREREREREapEhSGvOQhbKOLKQiIiIiIiIiIiIMrFYSERERERERERERAA4upKIiIiIiIiIiNREAUHsCJRHHFlIREREREREREREAFgsJCIiIiIiIiIiokySPA157dq1WLZsGcLCwlCzZk389ttvaNCggdixJEtPXwdDR7WAfYtKMC2ij+e+Yfj9l9PwfRyabd1J3zugS8+6+P2X0zi476YIaUkqOjs3R+ehzWBZ0gwAEPA0FLtXnMCt897Z1l24ewLqt6mKhUPX49rJ+/kdlSTGcbID7LvUQYnyVkhNToXPzRfYsuB/CHoerlyniIUxRi7og9otq0DfUBdBz8Pw18oTuHL0jojJqaD71HFryd9TUMO+gso2x7dfwpoZf+V7VpKWzkOaobNzM1iWLAogs2+tOolb530AANa2xTDSrSeqNigLbR0t3LrwGOtm70NsZIKYsamAc5rUAYMmd1Bpe/UiHKPbLoGhiT4GT+mAOs0qwtymCOKiEnHtzCP8ufIk3iQki5SYpITfEYm+bZIrFu7duxdTp07F+vXr0bBhQ/zyyy/o0KEDnj59CgsLC7HjSdLUHzrDrowFliw8jKjXCWjTsTqW/uqEEQM3IOq9D6n2zSuictXiiHwdL2JakorI0Bhs/fEQgv0iIJPJ0NaxEeZtH4sJbX9C4NN/P2T0GNMaEDiHBX2+6vYVcHTzBfjefQkNTQ0Mm9sTi/83BaMbz0PKm1QAwPR1w2ForI/5TmsQH5WIVn0aYtaWMZjY+ke8ePhK5D2ggupzjlsnd/yDHUuOKbdJeZsqVlySkMjQGGxdfBjB/pl9q19DzNs6BhPa/YzwV1FYvGcC/HyC8UOf1QCAwTO7YP6fYzGl83IIfI+kj3j5NBSzBq1X3s7IUAAAzCyNUdTCBH/8dASBz8JhUbwIJizuAzNLYywev12suCQh/I5IX5MCCrEjUB5J7jTklStXYtSoURg2bBiqVKmC9evXQ19fH1u2bBE7miTp6GihWcvK2PT7OTy8F4iQ4Bjs2HwJwUEx6NqrrnI9s2JGcJnaAe4LDiE9nS90+rQbpx/C65w3QvxfI9gvAtvdjyA5KQWV6pZWrlOmagn0HtsWqybvEDEpSc2cvr/izF9XEfAkBP7eQVjhshWWJc1Qvqatcp0q9cviyKbz8L3zEmEBkfhrxXEkxb1B+Vq2H7ln+tZ9znEr5W0aYl7HK3/eJHKEDn3ajTOP4HX+vb7189HMvmWHqg3KwKKkGVZO2oGXT0Lw8kkIVkz8E+VrlkLNphU+fef0TcvIUCAmMkH5Ex+TBAAI8A3D4vHbcOOcD0IDo3D/2nNsX34SDVtXhYam5L4CUj7jd0QiktQ7RWpqKm7fvo22bdsq2zQ0NNC2bVtcu3ZNxGTSpamlAU0tDaSlpKu0p6ako1qNkgAAmQyY6dYd+3dfQ4B/pBgxSeI0NGRo0aMedPV18OSWHwBArqeNmeuGY63rHsTwL5H0H+gb6wEAEmKTlG0+Xi/QvGd9GJrqQyaToUWv+tCRa+P+5adixSSJyem4BQCtetXHHp9lWOc5F0Nnd4dcT1vElCRFGhoytOhe913fuu0PbR0tQBCQlvrvZ7G0lHQICgFVG5QVMSlJQXG7Yth53Q1bPGdjxionmNuY5rqugZEu3iQmQ5HBog59HL8jEpGkTkOOjIxERkYGLC0tVdotLS3x5MmTHLdJSUlBSkqKSptcLldbRql5+yYV3g9fwWlYMwQGRCImOgmt2lVF5WrFERIUAwBwHNQEigwFDu7zEjktSY1dZRusPP49dOTaeJuUgkXDNiDQNwwAMHphX/jc8sP1Uw9ETklSJpPJMPan/vC+/gwBj0OU7T8N24BZW8bggN+vSE9LR8rbVCwc8jtC/V+LmJak4GPHrYsHvRD+KgrR4XEoXaU4hs/piRJlLfHj8I0ipyYpsKtkg5XHpkNHrvWubw3fhEDfMMRFJSL5TSqGz+mObe5HAMgwfHZ3aGppoqilidixqQB7ei8AK77fgyC/CBS1MIbTxPZYtm8CxnVYhrdJqt9/jIsYYMB37XByDwdY0KfxOyJ9bRmcUkNyJFUs/BLu7u5YsGCBSpubmxu+gV3/bEsWHsH0WV2w58hkZKQr8Mw3FBfOeqNCRWuUr2iFnv0aYPywP8SOSRIU9DwcLq1/goGxHpp2rY1pq50xo+dKWJe2QM2mFTGhzU9iRySJc1k2EHaVbTCt01KV9iGzesDARA8/9FiBuKhENOlcG7O2jMH0Tkvx8nGwSGlJCnI7bgX6huHkjsvK9V4+DkF0eDx+/t9kWNsWQ2gAR1XQxwW9CIdLW3cYGOuiaZfamLZ6MGb0+gWBvmH4afQfmPBzf3Qb0RKCQsDFQ7fx7EEgBAW/XFHubnn+O1ji5ZNQPL0bgO2X56JZ51o4ve+Gcpm+oRwLtoxE4LNw7PzFQ4yoJEH8jkj0bZNUxaxYsWLQ1NREeHi4Snt4eDisrKxy3MbV1RVTp05VaZPL5ehyepnackpNaHAMprnsgK6uNvQN5IiOSsTshT0RGhKDajVLwbSIAXb9PVG5vqaWBsZ81xa9HBtgcO81Iiangi49LQOhL9+N5Hr+IBAVatmh+6jWSE1Og7VdMRx4tkJl/dmbR8P7+nPM7LVKjLgkMeOXDEDDDjUwvfMyRIbEKNut7czRfXRrjGnihoAn70Yb+nsHoVqjcug6shV+m7ZTrMgkAbkdt377fne2dZ/c8QcAWJc2Z7GQPkm1b71ChZq26D6yFX6b8RfueD7B8MbzYVzUABnpCiTFv8Wu++4IDbgtcmqSkqSEZAT7v4aNbTFlm56BHIu2jcbbxBQsGrMVGZxXjj4TvyMSfdskVSzU0dFB3bp1ce7cOfTo0QMAoFAocO7cOUyYMCHHbeRyOU87/kzJyWlITk6DoZEu6jUsi02/n8M/F57g7i1/lfXcVw3A2VMP4XH8vkhJSapkGjJo62hh59JjOLXrisqy9Z5zsXHeAdw4zdOS6dPGLxmAJp1rY0a35QgPVC3SyPV0ALx7f3ifQiFApiHLt4xUOGQdt3JStmoJAEB0BOddpbzLqW/FR7+be7WmfQWYFjPEdb4nUh7o6uvA2rYYzh16V2TWN5Tjx+1jkJaajgWjNqvMi0n0ufgdkb4GBThSXmokVSwEgKlTp8LZ2Rn16tVDgwYN8MsvvyApKQnDhg0TO5pk1WtYBgAQFBgNmxJFMNqlDV4FRMLj2H1kZCiQEP9WZf30dAWio5IQFBgtRlySiKGzu+PWOW9EBEdD31AXLXvVR40m5THH8TflVUQ/9Do4GuGBUSKkJSlxWTYQrfo0xAKntXibmIwiFsYAgKT4t0hNTsOrZ2EIfhGOiSsHY9O8/UiITkLjzrVQu2VluPX/TeT0VJB97LhlbVsMLXvVh9c5b8THJKJ0lRIYs7APHl71xUsfntpOHzd0VjfcOu+DiKCsvlXvXd8asBYA0M6xEV49ezd/YaV6pTF2YR8c3HgBwS8iRE5OBdnIWV1x45wPwoOiYWZpgkFTOkCRoYDnkTvQN5Rj8Z9jIdfTxrIpu6BvqAt9Q10AQFx0IhQ8xZ0+gd8Rib5tkisWOjo64vXr15g3bx7CwsJQq1YtnDp1KttFT+jz6RvIMWJcaxQzN0JC/FtcvvgEWzZcRAavlEb/gWkxI0z/bSiKWhojKSEZ/j7BmOP4G+5eyvliRESfq+uIVgCAZce+V2lf4bIVZ/66ioz0DMx1XI3hbr2wYPd30DOQI8Q/AivGb4XX2UdiRCaJ+Nhxq5hNEdRuXgk9RreGrr4cr0NicPnYXexZdVLs2CQBpmZGmL56CIpavNe3BqxVvieWKGuJobO6w8hUH+GvorBntQcObjgvcmoq6IpZmWLmr4NgbGqAuOhEeN/yx5RevyIuOgnVG5ZFpdq2AIAtnrNVtnNuuggRwTE53SWREr8jEn3bZILwbV6Wpl2TH8WOQIXQmatz4GA5TuwYVAidDF+HjkVHiR2DCplT0Zt4zCK1OBm+Dg7WLmLHoELoZOhaOJSe+ukVifLgpP9Kfj8ktThzdY7YEQqE2JCSYkfIE1ObV2JHEJ3kRhYSEREREREREZE0ZHDOQsnREDsAERERERERERERFQwsFhIREREREREREREAnoZMRERERERERERqouBpyJLDkYVEREREREREREQEgMVCIiIiIiIiIiIiysRiIREREREREREREQHgnIVERERERERERKQmGQLnLJQajiwkIiIiIiIiIiIiACwWEhERERERERERUSaehkxERERERERERGqhEDsA5RlHFhIREREREREREREAQCYInGmSiIiIiIiIiIi+vpBgG7Ej5IlN8RCxI4jumz0NuWOteWJHoELo1L2F6GAwROwYVAh5JP2J9joDxY5Bhczp1N3ooDdY7BhUCHm83cH3Q1ILj6Q/0dFkuNgxqJA5FbcFHavOFjsGFUKnvBeLHYHoi3yzxUIiIiIiIiIiIlKvDPCEVqnhnIVEREREREREREQEgMVCIiIiIiIiIiIiysTTkImIiIiIiIiISC0yeBay5HBkIREREREREREREQFgsZCIiIiIiIiIiIgy8TRkIiIiIiIiIiJSC4XYASjPOLKQiIiIiIiIiIiIALBYSERERERERERERJlYLCQiIiIiIiIiIiIAnLOQiIiIiIiIiIjUJAMysSNQHnFkIREREREREREREQGQ4MjCS5cuYdmyZbh9+zZCQ0Nx8OBB9OjRQ+xYkrb9xBRY2hTJ1n507w0c2H4F209MzXG7xd/vxT9nvNUdjySsmn1F9J3cCeVr28HMugjmO/6Ca8fuKJd7JP2Z43abZu/BgV9O5FdMkqDqTSuh77QuKF+7NMxsimB+n5W4euSWcvngub3Rsl9jmJcoirTUDDy7449t8/biidcLEVNTQVfNviL6TumM8nUyj1n9fsG1o7eVy6dtHI32g5upbHPr9APM7r4sv6OSxPD9kNTBcWon2HetixLlrZGanAqfG8+xxe0Agp6HKddZemwGajSrpLLd8S0X8NuUHfkdlyTGzMIYI6Z2QL1mFSDX1UZIYBRWzvkbz7yDAQC6+joYPqUDGreuDGNTfYQFx+Dwzms4se+myMmJ6GuQXLEwKSkJNWvWxPDhw9GrVy+x4xQKE502QEPj30GmduUs4L5hKP45443XYXEY0GapyvoOveuhj7M9vC4/y++oJDG6BnL4PQyEx5+X4LZnUrbl/ct8p3K7fvsamPL7CFw+5JVfEUmidA3k8HsQAI9tF+G2P/sfNIKehWLNpG0I9Y+AXE8bvSZ2gvsJVwytPAVxkQkiJCYp+PeY5Qm3vZNzXMfL4z5WjNmkvJ2WkpZP6UjK+H5I6lDdviKObjoP3zv+0NDSxLB5vbD44FSMbjgHKW9Sleud2OaJHYsPKm+nvE3N6e6IlAyNdbFy52jcv+mHOWO3Iy46CcVtzZAY/1a5zugZnVCrYRks+2E/woNjUMe+PCbM6Yro1/G4fuGJiOmpIFIIYiegvJJcsdDBwQEODg5ixyhU4mLeqNzuN7wZQgKj8ODWSwBATFSiyvImrSvjn9OPkMwPGvQJt04/wK3TD3JdHhMep3K7cec6uH/pMcJevlZ3NJI4L4/78PK4n+vyC3uuqtze8P1OOAxvhdLVS+HeBY6Ippx96pgFAGmp6dmOXUSfwvdDUoc5vVep3F4xbgv2+v2K8rXs8Oiqr7I95U0qYiLi8zseSVjfEc3xOiwOK+f8rWwLD45RWadKrVI4e/guHnj5AwBO7vdCp771UbF6CRYLiQoBzllIKrS0NNG6Uw14HL6b4/Jyla1RrpI1Th26k+Nyoi9lamGMBh1rwmP7JbGjUCGjpa2JTiNbIzE2CX4PAsWOQxJXo1kl7A1Yiz/uL8V3vw6FUVFDsSNRIcP3Q/pS+iZ6AICEmCSV9lb9GmGv369Yf20hhrn1hlxPR4x4JCGNWlWGr3cwZq/sjz2XXLHmgAs69qmnso7PvUA0alUJZhbGAIAaDUqjuF0x3L7yXIzIRPSVSW5kYV6lpKQgJSVFpU0ul4uUpuBr3LoSDI10ceZIzsXCDj3rIuBFBB7ff5XPyaiwa+fUFG8TknH58K1Pr0z0GRp2qo1ZO7+DXF8H0aGx+MHBHfFRPAWZvtytMw9w5bAXwl6+hnUZSwxb0BeLD0/H5BYLoOD5NfSV8P2QvoRMJsNY9wHwvvYMAY+Dle0XDtxAxKtIRIXGonTVkhi+oA9KlLfCokFrRUxLBZ11iSLo4tgAf2+/gj0bPVGhegmMc+2C9LQMnM0cVLJu8VFMXNADuy7MRHpaBhSCgF/dDuLR7Zfihieir6LQFwvd3d2xYMEClTY3NzeR0hR8HXvUhdeV54h+nf0LtY5cC60cqmP3Rk8RklFh12Fwc5zfe43zf9FXc/+iD8bVd4WxmRE6jWiFObsnYmLTeYh9zVOx6Mt47r+u/P9L7yD4PwzE9scrUaN5Zdy76CNiMipM+H5IX8JlxSDYVS6OaR3dVdpPbvv3c/tLn2BEh8diydEZsC5tjlB/nuZOOZNpyPDsUTC2/XoGAPDiSSjsylmgc78GymJhN6fGqFyjJNxcdiAiJAbV6pWGy5xuiI5IwN3rvKAcqcqATOwIlEeF/jRkV1dXxMXFqfy4urqKHatAsrA2Qa2GZXDq4O0clzdrWxVyXW2cO3Yvf4NRoVetSQWUrGiDU9svih2FCpHkNykIeRGOJzefY+WYTchIV6DjsJZix6JCJOzla8S+jodNWUuxo1AhwfdD+hLjlzmhYYeamNF1KSJDYj667pNbfgAAmzIW+RGNJCr6dQICX6gWkwP9XsPc2hTAu0EkQye3w8alJ3Hj4hP4+4bj6O7ruHTyIXoPaypCYiL62gr9yEK5XM7Tjj9T++51EBedhJv/+Oa4vEPPOrh+8Wm2C6IQ/VcdnFvA944//B7y9HZSH5mGDNpybbFjUCFSrHgRGJsZIjosVuwoVEjw/ZDyavwyJzTpUgczOi9BeEDkJ9cvW70UACA6jBdqotz53A1EidLFVNqK2xVDRGYxWktLE9raWtmm4FAoFJDJOIKMqDCQXLEwMTERz5//O2mqv78/7t27h6JFi6JUqVIiJpM2mUyGdt1q48zRe1BkKLItty5ZFNXq2GLuhJ0ipCOp0jWQq4y4sbIzR5kapZAQnYTXQVEAAH0jXTTv2QAbXXeLFZMkSNdADptyVsrbVnbmKFPTFgnRiUiISsQA1x64dvQ2osNiYWJmhK7j2qFY8SK49L/rH7lX+tblesyKSUJCdCIGze6Jy4e8EBMWB+syFhi5uD9CXoTj9pmHIqYmKeD7IamDy4pBaNWnERYMXI23ickoknmhiaT4t0hNToN1aXO06tMIN888QEJ0IkpXLYnR7v3x4PJT+HsHiZyeCrKDf17Byp1j4DiqBS55PETF6iXQqU99/Dr/EADgTVIKHtz0w8jpHZGakobwkFjUqG+HNt1qY+PSE+KGpwKJpyFLj+SKhbdu3UKrVq2Ut6dOnQoAcHZ2xrZt20RKJX21G5WBpY0pTudyleMOPeogMjwed65x/gn6fBXqlMayU7OUt8cucQIAnN75D1aM2QQAaNGnESADLuxnEYc+X4W6ZbD87Fzl7bHLBwMATv/piV9dtqBkRWu0GzQZxsWMkBCViKe3X2Bqq4UI8AnO7S6J3h2zTs9W3h67NPOYteMf/DZxK0pXK4l2Ts1gYKqPqNAY3Dn7CNsXHkBaarpYkUki+H5I6tB1ZGsAwLITP6i0rxi3GWd2X0FaajpqtayCHuPbQVdfjtfB0bhy5Db+WnZUjLgkIb6PgrFw0i4Mm9weTuNaISwoBuuXHMeF4/eV67h/vxfDJrfHjCX9YGSih4iQWGxffQbH994UMTkRfS0yQRC+ycv3daw1T+wIVAidurcQHQyGiB2DCiGPpD/RXmeg2DGokDmduhsd9AaLHYMKIY+3O/h+SGrhkfQnOpoMFzsGFTKn4ragY9XZn16RKI9OeS8WO0KB8PBVCbEj5En1khx9XegvcEJERERERERERESfR3KnIRMRERERERERkTQoBM5ZKDUcWUhEREREREREREQAWCwkIiIiIiIiIiKiTDwNmYiIiIiIiIiI1CIDPA1ZajiykIiIiIiIiIiIiACwWEhERERERERERESZWCwkIiIiIiIiIiK1yICGpH7yYv78+ZDJZCo/lSpVUi5PTk6Gi4sLzMzMYGhoiN69eyM8PFzlPgIDA9G5c2fo6+vDwsIC33//PdLT07/K7/5Lcc5CIiIiIiIiIiKiL1C1alWcPXtWeVtL699S25QpU3D8+HHs378fJiYmmDBhAnr16oUrV64AADIyMtC5c2dYWVnh6tWrCA0NxZAhQ6CtrY2ffvop3/clC4uFREREREREREREX0BLSwtWVlbZ2uPi4rB582bs3r0brVu3BgBs3boVlStXxvXr19GoUSOcPn0aPj4+OHv2LCwtLVGrVi0sWrQIM2fOxPz586Gjo5PfuwOApyETEREREREREREBAFJSUhAfH6/yk5KSkuv6z549g42NDcqUKQMnJycEBgYCAG7fvo20tDS0bdtWuW6lSpVQqlQpXLt2DQBw7do1VK9eHZaWlsp1OnTogPj4eHh7e6tpDz+NxUIiIiIiIiIiIlILhSCT1I+7uztMTExUftzd3XPct4YNG2Lbtm04deoU1q1bB39/fzRr1gwJCQkICwuDjo4OTE1NVbaxtLREWFgYACAsLEylUJi1PGuZWGSCIAiiPToRERERERERERVaNwJKix0hT2pZPck2klAul0Mul39y29jYWNja2mLlypXQ09PDsGHDst1XgwYN0KpVKyxZsgSjR49GQEAAPDw8lMvfvHkDAwMDnDhxAg4ODl9np/Lom52z0KHiD2JHoELo5NOf0V67v9gxqBA6nbYH7TQdxY5BhcyZjL3sV6QWZzL28v2Q1OJ02h500HUSOwYVMh7Ju+BgN0XsGFQInXy5SuwI9AU+tzCYE1NTU1SoUAHPnz9Hu3btkJqaitjYWJXRheHh4co5Dq2srHDz5k2V+8i6WnJO8yDmF56GTEREREREREREapEBmaR+/ovExES8ePEC1tbWqFu3LrS1tXHu3Dnl8qdPnyIwMBCNGzcGADRu3BgPHz5ERESEcp0zZ87A2NgYVapU+U9Z/otvdmQhERERERERERHRl5o+fTq6du0KW1tbhISEwM3NDZqamhgwYABMTEwwYsQITJ06FUWLFoWxsTG+++47NG7cGI0aNQIAtG/fHlWqVMHgwYOxdOlShIWFYc6cOXBxcfni0Y1fA4uFREREREREREREeRQUFIQBAwYgKioK5ubmaNq0Ka5fvw5zc3MAwKpVq6ChoYHevXsjJSUFHTp0wO+//67cXlNTE8eOHcO4cePQuHFjGBgYwNnZGQsXLhRrlwCwWEhERERERERERJRne/bs+ehyXV1drF27FmvXrs11HVtbW5w4ceJrR/tPWCwkIiIiIiIiIiK1yBB4uQyp4TNGREREREREREREAFgsJCIiIiIiIiIiokw8DZmIiIiIiIiIiNRCwXFqksNnjIiIiIiIiIiIiACwWEhERERERERERESZWCwkIiIiIiIiIiIiABKcs9Dd3R1///03njx5Aj09PTRp0gRLlixBxYoVxY4maWYWxhj+vQPqNasAuZ4OQgKisGrWfjx7FAxNLQ04T26Pes0rwbpkUSQlJuPu1efYuuIkoiMSxI5OBVj1ppXQd1pXlK9TGmY2RTG/93JcPXJLZZ0hbn3hMKI1DE0N4H31KVZP2IyQ52EiJSap2vHiN1jZWWRrP/K7B377bosIiagw0NCQYbBbX7RxaoaiVqaIConG6e2e2LX4b7GjUSGgZ6gL5wX9YN+9PkwtTPD83kusm7oNvrf8xI5GElKtaSX0ndIZ5WuXhplNEczvuxLXjt5WLh80pxda9m0M8xJFkZaaged3/bHVbR+eer0QMTUVdE6TO2DQ5I4qba9ehGN0m58BANpyLYya3R0tutaGto4Wbl96grVzDyA2MlGMuCQBGZCJHYHySHLFQk9PT7i4uKB+/fpIT0/HrFmz0L59e/j4+MDAwEDseJJkaKyHFX+Nw/0bLzB31FbExSShuG0xJMa9BQDIdbVRtkpx/LXuHPyehMLIWA9jZneF2zpnTOq9RuT0VJDpGujC70EAPLZdhNuBadmW95veDT0mdMSy4b8j7OVrOM/vB/fjrhhZYzrSUtJESExSNaHhLGho/jtY3q5aKSw9PQeeB66LmIqkznFGd3Qd2w5Lh/2OAO8gVKhXBtM3j0NS3BscWnNK7HgkcVM2jIFd1RJYOnQtokJj0GZgMyw5NQcja0xDVEiM2PFIInT15fB7GAiP7Z5w2zcl2/LgZ2FYO2UbQv0jINfVQc+JDnA/9gOGVZ2KuEj+0Z9y9/JpKGYNWqe8nZGuUP5/zNweqN+qCn4avw1JCckYv7A35qwfjul9VosRlYjUQHLFwlOnVD+cb9u2DRYWFrh9+zaaN28uUipp6zuqBV6HxWLVrAPKtvCgfz+kvklMwezhm1W2WbfoCH49MAHm1iZ4HRqXb1lJWrw87sHL416uy3tOdMDunw4q/wK+dNha7AveAPvu9XBx37V8SkmFwYdfePrPrIPg52F44OkjUiIqDKo0qYCrR27h5om7AIDwgNdo1d8eFRuUEzkZSZ2Orjaa9WoAt17L8fDyEwDAjkUH0KhLHXQd0w7b3PaJnJCk4tbp+7h1+n6uyy/svapye+OMXXAY1gqlq5fCvQve6o5HEpaRoUDM6+wFZX0jXbTv1xBLJ+3E/WvPAQArv/8Lm865olJtWzy5G5DfUYlIDSQ/Z2Fc3LtCVdGiRUVOIl2NWlfGs0fBmPXrQPx1dQ7WHJyIjn3rf3QbfUNdKBQKJMUn51NKKmysSlvAzLoI7px/qGx7E/8WT24+R+VGFURMRlKnpa2JNk5N4bH1gthRSOJ8rvqidutqKF7eGgBQpoYtqtlXhNepe+IGI8nT1NKEppYmUpNVR9GnvE1FVftKIqWiwk5LWxOdRrRCYmwS/B6woEMfV9yuGHbemI8tl+Zgxi+DYG5jCgAoX60EtHW0cPfKU+W6QS8iEB4UjUp17MQJSwVehqAhqR+S4MjC9ykUCkyePBn29vaoVq1ajuukpKQgJSVFpU0ul+dHPMmwKlkUnQc0xN9bL2Pv+ouoUL0Exs7phvS0DJw9dCfb+to6Whg+vSM8j9/Hm6SUHO6R6NOKWpkCAGLDVUemxoTHoYilaf4HokKjSY/6MDQ1wOntnmJHIYnbs+Qw9I31sMVnJRQZCmhoamDrnL04v/uy2NFI4t4mJsP7mi+cZvdC4JNgxIbHolV/e1RuVIHz9tJX19ChNlx3TIBcXwfRobFw7fwz4qM4txzl7um9AKyY/heC/CJQ1MIYTpM6YNm+7zCuw1IUMTdGWkp6tkEjsZEJKGpuJFJiIvraJF0sdHFxwaNHj3D5cu4f2t3d3bFgwQKVNjc3N3VHkxSZTIZnj4KxfZUHAODF4xDYlrdEp/4NsxULNbU0MOvXgZDJZFjjdkiEtEREH+cwvDVunrqHqFDO+UX/TYt+jdF6YFO4D/oNL71foVwtO4xb6Yyo0Gic+fOS2PFI4pYOXYtpm8ZgT+A6ZKRn4Nldf1zcewXla5cROxoVMvc8fTC+wSwYFzOCw/BWmL3rO0xs5oa41/FiR6MC6tbFJ8r/v3wSiqf3ArD98jw061wr24hoIiqcJDu+csKECTh27BguXLiAEiVK5Lqeq6sr4uLiVH5cXV3zMWnBF/06AYEvIlTaXvlFKIeaZ9HU0sCsX5xgYVMEs4Zv5qhC+k+iw2IBAKaWJirtRSxNEBMem/+BqFCwKFUMtdtUx8nN58WOQoXAqCVO2LvkMC7uvYqXj17h7M5/8L9fTqD/zB5iR6NCINQvHNPbLEQ3E2c4lXbBxCZzoKmlhVD/cLGjUSGT8iYFIX7heHLzOVaN3YSMdAU6Dm0pdiySkKT4ZAT7v4aNXTHEvI6HtlwLBsa6KuuYFjNCdA5zHBIBgAIySf2QBIuFgiBgwoQJOHjwIM6fP4/SpUt/dH25XA5jY2OVH56GrMrnTgBKlC6m0lbczhwRwbHK21mFQhtbM8wa+gcSYt/kc0oqbML8IxAVGoParf6dQkDfSA+VGpTD4+u+IiYjKeswtCViI+Jw43j2KRSI8kpXXw6FIKi0KTIU0NDgh0j6epLfpCA6LBaGpgao176G8qJfROoi05BBWy7pE8won+nq68Da1gzREfF49igIaanpqNXk3znGi5cxh2WJonhy56V4IYnoq5Lcu4SLiwt2796Nw4cPw8jICGFh7+Z1MTExgZ6ensjppOnQ9stY8dc4OI5piUsnH6JijRJw6NcAq+f9DeBdoXD26kEoV8UGbmO2Q0NThiLFDAEACXFvkZ6WIWZ8KsB0DeSwKWelvG1V2gJlatoiIToRr19F4eDqkxg4qyeCn4ch7GUEhs7vh6iQGFw5fEvE1CRVMpkMHYa2xJk/PaHIUIgdhwqB68duY6BrT0QERiLAOwjlatuh95TOvHgOfRV129WATCZDkG8IbMpaYdQSJ7x6GgKPbRfFjkYSomsgh03Z9z5r2ZmjTA1bJMQkIj4qEQN/6I5rx+4gOiwWxmaG6Da2HYrZFME//7shYmoq6EbO6oYb57wRHhwNMwsTDJrSEYoMAZ5H7uBNQjJO77uBUXO6IyHuDd4kJGPcgl7wue3PKyETFSKSKxauW7cOANCyZUuV9q1bt2Lo0KH5H6gQ8H0YhEUTdmDo1I4Y6NIGYUEx2PDTUVw4eg8AYGZpgsZtqgAAfj8ySWXbGYM34uFNv/yOTBJRoW5ZLD83T3l77PIhAIDTf3pi+Yh12Lf8CHQN5Ji8bhQMTfXx6MpTzOryM9JSOBcK5V2dttVhaWuOU1svih2FCok1E7di6EJHTFwzAqYWJogKicbxjWexc9EBsaNRIWBgoo/hPw5AsRJFkRCdiMsHb2Lr3D3ISOcfYenzVahbBstOz1HeHrtsMADg9I5LWD1hC0pUsMHcv5rBuJgREqIS4XvbD9PaLELA42CxIpMEFLM2wczVg2FsaoC46ER43/LDlJ6/IC46CQCwYdEhKBQC5qwbCm0dLdy+9BRr5/K9kagwkQnCB+fXfCMcKv4gdgQqhE4+/RnttfuLHYMKodNpe9BO01HsGFTInMnYy35FanEmYy/fD0ktTqftQQddJ7FjUCHjkbwLDnZTxI5BhdDJl6vEjlAgnPCv9umVCpBOpR+JHUF0kpuzkIiIiIiIiIiIiNSDxUIiIiIiIiIiIiICIME5C4mIiIiIiIiISBoyBI5Tkxo+Y0RERERERERERASAxUIiIiIiIiIiIiLKxGIhERERERERERERAeCchUREREREREREpCYKjlOTHD5jREREREREREREBIDFQiIiIiIiIiIiIsrE05CJiIiIiIiIiEgtMgSZ2BEojziykIiIiIiIiIiIiACwWEhERERERERERESZWCwkIiIiIiIiIiIiAIBMEARB7BBERERERERERFT47H9RV+wIedK37G2xI4jum73AScdio8WOQIXQqciNaKfRV+wYVAidUexn36Kvjv2K1IV9i9TljGI/2mk6ih2DCpkzGXvR0XiY2DGoEDoVv1XsCERfhKchExEREREREREREYBveGQhERERERERERGpl0LgODWp4TNGREREREREREREAFgsJCIiIiIiIiIiokwsFhIREREREREREREAzllIRERERERERERqksFxapLDZ4yIiIiIiIiIiIgAsFhIREREREREREREmXgaMhERERERERERqUWGIBM7AuURRxYSERERERERERERABYLiYiIiIiIiIiIKJPkTkNet24d1q1bh5cvXwIAqlatinnz5sHBwUHcYBLWeVgLdBnaAhalzAAAgU9CsGv5cdw69wgA4DCkGVr1boCyNUrBwEgPvctMQlL8WzEjk0QNduuLIW79VNoCnwRjRJXJ4gSiQslxZg+MdHfC378ex7op28SOQxLGYxapC/sWqcuOF7/Bys4iW/uR3z3w23dbREhEUuQ4tTPsu9VFifJWSE1Og8+N59gybz+Cnocp15n4izNqtaoCMytTvE1KweMbz7F53j4EPQv7yD3Tt0rBcWqSI7liYYkSJfDzzz+jfPnyEAQB27dvR/fu3XH37l1UrVpV7HiSFBkSgy2L/kawXwRkMqCtYxO47RiPCa0WIeBpKOR6Orh1zhu3znlj+LxeYsclifN/FIiZ7RYpb2ekZ4iYhgqbCvXKovPodnhx/6XYUaiQ4DGL1IV9i9RhQsNZ0ND890u5XbVSWHp6DjwPXBcxFUlN9aYVcXTjOfje8YeGliaGufXG4kPTMLrBbKS8SQUAPLv3Euf3XcProCgYFTHEINfu+OnQdAyt/j0UCkHkPSCi/0pyxcKuXbuq3F68eDHWrVuH69evs1j4hW54PFC5vf2nQ+gyrAUq1SuDgKehOLThHACghn0FMeJRIaNIVyAmPFbsGFQI6RrownXnRKwavR5Os3uLHYcKCR6zSF3Yt0gd4iITVG73n1kHwc/D8MDTR6REJEVzeq1Uub1i7Gbs9V+N8rXs8OiqLwDg5DZP5fLwwChsX/Q31l1bBEvbYgj1f52veYno65P0WNCMjAzs2bMHSUlJaNy4sdhxCgUNDRla9KwPub4OHnv5iR2HCiGb8lbYE7QBfz5fgx92TIR5yWJiR6JC4rs1I3DjxB3cPfdQ7ChUiPCYRerCvkXqpqWtiTZOTeGx9YLYUUji9E30AAAJMUk5Lpfr66DdoKYI9Y/A66Do/IxGRGoiuZGFAPDw4UM0btwYycnJMDQ0xMGDB1GlSpUc101JSUFKSopKm1wuz4+YkmJXuThWnZwJHV1tvE1KwSLndQj0DRU7FhUyT248w/Jha/HqaQjMrItg0Ly+WHVpIUZVn4q3iclixyMJa+nYBOXrlIFLgx/EjkKFCI9ZpC7sW5QfmvSoD0NTA5ze7vnplYlyIZPJMPbnAfC+5ouAx8Eqy7qMbIURC/tBz1AXr3xDMavHcqSncUoFyi5DkPQ4tW+SJIuFFStWxL179xAXF4cDBw7A2dkZnp6eORYM3d3dsWDBApU2Nze3/IoqGUHPwzC+1SIYGOuhWde6mLZmGGZ0W86CIX1VXqfuKf/v/zAQj288w66X69CiXxOc2nJevGAkaeYlzDD+l2GY2X4R0lLSxI5DhQiPWaQu7FuUHxyGt8bNU/cQFRojdhSSMJcVg2BXuQSmdfgp27Lz+67jzgUfFLU0QZ+JHTFr23hMbb8YaSnpIiQloq9JksVCHR0dlCtXDgBQt25deHl54ddff8WGDRuyrevq6oqpU6eqtMnlcnRf812+ZJWK9LQM5dwSz+8HokJtO/QY0warp+0UORkVZklxbxDkGwKbclZiRyEJK1+3DIpYmmLd7aXKNk0tTVRvXhndXTqik+5AKBQKERNSYcFjFqkL+xZ9bRaliqF2m+pY0GeF2FFIwsYvH4SGHWthuoM7IkOyF53fxL/Fm/i3CHkRjideL3AgcC3su9bFxQM3REhLRF+TJIuFH1IoFNlONc4il8t52vEXkGnIoK1TKLoHFWC6BrqwLmuF6J2XxI5CEnb33EOMqq76R6HpW8bj1ZMQ7F16iIVC+mp4zCJ1Yd+ir63D0JaIjYjDjeN3xI5CEjV++SA06VIHMzovQXhA5CfXl8lkgAz8Dkk5UkAmdgTKI8m9kl1dXeHg4IBSpUohISEBu3fvxsWLF+Hh4SF2NMkaNqcnvM49wuugaOgZ6qJV7waoYV8Bs/v+CgAoYmGMIhbGsCltAQCwq1IcbxOTEREUjcTYN2JGJ4kZvWwwrh+9jfCA1zCzKYIh8x2hyFDgwl9XxI5GEvY2MRkvvV+ptCUnpSA+OiFbO1Fe8JhF6sK+Reokk8nQYWhLnPnTE4oM/sGM8s5l5WC06tMICwasxtuEtyhiYQwASIp/i9TkNFjZmaNFrwa4ff4R4iITUMymKByndkJqchpunn4gcnoi+hokVyyMiIjAkCFDEBoaChMTE9SoUQMeHh5o166d2NEky7SYEb5fOwxFLE3wJv4t/H2CMbvvr7jr+RgA0HloCwya0VW5/opjM979O2Erzuy5JkpmkqZixc0wa/ckGJkZIe51PB5dfoKJjWchLjJe7GhERNnwmEXqwr5F6lSnbXVY2prj1NaLYkchieo6sjUAYNlJ1QvHrRj7B87svoLU5DRUbVIBPca3g6GpAWIj4vHw6lNMbbsYcZEJYkQmoq9MJgiCIHYIMXQsNlrsCFQInYrciHYafcWOQYXQGcV+9i366tivSF3Yt0hdzij2o52mo9gxqJA5k7EXHY2HiR2DCqFT8VvFjlAg/OHbTOwIeTKywj9iRxCd5EYWEhERERERERGRNGQIGmJHoDziM0ZEREREREREREQAWCwkIiIiIiIiIiKiTDwNmYiIiIiIiIiI1CKD49Qkh88YERERERERERERAWCxkIiIiIiIiIiIiDKxWEhEREREREREREQAOGchERERERERERGpiUKQiR2B8ogjC4mIiIiIiIiIiAgAi4VERERERERERESUiachExERERERERGRWmRwnJrk8BkjIiIiIiIiIiIiAIBMEARB7BBERERERERERFT4/PqkrdgR8mRSpbNiRxDdN3sacnvt/mJHoELodNoetNPoK3YMKoTOKPazb9FXx35F6sK+RerCvkXqcEaxH+00HcWOQYXQmYy9YkcoEBQCT2qVGj5jREREREREREREBIDFQiIiIiIiIiIiIsrEYiEREREREREREREB+IbnLCQiIiIiIiIiIvXKgEzsCJRHHFlIREREREREREREAFgsJCIiIiIiIiIiokw8DZmIiIiIiIiIiNRCIXCcmtTwGSMiIiIiIiIiIiIALBYSERERERERERFRJhYLiYiIiIiIiIiICADnLCQiIiIiIiIiIjXJgEzsCJRHHFlIREREREREREREACQ+svDnn3+Gq6srJk2ahF9++UXsOIWKnqEunBf0g333+jC1MMHzey+xbuo2+N7yEzsaSZyZTVGM/NkJDRxqQ64vR8jzMCwfvha+t9m36MsNduuLIW79VNoCnwRjRJXJ4gSiQoH9itSFfYvUiZ+16GvT0JBhsFtftHFqhqJWpogKicbp7Z7YtfhvsaMRkZpItljo5eWFDRs2oEaNGmJHKZSmbBgDu6olsHToWkSFxqDNwGZYcmoORtaYhqiQGLHjkUQZmhrgl8uLcP+CN2Z1+glxr+NRvLwVEmKSxI5GhYD/o0DMbLdIeTsjPUPENFRYsF+RurBvkTrwsxapg+OM7ug6th2WDvsdAd5BqFCvDKZvHoekuDc4tOaU2PFIAhQCT2qVGkkWCxMTE+Hk5IRNmzbhxx9/FDtOoaOjq41mvRrArddyPLz8BACwY9EBNOpSB13HtMM2t30iJySpcpzZA69fRWH5iN+VbWEvI0RMRIWJIl2BmPBYsWNQIcN+RerCvkXqwM9apA5VmlTA1SO3cPPEXQBAeMBrtOpvj4oNyomcjIjURZLlXRcXF3Tu3Blt27YVO0qhpKmlCU0tTaQmp6m0p7xNRVX7SiKlosKgcdd68L39AnP3TsW+sD+w7vZSOIxsI3YsKiRsylthT9AG/Pl8DX7YMRHmJYuJHYkKAfYrUhf2LVIHftYidfC56ovarauheHlrAECZGraoZl8RXqfuiRuMiNRGciML9+zZgzt37sDLy+uz1k9JSUFKSopKm1wuV0e0QuNtYjK8r/nCaXYvBD4JRmx4LFr1t0flRhUQ8jxM7HgkYdZlLNB1bHv8b9Ux7Hb/GxXrl4PLr8ORnpqOM396ih2PJOzJjWdYPmwtXj0NgZl1EQya1xerLi3EqOpT8TYxWex4JFHsV6Qu7FukLvysReqwZ8lh6BvrYYvPSigyFNDQ1MDWOXtxfvdlsaMRkZpIqlj46tUrTJo0CWfOnIGuru5nbePu7o4FCxaotLm5uakjXqGydOhaTNs0BnsC1yEjPQPP7vrj4t4rKF+7jNjRSMJkGhrwvfUCW2b/BQB4ce8l7KqVRJcx7fkBlv6T9/+y7f8wEI9vPMOul+vQol8TnNpyXrxgJGnsV6Qu7FukLvysRerQol9jtB7YFO6DfsNL71coV8sO41Y6Iyo0Gmf+vCR2PJKADM5ZKDmSKhbevn0bERERqFOnjrItIyMDly5dwpo1a5CSkgJNTU2VbVxdXTF16lSVNrlcjq6LnfMls1SF+oVjepuF0NWXQ99YD9FhsZi1axJC/cPFjkYSFh0ag8DHQSptgY+D0axXI5ESUWGVFPcGQb4hsClnJXYUKkTYr0hd2Lfoa+FnLVKHUUucsHfJYVzcexUA8PLRK1iUMkf/mT1YLCQqpCRV3m3Tpg0ePnyIe/fuKX/q1asHJycn3Lt3L1uhEHhXGDQ2Nlb54WnIny/5TQqiw2JhaGqAeu1r4NrR22JHIgnzvvIUJSrYqLSVqGCN8IDXIiWiwkrXQBfWZa0QHcqrt9PXw35F6sK+RV8LP2uROujqy6EQBJU2RYYCGhoykRIRkbpJamShkZERqlWrptJmYGAAMzOzbO3039RtVwMymezdX7nLWmHUEie8ehoCj20XxY5GEva/X47h1ys/YoBrT3juu4aKDcqh06i2+GXMBrGjkcSNXjYY14/eRnjAa5jZFMGQ+Y5QZChw4a8rYkcjCWO/InVh3yJ14WctUofrx25joGtPRARGIsA7COVq26H3lM7w2HpB7GgkEQqwsCw1kioWUv4xMNHH8B8HoFiJokiITsTlgzexde4eZKRniB2NJMz31gvM77UMI35ywqC5fRDmH4F1U7ZxcmT6z4oVN8Os3ZNgZGaEuNfxeHT5CSY2noW4yHixo5GEsV+RurBvkbrwsxapw5qJWzF0oSMmrhkBUwsTRIVE4/jGs9i56IDY0YhITWSC8MF44m9Ee+3+YkegQuh02h600+grdgwqhM4o9rNv0VfHfkXqwr5F6sK+RepwRrEf7TQdxY5BhdCZjL1iRygQ5j/qLnaEPJlf7bDYEUTHkYVERERERERERKQWvBqy9PAZIyIiIiIiIiIiIgAsFhIREREREREREVEmFguJiIiIiIiIiIgIAOcsJCIiIiIiIiIiNVEIMrEjUB5xZCEREREREREREREBYLGQiIiIiIiIiIiIMvE0ZCIiIiIiIiIiUosMjlOTHD5jREREREREREREBIDFQiIiIiIiIiIiIsrEYiEREREREREREREB4JyFRERERERERESkJgpBJnYEyiOZIAiC2CGIiIiIiIiIiKjwmXG/r9gR8mRpzf1iRxDdNzuysL12f7EjUCF0Om0POhoPEzsGFUKn4reio8lwsWNQIXMqbgs6FhkpdgwqhE7F/MG+RWpxKuYPvh/SV3cqbgvaaTqKHYMKoTMZe8WOQPRFvtliIRERERERERERqZeCl8uQHD5jREREREREREREBIDFQiIiIiIiIiIiIsrEYiEREREREREREREB4JyFRERERERERESkJhmCTOwIlEccWUhEREREREREREQAWCwkIiIiIiIiIiKiTDwNmYiIiIiIiIiI1ELB05AlhyMLiYiIiIiIiIiICACLhURERERERERERJSJpyETEREREREREZFaKASOU5MayRUL58+fjwULFqi0VaxYEU+ePBEpUeGkZ6gL5wX9YN+9PkwtTPD83kusm7oNvrf8xI5GEuE4tTPsu9VFifJWSE1Og8+N59gybz+CnocBAAyLGGDwrB6o27oqzEuYIS4yAdeO38H2Hw/iTfxbkdNTQeY4tRPsu9ZFifLWSE1Ofde33A4o+9aHFh2YgvrtqmPBwN9w7fjdfE5LUuI4xQH2Xer827duvsCW+QcQ9DxcZb3K9cvAeU5PVKpbBhkZCvg9eoXZvVchNTlNpORU0LFvkTrw/ZDyi4aGDIPd+qKNUzMUtTJFVEg0Tm/3xK7Ff4sdjYjURHLFQgCoWrUqzp49q7ytpSXJ3SjQpmwYA7uqJbB06FpEhcagzcBmWHJqDkbWmIaokBix45EEVG9aEUc3noPvHX9oaGlimFtvLD40DaMbzEbKm1SYWZnCzMoUm2bvReDTEFiULIbvfhmColamWDzkd7HjUwFW3b4ijm46/2/fmtcLiw9OxeiGc5DyJlVl3Z7j20EQBJGSktRUb1IRR/+4AN+7L6GhpYFhc3th8d9TMbrRXGXfqly/DH48MBl7V53Eupl/ISM9A6WrlYSgYD+j3LFvkTrw/ZDyi+OM7ug6th2WDvsdAd5BqFCvDKZvHoekuDc4tOaU2PGISA0kWWXT0tKClZWV2DEKLR1dbTTr1QBuvZbj4eV3IzZ3LDqARl3qoOuYdtjmtk/khCQFc3qtVLm9Yuxm7PVfjfK17PDoqi8CHgfjx8FrlctD/V9j+8L/4ftNo6GhqQFFhiK/I5NEzOm9SuX2inFbsNfvV2XfylKmekn0mtABE1suxF/PfsnnlCRFc/r+onJ7xfgt2Pv8F5SvZYtHV58BAEYvdsThDeew75eTyvU+HB1G9CH2LVIHvh9SfqnSpAKuHrmFmyfejUgND3iNVv3tUbFBOZGTEZG6SPLE8WfPnsHGxgZlypSBk5MTAgMDxY5UqGhqaUJTSzPbKS8pb1NR1b6SSKlI6vRN9AAACTFJua5jYKyPNwnJLBRSnuTUt+R6Opj5xxisnb4TMRHxYkUjidM31gfwb98yKWaEyvXLIvZ1AlZ6/IC/nq7E0mPfo2ojflmivGHfInXg+yGpi89VX9RuXQ3Fy1sDAMrUsEU1+4rwOnVP3GAkGRmQSeqHJDiysGHDhti2bRsqVqyI0NBQLFiwAM2aNcOjR49gZGSUbf2UlBSkpKSotMnl8vyKK0lvE5Phfc0XTrN7IfBJMGLDY9Gqvz0qN6qAkFzmQCH6GJlMhrE/D4D3tXcjCnNiXNQQA2Z0xcmtF/M3HEmaTCbDWPcB8L72TKVvjXHvj8c3n+P6iXvihSNJe9e3HOF9/RkCHocAAKztzAEAg37ohk1z98PvYSDa9G8C90PTMLaJG0L8IsSMTBLBvkXqwPdDUqc9Sw5D31gPW3xWQpGhgIamBrbO2Yvzuy+LHY2I1ERyIwsdHBzQt29f1KhRAx06dMCJEycQGxuLfftyPjXW3d0dJiYmKj/u7u75nFp6lg5dC5kM2BO4DseTdqL7hI64uPcK582hL+KyYhDsKpeA+7D1OS7XN9LFwgOTEfg0BDvdD+dzOpKyd32rONyH/9u3GjnUQs3mlbH+h79ETEZS57Lc6V3fGrFR2SbTePeX5hPbPHFm9xW8ePgKG2fvRfDzcHQY1FSsqCQx7FukDnw/JHVq0a8xWg9sCvdBv2FcvR+wbNjv6DutC9oNaS52NCJSE8mNLPyQqakpKlSogOfPn+e43NXVFVOnTlVpk8vl6LrYOT/iSVaoXzimt1kIXX059I31EB0Wi1m7JiHUn3PnUN6MXz4IDTvWwnQHd0TmcHEcPUNd/Pj3NLxNSMbCgb8hIz1DhJQkReOXOaFhh5qY3ulnlb5Vs3llWJc2x/8C16isP2eHC7yv+mJGl6X5HZUkZvzSgWjYoQamd1qq0reiw+IAAIFPQ1XWD3waCvMSRfM1I0kT+xapA98PSd1GLXHC3iWHcXHvVQDAy0evYFHKHP1n9sCZPy+JnI6kQCHw1F6pkXyxMDExES9evMDgwYNzXC6Xy3na8X+Q/CYFyW9SYGhqgHrta+AP191iRyIJGb98EJp0qYMZnZcgPCAy23J9I10sPjgNaSnpmN9/NdJS0kVISVI0fplTrn1r36rjOPXBB9cN1xdho+seXOfcOvQJ45cORJPOtTGj6zKEB6r2rfDASESGxKBEOUuV9uLlLHHr7MP8jEkSxL5F6sD3Q8oPuvpyKD64mrYiQwENDRaAiAoryRULp0+fjq5du8LW1hYhISFwc3ODpqYmBgwYIHa0QqVuuxqQyWQI8g2BTVkrjFrihFdPQ+Cx7aLY0UgiXFYORqs+jbBgwGq8TXiLIhbGAICk+LdITU57Vyg8NB26ejpYOmoj9I10oW+kCwCIi0yAgqe8Uy5cVgx617cGrsbbxORsfSsmIj7HSdwjgqJyLFoTZXFZ7oRWfRpiwcA1OfYtADjwmwcGu3aD36MgvHj4Cu0GNEbJ8lZY7LxOzOhUwLFvkTrw/ZDyy/VjtzHQtSciAiMR4B2EcrXt0HtKZ3hsvSB2NCJSE8kVC4OCgjBgwABERUXB3NwcTZs2xfXr12Fubi52tELFwEQfw38cgGIliiIhOhGXD97E1rl7eIoofbauI1sDAJad/EGlfcXYP3Bm9xWUq2mLyvXLAgC23lc9Dca52nSEB0blT1CSHGXfOvFB3xq3GWd2XxEjEhUSXUe0AgAsOz5DpX3F+C0489e7U68OrT8LHV1tjPnJEUamBvDzfoVZvVYi9OXrfM9L0sG+RerA90PKL2smbsXQhY6YuGYETC1MEBUSjeMbz2LnogNiRyMiNZEJgvBNDt9pr91f7AhUCJ1O24OOxsPEjkGF0Kn4rehoMlzsGFTInIrbgo5FRoodgwqhUzF/sG+RWpyK+YPvh/TVnYrbgnaajmLHoELoTMZesSMUCKNvSeuaERvrbRc7gugkdzVkIiIiIiIiIiIiUg8WC4mIiIiIiIiIiAiABOcsJCIiIiIiIiIiaVCAV86WGo4sJCIiIiIiIiIiIgAsFhIREREREREREVEmFguJiIiIiIiIiIgIAOcsJCIiIiIiIiIiNckQOGeh1HBkIREREREREREREQFgsZCIiIiIiIiIiIgy8TRkIiIiIiIiIiJSC4XAcWpSw2eMiIiIiIiIiIiIALBYSERERERERERERJlYLCQiIiIiIiIiIiIAgEwQBEHsEEREREREREREVPgMvjFS7Ah5sqPhH2JHEN03e4GTDrpOYkegQsgjeRc61F8gdgwqhDy83NCmlbvYMaiQOXfBFW1as1/R13fuvCuPWaQW5y64on2jhWLHoELm9PV56GDoLHYMKoQ8EreLHYHoi/A0ZCIiIiIiIiIiIgLwDY8sJCIiIiIiIiIi9VJAJnYEyiOOLCQiIiIiIiIiIiIALBYSERERERERERFRJp6GTEREREREREREaqEQeBqy1HBkIREREREREREREQFgsZCIiIiIiIiIiIgysVhIREREREREREREADhnIRERERERERERqYlC4Dg1qeEzRkRERERERERE9B/9/PPPkMlkmDx5srItOTkZLi4uMDMzg6GhIXr37o3w8HCV7QIDA9G5c2fo6+vDwsIC33//PdLT0/M5/b9YLCQiIiIiIiIiIvoPvLy8sGHDBtSoUUOlfcqUKTh69Cj2798PT09PhISEoFevXsrlGRkZ6Ny5M1JTU3H16lVs374d27Ztw7x58/J7F5QkdxpycHAwZs6ciZMnT+LNmzcoV64ctm7dinr16okdTbKqNa2EvlM6o3zt0jCzKYL5fVfi2tHbOa478bfh6DyqDdZP34GDa07lc1KSEg0NGQaNbok2HaujiJkhoiITcObYfezefEllvZJ2xTDiu7aoUccWmpoaCPB/jUUz9uF1eLxIyamgqV6jJBwdG6J8BSsUK2aEeXMO4MqVZyrrDB3WDJ0614KhoRyPHgXh11UeCA6OUVmnYaOyGDykKcqUMUdqajoe3H+FeXP/l5+7QgWMsm+Vz+xbc3PoW0M/6Fu/qPatEiWKYvSYVqhWrQS0tDTh5xeBbVsv4d69wPzeHSpA/utxq2bNUlj5i1OO9z1+7DY8fRqq9n0gadDT14Hz6Jawb1EJpkUM8Nw3DOtWecD3cYhynSGjWsKhe20YGurC++ErrF56AiGvokVMTQWd47QusO9WFyUrWCM1OQ0+159h87x9CHoWplzHYVhLtOrXCOVq2sHAWA+9io9DUtwb8UJTgaYQZGJHULvExEQ4OTlh06ZN+PHHH5XtcXFx2Lx5M3bv3o3WrVsDALZu3YrKlSvj+vXraNSoEU6fPg0fHx+cPXsWlpaWqFWrFhYtWoSZM2di/vz50NHRyff9kdTIwpiYGNjb20NbWxsnT56Ej48PVqxYgSJFiogdTdJ09eXwexiINZO3fXS9Jt3qoVKDcogM5ocL+rR+Q+zRpXc9rF12EqP6rcXm386i7+Am6O7YQLmOdfEiWLlpGF69jMT3Y7Zj7ID12L35ElJTxRtuTQWPnq42XryIwOpfT+e4vH//RujZqx5+WXUKE8ZvR3JyGn5e6ghtbU3lOs2aV8QPrl1x6uQDjB65BZO+24Fz57zzaxeogFL2rdWf0bdcMvvWEtW+tXhxX2hqamD6tN0YN3Yr/F5E4MfFfVGkiEF+7QYVQP/1uOXtHYQ+vVar/Bw/dg8hITEsFJKKKbO6ok6DMli64BDGDFqPOzf9sOS3QTAzNwIA9BvcBD36NcDqJccxceRmJL9Ng/svTtDW0fzEPdO3rEbTiji68Rwmt14E165LoamtiZ8Ofw+5/r8FC109Hdw68xB7lh8VMSmReqSkpCA+Pl7lJyUl5aPbuLi4oHPnzmjbtq1K++3bt5GWlqbSXqlSJZQqVQrXrl0DAFy7dg3Vq1eHpaWlcp0OHTogPj4e3t7ifGeR1MjCJUuWoGTJkti6dauyrXTp0iImKhxunb6PW6fvf3QdM5siGL/SGbO7/oyFh77Pp2QkZVVqlMQ1z6e4mTmSIjw0Dq06VEPFqsWV6wwd3xo3rz7D5t/OKttCPxgNRnTzph9u3vTLdXmvPvWxc8cVXM3sa0vcj+HA3xPRtGkFXLjwGBoaMrhMaIuNG87j5IkHyu0CAqLUnp0Ktk/2rd71sXPnFVy9mtm3fj6GA//7t28ZG+uhRMmiWL78OPz8XgMANm26iO496qJ0aXPExCTly35QwfNfj1vp6QqV/qOpqYEm9uVx6GDOZ37Qt0lHroVmLSvDbcZePMwczbzjD080aloeXXvVw7YNF9DTsSF2b/0H1/7xBQAsXXAI+05Mg33zSrh4ln80o5zN7rlC5faKsX9g38s1KF+7NB5deQoAOPj7uz+G1GhWKd/zEambu7s7FixYoNLm5uaG+fPn57j+nj17cOfOHXh5eWVbFhYWBh0dHZiamqq0W1paIiwsTLnO+4XCrOVZy8QgqZGFR44cQb169dC3b19YWFigdu3a2LRpk9ixCj2ZTIYZW8bhwKpjCHgcLHYckgifB69Qq35pFC9VFABQprwlqtYsBa+rzwEAMhnQwL48ggOjsXi1E/Z6TMevW0egcYuKYsYmibG2NoWZmSHu3H6pbEtKSsHjxyGoklmYLl/BCubmxlAoBKzfOAz7DnwH95/7wc6umEipSQo+2reqvOtb8fFvERgYhXbtq0NXVxsaGjJ06VoLMdFJ8PUV54MdFXyfc9z6UBP78jA21sOpkw9yXE7fJk1NDWhqaWQ7IyMlJR1Va5aElY0pzIoZ4Y7Xv4XrN0kpeOIdjMrVS+R3XJIwA2M9AEBCTKLISYjyh6urK+Li4lR+XF1dc1z31atXmDRpEnbt2gVdXd18Tqo+khpZ6Ofnh3Xr1mHq1KmYNWsWvLy8MHHiROjo6MDZ2TnHbVJSUrINF5XL5fkRt9DoN70rMtIVOLTWQ+woJCF7t1+GvqEcf+yfAIVCAQ0NDWxbdx4XTj0EAJgWNYC+gRyOzvbYtu4CNq85i3qNy2HeUkfMGLcdD+8EiLwHJAVFir471fPDEVwxMUnKZTbWpgAAZ+dmWLfuHMLC4tC3XwOs/MUJzoM3ICEhOV8zkzR8Tt8CgO+n/4WFi3rj6LFpEAQBMTFJ+OGHvUhMZL+inH1u33qfg0NN3PLyR2RkgtrzkXS8fZMK7wev4DS8GQJfvkZsdBJata+GytVKICQoGkXNDAEAsdEf9LXoRBTJXEb0KTKZDGOXOOHRVV8E+HDgCH0ZBaQ1Z6FcLv/sutHt27cRERGBOnXqKNsyMjJw6dIlrFmzBh4eHkhNTUVsbKzK6MLw8HBYWVkBAKysrHDz5k2V+826WnLWOvlNUiMLFQoF6tSpg59++gm1a9fG6NGjMWrUKKxfvz7Xbdzd3WFiYqLy4+7uno+ppa1cbTv0cOmA5aNy/x0T5aR526po3bE6fp7zP7gM2ojl8w+hj1NjtO1cE8C7Dx4AcM3zKQ7+dR1+vuHYt/0Kblz2RededcWMToWMTONdX9u16yr+ufQUz3zDsGzJcQgC0KIlT52h/2bipPaIjX2DyZN2wGX8Nly58gw/Lu6DorkUfYjyqlgxI9SrXxonT358yhj6Ni1dcAgyyLDn2FQcvzQb3fs2wMUzjyAIgtjRqJCYsGoIbKsUh/vQ38WOQlQgtWnTBg8fPsS9e/eUP/Xq1YOTk5Py/9ra2jh37pxym6dPnyIwMBCNGzcGADRu3BgPHz5ERESEcp0zZ87A2NgYVapUyfd9AiQ2stDa2jrbL6py5cr43/9yv5qlq6srpk6dqtIml8vR7efhaslY2FS3rwRTC2PsfLZa2aappYlRS5zQ47uOcK44WbxwVKCNmtQOe7dfgeeZd/PhvHwRAQtrE/Qf2hRnj99HfOwbpKdnIMD/tcp2r/wjUbVWSTEikwTFZI6WKFLEANHvjZwoUsQAL56/+2tcdNS7U2YCXkYql6elZSA0NBYWFsb5mJak5HP6Vu3atmjUqBx6dF+FN29SAQDPfvVA3bp2aN+hOvb8dT3/g1OB9zl9630dHWogPv6tcn5DoveFBsdg+vjt0NXVhr6BHNFRiZj1Y2+EBscq3/9Mixoo/w8ARYoa4sUzTpVAn+ayYjAadqyJaR1+QmQI5xUnyomRkRGqVaum0mZgYAAzMzNl+4gRIzB16lQULVoUxsbG+O6779C4cWM0atQIANC+fXtUqVIFgwcPxtKlSxEWFoY5c+bAxcVFtDNjJVUstLe3x9OnT1XafH19YWtrm+s2eRk+Stmd3X0Zd84/Umn76ehMnNt9Gaf/vCRSKpICuVwbgkL1r9oKhaAcUZieroCvTwhK2JqprFO8VFFEhMblW06SttDQWERFJaJOHTu8ePHuL3H6+jqoXNkGRw/fAQD4+oYhNTUdJUsVxaNHQQDezfNkZWmC8PB40bJTwfbRvnXkXd/S1dUG8O7Y9j5BEKAhk9bpNpR/Pue49b4OHavjzOlHyMhQ5HdUkpDk5DQkJ6fB0EgX9RqWxR9rziIsJBZRkQmoXb80/J69K0Tr6+ugUtXiOPb3LZETU0HnsmIwmnSti+8d3BEeEPnpDYg+QiF825+LVq1aBQ0NDfTu3RspKSno0KEDfv/939G6mpqaOHbsGMaNG4fGjRvDwMAAzs7OWLhwoWiZJVUsnDJlCpo0aYKffvoJ/fr1w82bN7Fx40Zs3LhR7GiSpmsgh03Zf8+Dt7IzR5katkiIScTrV1FIiFadyDY9PQMx4XEIehaa31FJQq5f9kX/Yc0QERaHAL8IlK1ojV4DG+H0kXvKdfbvuIpZP/XBo7uBuH/LH/Ual0OjZhXx/dhtouWmgkdXVxvFixdR3rayNkXZshZISEhGREQ8/j7gBafBTRAUHI2w0DgMG94ckZEJuHz53ZUf37xJxdEjd+E8tBkiIhIQHh4HR8eGAADPi09E2ScqGD7Zt/7nBadB7/WtYap9y9s7GImJyZj5Qxfs+PMKUlPT0alzTVhZmeL69Rdi7RYVAP/1uJWldh1b2NgUwYnj9/J5D0gq6jYsC5kMCAqIgk3Johg1oS1eBUTC49g9AMDBvTcwcGgzBL+KRlhILIaObomoyARcucT3P8rdhFVD0KpvI8zv/yveJiSjiIUJACAp/g1Sk9MAAEUsTFDE0gQ2Zd5dsbV01RJ4k5CM10FRSPhgTlaib83FixdVbuvq6mLt2rVYu3ZtrtvY2trixIkTak72+SRVLKxfvz4OHjwIV1dXLFy4EKVLl8Yvv/wCJycnsaNJWoW6ZbDs9Bzl7bHLBgMATu+4hBWjNogViyTu92Un4Ty2FSbM7ATTIgaIikzAib9vY9cfnsp1rl58gtXux9B/aFOMm9YRQYFRWDRzH7zvvxIxORU0FStaY+Uv/x7nx7u0BQB4nHqApUuOY8+e69DV08bUaQ4wNNTFw4ev4DpzH9LSMpTbbFh/HhkZCri6doWOXAtPHodg2rTdvAjFN65iRWusXPVe3xr/Xt9amtm3dLUxdep7feuHf/tWfPxb/DBzL4aPaIEVKwZCU0sDAS8jMW/uAfj5ReT4mPRt+BrHLQBw6FQTjx4F4dWr6HzNT9JhYCjH8HGtUczCGAnxb3H5wmNsXX9BORJ1346r0NXVweQfusDQUBePHgRi1uRdSEvN+MQ907es66g2AIDlp2aptC8fswlndl0GAHQe2QqDZ/VULltxena2dYhIumTCNzr7bQddFhjp6/NI3oUO9ReIHYMKIQ8vN7RpxYsz0dd17oIr2rRmv6Kv79x5Vx6zSC3OXXBF+0binZZFhdPp6/PQwdBZ7BhUCHkkbhc7QoHQ84qL2BHy5KB97iMAvxWSGllIRERERERERETS8a3PWShFGmIHICIiIiIiIiIiooKBxUIiIiIiIiIiIiICwNOQiYiIiIiIiIhITXgasvRwZCEREREREREREREBYLGQiIiIiIiIiIiIMvE0ZCIiIiIiIiIiUguehiw9HFlIREREREREREREAFgsJCIiIiIiIiIiokwsFhIREREREREREREAzllIRERERERERERqogDnLJQajiwkIiIiIiIiIiIiAIBMEARB7BBERERERERERFT4OFyaJHaEPDnZ/FexI4jumz0N2cF8rNgRqBA6+Xo9KixeJXYMKoR8Z0+B7ealYsegQiZgxAzYbWW/oq/v5TD2LVKPl8NmoPzP/KxFX9ezH6bAoaS0ihkkDSdfsegEAAqBpyFLDU9DJiIiIiIiIiIiIgAsFhIREREREREREVEmFguJiIiIiIiIiIgIwDc8ZyEREREREREREakX5yyUHo4sJCIiIiIiIiIiIgAsFhIREREREREREVEmnoZMRERERERERERqwdOQpYcjC4mIiIiIiIiIiAgAi4VERERERERERESUicVCIiIiIiIiIiIiAsA5C4mIiIiIiIiISE04Z6H0SK5YaGdnh4CAgGzt48ePx9q1a0VIJH2dhzZH56HNYVnKDAAQ8CQUu1ccx61z3gCA75YPRO3mlVHUygTJSSnw8fLDloV/I+h5uJixqYAZ06Q+2lcsh9JmRZGSno67QSFYdv4y/KNjclz/j/490LxsaYzffwRnfV8o2xvblcSkFk1QwbwY3qal4eADH6y6eAUZgpBfu0IFzKBKtTCoci2UMDQBADyLjcSvd6/iYpA/AECuqYk5DVqha5nK0NHUxKUgf8y5egaRyW+U92FjYITF9u3R2LoUktJS8b9n3lhyy5P96hs3qGItOFVS7Vur713FxeB/+9bs+q3QtXRm3wr2x9xrqn0ri6lcFye7D4O1gRFq7PoV8akp+bovVHB8jX71ctiMbPf73cUjOOr/JH92ggqkMY3efdYqU/TdZ607wSFYdlH1s9bOgX3QsFRJle3+uvsA8zzOZbs/U11dHB0+CFbGRqiz6nckpPC4RTnrO74thrt2xaE/LmLDgoPK9kp17OA8ozMq1baFIkPAC58gzBm0HqnJaSKmJaKvQXLFQi8vL2RkZChvP3r0CO3atUPfvn1FTCVtkSEx2PrjIQT7RUAGoG3/xpj35zhMaL0YgU9D8fx+IC787yYigmJgVEQfg77vgsX7J2FY3dlQKPhFm96pX6oEdt6+j4ch4dDSkGFqK3tsGdgLnTZsx9u0dJV1hzaojZxqNJUsimGTYw+su3ITM46cgqWRIRY6tIGmhgxLzv2TT3tCBU1oUgKWeF2Cf3wMZAD6lK+GTW17odOhbXgWG4W5DVujdcmyGH/+MOJTU7CoSVtsaNsDvY/tBgBoyGTY2r4PXr9NQq+ju2Chb4CVzTsjTZGBZbfZr75loW8SsOT2JbzM7Fu9y1XDxja90PlIZt9q0BqtSpTF+IuHkZCagoWN2mJ96x7oc2J3tvtaau+AJzERsDYwyv8doQLla/Wr6f+cgGdmgREA4lOT83lPqKBpUKoEdt25jweh7z5rTWtuj62OveDwh+pnrT33HuLXf64qbyd/8Dksy0+d2uHJ60hYGfO4RbmrULMUOjk1gZ9PsEp7pTp2+HHHWOxdexbr5v0PGekKlKliA0GhECkpEX1Nkpuz0NzcHFZWVsqfY8eOoWzZsmjRooXY0STrxumH8Dr7CCF+EQj2i8D2nw4jOSkFleqVBgCc3HEZj649R8SrKLx48Arb3Y/AokRR5UhEIgAYuecgDj7wwfPIKDyJiMTMo6dR3MQYVa0sVdarbGmO4Q3rwvXY6Wz30alKRTyNiMTayzcQGBMHr8BgLD1/GU51a8FARzu/doUKmHOvXuBCkB9exsfAPz4Gy27/gzfpqahjYQMjbR04VqiBH2+cx9XQQDyKCsf0SydRz7IEaptbAwCaF7dDeVMzTL54DD7REbgY5I8Vdy5jSJU60NaQ3NsgfUXnXr3Axff61vI77/pWbfN3fatf+Rr48eZ5XMvsW99fVu1bWQZVrAVjHTk2PvISaU+oIPla/So+NRmv3yYpf1Le+2M5fZtG7DuIvx++91nr+LvPWtU++KyVnJaGyKQ3yp/E1NRs9zWwdg0Y68qx+ebt/IpPEqSrr4PvVw/GrzP3IDFOdVT9GLeeOLz1Evb/fhaBvmEI9ovAP8fuIS2VxyrKThBkkvohCRYL35eamoqdO3di+PDhkMn4hH4NGhoytOhRD7r6Onji5Z9tuVxfB+0HNEHoy9d4HZzz6aVEAGAk1wEAxCX/OxJCV0sLK7o7YIHHeUQmZT+NT0dTEynpqh8wUtLSoautla3oSN8mDZkMXctUgp6WNu5EhKB6MSvoaGricsi/01O8iItGUGIc6lgUBwDUsSiOJzGvVU7xuxTkD2MdOSoUKZbv+0AFk4ZMhq6l/+1b1TL71pXQHPqWeXFlWzkTM0ys1QRT/zkOgae10we+tF8BwMJG7XBnwAQc6jIYfctXz+/oJAGGmZ+1Yt+qjjrtVrUSbkwci+MjBmNaC3voaqmeTFbOrChc7Bvh+2MeUPC4RR/h8mNfeJ33wb3LvirtJmaGqFTHDnGRCVhxcDJ23/kRS/d/h6r1y4iUlIi+Nsmdhvy+Q4cOITY2FkOHDs11nZSUFKR8MP+GXC5XczLpsatsg5UnZ0BHro23SSlYNHQDAn1Dlcs7D2uBEW49oWegi1fPwjC7769IT+NfjShnMgCz27XE7VfBePY6Stk+q10L3A0OwTlfvxy3+8fvJZwb1EbnKhVx8rEvzA314dKsIQDA3NAgP6JTAVWxSDEc7DoIck0tJKWlYszZQ3gWG4UqRS2QkpGebX64yLdvYK7/rs+Y6xkg8q1qcfr12yTlMvq2VSxSDH93fte33qSlYsz5Q3geF4UqZp/uWzoamvitZVf85HURIUkJKGVkKsIeUEH0X/oVAKy48w+uhgYiOT0NzYrb4cdG7WCgpY1tj+/k965QASUDMKdtS9x6FYxnkf9+1jrq/RTB8fGISExEJXNzfN+yKcoULQKXg8cAvPvD7MrunbDkwiWExiegpKmJSHtABV2LbrVRtnoJTOqyItsy68wzzJymOuCPHw/DzzsIbfo0gPtfLhjb9meEvHyd33GJ6CuTdLFw8+bNcHBwgI2NTa7ruLu7Y8GCBSptbm5u6o4mOUHPw+HSajEMjPTQtFsdTPvNGTO6r1QWDC8cuIG7no9R1NIYvce3g+sfozCt8zKkpeQ8Bwp929w6tkZ5czMM+HOfsq11+TJoZFcSPf7Ylet2V/wDsfTcP1jo0AbLundEanoGfr98A/VLleCInW+cX1w0HA5ug5GOHJ1KV8SK5p3geOIvsWNRIeAXF41OhzP7ll1FrGj2+X1rRt3meB4bhUN+PmpOSVLzX/oVAPx2/5ry/97REdDT0sHo6g1YLCSl+e0zP2vt3KfSvvf+Q+X/fV9HISIpCTsG9EEpUxMExsZhWgt7vIiMxhFvXiyHclfM2hRj5vfGrIG/5/h9T6bx7qy+E7uu4sy+GwCAF94HUcu+Ato7NsS2JcfyNS8VfAr8n737jo6iauM4/t30RhokISSEFnrvVToiIFUE6U0FsVFERKVYEAUFK6KvgoiCdAFBqvTeeychkISQ3nv2/SMYXAGFmJCE/D7n5Bx25u7dZzyPOzPP3ntHM0ELmgJbLLx69SqbN29mxYoV/9huwoQJjBkzxmSbtbU13b56NTfDK3DSUtMJ9sv8BejSiQAq1CpF1+db8cVrmYttJ8QmkRCbRNCVm5w75MfSizNp0rEW21ceysuwJR+a1L4VrcqXpd+PSwiJjcva3qh0SXxcnDn02kiT9l889SSHrgUy4KdlAMw7cIR5B47g7mBPdFIS3k5OvNa6Gdeioh/qcUj+kpqRwdXYKABOhYdQs1hxhlSty29XzmFtboGjlbXJSJ1itnaEJmSOHgxNjKemW3GT/v4cUfjnCEMpvP6eWzWKFWdo1bqs8fv33Gri6UNFFzc6lK4IkHUZfKTPy3x1fC+zju1+mIci+ch/yau7ORYaxKu1mmBlZk5KhmZ2FHaT2rWilW9Z+v68hBt/uda6m+NBmT/8+7g4ExAVTeNSJangVownKmXeC/35vXXg1RF8vecAn+/ae4+epDApX6MkLm5F+PL317K2mVuYU61hOToPfoznWk4FIODCDZP3BVy6gbuXy0ONVURyR4EtFs6bNw93d3c6der0j+2sra017TgbDGYGLK3v/kAJg8EAhnvvl8JrUvtWtKvoS/8FS7keHWOy79s9B1l67JTJtrXPD+SDTdvZevHOack34zJvmjpVrUhQdAynb9zMvcClwDEzGLAyM+dk2A1S0tNpWqIUv/tnrqdT1skVbwcnjtzMfGrfkZuBvFSzEUVt7Ai/tW5hM6/SxKQkczEy/J6fIYXTn7l16lZuNfEsxfqrt3LL8VZuhWbm1oitq7Axv30pVbNYcWY81pFe6xZmFYpE4MHy6m6quLoTlZyoQqEwqV0r2lXwpf/CO6+17qayuzsAobeuq15a+RvWf1nDsIanBx92ak+fn5YQEBWVKzFLwXNs1wVGtP3QZNuYT/py7VIIS7/eQvDVcMJuROFdzt2kjXcZdw5uO/swQxWRXFIgi4UZGRnMmzePQYMGYWFRIA8hXxn8djcObTnFzeuR2DlY0/KpBtRoWoG3e31B8VLFaN6tLke2niU6PJZiJVzo9Up7UpJSOLj51L93LoXG5Cda07lqRV5Yupr4lBSK2dsBEJucTHJaetYT+f4uOCbW5GJ3WKO67LzsT4YRHq/ky/NN6jNqxVotwF2IvV6vOduuXyEoLgZ7Syu6lqtCI08fBqxfQmxqCosvnODthq2ISk4iNiWZdxu35XBIIEdDM0dT7Aj052JUOLNadGLawW242drzWt1m/HjmiG68C7nX697KrfhbuVW2Co2K+zBwY2ZuLbl4grcbtCI6OYnY1GTeadSWwzdv51bA3wqCrja2AFyKDr9jTTopPP5rXrUpWY5iNvYcDQ0iOT2Nx0qU5sUajfifnrZd6E15vDWdq1TkheV3v9bycXaic5VKbLvsR1RSEhXdivFWmxYcCLjO+dAwAAL+NlPDxS7ze+tyeASxyfrekkyJ8clcPR9ssi0pIZnYyPis7cvn/EH/MR3wOxPI5TOBtO3ZAG9fd6aOmJsXIYtIDiuQlbbNmzcTEBDA0KFD8zqUR4JzsSK89uUQXD0ciY9JxO9MIG/3+uLWGoVOVGtUnm7Pt8HB2Y6o0BhO7b3EmI4ziA6LzevQJR/pV7cmAD8P6GWyffyaDaw8cf/reTUvV5oXmjbAytyCczdDGbl0NTsu++dkqFLAFLOxY2bzTrjb2RObksy5iFAGrF+S9QTk9/b/gdFoZE6brliZmbMj0J+392zKen+G0cjQTcuZ2qQdKzv3JyE1leWXTjHzyK68OiTJJ4ra2DHzsU64/ZlbkaEM3PiX3DrwBxlGI1+3vpVbQf5M3LvpX3qVwu6/5lVaRgYDK9dmYsPWGICrMZG8f3Ari84fz6MjkvyiX51b11r9/nattXYDK06eyRy1WtqHQfVrY2dpSXBMLBvOX2L2nv15Ea484n79fjuW1pY8P7k7RZztuHImiLf6fk3wVc3akDtlGLVmYUFjMBbSpwZ0cBuR1yHII+j30DlUmDorr8OQR9CFt0ZT6vvpeR2GPGKuDnud0vOUV5Lz/IcotyR3+A95nfIf6lpLctbFN0bToaTWtJec9/u1z/I6hHyh2ebX8zqEB7Krra5hzPI6ABEREREREREREckfCuQ0ZBERERERERERyf+MmoZc4GhkoYiIiIiIiIiIiAAqFoqIiIiIiIiIiMgtKhaKiIiIiIiIiIgIoDULRUREREREREQkl2RozcICRyMLRUREREREREREBFCxUERERERERERERG7RNGQREREREREREckVRk1DLnA0slBEREREREREREQAFQtFRERERERERETkFhULRUREREREREREBNCahSIiIiIiIiIikksytGZhgWMwGo3GvA5CREREREREREQePQ3Wv5nXITyQA098kNch5LlCO7Kwfb0peR2CPII2HJrCkIND8joMeQTNqz+PhZca5nUY8ojp67ufTX6V8zoMeQS1K3NWuSW5ol2Zs3x34bG8DkMeMc9W2Emrxz/K6zDkEbR14/i8DkEkWwptsVBERERERERERHKX5rMWPHrAiYiIiIiIiIiIiAAqFoqIiIiIiIiIiMgtmoYsIiIiIiIiIiK5IgM9Dbmg0chCERERERERERERAVQsFBERERERERERkVtULBQRERERERERERFAaxaKiIiIiIiIiEguMRq1ZmFBo5GFIiIiIiIiIiIiAqhYKCIiIiIiIiIiIrdoGrKIiIiIiIiIiOSKDE1DLnAKVLEwPT2dKVOm8NNPP3Hjxg1KlCjB4MGDefvttzEYlHzZZWZmoP/zLWnToQYuRR0ID4tl05pjLPx+x13bvzLhSTo9VY85n6xn5aJ9DzlaKSiur75OwJIAPNt7UmZAGQBu/HGDsD1hxPvHk56UToNvGmBhf/trKCk0ieu/Xif6TDSpUalYulji1tQN767emFloILTAriVJbJmfRMOuVjzxvB1RIel8NjT2rm17vmFH1cesuHElnd1Lkwg4k0ZCjBFndzPqdrSmUVfrhxy95GcbFxtZPc9Iy27Qc0Tm901MhJGV3xk5dxSSE8DdG9r3MVC72e1rjpDrRn79zsiVM5CeBiVKw5ODDFSoqesSyZTd3Lp20civc40EXACDGdRqBk89b8DaVrklmfYvjWfHj/HU7WJL6+eKZG0PPJfKrgVxBJ9PxWBmwL2sBT3fccbS2kB0SDp7F8cTcDyF+KgM7F3NqNLShsa97DG3VG4VVjWqe9P76YZUKO9BsaJFeHvKCnbvuZi1/7GmFej8ZC0qlC+Ok6Mtz46Yx+UrN+/Z34dTn6Zh/bJ39CMiBUeBKhZ+9NFHfP3118yfP5+qVaty6NAhhgwZgpOTE6+88kpeh1dg9RrUjCd71ufjySu5eiWU8lVKMHZSV+Ljklm1eL9J2yYtK1GpmjdhN2PyKFopCGIvxxKyNQQ7HzuT7RkpGTjXcMa5hjMBSwLueF9iUCLGDCPlhpbDxsOGhGsJXP7+MhnJGZTuW/ohRS/5VeCFNA6vT8GjzO3CsWMxM8YucDRpd3h9CntWJFG+niUAwZfSsHM20P01e5yKGbh2Np01XyZgZgYNOqtgKHD1vJHd64x4lTHd/uPHRhLjYPgUAw6OcGgrzP3AyOufQ0nfzJvqOZONuJeAVz40YGkNW1camTPJyJR54OiqG+/CLru5FRVu5IsJRuq0gF4jDSQlwPJvjCz4xMizbyuvBIIvpHJ8fSJupU1v5wLPpbJschSNetrR5vkimJnDTb80DLdOnRHX0zBmQLsXi+BSwoKwq2ls+DKG1CQjrYYVucsnSWFgY2PF5Ss3+X3DCd6b3OMu+y05deo627afY9yYDv/YV88e9TAajbkVqog8JAWqWLhnzx66du1Kp06dAChdujSLFi3iwIEDeRxZwValRkn2bj/Hgd2Zv/qEBEfRqn01Klb1MmlX1K0II8d15K2XF/Dup/3yIlQpANKT0rn49UXKDSvH9V+vm+wr8UQJAKLPRN/1vS41XXCp6ZL12sbdhsTgRG5suaFiYSGXkmhkxYwEOr9sy47FSVnbzcwNOPytIHNubypVmllhdWv0Te3HTQuCLp7mXDuXxtk9qSoWCsmJRn6YbqTPqwbWLzK9ublyBp55yUDpipm59ERf+GOlkWsXoaQvxEUbCQ2EfqMNeJXNbNN1KOz8zUiQPzi6Puyjkfzkv+TWqf1gbgG9XjRgZpbZpvfLMO0FI6FBRtxKqGBYmKUkZrD2kxgef9mRfYvjTfZt/S6Wup1tafi0fdY2V+/bt3xl6lpTpu7tc59zcXMiAu04ti5RxcJC7MDBKxw4eOWe+zdtOQ2Ah4fjPdsAlCvrTq+nGjD8pfmsWPxSjsYoIg9XgZrX16RJE7Zs2cKFCxcAOH78OLt27aJDh3/+dUP+2ZkT16hVvyxePkUBKFveg6o1fTj4lyHjBoOB19/twbIFu7l6JTSvQpUC4MoPV3Cp5YJzNecc6S89MR0LhwL1u4bkgnVfJ1C+viVla1v+Y7ugi2ncuJJOncet/rFdcrwR2yK62RZY/JWRag2gUp0786FsFTi8w0h8rJGMDCOHthlJS4HyNTP32zuChzcc2GwkOclIerqRXeugiDP4lH+4xyH5z3/JrbTUzGLhn4VCAKtb9Z3Lpx5G9JKfbZ4TR9l6VpSuZXqui4/KIPh8GnZOZvw8LoKvBoSy6I1Irp9O+cf+kuON2BQpULeFkg9ZW1vw9oTOfPblRiIj4//9DVKoGI0F608K2MjCN954g5iYGCpVqoS5uTnp6elMnTqVfv3uPcotOTmZ5ORkk23W1hpJ8leLf9iFnb013y17iYyMDMzMzPhh9ha2rj+Z1abXoKakp2fw6y/7/6EnKezC9mauR1jj3Ro50l/ijUSCNwZrVGEhd2p7CsGX0nnuU7t/bXt0YwrFSppRssq9T2/XzqRxemcqfafY37ONFA6Hthm5dgle//zuheOhbxqY+4GR8U8bMTPPLNY8N8mQNarLYDDw0jT49l0jr3U3YjCAgzOMfN+AnYrRhdp/za2KNWHFt7B5aeZahylJsGpu5t1LdMTDOgrJj87uSCLkcioDZt45dDn6RjoAuxfF03KoA+5lLDj9RxJL3o5iyFeuuJS489wYGZTGkd8SaTnUIddjl0fbiyPacPpMILv3XsrrUEQkBxSoYuGSJUv4+eefWbhwIVWrVuXYsWOMGjWKEiVKMGjQoLu+Z9q0abzzzjsm2yZPnvwwwi0wmrerSusnqvPh28u5evkm5SoWZ8SYJwgPjWXz2uP4VvKk2zONeLH/N3kdquRjyeHJ+C3wo8obVTCz+u+/TidHJHN2+lmKNiiKRyuPHIhQCqLo0AzWf5vIgPcdsLD65+JLarKRk9tTaP6MzT3b3PRP55f34mnR14Zydf55lKI82iJDjSyfY+SlDwxY3iO3fvvRSGI8vDzNgL0TnNiTua7cqI/Bq4wBo9HIkq+MFHGGUR8bsLKCPRuMfDPFyLjPwKmoCoaFUU7klmdpAwNegxXfGlk9D8zMoUUXKOICZhoAVmjFhKbzx/9iefpdl7ueE/8cDVPzCVuqt7UFwKOcJVdPpHByUxLNB5kWBGPD01k2JZqKTa2p2d421+OXR1eTRr7UruXDcy/8kNehiEgOKVDFwnHjxvHGG2/wzDPPAFC9enWuXr3KtGnT7lksnDBhAmPGjDHZZm1tTZffpuV6vAXFc6+0Y/H8XWzfmDmvxf/yTdw9nXlmyGNsXnuc6rVL4exqz0+/jc56j7mFGc+NepxufRoxqMuneRS55CdxfnGkxqRy/O3jtzdmQMz5GII3BdP4h8YYzO7vxjklMoXTH5ymSIUilBtWLpciloIg+FIa8VFGvnnl9hOPjRlw9VQ6B9ak8PavTpiZZ+bVmd2ppCZDzTZ3n4IcGpDOj2/FUecJq38sKErhEHARYqPgo5eMQOYddkZG5hTPHaszmPidgR2r4a05mYUbAO+ycPmUkR1rjPR5xcCFY3DqAExfasDW/ta6cuUNnDuSwf7N8HjvvDk2yVs5kVsA9VsZqN/KQEykEWsbwJC5rmHR4nlzXJL3Qi6lkRBl5MdRt4eXGjPg2ulUjvyWyLA5maMNi5Y0vcUr6m1BTGi6yba48HQWvxlFiUqWtH9JaxXKf1O7VilKeLrw28pRJtvfmdiNk6euM3rcorwJTPINo1E/oBY0BapYmJCQgNnffk41NzcnIyPjnu+xtrbWtON/YW1jiTHDdGJ+RnoGBkPm/9Cb1x3nyAHTBW8/+KI/W9adYOOaow8tTsnfnKs6U3NaTZNtl769hF0JO0o8WeK+C4XJEcmc/uA0DqUd8H3e977fJ4+mMjUteeEr05uYVZ8mUMzbjKY9bbIKhQBHNyZTsaEl9k53Dru5eTWdH9+Mo2YbK9oM0ugJgYq14M05pt8vP31ixKMktOtlIOXWCiaGv6WTwez26J0/2/x9pJfBoPVuCrOcyK2/cnTJ7GvvBiOWllCpTi4ELQVCqZqWDP7SdPrx+k9jcPU2p0FPe5yLm+PgakZkYJpJm8igdMrUvf1DWuytQqGHrwUdXi2iay35zxYu3sfa9cdNts37dhizv/mDPfs0LVmkICpQxcLOnTszdepUfHx8qFq1KkePHmXmzJkMHTo0r0Mr0PbtvMAzQ5tz80Y0V6+EUq5icXr0a8zG1ZmFwNjoRGKjE03ek5aWQWR4HNevhudFyJIPmduaY1/SdA04c2tzLBwssranRKWQGp1KUkjm02wTriVgbmuOVVErLB0sMwuFU09jXcyaUn1LkRqTmtWXlfM/P7BCHk3WdgbcS5ubbLO0AVtH0+0RQelcPZVOvyl3jhi86Z/O/Dfj8K1jQeNu1sRFZP7AZDDnroVFKRxs7AyUKG26zcrGiL0jlChtID3NiFsJWPS5ke7PgX0ROLEXzh+FEe9k3liXqQx2DvDjx0Y69ANLK9jzu5HwEKja4OEfk+QPOZFbANtXGylbGaxs4dwR+PV7I12HGLBzUGGnsLKyM8OtlOl5y9LGgK2jGW6lMm/r6vewY/fCeNzKWGStWRhxPY0ub2Q+xTY2PJ1fJkTh6G5Gy6EOJMTcHnTh4GJ6vpXCw8bGEq8SLlmvPYs7Ua6sO7GxidwMjaVIERvc3RwpVjRzKrtPycyidURkPJF/+fu7kJsx3LgR/XAOQkRyVIEqFn7xxRdMnDiRkSNHcvPmTUqUKMHw4cOZNGlSXodWoM2esY5BI1rz0hudcHaxJzwslnUrDvPz/7bndWjyiLmx5QbXV17Pen3q/cyp777P++Le3J3oU9EkhSSRFJLE4VcOm7y3yU9NHmqsUrAc3ZSCYzED5erceVo7szuFhGgjJ7amcmLr7QK0k7uBUfOcHmaYUoCYWxh44b3Mh0p8M9lIciK4lYABYw1UbZBZrHFwMjDyfVjzg5HPxxvJSIfiPvD8ZAPeZVXQkbu7n9wCuHreyNoFmQ838fCGPi8baNBWeSX/rF5XO9JTjGz9Lo6k2Azcyljw9LvOuHhmnh+vHk0hKjidqOB05gw2/dF/3Br3vAhZ8oGKFYrz6cd9s16/OKINAOs3nuSjj9fRpJEvb4zrlLV/0ltdAfhhwS7mL9j9cIMVkYfCYDQWzoky7etNyesQ5BG04dAUhhwcktdhyCNoXv15LLzUMK/DkEdMX9/9bPKrnNdhyCOoXZmzyi3JFe3KnOW7C4/ldRjyiHm2wk5aPf5RXochj6CtG8fndQj5QvXVBeshsye7vPPvjR5xmn8lIiIiIiIiIiIigIqFIiIiIiIiIiIickuBWrNQREREREREREQKjgyj1twtaDSyUERERERERERERAAVC0VEREREREREROQWFQtFREREREREREQE0JqFIiIiIiIiIiKSS4zGvI5AHpRGFoqIiIiIiIiIiAigYqGIiIiIiIiIiIjcomnIIiIiIiIiIiKSK4xGQ16HIA9IIwtFREREREREREQEULFQREREREREREREbjEYjXoujYiIiIiIiIiI5LxKK97N6xAeyLkek/I6hDxXaNcsbNR/Zl6HII+gfT+Noeobs/I6DHkEnf5wNJXeUW5Jzjo3eTQV31VeSc47P2k0Fd9TbknOOz9xNL7TlVuSsy69PpraI5VXkvOOzh6d1yGIZIumIYuIiIiIiIiIiAigYqGIiIiIiIiIiIjcUminIYuIiIiIiIiISO7SgzIKHo0sFBEREREREREREUDFQhEREREREREREblF05BFRERERERERCRXGI2GvA5BHpBGFoqIiIiIiIiIiAigYqGIiIiIiIiIiIjcomKhiIiIiIiIiIiIAFqzUEREREREREREcosxrwOQB6WRhSIiIiIiIiIiIgKoWCgiIiIiIiIiIiK3FLhpyLGxsUycOJGVK1dy8+ZNateuzWeffUb9+vXzOrQCo1ZFL/p3qkfFMh64uTjw+qxV7Dh8OWv/xOfb06l5VZP37D3hz+jpKwCoU9mb2W/1umvfQyb9zNkrIbkXvORbz7asT7uqvpRxdyUpNY1jV4OY+fsu/MMis9o83aA6HWtVpEoJdxxsrGk0ZTaxSckm/ZQq5sxrHZtTu1QJLM3NuHAjjC827uHAlesP+5Akn3i+WX3aVfKlbDFXktLSOHotiE8278Iv/HZuvfNkGxqX8cG9iAMJKSkcvRbMx5t3mrQB6F6zCoMb16F0URfiklNYf+YC763b+rAPSfKB55vW5/G/5dXHW/6WV53a0OSveXU9M6+u/KVNozIlebVlEyq6FyMhNZVfj59h1h+7STdqvk1hlZVbRW/l1vU7c+uv/tenG819yzByyWq2nL99PfZW+5bUKVmCCm5FuRwWQbf//fywDkHyqREN6/N4hczcSk5N40hQENO378Iv4nZu/fxMTxr6lDR538JjJ5i0cUvW68Y+JRn9WBMquBUjMSWVFafPMHOHvrcKszq+XgxsV48qJd1xc3Zg9Der2Xb89veRrbUlr3RtRqua5XCytyUoPJpF246xbOcJADxdHVn3/rC79j3uf7+x+ejFh3Ickn8ZjYa8DkEeUIErFj777LOcOnWKBQsWUKJECX766Sfatm3LmTNn8PLyyuvwCgRba0suBoSyZsdpPhrV5a5t9h73471vN2S9Tk1Nz/r3iQtBdHxxjkn74T2bUq9qSRUKC7H6ZbxZtO84J6+FYGFu4NX2TfnfsB50mTmfxNQ0AGwsLdh9/iq7z19ldIdmd+1n9qBuXA2PZOj/lpGUmsbAZrX5anA3OkyfS1hcwsM8JMkn6pfyZuHB45wMCsHczMDo1k35rn8Pnpx9O7dOB91kzYlzBEfH4mRrw0stG/H9gB60/WwuGbdufgY3qsOQxnWZsWkHxwNvYGtpiZezY14emuShBqW8+fnQ7bwa07op3/frQaev/5JXwTdZc/J2Xr3cohHf9+9Bm88z86qiRzH+16cbc3YdYPyv6/FwdOCdjm0wMzMwfdPOPD5CySsNfLz5+eBxTgbfyq1WTfm+bw86zbmdW38a1LA2/1SfWX7sNDW9ilPRvVguRy0FQYOS3vx09HZujW3elB+e7sETc01z65fjJ/l0156s10l/2VfJrRjf9+zG7H0HGLd2PR5FHHj38TaYGwx8uE3fW4WVrZUlF66HsmrPKWYOv/P+cOxTLahfoSRv/bCeoPAYGlcuxYRnWhMaFcf2k1cIiYyl7RvfmLznqabVGdiuHrvP+D+koxCRnFSgpiEnJiayfPlypk+fTvPmzfH19WXKlCn4+vry9ddf53V4BcbeE/58s2wP2w9dumeblNR0IqITsv5iE26P/kpLzzDZFx2XxGN1yvHbjtMPI3zJp4bPW8mvh89w+WY454PDeGvpRkq4OFLF2yOrzYLdR/lu+0GOXwu+ax/OdjaUdnPhu22HuHAjjIDwKGb+vgs7K0t8i+tGqbB67ueVrDx+hkuh4ZwPCWPCqo14OTtS1fN2bi05cpJDAYEERsdw5sZNPv1jDyWcHLOKgY421rzaugnjf13Pb6fOcy0ymgs3w9h64UpeHZbksWcXmubVG/eTV1tN86pj1YqcDwnjqx37CYiM5uDVQGZs2UW/erWwt7LMq0OTPPbsopWsPPGX3Fp9Z24BVPJwY2ijury5ZuNd+5m6YRsLDx3nWmT0wwhbCoChy1ay4tQZLoaHcy40jPHrNuLl5Eg1D9PcSkxNJSw+IesvLiUla1+nShU5FxrGl3v2czUqmgPXApm+bRf9a+t7qzDbfcaf2Wv2sPUvown/qmZZT37bf4bDF68THBHDit0nuRAYStXSxQHIMBoJj0kw+WtVy5dNRy6QmJz6MA9FRHJIgSoWpqWlkZ6ejo2Njcl2W1tbdu3alUdRPZrqVPZm3VcjWDxjMK8PboOjg8092zavUw6nIjYqFoqJIjZWAEQnJN33e6ISkrhyM4KudSpja2mBuZmBXg1rEBYbz5lAjVqVTEWsb+VW4t1zy9bSgh61q3ItMpob0bEANClbCjODAY8iDqwdOZBto59lVs9OFHd0eGhxS/52X3lVyzSvrMzNSU5PN2mXlJqGjaXFHYUhKbzulls2FhZ80r0D7/7+B2HxGjUv2fNnbkUlmX5vda1SiQMvjWDdkAG81rwpNha3J5NZWZiTnPa37620zO+tvxcdRf50/EowLWqUxc3JHoB6Fbwp5e7CvrNX79q+ckl3KpV059c9px5mmCKSgwrUNOQiRYrQuHFj3nvvPSpXroyHhweLFi1i7969+Pr63vU9ycnJJCebrolmbW39MMItsPae8GfboYsE3YzBy8OJF3o1Y9a4Hjw3ZVHWdL6/6tyiGvtPXCU0Ii4PopX8yGCA8U+25Ih/IJdCwh/ovc9+t5zPB3bhwDsvkWE0EhGfwPB5K4lJTP73N8sjzwC8+URLDgcEcjHUNLf61KvBa+0ew97KiithEQxdsJzUjAwASro4YTAYGP5YAz5Yv43YpGRebd2UuQOeouvXC7LaSeFkAN5sf/e86luvBq+1vZ1XQ366nVe7LvszqGFtOlWtyO9nLlDMwY4XmzcEwM3B/mEfhuRDBuDNx+/MrQmPt+Do9SC2aHSzZJMBeKtNSw5dD+Ri2O3cWn32PEHRMYTExVHJ3Y3XWzSjjKsLL/76GwA7/fwZXLc2T1auyLpzF3Czt+OlJvrekn/20ZKtTOzblo3Tnic1PR1jhpH3Fm7myKXAu7bv1rQaV4LDOX7l7rOJpPDRkqgFT4EaWQiwYMECjEYjXl5eWFtb8/nnn9OnTx/MzO5+KNOmTcPJycnkb9q0aQ856oJl877z7DxyhcvXw9hx+DJjP/6VquWKU6eK9x1t3VwdaFijFGu261cjue3trq0pX7wory1c9+Dv7daaiLgEBn6zhGe+WsQfpy/z1aCuFCuiC1iBSZ1aU969KGOW3Zlba06eo8c3P9N/3hL8wyP5tGcnrMzNATAzZI4Cm/r7VnZdvsrxwBuMXb6OUq7ONCxT8o6+pHCZ3DEzr0YvvzOvVp88R/dvf6bfD7fy6qnbebX7SgDTN+/knU5tOPnWK2x4cQjbL/kD3PXHNSl8Jne4lVsrbudW6wplaVS6JB9s2J6HkUlBN6VdayoUK8qo1abfW4uPn2Sn/1UuhIWz+sw5Xlu7gfYVyuPj7ATALv8APtq2k/ceb8OZsa+w6dkhbL/iD+h7S+7tmZa1qF6mOK9+vYp+Hy5k5oodvNG7NQ0r+tzR1trSnA71KmpUoUgBV6BGFgKUK1eO7du3Ex8fT0xMDJ6envTu3ZuyZcvetf2ECRMYM2aMyTZra2vWD/vqYYT7SAgKjSYyJgFvD2cOnb5msu/J5lWJjk1ix5G7r28hhc9bXVrRolJZBn2zhJCYBxtt2rBcSVpUKkPjd74mPjlzfZ33Vv1B4/I+dKtThe+2H8yNkKWAmNihFS3Ll6X/D0sIib0zt+KSU4hLTuFqRBTHrwezf/xI2lX2Ze2p84TGxQNwKTQiq31kQiKRCYl4OhV5aMcg+c/EJ27l1fz7y6sDr4+kXSVf1p4+D8AP+47ww74juDvYE52UhJezE6+1acb1KK0zV9hl5daPprnVqHRJfFydOfj6SJP2X/R8kkMBgQxcsOxhhyoFzOS2rWhdrix9Fi3hRtw/X2sdD84c2VXK2ZmAW99Lcw8dYe6h299b3o5OjGvRjGv63pK7sLY05+UuTRnz7Rp2nfID4GJgGBW93RjQti77zweYtG9buwI2Vpb8tv9sXoQrIjmkwBUL/2Rvb4+9vT2RkZFs2LCB6dOn37WdtbW1ph3/R26uDjg52BIeFX/HviebV+X3XWdIT9cUPsksFLap6svgb5cSGBnzwO+3vbWwtvFvv2xnGI0YDDkSohRQEzu0om0lXwbOX0pg1H3klsGA4dZoQoAjAUEAlCnmknXT7mRjjYudLUH30588kiY+0Yp2lXwZ8ONSrj9IXlmY37Hr5q2C9JPVKhIUHcPp4Js5Ha4UIBOfaEW7ir4MWHBnbn27+yBLj5qOuPltxECmbdzO1oualiz/bHLbVrQr70u/X5ZyPfrfv7cqu7sDcDP+zuv4rO+tKhUJionhdIi+t+ROFubmWFqYY8wwvT5PzzBiZnbnBXq3JlXZfuIKkXGJDytEKQCMRt3MFTQFrli4YcMGjEYjFStW5NKlS4wbN45KlSoxZMiQvA6twLC1tsTbwznrdQk3J8r7uBETn0RMXBLDejRm64GLRETH4+XhxEvPNOd6SBT7TpguYFuvakm83J1Zve3kQz4CyY8mdm1Nx1oVefnH1SQkp1DMwQ6A2KTkrIW0iznYUayIPT5FnQEoX7wYCckpBEfFEJ2YzLGrQcQkJvNBr/Z8vWUfSalp9KxfHW8XJ3ac98urQ5M8Nqlja56sXpEXf1lNfHIKxexv5VZyZm55OzvRsVoFdl++SkR8IsUdHXiuWX2SU9PYfjEzb/wjoth87hJvPtGSyWs2E5ecwpg2zbgSFsl+/+t5eXiSRyZ3yMyrkYv/Ia+qVmD3ldt59XzT+iT9Ja8AhjWuy87L/mQY4fFKvjzXtD6jlq3VdL5CbHKH1jxZ7d659ecTav8uKCbWpLDo4+KEnZUVbg722FhaUMnDDYDLoeFaZ7WQeqddazpXrsiIlauJT7kzt3ycnehcuRLbrvgRlZhEJfdivNWqBQeuXed8aFhWP882qMuOK/4YjfB4BV+GN6zPK6v0vVWY2VpbUtLNOeu1V1FHKnhn3h/eiIzl0IVrjOrxGEmpaQRHxFC3vDdPNqzCzOWmyymUdHOijq83L89e+ZCPQERyWoErFkZHRzNhwgSuX7+Oq6srTz31FFOnTsXS0jKvQyswKpf1YPZbvbJej+rfEoC1O04zfd4WfEsWo2OzKhSxtyYsMo79J6/y7bI9pP7tyWmdW1TnxIVArgZHPszwJZ96pnFNAOYP72Wy/a2lG/j18BkAejWqwYttG2ftWzCil0mbqIQkhs9dyavtmzD32Z5YmJtxKSScl35czfngMKRw6ls/M7cWDDbNrQm/bmDl8TOkpKVR18eLgQ1r42hrQ3hcAoeuXqfP3MVEJNz+VXv8yg1MeKIFc/p2w2g0cuDqdZ77eQVpuukulP7Mq58GmebVG6tu51U9Hy8G/TWvAq7TZ55pXjX3Lc2IxxpgZW7BuZBQXly8mh231i2UwqlvvX/IrRNn7ruf959sR8PSt9dUXfV8fwBaf/49gfcxokwePf1qZ+bWwj6mufX6ug2sOHWG1PR0mpb2YXC92thZWhIcG8v6C5eYvXe/SfsWZUozstGt763QUEasWM0OP/+HdRiSD1Xx8eC70U9nvX6tZ0sAVu89zeQFG3lj7jpe7tqMD4Z0wNHOhuCIGL5avZulO0+Y9NO1cTVComLZe4+nJItIwWEw/n2+XyHRqP/MvA5BHkH7fhpD1Tdm5XUY8gg6/eFoKr2j3JKcdW7yaCq+q7ySnHd+0mgqvqfckpx3fuJofKcrtyRnXXp9NLVHKq8k5x2dPTqvQ8gXyv3yQV6H8EAuP/NmXoeQ5wrc05BFREREREREREQkd6hYKCIiIiIiIiIiIoCKhSIiIiIiIiIiInJLgXvAiYiIiIiIiIiIFAyF80kZBZtGFoqIiIiIiIiIiAigYqGIiIiIiIiIiIjcomnIIiIiIiIiIiKSOzQNucDRyEIREREREREREREBVCwUERERERERERGRW1QsFBEREREREREREUBrFoqIiIiIiIiISC4xGg15HYI8II0sFBEREREREREREQAMRqNRz6UREREREREREZEcV+bnaXkdwgPx6zchr0PIc4V2GrLv9Fl5HYI8gi69PppmPT7O6zDkEbRrxWs07zIjr8OQR8yO1eNo3lV5JTlvxyrlluSOHavG0aj/zLwOQx4x+34aQ7lPlFeS8y6PHZPXIeQPGqJW4GgasoiIiIiIiIiIiAAqFoqIiIiIiIiIiMgtKhaKiIiIiIiIiIgIUIjXLBQRERERERERkdxlNBryOgR5QBpZKCIiIiIiIiIiIoCKhSIiIiIiIiIiInKLpiGLiIiIiIiIiEjuMOZ1APKgNLJQREREREREREREABULRURERERERERE5BYVC0VEREREREREJJcYCthfwRESEsKAAQMoUaIEFhYWmJubm/xll9YsFBERERERERERKWAGDx5MQEAAEydOxNPTE4MhZ4qd+apYuGPHDmbMmMHhw4cJDg5m5cqVdOvWLWu/0Whk8uTJ/O9//yMqKoqmTZvy9ddfU758+bwLuoAZ0bA+j1fwpWxRV5JT0zgSFMT07bvwi4jMavPzMz1p6FPS5H0Lj51g0sYtWa8b+5Rk9GNNqOBWjMSUVFacPsPMHbtJN2rl0sKqZhVv+natT8VyHhRzdWDCh7+y88ClrP1DezehTdOKuBdzJC0tnfOXQ/h24U7OXLyR1aZCWXdeGNCcSr7Fycgwsn3vBb74YRuJSal5cUiST9Ss6s0z3etTsVxxihV14M2pK9m1PzO3zM3NeK5/MxrVLYtncSfi41M4dPwq3/y4nfCI+Kw+KpR1Z/jgFia59dX3W5VbhVzNKrdyy7c4xVwdePOD27kFMOSZJrR+rBLuxYqQlpbB+csh/O+nnZy9EAxAcXdHBvVqTJ0aPrg62xMWEc/G7WdYsHQvaWkZeXVYkg/819wCmPZWd3zLuOPsZEdcXBKHjl9lzt++26RwqVXRi/6d6lGxjAduLg68PmsVOw5fzto/8fn2dGpe1eQ9e0/4M3r6iqzXJYs783Kf5tSo4IWlhRmXAsL4Ztkejpy99tCOQ/KfEQ3q0758ecq6upKclnmP+NGOnfhFRpq0q+3pydhmTanp6Ul6RgZnQ0MZvHwFyWlpJu2szM1Z3rcPVdzdefLHBZwNDX2YhyNSqOzatYudO3dSq1atHO03X01Djo+Pp2bNmnz11Vd33T99+nQ+//xz5syZw/79+7G3t6d9+/YkJSU95EgLrgYlvfnp6HGeXvALg5Ysx8LMjB+e7oGtpWnd+JfjJ2n01TdZf9O37czaV8mtGN/37MYOP3+6/vATr65ZSxvfsoxr0exhH47kI7bWllzyv8nM/22+6/5rQRHM+m4Lg0b/wMi3FhEcGs3MSU/j7GgLQFEXez6d/DTXg6N4fvzPjH1vOaV9ivHmyx0e5mFIPmRjbcllv1BmfXNnbtlYW1C+nAfzF+/l2dE/8vaHv+Lj5cK0t3pktSnqas/M93oRGBzFiHE/MW7KMsr4FGPCq8qtws7GxpLL/nfPLYBrQZF8+u0WBr/yAy++sZAbN6P5ZMrTON363vLxcsVgZuDj2ZsY+PI8vpz7B12fqMnz/Zs/zMOQfOi/5hbAkZMBTJ6+mv4jv2fiR6vw8nTmvfFdH9YhSD5ka23JxYBQPp7/xz3b7D3uR8cX52T9Tfpyrcn+T8Z2x9zcjJc+WMrgt3/mYkAon4zthquTXW6HL/lYQ++S/HTsGD0XLmLgsmVYmJkxv+dT2Frcvkes7enJvKd6sPPqVXr8vJDuPy9kwdFjGO8yWGR888e4GacfNkQehpIlS971/8P/Kl+NLOzQoQMdOtz95s1oNPLpp5/y9ttv07Vr5oXSjz/+iIeHB7/++ivPPPPMwwy1wBq6bKXJ6/HrNnLg5RFU8/Dg4PXArO2JqamExSfctY9OlSpyLjSML/fsB+BqVDTTt+3i8y6d+GLPPuJTNFKnMNp31I99R/3uuX/TznMmr7+Yt43ObWtQrpQbh08G0LReOdLSM5j5v838+V338ZxN/PjpYLyKOxN4IyoXo5f8bP8RP/YfuXtuxSekMHbSUpNtn36zhW9nDsC9WBFuhsXSpH5mbs2asykrtz6ZvZEfvhiCl6czgcFRuXwEkl/9U24BbN5x1uT1l99v5cl2NShX2o0jJwI4cNSfA0f9s/YHh0RT0usg3Z6oxewftuVS1FIQ/NfcAli6+nDW/pDQGH5evp+pEzILPenpGrlaGO094c/eE/7/2CYlNZ2I6Ltfwzs52ODj6cLU7zZy6VoYALMX76Rnu1qU8y5GRHRATocsBcSQFStMXr++fgMHR76QeY8YmHmP+FbLlsw/cpRvDhzMavf3kYcALUqXplmpUry4eg0ty5bJ3cCl4NAExFzz6aef8sYbb/DNN99QunTpHOs3XxUL/4mfnx83btygbdu2WducnJxo2LAhe/fuVbEwm4pYWwEQ9bfRmV2rVKJrlcqExcfzx+UrfLlnP0m3hpdbWZiTnJZu0j4pLQ0bSwuqeXiw/9r1hxO8FFgWFmZ0fbwGsfFJXPLPnJZgaWlOalo6f/1RJDklM+dqVPZSsVDum729NRkZRuLikwGwtDAnLfXuuVW9speKhXJfLCzM6NK+JrFxSVz2u/d0Kgc7a2LiNONB7t/95FYRBxvatajCqXOBKhTKP6pT2Zt1X40gNiGJw6evMWfZ7qzvpOi4JPyDIujYrArn/UNITU2nW+saRETHc84vJI8jl/ykiLU1ANG37hGL2tpSu4Qnq8+dZWmfZ/BxcuJyRCSf7N7F4cCgrPcVtbNj6uPteGHVahL/NjVZRHJH7969SUhIoFy5ctjZ2WFpaWmyPyIiIlv9Fphi4Y0bmeuaeXh4mGz38PDI2nc3ycnJJCcnm2yzvvXlV9gZgLfatOTQ9UAuhoVnbV999jxB0TGExMVRyd2N11s0o4yrCy/++hsAO/38GVy3Nk9Wrsi6cxdws7fjpSYNAXBzsM+LQ5ECokndskwZ8yQ21paER8Yx+p1lRMcmApnTrV4e3JI+XeuzdO1hbK0tGTEgcypfURflldwfK0tzRgxqzpYdZ0lITAHgyIkAXhrWime612fZmsPYWFsyfOCt3HJ1yMtwpQBoXK8sk1/rnPW9NXby0qzvrb/zKu5Mj051mD1v28MNUgqk+8mtEQOb071TbWxtrDh1Log33l+eR9FKQbD3hD/bDl0k6GYMXh5OvNCrGbPG9eC5KYvIuPWL2csfLmP6qC788b+XyTAaiYxJYNT0FcQmJP9L71JYGIC3W7bkUGAgF8Iz7xFLOjsD8ErjxkzbvoOzoTfpXqUKC3r2pOP8H/GPigJgxhPtWXT8BCdDQvBydMybAxApZD799NNc6bfAFAuza9q0abzzzjsm2yZPngx2TnkUUf4xpV1rKhQryjM/LzHZvvj4yax/XwgL52ZcPD890xMfZycCoqLZ5R/AR9t28t7jbfi40xOkpKXz1d79NCjpnXUhInI3R05dY8jYH3F2tKVz2xq8O7Yzz7/xM1HRCfhdC2fqF7/z0uBWDO//GBkZGSxbe5TwyHiUVnI/zM3NeOf1LhgMBj75elPWdv9r4Xzw6e+8OKwVzw9sTkZGBsvXHMnMrQwll/yzoyevMWzUfJwcben8eA3eeb0zw8dlfm/9VTFXB2ZM6cm2Pef5bdOJPIpWCpL7ya1FKw/y2+aTFHdzZPAzTXhrVEfGv7fiH3qVwmzzvvNZ/758PYxLAWGsmDWMOlW8OXQ68wEm4wa1JjImkRHvLSY5NY0uLavx8dhuDJm0kPAorTEn8E6bNlQoVpTevyzO2mZ26+Gqi06cYPnp0wCcubmdJj4+9KxWjY937WJQ7drYW1nx9YEDeRG25He65M41gwYNypV+C0yxsHjx4gCEhITg6emZtT0kJOQfn/oyYcIExowZY7LN2tqanz6bnStxFhST27aidbmy9Fm0hBtxcf/Y9nhw5pP5Sjk7ExAVDcDcQ0eYe+gI7g72RCcl4e3oxLgWzbh2a7/I3SQlpxJ4I4rAG1GcvhDMoi+H8WSbavy0IvOiYtPOc2zaeQ4XJzuSklMxGqF357oEaQqy/Is/C4Ue7o6Mentx1qjCP23ecZbNO87i4mxHUlJmbvXqWo+gkKi8CVgKjL9+b525EMzCr5+lU9vq/Lx8f1aboq72fPZ+b06dC2LGVxvyMFopSO4nt6JjE4mOTeR6UCRXr4ezfO4LVK1YgtPng/6hZ5FMQaHRRMYk4O3hzKHT16hXtSRNa5el3fDZWefJGT/8QYNqpej4WBUWrDn4Lz3Ko25y69a0LleWZ35ZbHKP+OfDSi6Fm05nvBwRQQnHIgA09ilJbU9Pzo561aTNr/37sfrsWcat1/lRJLclJSWRkmJ6H+SYzVG+BaZYWKZMGYoXL86WLVuyioMxMTHs37+fF1544Z7vs7a21rTjv5ncthXtyvvS75elXI+O+df2ld3dAbgZf+evjX+eOJ6sUpGgmBhOh9zM2WDlkWZmZsDK8s6vochboyo6ta5GSmo6B49ffdihSQHyZ6HQu4Qzr761mJjYe68XFxmVmVsd21YjJTWNQ8eUW/JgDAYDVpbmWa+LuTrw2fu9OX85hA8//10joSXb/p5bd9sPmWv8itwPN1cHnBxss0YM2lhlrmP191H1GUYjZrfySwqvya1b87ivL/2WLOF6jOk94vWYGG7ExlHWxcVke2kXF7b7ZT7M6Z0/tjJz1+6sfe4ODszv+RSv/LY2a/CJiOS8+Ph4xo8fz5IlSwgPD79jf3p6+l3e9e/yVbEwLi6OS5cuZb328/Pj2LFjuLq64uPjw6hRo3j//fcpX748ZcqUYeLEiZQoUYJu3brlXdAFzDvtWtO5ckVGrFxNfEoKxeztAIhNTiY5LR0fZyc6V67Etit+RCUmUcm9GG+1asGBa9c5HxqW1c+zDeqy44o/RiM8XsGX4Q3r88qqtZqGXIjZ2ljiVdw567WnuxO+pd2IjUsiOjaJgT0bsvvgZcIi43EuYkuPDrUo5urA1j23p8z06FCbU+cDSUxMpX7NUowc1II5C3YQp3V0CjVbG0u8PG9fnHp6OOFbxp2Y2ETCI+N5740uVCjrwfj3VmBuZoarc+YalzFxiaSlZT4IoEen2pw6G0hCUir1a5XmhSEt+Gb+jqyHoEjh9E+5FRObxICnG7H7wCXCI+NxcrSle8faFCvqwNbdmd9bxVwd+HzqM9wIjWH2vG04O9pl9RWh6XyF2n/NrcoVPKnsW5wTZwOJjUvCq7gzw/o143pwJKfPaVRhYWVrbYm3h3PW6xJuTpT3cSMmPomYuCSG9WjM1gMXiYiOx8vDiZeeac71kCj2ncj8YezkxSBi45OZNPwJvv91L8kpaXRtVYMSbk7sPnYlj45K8oN32rSmS6VKDF+1mriUFIrZ3bpHTEkh+daDSv536CCjmjThbGgoZ0ND6VGlCuVcXHlp9RoAgmNj+WtJMD41FYCAqKh/nckmItn3+uuvs3XrVr7++msGDBjAV199RWBgIN988w0ffvhhtvvNV8XCQ4cO0apVq6zXf04fHjRoED/88AOvv/468fHxPP/880RFRdGsWTPWr1+PjY1NXoVc4PSrXROAhX16mWx/fd0GVpw6Q2p6Ok1L+zC4Xm3sLC0Jjo1l/YVLzN6736R9izKlGdmoAVbmFpwLDWXEitXs8PN/WIch+VClcsX54r3eWa9fGZr5//K6P07x8TebKOXlSoeWVXFytCUmNomzl27w4tu/4Hft9q8fVcoXZ9gzTbC1sSQgMIIZczaxYfuZh34skr9U9C3O5x/cfuL9y8+2BuD3LaeYt2g3zRqWB2De54NN3vfKm79w7FTmGk2VynsypE9TbG0tCbgewcdfbWTjNuVWYVfRtzifT/1Lbg27nVuffL2RUt6uPNG6a9b31rmLwbw8YRH+t7636tUqhXcJF7xLuLBinuksh+ZdZzy8A5F857/mVnJyKs0bl2dIn6bY2FgSERnH/iP+/LhkL6lp2RshIAVf5bIezH7r9jX8qP4tAVi74zTT523Bt2QxOjarQhF7a8Ii49h/8irfLtuTlTPRcUmMmr6CEU835asJT2NhYcaV6+G8PnMVlwLC7vaRUkj0vzVzb1Hvv90jrl/P8tOZ10s/HDmKtYUFb7dqiZONDedCQxm4fBkB0VqGSu6DUaOXc8uaNWv48ccfadmyJUOGDOGxxx7D19eXUqVK8fPPP9OvX79s9WswGgvnUDDf6bPyOgR5BF16fTTNenyc12HII2jXitdo3kXFB8lZO1aPU1FLcsWOVcotyR07Vo2jUf+ZeR2GPGL2/TSGcp8oryTnXR475t8bFQKl503P6xAeiP+Q1/M6hPvm4ODAmTNn8PHxwdvbmxUrVtCgQQP8/PyoXr06cdkc2WuWw3GKiIiIiIiIiIhILitbtix+t9YOrVSpEkuWLAEyRxw6Oztnu998NQ1ZREREREREREQeHYVzPuvDMWTIEI4fP06LFi1444036Ny5M19++SWpqanMnJn9EdMqFoqIiIiIiIiIiBQwo0ePzvp327ZtOXfuHIcPH8bX15caNWpku18VC0VERERERERERAq4UqVKUapUqf/cj9YsFBEREREREREReUBff/01NWrUwNHREUdHRxo3bszvv/+etT8pKYkXX3yRokWL4uDgwFNPPUVISIhJHwEBAXTq1Ak7Ozvc3d0ZN24caWlp9x1DfHw869atY86cOXz++ecmf9mlkYUiIiIiIiIiIpI7HuE1C729vfnwww8pX748RqOR+fPn07VrV44ePUrVqlUZPXo0a9euZenSpTg5OfHSSy/Ro0cPdu/eDUB6ejqdOnWiePHi7Nmzh+DgYAYOHIilpSUffPDBv37+0aNH6dixIwkJCcTHx+Pq6kpYWFhW4fGVV17J1nFpZKGIiIiIiIiIiAiQnJxMTEyMyV9ycvJd23bu3JmOHTtSvnx5KlSowNSpU3FwcGDfvn1ER0fz/fffM3PmTFq3bk3dunWZN28ee/bsYd++fQBs3LiRM2fO8NNPP1GrVi06dOjAe++9x1dffUVKSsq/xjp69Gg6d+5MZGQktra27Nu3j6tXr1K3bl0+/vjjbP83ULFQREREREREREQEmDZtGk5OTiZ/06ZN+9f3paen88svvxAfH0/jxo05fPgwqamptG3bNqtNpUqV8PHxYe/evQDs3buX6tWr4+HhkdWmffv2xMTEcPr06X/9zGPHjjF27FjMzMwwNzcnOTmZkiVLMn36dN58881sHH0mTUMWEREREREREZHcYTTkdQQPZMKECYwZM8Zkm7W19T3bnzx5ksaNG5OUlISDgwMrV66kSpUqHDt2DCsrK5ydnU3ae3h4cOPGDQBu3LhhUij8c/+f+/6NpaUlZmaZ4wDd3d0JCAigcuXKODk5ce3atX99/708cLEwKiqKPXv2cObMGcLCwjAYDBQrVozKlSvTuHFjXFxcsh2MiIiIiIiIiIhIXrG2tv7H4uDfVaxYkWPHjhEdHc2yZcsYNGgQ27dvz8UIb6tduzYHDx6kfPnytGjRgkmTJhEWFsaCBQuoVq1atvu9r2JhSkoKCxcu5IcffmDXrl1kZGTctZ2ZmRlNmzZlyJAh9OnT54H+44qIiIiIiIiIiBQkVlZW+Pr6AlC3bl0OHjzIZ599Ru/evUlJSSEqKspkdGFISAjFixcHoHjx4hw4cMCkvz+flvxnm3/ywQcfEBsbC8DUqVMZOHAgL7zwAuXLl2fu3LnZPqZ/XbNwzpw5lC1blhEjRuDo6MisWbPYtWsXQUFBJCYmkpCQQGBgILt27WLmzJk4OTkxYsQIypUrxzfffJPtwEREREREREREpGAzGAvW33+VkZFBcnIydevWxdLSki1btmTtO3/+PAEBATRu3BiAxo0bc/LkSW7evJnVZtOmTTg6OlKlSpV//ax69erRqlUrIHMa8vr164mJieHw4cPUrFkz28fwryMLP/jgA1577TWGDBmCk5PTXdt4enri6elJkyZNeOWVV4iJiWHu3LlMmzaN4cOHZzs4ERERERERERGR/GjChAl06NABHx8fYmNjWbhwIdu2bWPDhg04OTkxbNgwxowZg6urK46Ojrz88ss0btyYRo0aAfD4449TpUoVBgwYwPTp07lx4wZvv/02L7744n3N1p07dy6tWrWiTJkyOXpcBqPR+I9107S0NCwssvcclP/yXhERERERERERKdhK/29GXofwQPyfG3ffbYcNG8aWLVsIDg7GycmJGjVqMH78eNq1awdAUlISY8eOZdGiRSQnJ9O+fXtmz55tMsX46tWrvPDCC2zbtg17e3sGDRrEhx9+eF/1tPLly3PlyhW8vLxo0aIFLVq0oGXLllnTorPrX4uFj6rSCz7M6xDkEeQ/4A0aDJqZ12HII+jA/DE06fVJXochj5g9S8bSuK/ySnLe3oVjaThA50PJefsXjKH2i7PyOgx5xBz9ajTlFk/N6zDkEXS591t5HUK+8CgXC/ODwMBAtm3bxo4dO9i+fTsXL17E09OTli1b8tNPP2Wrz39ds/B+JCcnExYWlhNdiYiIiIiIiIjIo8JYwP4KGC8vL/r168esWbP47LPPGDBgACEhIfzyyy/Z7vO+i4UbN26kY8eONGnShEmTJpGSkkJ8fDy9evXC3t4eDw8PypQpw8qVK7MdjIiIiIiIiIiIiPy7jRs38uabb9KkSROKFi3KhAkTcHFxYdmyZYSGhma73/taUHDPnj107NgRNzc33NzcmDp1KmFhYaSkpHD27FnGjx9PQkICy5cvp1evXmzfvp0mTZpkOygRERERERERERG5tyeeeAI3NzfGjh3LunXrcHZ2zpF+72tk4XvvvUeNGjW4cuUKJ06cYPz48cydO5fLly9z5MgRpk6dyqxZszhx4gSenp7MmFGw5qOLiIiIiIiIiEguMBoK1l8BMnPmTJo2bcr06dOpWrUqffv25dtvv+XChQv/qd/7KhYeO3aM/v37Y2trC8CgQYNISUlh0KBBWFpaZrVzdnZm8ODB7N279z8FJSIiIiIiIiIiIvc2atQoVqxYQVhYGOvXr6dJkyasX7+eatWq4e3tne1+72saclRUFC4uLlmvixUrBkDJkiXvaFuqVCkiIyOzHZCIiIiIiIiIiIj8O6PRyNGjR9m2bRtbt25l165dZGRk4Obmlu0+76tY6Obmxo0bN7JeW1lZ0b59+7t+8M2bN3NsjrSIiIiIiIiIiIjcqXPnzuzevZuYmBhq1qxJy5Ytee6552jevPl/qs3dV7Gwdu3aHDx4MOt1kSJF+P333+/adv/+/VSqVCnbAYmIiIiIiIiIyCPCmNcBPLoqVarE8OHDeeyxx3Bycsqxfu+rWPjaa6/d1+KIoaGhXL9+nWHDhv3nwEREREREREREROTu/vqA4aSkJGxsbHKk3/t6wMljjz12XwVANzc3Dh06xAsvvPCfAxMREREREREREZG7y8jI4L333sPLywsHBweuXLkCwMSJE/n++++z3e99FQtFREREREREREQemLGA/RUg77//Pj/88APTp0/Hysoqa3u1atX47rvvst3vfU1D/qv4+Hjs7OwwGAx33X/z5k3OnTtH8+bNHziYHTt2MGPGDA4fPkxwcDArV66kW7duWftXrFjBnDlzOHz4MBERERw9epRatWo98OcUZv0r1KZfhdp422fOZb8YHcbnJ3azLSiz+tynfE26lq5KVVcPilhZU+OXWcSkJpv0sav7C3g7mM6F/+jINr4+ve/hHITkS7UretG/Qz0qlfbAzcWBcZ+tYvuRyyZtSnu68lLvx6hT0RtzczP8AsMZ/8UaQiJi7+jv07HdaVKjzF37kcKlVmUv+napT8UyHri5OvDGjFXsOHjprm3HPdeW7u1q8ukPW1my7ojJvia1yzCkZ2N8SxUjOSWdY2ev88aMVQ/jECSfqlXJi35P3sotFwfGz1zFjkO3c+vt4e3p1KKayXv2Hfdj9EcrAChezJGh3RtRt6oPRZ3tCI2MZ8Ous/zw6z7S0jMe6rFI/lKrohf9O/3lnPjpKnYcvn0um/h8e558rKrJe/ae8GfUjBVZryuWcufFZx6jShkPMjKMbD10kU9/3k5icupDOw7JX+r4ejGwbT2qlHTHzdmB0d+sZtuJ23lla23JK12b0apGOZzsbQkKj2bRtmMs23Uiq01RRztGdW9Oo0o+2Ftb4R8SwfcbDrDl2N3Pq1I49C1Xh36+dfCydwbgYnQoX57exfYbl3GysmFUteY08yhLCTtHIpIT2BR4gZmnthP3l/vEJu6lGV29BRWc3EhMS2WF/wk+ObmNdGMBq7yIFDA//vgj3377LW3atGHEiBFZ22vWrMm5c+ey3e99Fwvnz5/PpEmTuH79OnZ2dvTs2ZNp06ZRvHhxk3abNm1i4MCBpKenP3Aw8fHx1KxZk6FDh9KjR4+77m/WrBm9evXiueeee+D+BYITYvnoyDb8YyMxAE+Vq863LZ+i09p5XIwOw9bcku1BV9gedIXxdVres59Pju3gl4vHs17HpaXkfvCSr9lYW3LxWihrdp5m+itd7tjv5e7E/97uzertp/h2xR7ik1Io61WUlNS0O9r2aV8HXVfIn2ysLbnkH8pvf5ziw3Fd79mueX1fqpb3JPQuxeeWDcvzxvB2zFm0i8OnrmFuZqCsT7HcDFsKABtrSy5eDeW3baf4cMzdc2vvMT/e/2Z91uvUtNvXN6VLuGIwM/DR95u4HhJFWe9iTHiuHbbWlnyxcHuuxy/5l621JRcDQlmz/TTTR915TgTYc9yP9/63Iet1aurt3CrmbM8Xb/Rk8/7zfDz/D+xtrRjdvyWTnm/PhC9+y/X4JX+ytbLkwvVQVu09xczn78yrsT1aUL9iSd6av56g8BgaVy7FhN6tCY2OY/vJzIEB7w18giK21oyas4qouCQ61K/IR8M60e+jhZy/HvqwD0nyiRuJscw4sRX/2AjAwFNlajCn2dN02fgdBoMBd5siTDu+hUvRoXjZO/FevQ642zrw0p7MHzgqObvzXfPezD6zm9f2r8bDtgjv1euAucGMace35O3BiTziAgMD8fX1vWN7RkYGqanZ/4HxvoqFW7ZsYciQIVSqVInRo0cTHBzM4sWLWbNmDcuXL6dFixbZDuCvOnToQIcOHe65f8CAAQD4+/vnyOcVRluum/5q+PGxHfSvUJvabiW4GB3G3HOHAGjk4fOP/cSnphCaFJ9rcUrBs/eEP3tP+N9z/wtPNWX3cT++WLIza1vgzeg72pX3caPvE3UZPOVnfv98xB37pfDZd8yffcf8/7FNMRcHxgxtzeipy/n4je4m+8zNDIwa3IovF+zgt62nsrb7B0bkRrhSgOw77s++4/7/2CYlLZ2I6IS7v/+EP/v+8r0XdDOahWtd6N62poqFhdy/nRMhs/B8r9xqVrss6enpzJi/JevHs4/mbWHhtIF4uztz/WZUzgYsBcLuM/7sPuN/z/01y3ry274zHL54HYAVu0/yVLPqVC1VPKtYWLOsJx/88genr4YA8N36A/RrVYcqPh4qFhZifwRdNHn9yclt9C1Xh1pFvVjqd5wX9yzP2hcQH8UnJ7bxSaOumBsMpBuNdCpZhfPRN/nyzC4ArsZF8tHxP/iicXc+P72TeA0sEck1VapUYefOnZQqVcpk+7Jly6hdu3a2+72vYuH7779P3bp12b17d9Yc6EuXLvH000/zxBNPMH/+fHr16pXtICRvmBkMdCpVCVsLS46EBj7Qe1+o1oiXazQlKD6GVX6n+f7sQQ0xl3syGKBpzbIsWHeQz1/rQYVS7gSFRjP/twMmU4ytrSx4b0RHZvz4B+H3uIES+TuDASa/3IGFqw/idz38jv0VynjgXrQIRqORHz4agKuzHRf9Q/nqp+1cuXZne5G/qlPZm7Vfv0BsfBKHzwTwzZLdxMQl3bO9va31P+4X+VOdSt78/tUIYuOTOHTmGnOW3c4tSwtzUtMyTEbZJ6dkjsSvWbGEioVyV8evBNOiRll+3XuK0Oh46pX3ppS7C58s327S5vE6Fdh56gqxick8XqcC1pYWHLp4LQ8jl/zEzGCgo3dlbC0sORp+93vEIlY2xKUmZ93/WZmbk5xuOlsoKT0VGwtLqrkUZ39oQK7HLfmcSgW5ZtKkSQwaNIjAwEAyMjJYsWIF58+f58cff+S337I/G+G+ioWnTp1i0qRJJosl+vr6smfPHnr37k3fvn25efMmL730UrYDyS3JyckkJ5uuuWdtbZ1H0eQPFZ3dWPHEAKzNLUhIS2H4thVcir7/G+Z55w5xOiKEqORE6rp58XrtlrjbOvD+4T9yL2gp0Fwd7bC3tWLQkw2Ys3w3XyzZSePqpfno5S688OFSjp7P/AV8dN+WnLwUxI6jWqNQ7l//rg1IT89gye9H77rfyyNzjdVhTzfh8x+3EXwzmj6d6/Hl5N70fnUusfEq7Mjd7Tvhz7aDlwgOjcbLw5kRvZoxa3wPnpu0iIy7/EDm7eHM0+1r88XPGlUo/ywzty4SFBqDl4cTI59uxqev9eDZdzJz69CZa4zq24L+Hevxy4Yj2Fpb8mLvZkDmFGWRu/lo6VYm9mnLxg+eJzU9HWOGkfcWbubIpdsFn9e/X8tHQzuyfcZIUtPTSUpJY8y3q7kWeudsDylcKji5sazN4Kx7xJG7l3EpJuyOdi5WtrxUpRmLrxzL2rYz+ApDyjegs08V1l47i5uNAy9XeQwAd1uHh3UIIoVS165dWbNmDe+++y729vZMmjSJOnXqsGbNGtq1a5ftfu+rWJieno6FxZ1NbW1t+fXXX3n22Wd59dVXuXnzJhUrVsx2MLlh2rRpvPPOOybbJk+eDOVs8iiivHclJpyOa+dSxNKajqUq8UnTJ+m98ef7Lhh+f/Zg1r/PRYWSkpHBB43aM/3odlIyHnytSnn0/flApB1HLrNoQ+ZDJy4GhFKjfAl6tK7B0fPXeax2WepVLsmAST/lZahSwFQs406vjnUYMn7BPdv8mX/zV+xj2/7MaTZTZ2/g1znP07pxBVZtPnHP90rhtnnv+ax/X74WxqWAUJZ/+ix1qpTk0GnTURJuLg7MGt+DP/ZfYPXWkw87VClgNu37S25dD+NSQBgrZw6jTmVvDp25hl9gOO98u4FRfVvwQq9mZGRksGTjMcKj4snQs3PkHp5pUYvqZYrz6terCI6IoU55L97o3ZrQ6Hj2n8/8znrxycYUsbNm+OfLiIpLpGVNX6YP68TQWUu4FKTR9oWZX2w4nTd+RxFLa57wrsT0Bp3pu/Unk4Khg4UV3zXvzaWYMD47tSNr+64QPz48voX36nbg44ZdSclI48vTu2jg7nPXH9dEJGc99thjbNq0KUf7vK9iYfny5dm9ezcvvPDCHfvMzMyYO3cuRYsW5f3336dChQo5GuB/NWHCBMaMGWOyzdramh+WzMqjiPJeakYGV2OjADgVEUKNop4MrVSPN/dv+Oc33sOxsCAszczxdnDiSozWAJM7RcUmkpaWjt/fLkL9gyKoWaEEAPUq++Dt7syWr180afPhy505dj6QFz5c+tDilYKjZmVvXBztWDH7+axtFuZmvDywBb071uGpl74jPCpzfVW/67e/n1LT0gkKiaZ4sSIPPWYpuIJuRhMZk4C3h7NJsbCYsz1fvv00Jy8G8eF3G/MwQimogkIzc6ukhzOHzmROB9249xwb957D1dGOxORUjBjp06EOgaFReRus5EvWlua83KUpY75dw67TfgBcDAqjopcbA9rWZf/5ALyLOfFMy9o89f6PXAnOvCa7EBhGnXJe9G5ei6m/6EEUhVlqRgZX4yIBOBV5gxquJRhcoT5vH/odAHsLK+a16EN8agojdi0lzWj6y8XcCweYe+EA7jYORKcm4W3nxOs1WxMQH/WwD0XyI6MhryN4ZA0aNIhhw4bRvHnzHO33voqFHTt2ZMaMGURERODq6nrXNjNmzMDd3Z3x48dnjeLID6ytrQv9tON/Y2YwYGV+3w/GvkMVV3fSMzII0wNP5B7S0jM44xeCT3EXk+0+xV24EZb55Nof1x5g1XbT0Ti/fDCIWQu3s0vTkuUe1u84w6GTV022zXrrKdbvOMvaWw8zOXclhOSUNHxKuHDifOZULHNzMzzdHLkRGvPQY5aCy83VAScHW8Kibp/v3Fwc+PLtpznnd5P352zQk9wlW9xd7sytP0XEZK7h27l5VVJS0zlwSmt/yZ0szM2xtDDH+LcvoXSjEbNb92Y2VpnX+8aMv7XJyMhX92+SP5gZDFiZmQOZIwrntehDSkY6z+9a8o+zyW4mxQHQuVRVguKjOR1546HEK1JYRUdH07ZtW0qVKsWQIUMYNGgQXl5e/7nf+6oQDRs2jGLFihESEnLPYiHAuHHj8PX15cSJ7E3piouL49Kl20/r9fPz49ixY7i6uuLj40NERAQBAQEEBQUBcP585hSO4sWLU7x48Wx9ZmHzeu0WbAu8QlB8DPaWVnQtU4VGHj4M3LIYADcbe9xs7SlVxBmAii5uxKemEBgfQ3RKEnWKlaBWsRLsDQkgLjWZOm5eTKzXhl/9ThOTkvwPnyyPOltrS7w9nLNel3BzoryPGzFxSYRExPLT74eYOrITR88HcvjsNRrXKE2zWmV5YdoSAMKjE+76UJOQ8BiCwlTQKcxsrS3xLu6c9drT3ZHypW7lVnjsHQ+TSEvLIDwqnoDgzF/HExJT+HXTcZ7t1YSb4bHcCI2hb5f6APyx78JDOw7Jf/6eWyXcbudWTFwSw55qzNYDFwmPisfbw5kX+zbnekgk+2895dbNxYGvJvbiRlgMX/68HWdH26y+7vWUWykc7nlOjM/MrWe7N2brwYuER8fj5e7Ey88053pIFPv+8uNHz7a1OHkxiITkFBpWK8XLzzTnqyW7iEvQ9VZhZWttSUk356zXXkUdqeCdmVc3ImM5dOEao7o/RlJqGsERMdQt782TDaowc0XmOqr+NyIJuBnJ233bMHPFDqLjk2hVsxyNKpXi1Tm/5s1BSb7wWvWWbL9xOesesYtPVRq6l2Lw9kU4WFjxQ8u+2JpbMHbXKhwsrXGwzByME5GckDXN+LmKjdh+4zJGo5H23pUYXqkJr+xdoWnIIrns119/JTQ0lAULFjB//nwmT55M27ZtGTZsGF27dsXS0jJb/d5XsdDb25sXX3zx3xsC3bt3p3v37tkK5tChQ7Rq1Srr9Z/ThwcNGsQPP/zA6tWrGTJkSNb+Z555Bshcg3DKlCnZ+szCpqiNHTObPombrT2xqcmciwxl4JbF7Ar2B6BfhdqMqtksq/3S9v0BeG33WpZdOUlyRjqdS1dmVM1mWJmZcy0umrlnD/LdmYN3+zgpRCqX8WDOhNtPRR/dtyUAv+08zbvfbWDb4Ut8+MNmBj3ZgLH9WxEQHMEbX6zh+MWgPIpYCopK5Tz4akrvrNevDso8T6zddoqps+9v+YQvf9pBeoaRSS91wNrKgtOXbvDyu0uJjddNd2FWqawHsyf+JbcG3Mqt7aeYMXcL5Xzc6PBYVYrYWxMWGcf+k1f5dsluUtMyR1TUr16KksVdKFnchdVfDTfpu3HfTx7egUi+U7mMB1+/9ZdzYr+WQOY5cfq8LfiWLEbHx6pQxM6a0Mg4Dpy6yjfL9mTlFkDVcsV5vkdjbG0suRocyYfzNvP77rMP+1AkH6ni48F3o57Oev1az5YArN53mskLNvLGvHW83KUZHwzugKOdDcERMXy1ZjdLd2YO5EjLyODl2b/yStdmfDaiK3bWVlwLjWLSgg3sOu2fB0ck+UVRG3s+btgFNxsH4lKTORd1k8HbF7E7xI+Gbj7ULpo5Smnrk6Y1geZrviQwIfPhOC08yzGySlOszMw5G32TEbuWsv2GZgeJPAxubm6MGTOGMWPGcOTIEebNm8eAAQNwcHCgf//+jBw5kvLlyz9Qnwbj38eqP6D4+Hg++eQTBg4cSOnSpf9LVw9V6QUf5nUI8gjyH/AGDQbNzOsw5BF0YP4YmvRS8UFy1p4lY1XUklyxd+FYGg7Q+VBy3v4FY6j9YuFde1xyx9GvRlNu8dS8DkMeQZd7v5XXIeQLZb4sWNebfi+NzesQsiU4OJgff/yRefPmcf36dZ566ikCAwPZvn0706dPZ/To0ffdl9l/DSYuLo533nmHK1eu/NeuRERERERERERE5D6kpqayfPlynnzySUqVKsXSpUsZNWoUQUFBzJ8/n82bN7NkyRLefffdB+o3+0+1+Iv/ODhRREREREREREREHoCnpycZGRn06dOHAwcOUKtWrTvatGrVCmdn5wfqN0eKhSIiIiIiIiIiInfQ+LJcM2vWLJ5++mlsbGzu2cbZ2Rk/P78H6vc/FwvNzc0pVaoUtra2/95YRERERERERERE/rMBAwbkSr//uVhYrFixB65QioiIiIiIiIiISPbFx8fz4YcfsmXLFm7evElGRobJ/uw+X+SBi4WpqalcuHCBoKAgEhMTsbW1pUSJElSoUAFLS8tsBSEiIiIiIiIiIiL379lnn2X79u0MGDAAT09PDAZDjvR738XCy5cvM3nyZFatWkVCQgKQ+WCTPwOxs7OjS5cuTJkyhfLly+dIcCIiIiIiIiIiInKn33//nbVr19K0adMc7fe+ioVHjx6lZcuWmJub069fPxo0aICnpyc2NjYkJSURHBzMvn37WLZsGWvXrmXr1q3Url07RwMVERERERERERGRTC4uLri6uuZ4v/dVLBw7diw+Pj5s3bqVYsWK3bXN0KFD+eCDD2jVqhWvvfYaW7ZsydFARUREREREREREJNN7773HpEmTmD9/PnZ2djnW730VCw8cOMCMGTPuWSj8U7FixRg5ciSvv/56jgQnIiIiIiIiIiIFl8GY1xE8uj755BMuX76Mh4cHpUuXvuNZIkeOHMlWv/dVLLSzsyM8PPy+OgwLC8PW1jZbwYiIiIiIiIiIiMi/69atW670e1/Fwm7dujF9+nSqVq1K9+7d79luxYoVfPzxx/Tu3TvHAhQRERERERERERFTkydPzpV+DUaj8V8HhEZHR9OxY0f27t1L8eLFqVOnDp6enlhbW5OcnExwcDBHjhwhJCSEhg0b8vvvv+Pk5JQrAYuIiIiIiIiISMFQ9rOZeR3CA7ny6pi8DuGBREVFsWzZMi5fvsy4ceNwdXXlyJEjeHh44OXlla0+72tkoZOTE7t27WLp0qUsX76co0ePsn37dhITE7G1tcXT05NmzZrRs2dPevbsiZmZWbaCeZiabda6ipLzdrWdTvWxs/I6DHkEnfxkNHVGKLckZx2ZM5paLyuvJOcd+2I0NUcptyTnHf90NJXeUW5Jzjo3eTTNt4zL6zDkEbSjzYy8DkEecSdOnKBt27Y4OTnh7+/Pc889h6urKytWrCAgIIAff/wxW/3eV7EQwGAw0KtXL3r16pWtDxIREREREREREZGcMWbMGAYPHsz06dMpUqRI1vaOHTvSt2/fbPeb/4cAioiIiIiIiIiIiImDBw8yfPjwO7Z7eXlx48aNbPf7r8XCRYsWcR/LGt7BaDSyaNGibAUlIiIiIiIiIiKPAGMB+ytArK2tiYmJuWP7hQsXcHNzy3a//1osHDVqFBUqVGD69On4+fn9a4eXLl3igw8+wNfXl9GjR2c7MBEREREREREREbm7Ll268O6775KamgpkLiEYEBDA+PHjeeqpp7Ld77+uWXjlyhU+/fRTPvnkEyZMmEDp0qWpU6cOZcqUwcXFBaPRSGRkJH5+fhw6dIhr165RtGhRXnnlFRULRUREREREREREcsEnn3xCz549cXd3JzExkRYtWnDjxg0aN27M1KlTs93vvxYL7e3teeuttxg/fjxr1qxh1apV7NmzhxUrVmRNTzYYDJQrV44WLVrQtWtXOnfujKWlZbaDEhERERERERGRR0ABm9pbkDg5ObFp0yZ2797N8ePHiYuLo06dOrRt2/Y/9XvfT0O2sLCge/fudO/eHYD09HQiIiIAcHV1xdzc/D8FIiIiIiIiIiIiIv9u8eLFrF69mpSUFNq0acPIkSNzrO/7Lhb+nbm5+X9aLFFEREREREREREQezNdff82LL75I+fLlsbW1ZcWKFVy+fJkZM2bkSP//+oATERERERERERERyR++/PJLJk+ezPnz5zl27Bjz589n9uzZOda/ioUiIiIiIiIiIpIrDMaC9VcQXLlyhUGDBmW97tu3L2lpaQQHB+dI/yoWioiIiIiIiIiIFBDJycnY29tnvTYzM8PKyorExMQc6T/baxaKiIiIiIiIiIjIwzdx4kTs7OyyXqekpDB16lScnJyyts2cOTNbfeerYuGOHTuYMWMGhw8fJjg4mJUrV9KtWzcAUlNTefvtt1m3bh1XrlzBycmJtm3b8uGHH1KiRIm8DbwA6ebViG7ejfG0dQHALy6EH/w2sy/8PMVtXFjWbMJd3zfxxAK23jyJo6Udk6v2oVwRTxwt7YhMiWNX6Gm+ubSehPTkh3koks8Ma12fttV9KePuSlJqGsevBjHrt134h0ZmtbGyMGdcl+Y8UasiVhbm7D5/lanL/yA8LiGrTdWSHozq1Iwq3u5ghJPXbjBzzU4uBIflxWFJPlDH14uBj9ejso87bs4OjPl6NduOX87ab2ttySvdm9GyZjmc7G0JCo9m0R/HWL7zRFabt/q2oUFlH9ycHEhMTuH4lWA+X7ET/5DIu32kFBJ1ynkxqE1mbrk7OTD6f6vZeuJ2brkWsWNU12Y0qlSKIrbWHLkUyEfLthIQGnXX/r58oRvNqpS5ox8pXIa2rU+bGpnnw+TUNI75B/Hpml1cvWl6PhzbtTlP1Mk8H+45d5WpS/8g4i/nw+LORXjr6dbUL1+SxORUVh88w+e/7SI9o4DMj5Ic93yz+rSr5EvZYq4kpaVx9FoQn2zehV/47dx658k2NC7jg3sRBxJSUjh6LZiPN+80aVOthAdj2zSjagl3jEY4GXiDGZt3cj5E11qFVVevxnTzakzxP+8R40OY77eJ/bfuEZc0ffOu75t0cgHbbmZeb+1oc+dDFaac+ok/Qo7nXuBScOjUleOaN2/O+fPnTbY1adKEK1euZL02GAzZ7j9fFQvj4+OpWbMmQ4cOpUePHib7EhISOHLkCBMnTqRmzZpERkby6quv0qVLFw4dOpRHERc8ocnRzLn0O9cTwjAYoINnXabVHMTQ/Z9xNf4mXXa8a9K+i1cj+pZqwb7wzCQ0Go3sDD3Nt5c3EJUah7dtMcZU6oZjZTveObUoLw5J8ol65bz5Zc9xTgWEYG5m4NWOTfnm+R50mzGfxJQ0AF7v2oLmlcsw9se1xCUl82b3Vswa3JmBXy4GwNbKkjnPdWfb6StMXf4H5mZmjGzfmG+e70G7974jLSMjLw9R8oiNtSUXroeyas8pPhnR5Y79Y3u2oH7Fkrw9bz1B4TE0rlyKN/q0JjQ6jh0nMk+WZwNu8vuBcwRHxuJkZ8PwJxvx1as96PzWXDKMunoprGytLbkQGMqv+04x67k7c2vWc51JS89g9LeriUtKYUCrOsx56Sl6TJ1P0q3vtT/1b1VbF8ICZJ4PF+86zulb58OXOzVlzoge9Pjw9vlwXPcWPFalDON+WEtsYjITerZi5tDODP4883xoZjDw5fPdCIuNZ9BniynmaM/7/dqTlp7BF2t35+XhSR6qX8qbhQePczIoM7dGt27Kd/178OTs+SSmZubW6aCbrDlxjuDoWJxsbXipZSO+H9CDtp9lnu/sLC35rl93/jh/hXfXZV5rvdyyMd/170GrWbrWKqxCk6P45vI6ridkFoyf8KzHBzUGM+zApwTE36TbTtN7xM5eDenj04L94edMtn9wZjEHwm8XL+LScmY6pIjcadu2bbnaf7aKhbt27WLu3LlcuXKFyMhIjH+70TIYDBw//uC/IHTo0IEOHTrcdZ+TkxObNm0y2fbll1/SoEEDAgIC8PHxeeDPK4x2h501ef3t5Q10825MFScf/OJDiEiJM9nf3L0qf4QcJzE9BYDYtER+DdyXtT8kKYqV1/fSp1SL3A9e8rUX/rfS5PXbv2xkx7sjqOLtweErgTjYWNGjQTXG//w7By5dA2Di4o2sHj+YGj7FORFwgzLurjjb2/Llhj2ERGXm4pyNe1kxbiCeLkW4Fh790I9L8t6e0/7sOe1/z/01ynqyZt8ZDl+4DsCKXSd56rHqVCtdPKtYuGLXyaz2weExzF69h8UTB1CiqCPXw5RXhdXuM/7sPuN/130+bs7ULFOCp6b+yOUb4QBMXbKFLVOH06FuJVbuPZXVtqKXGwNa1aXvjIVs+WD4wwhd8rGR35ieDyct3Mi2qSOo7O3BkVvnw+4Nq/HGgt85cPFaVptVbw6meqninLx6g8aVSlG2uCvPz15ORFwC5wNDmb1uL692bsbX6/eSlq6CTmH03M+muTVh1Ub2jhtBVU8PDgUEArDkyO3zXWB0DJ/+sYfVLwzAy9mRa5HRlC3mirOdLZ9v28ONmMxrra+272X1CwMp4VSEgEidEwujPX+7R/zuynq6eTemqqMP/vEhRKTEmux/zK0aW2+eyLpH/FNcauIdbUWkYHrgB5zMnDmTFi1asHjxYmJiYnB1daVo0aImf66urrkR6x2io6MxGAw4Ozs/lM971JhhoI1HTWzMrTgdffWO/RWLeFGhiBe/BR28Zx9FrRxp4V6NY5FX7tlGCicHGysAohOSAKji7YGlhTn7LgRktfG7GUlQRAw1S3sC4B8aQWR8Ij0aVMPC3AxrC3O6N6zG5RvhBEXGPPyDkALhxJVgWtQoi5tz5gK/9Sp44+Phwr4zd36vAdhYWdClSVWuh0ZzI1IXtHJ3VhbmACSn3R5BaDRCSlo6tcvdXv7ExtKCDwZ1YNrSPwiPTbijHxEH28zzYcyf58OSmefD/X85H/r/7XxYs7QnF4PDTKYl7znnTxFba3yLF32I0Ut+VsT61rVWYtJd99taWtCjdlWuRUZzIzrzfOcXHkFkQiI9a1fD0izzWuup2tW4FBpOYJSutSTzHrH1rXvEUzF3XktVuHWPuDbowB37RlfszurHpvBNvZfp6Fn/YYQrBYWxgP3Jg48snDFjBk2bNmXNmjUmiyY+bElJSYwfP54+ffrg6Oh4z3bJyckkJ5uupWdtbZ3b4eVrZe2LM6f+i1iZWZCYnsKbx3/EP/7mHe2eLFEfv7gQTt2lkDilWl+auVXBxtyKXaFn+OjssocRuhQQBgOM79aSI36BXLo1IqdYETtS0tKITTL9/zE8LoFiRTKLPAnJqQydvZTPhnRheLuGAASERTH82xVao0nu6aPFW3m7X1s2fPg8qenpGDOMvPfTZo5cCjRp93SLGrza/THsbKzwuxHByM+Wa3SO3JN/SGbx5pXOzXjvl80kpqTSv1UdirsUoZjj7SfPvdajBcf9gth2Uj+ayZ0MBni9e0uOXrl9Piz65/kw0fR8GBGbkJVbRYvYE/G34vOfxeiijvYQGJr7wUu+ZgDefKIlhwMCuRgabrKvT70avNbuMeytrLgSFsHQBctJvTW9OD4llYE/LOXLZ7rwQvPMa62rEVE8+9MK0rUsR6FW1r44s+u9lHWP+PaJ+Vy9yz1ipxIN8I+/8x7xu8sbOBJ5ieT0FOoXrcDoit2xNbdi+XUtnSBSED3wyMKEhAT69euXp4XC1NRUevXqhdFo5Ouvv/7HttOmTcPJycnkb9q0aQ8p0vwpICGUIfs/ZfjBL/n1+l7eqtqL0vbuJm2szCxoW7w2a+8xqvDzC6sZuv8zxh/7AS9bV14u/+TDCF0KiLd6tMa3eFFeX7Dugd5nbWHOO73acdQviH6f/8LALxZzMTicr4Z1w/rWKB+Rv3umVS2qlynOqK9W0f+DhcxavoM3+rSmQSXT5Sl+33+OPh/8zLMfLyEgJJKPnuuUNXpM5O/SMjIY+90aSrk7s3P6SPZ98jL1y5dk12m/rHUuW1QrS4MKJZmxfHseRyv51Zs9W1POsyivz3+w86HIv5nUqTXl3YsyZtmdubXm5Dl6fPMz/ectwT88kk97dsLKPPN8Z21hzvtd2nE0IIje3/9C37mLuXgznDl9da1V2AUkhDLswCxGHPqCVYF7ebNKb0rd7R7Ro/ZdRxX+6L+ZU9H+XIwLYuHVbSwK2EafUi0fUvQiktMeeGRhq1atOHny5L83zCV/FgqvXr3KH3/88Y+jCgEmTJjAmDFjTLZZW1uzeefE3AwzX0szphOYmPkL5PnYQCo7luTpks2YcW5FVptW7jWwMbdkffDhu/YRkRJHREocAQmhxKYmMLv+SH7w20K41qgo9N7s3ooWVcoy+KslhETfXgMzLDYBKwsLithYm4wuLOpgR1hsPAAd61TCy9WR/l/8wp8/bo//eR273xtJq2rlWH/swkM9Fsn/rC3NealrU8bOWcOuU34AXAwMo4K3GwPb1eXAudvT/OKSUohLSuHazShO+AWzfeZIWtXyZcOh8/fqXgq5s9du0vujn3GwscLSwpzIuEQWjH2GMwEhADSoUBLvYpnFxL/6eNiTHL0cyLOfa9R9YTbhqVY0r1KWoV8s4eZfzofhf54Pba1NRhe6FrEjLCb+Vpt4qpXyMOmvaBG7zH232kjhNbFDK1qWL0v/H5YQEht3x/645BTiklO4GhHF8evB7B8/knaVfVl76jxPVq+El7Mjz3z/S9ZMu9eWr2P/+JG0qViOdad1rVVY/fUe8UJsIJUcS/J0ycf4+NzyrDYt/+Ue8a/ORAcwuEw7LA3mpBrTcy1uEckdD1ws/OKLL3j88cf5+OOPGTp06ENbnxBuFwovXrzI1q1bKVr039dssba2LvTTjv+NwWDA0sw0FZ70qs+u0DNEpf77Bemfj+P+ex9S+LzZvRWtq/sydPZSAiNM1705cz2E1LR0GpYvyeaTlwAo7eZCCVdHjvsHA5lPQ84wwl9nwWQ+QMmI2X947Ls8uizMzbG0ML/jicYZGcas76a7MRgMYAArS42ikH8Xl5S5gLuPmzNVfDyYvXYPAHM3HWTFXx50ArD8zYF8vGI7209pWnJhNuGpzPPhsC/vcj68lnk+bFC+JFtOZJ4PS7mbng+P+wfzbLsGuDrYEhGX+TTRRhVLEZuYzOUbEQ/3YCRfmdihFW0r+TJw/tL7W2PQYMBgIGtkoa3lrWutvzTJMBox6lpL/sYMA5YG0/u7TiUasDvsDNH3cY9YvkgJYlITVCgUAAxa5SBXRUVFceDAAW7evEnG355qP3DgwGz1+cDVnZIlSzJ8+HBee+01xo8fj42NDebmpjdbBoOB6OgHf5JWXFwcly5dynrt5+fHsWPHcHV1xdPTk549e3LkyBF+++030tPTuXHjBgCurq5YWVk98OcVRsPLPcG+8POEJEVhZ25Nu+K1qO1SljFHv89q42VblJrOZRh3bO4d729UtBKuVg6cjblGYnoKZew9GFm+Eyei/LiRFPkwD0Xymbd6tKZjnYq8Onc18ckpWSMg4hKTSU5LJy4phRUHTjGuSwuiE5KIT05hQvdWHPMP4kRA5v/Ley9cZcyTj/FWj9Ys3HUMM4OBYa3rk5aRwYFL1/Py8CQP2VpbUtLNOeu1VzFHKni7EROfxI3IWA5duMaoHo+RnJpGcHgMdSt406lRFWYu236rvROP163AvrNXiYxNxN3FgSHt65OckpY1GlEKJ1srS3z+mltFHano5UZ0QmZutatVnsi4RIIjYylfoiivP9WSrScus/fWiNXw2IS7PtTkRmQsQeF6UEBh9WbP1nSoW5FR3/3tfJiUTHJq5vlw5f5TvNatBTEJScQlpfDGU6045hfEyau3zofnrnLlRgRT+z/BrNU7KeZoz0sdm7B413FS03XjXVhN6tiaJ6tX5MVfMnOrmH1mbsUmZ15reTs70bFaBXZfvkpEfCLFHR14rll9klPT2H4x83y3+/JVxrV7jEkdW/PTgcxrreea1ic9I4P9/rrWKqyeL9eB/eHnsu4R2xavTS2Xsrx27LusNn/eI75+l3vEJsUq42JVhDPRV0nJSKOeawX6l27DL1e1TIdIbluzZg39+vUjLi4OR0dHkwETBoPh4RULJ02axNSpU/Hy8qJevXo5unbhoUOHaNWqVdbrP6cPDxo0iClTprB69WoAatWqZfK+rVu30rJlyxyL41HmYuXA21V7U9Takfi0JC7HBjPm6PcciriY1aZTifqEJkdzIPziHe9Pzkils1cDXq7QGSszC24mRbE99BQ/+W99mIch+dAzTWsCMO/FXibb3/5lA6sOngFg+qrtGI1GZg3ujKW5OXvO+/P+ij+y2vrdjOTluasY8XgjfnqlN0YjnA28yQvfrsyaqiyFT5VSHvxvzNNZr8c+3RKA1XtPM2X+RiZ8t46XuzVj6tAOONrZEBwRw1erdrNsxwkAklPTqF3ei75tauNoZ0N4TAJHLl1nyIzFRMYm5sUhST5R1ceD7169nVuv9WgJwOr9p5n000aKOdkztkcLihaxIzQmnt8OnOHb9fvzKFopKHo3yzwfzn3Z9Hw4ceEGVh/IPB/OWLmdjAwjnwzpjJWFOXvO+TN12e3zYYbRyMv/+5W3nm7Dj6OeITEllTUHzjD79z0P70Ak3+lbPzO3Fgw2za0Jv25g5fEzpKSlUdfHi4ENa+Noa0N4XAKHrl6nz9zFRCRknu/8wiN5YdEqXmzRiF+G9SbDCGeDb/LcTysJjdO1VmHlYuXAm1WeuX2PGBfMa8e+M7lH7HjrHvFgxJ1T1dMyMuju3YSXy3cGDAQmhvPVxTWsCdQ5UyS3jR07lqFDh/LBBx9gZ2eXY/0ajMYHe+yVu7s7jRo14tdff8XM7IGfj5JvNNv8el6HII+gXW2nU33srLwOQx5BJz8ZTZ0Ryi3JWUfmjKbWy8oryXnHvhhNzVHKLcl5xz8dTaV3lFuSs85NHk3zLePyOgx5BO1oMyOvQ8gXfKcXrO/tS6+PzusQ7pu9vT0nT56kbNmyOdrvA1f7UlJS6NSpU4EuFIqIiIiIiIiIiBRk7du359ChQzne7wNPQ37yySfZuXMnw4cPz/FgRERERERERERE5O7+XKIPoFOnTowbN44zZ85QvXp1LC0tTdp26dIlW5/xwMXCyZMn07t3b0aOHMmwYcPw8fG54wEnwEN9SrKIiIiIiIiIiMijrlu3bndse/fdd+/YZjAYSM/mg9EeuFhYsWJFAI4dO8Y333xzz3bZDUhERERERERERB4RD/SkDPk3GRkZuf4Z2Xoa8l8fxSwiIiIiIiIiIiKPhgcuFk6ZMiUXwhAREREREREREZEHER8fz/bt2wkICCAlJcVk3yuvvJKtPh+4WCgiIiIiIiIiInI/DJqGnGuOHj1Kx44dSUhIID4+HldXV8LCwrCzs8Pd3f3hFwt3797NkSNHiI6OvmO+tMFgYOLEidntWkRERERERERERP7B6NGj6dy5M3PmzMHJyYl9+/ZhaWlJ//79efXVV7Pd7wMXCyMiIujUqRMHDhzAaDRiMBgwGjPLxH/+W8VCERERERERERGR3PPnw4fNzMwwNzcnOTmZsmXLMn36dAYNGkSPHj2y1a/Zg75h3LhxnDhxgoULF3LlyhWMRiMbNmzgwoULjBgxglq1ahEUFJStYEREREREREREROTfWVpaYmaWWdpzd3cnICAAACcnJ65du5btfh+4WLhu3TqGDx9O7969KVKkSGYnZmb4+vry1VdfUbp0aUaNGpXtgERERERERERE5BFhLGB/BUjt2rU5ePAgAC1atGDSpEn8/PPPjBo1imrVqmW73wcuFkZFRVG1alUAHBwcAIiLi8va//jjj7Nhw4ZsByQiIiIiIiIiIiL/7IMPPsDT0xOAqVOn4uLiwgsvvEBoaCjffvtttvs1GP9ccPA+lStXjqFDh/LWW28BULx4cUaOHMmkSZMAmDhxIrNnzyY8PDzbQYmIiIiIiIiISMFXftqsvA7hgVycMDqvQ8hzD/yAk+bNm7Np06asYmHv3r2ZPn065ubmZGRk8Omnn9K+ffscDzSnNd8yLq9DkEfQjjYzqD6mYH0RSsFwcuZo6oxQbknOOjJnNLVHKq8k5x2dPZqaryq3JOcd/2w0Fd9TbknOOj9xNO23j8rrMOQRtKHFp3kdQr5gKGBTeyUbxcIxY8awadMmkpOTsba2ZsqUKZw+fTrr6cfNmzfniy++yPFARURERERERERECrPatWtjMBjuq+2RI0ey9RkPXCysXr061atXz3rt4uLC5s2biYqKwtzcPOuhJyIiIiIiIiIiIpJzunXrluufcV/FwgetRJqbm+Po6EipUqWyHuEsIiIiIiIiIiKFjKYh56jJkyfn+mfcV7GwXr169z3E8a/s7e3p168fM2fOxNbW9oHfLyIiIiIiIiIiIv8sLi6OjIwMk22Ojo7Z6uu+ioXz5s17oE6NRiOxsbEcOHCAb7/9FqPRyJw5c7IVoIiIiIiIiIiIiJjy8/PjpZdeYtu2bSQlJWVtNxqNGAwG0tPTs9XvfRULBw0alK3OAZydnVm8eLGKhSIiIiIiIiIiIjmkf//+GI1G5s6di4eHR7ZmBd/NAz/g5EG1atWKtWvX5vbHiIiIiIiIiIhIfqM1C3PN8ePHOXz4MBUrVszRfnP96SM9evTgypUruf0xIiIiIiIiIiIihUb9+vW5du1ajveb6yMLRUREREREREREJGd99913jBgxgsDAQKpVq4alpaXJ/ho1amSrXxULRUREREREREQkVxg0DTnXhIaGcvnyZYYMGZK1zWAwPJwHnIiIiIiIiIiIiEj+MXToUGrXrs2iRYsK1gNOHsSOHTuYMWMGhw8fJjg4mJUrV9KtW7es/VOmTOGXX37h2rVrWFlZUbduXaZOnUrDhg3zLugCpqtXY7p5Naa4rQsAfvEhzPfbxP7w8xS3cWFJ0zfv+r5JJxew7eYJAHa0mXHH/imnfuKPkOO5F7jke8Pa1KdtdV/KuLuSlJrGcf8gZv22C//QyKw2VhbmjOvSnCdqV8TKwpzd568yddkfhMclmPTVtX4VBraoQyk3F+KSUth0/AJTV2x92Ick+UQdXy8GPl6Pyj7uuDk7MObr1Ww7fjlrv621Ja90b0bLmuVwsrclKDyaRX8cY/nOE1lt3urbhgaVfXBzciAxOYXjV4L5fMVO/EMi7/aRUkjU8fViYLt6VCmZmVujv7lLbnVtRqu/5ta2Yyz7S24B1CjjyYtdmlC9tCfpGRlcuB7KyC9XkJyavV9ypeCrU86Lwa3rUbmkO+5ODoz6bjVbT97OLdcidozq3IzGlUpRxNaaI5cD+XD5VgJCo0z6qVHak5c7NaF6KU/SjRmcvx7KC3OUW4XV803r83glX8oWdSUpLY2j14P4eMsu/MLvfi77X59uNPctw8glq9ly/nb+vdW+JXVKlqCCW1Euh0XQ7X8/P6xDkHzqSc+mdCrRFA8bVwCuJtzg56sbOBRxFgAXyyI8W64LdVwqYmduzbWEm/wSsIldYbfPh/MbTqL4rff/6fsra1hybcvDOxCRQujq1ausXr0aX1/fHO03XxUL4+PjqVmzJkOHDqVHjx537K9QoQJffvklZcuWJTExkVmzZvH4449z6dIl3Nzc8iDigic0OYpvLq/jekIYAE941uODGoMZduBTAuJv0m3nuybtO3s1pI9PC/aHnzPZ/sGZxRwIP5/1Oi4tMfeDl3ytXjlvftl9nFMBIZibG3i1Y1O+Gd6DbtPnk5iSBsDrXVvQvEoZxs5fS1xSMm/2aMWsIZ0Z+MXirH4GtqjDwJZ1mblmByeu3sDOypISro55dViSD9hYW3Lheiir9pzikxFd7tg/tmcL6lcsydvz1hMUHkPjyqV4o09rQqPj2HEi8wFbZwNu8vuBcwRHxuJkZ8PwJxvx1as96PzWXDKMmhdRWNla3c6tmcPvkltPtaB+hZK89cPt3JrwTGtCo+LYfjIzt2qU8eTLl7ozb8NBPlqyjfT0DCp4u5GhtCrUbK0sOR8Yyq/7TzFr2J259emwzqSlZzDqu9XEJaUwsGUdvhn5FD2m3T5n1ijtyewR3Zm7+SAfLt9GWkYGFUu4kZHxsI9G8osGPt78fPA4J4NDMDczMKZVU77v24NOc+aTmJpm0nZQw9r80+lt+bHT1PQqTkX3YrkctRQEoSlRzPVbQ2BiKAYMtPOoz5Sqw3jx8MdcTbjBuEr9cLCwZcqp74hOjaeVex3erDKYl498wuW4wKx+5vut4/fgvVmvE9KT8+JwRAqV1q1bc/z48Ue7WNihQwc6dOhwz/19+/Y1eT1z5ky+//57Tpw4QZs2bXI7vEfCnrCzJq+/u7Kebt6Nqerog398CBEpsSb7H3OrxtabJ0hMTzHZHpeaeEdbKdxe+Halyeu3F21kx3sjqOLtweErgTjYWNGjYTXG//Q7By5lPq1p4i8bWf3GYGqUKs6JqzdwtLXmpQ5NePn7Vey/ePuJTheCwx7qsUj+sue0P3tO+99zf42ynqzZd4bDF64DsGLXSZ56rDrVShfPKhau2HUyq31weAyzV+9h8cQBlCjqyPWw6FyNX/Kv3Wf82X3G/577a5b15Lf9Zzh88VZu7c7Mraqli2cVC8f2bMEvW48yb+PBrPddvakRq4Xd7rP+7D7rf9d9pdycqVmmBD2m/cjlG+EAvL90C3+8N5wn6lRi5b5TAIzr3oJFO44yd7NySzI9u8j0WuuN1RvZN3YEVT09OBRwu2BTycONoY3q8tR3C9k9Zvgd/UzdsA0AVztbFQsFgP3hp01e/+C/jidLNKWSYymuJtygilMZvriwlPOxAQAsCthED++WlHcoaVIsTExPJjJV94giD1Pnzp0ZPXo0J0+epHr16nc84KRLlzt/tLwf+apY+CBSUlL49ttvcXJyombNmnkdToFkhoGWHjWwMbfiVMzVO/ZXKOJFhSJefHp+5R37RlfszuuVnyY4MZxVgftYF3zwjjZSuDnYWgEQnZAEQBVvDywtzNl3ISCrjd/NSIIiYqhZypMTV2/QuEIpzAwG3J0cWDV+IPbWVhzzD2bG6u2ERMXlyXFI/nfiSjAtapRl1Z5ThEbFU6+CNz4eLnyydPtd29tYWdClSVWuh0ZzI1IXtHJvx2/l1q97ThEanZlbpdxd+GRZZm65ONhSo4wnvx88xw+v9ca7mBP+IZF8uXo3xy4H5XH0kl9ZWpgDkPyXkWBGI6SkpVO7bAlW7juFq4MtNUp7su7QOeaP6k3JYk74hUTy5drdHL2i3JJMRaxvXWslJmVts7Gw4JPuHXj39z8Ii0+411tF7skMA4+51cLa3JqzMf4AnIn2+z979x0eRdX2cfy7m95DKpAQAoTee5FeRYoUxYooNsQGCCp2RMWOqNhRUGwgIkUFpffee4AESO+9bnbfPzYmrgTL8xKSkN/nubgeZ+bM8ZSBGKQAAN/rSURBVD56nJ2555wz9Apoy66UY2SZcunp3wZHoz2H0k7bnDsmpB+31h1IQl4q6xP28mPURsxoOLRIeZowYQIAL7744kXHqtUHTlauXMnNN99MTk4OtWrV4vfff8fP79JvxPLz88nPtx3+7OTkVN5hVmr13WryQYeHcDTak1tUwDOHFnAuO+GickNqdyIyO54j6baJxM/OrGZf6mnyiwro6NuIyY1H4mLnyJKorVeqCVLJGQzwxPW92Xc2mtPFoyb8PF0pMJnIzLP97zE5Kwc/TzcAgn29MBoM3NuvE6/+tIGsvHweHnwNn94/mlFvfoWpSDcbcrHXvl/PM7f1Z/Wr91FYVITFbGHmwjXsOx1tU+7GXq14dGQPXJ0diYhLYeKcJepT8rdeW7SeZ2/tz2+z/tS3vintW8F+XgDcf10XZv+4iZNRiQzt3IyPHxnNjS99ddH6cyIAkfHWF2WPDOvOzO/XkFtQyNje7ahZwwP/4t/DIF9r35owuAtvLyvuW52a8cmDoxn9qvqWgAF4amBv9p6PJjwxuWT/9IG92B8Vw9pTZysuOKmSQt1q8U7bSSXPiC8encf5nHgAXj62gKeajeOHa17BZC4i31zAjKOfE5NXOvtnWfQmTmdGkWnKpplnPe6qNxQfJy8+OfNTBbVIpHowl9P6JFUuWdinTx8OHDhAUlISn376KWPGjGHnzp0EBASUWX7WrFnMmDHDZt/zzz8PPa5EtJXT+ZxE7t41Gzd7Z3oHtOKpZjfx8L4PbRKGjkZ7+ge25cvINRed/+d94VkxONs5ckvd3koWSomnR/UlrJYv495b9J/OMxisIy5mLV3P9uIRiI9/9QvrZ9xHp7A6bDt58QhYkZv7tKFlvZpMmruM2JQM2jUMKl6zMJtdJ0pHsv668wQ7jp/H39ONsQPa89q9Q7jrje8pMOlDAVK2m3tb+9ajHxb3rbAgnrypL4lp2ew8eR6j0fq1uSVbDrN8xzEATkZtpFOTOlzfrTnvLdPvolzMZDYzZd4KXrhlAFtenYipyMzOU+fZfCyCP75faCz+kuEP2w6zbKe1b51YupHOjeowonNz3l2pvlXdPT+4Lw0DfLl1fum9Vt9G9ekSWoeR+mCJ/A+ichKYuOcNXO2d6eHfhqmNb2Pawfc4nxPPuHqDcbd34YmDc8kozKarX0uebnYnjx14l8jsWAB+jNpQUldEdiyFliIebTiGL86uoNCie61qT2s5VzlVLlno5uZGWFgYYWFhdOnShYYNGzJv3jymT59eZvnp06czZcoUm31OTk6s2/LMlQi3UjJZiojOtb6BPJUZTRPPOtxYpwdvnlhSUqZ3QCuc7RxYFbv3H+s7ln6eO+sNwMFgpx8C4alRfejVrD53zl1EfHrp1OGkjBwc7e3xcHayGV3o6+5KUkZ2cRnr/5+NTyk5npqdS1p2LrVqeFyhFkhV4uRgx0PXX8NjH61gy5EIAMKjk2gU7M8dA9rbJAuz8grIyivgQkIahyJi2fj2RPq0CWP1npOXql6qMScHOx4efg1TPrHtW42D/Rnbvz07T54nMb34mhWXbHNuRFwKNXXNkr9xPCqBm974GndnRxzs7EjNzmXh5Js5esE6iqfk91B9S8rw7LV96N2wPrd/uYj4zNJ7rS6hdQjx8Wb34xNtyr93w1D2nI/mjq9+uNKhShVishSVjBQ8nRVFY486jAjqxeILa7k+qCf37X6VczlxAJzNjqGlV32G1+7Ou+GLy6zvZMY57I12BDr7EpV78Sw2Ebk8ypp+/GfPPffc/1RvlUsW/pXZbL5omvGfOTk5Vftpx//EiAEHg21XGFK7E1uTjpFemP2P5zf0qE1GYY4ShcJTo/rQt2UY4+cuJjolw+bYsah4Ck1FdG5UhzWHrOubhPrXoLaPJwfPWd9I7o+0rsMUGlCjJNHo6eqEt5sLMX+pTwTA3s4OB3u7i75obDZbMBgMlzjLun4HBnB0sCvvEKWK+qNvWf7yWeMis6VkRGFMcgYJaVmEBtSwKVM3oAZb/+ajPCJ/yMqzfkAuxN+bZiGBzP1lGwDRKZfuW1su8eEUqR6evbYPAxqHMfarxUSl2d4bfbJ1N4v3H7HZt3LCHcz6bSPrwzUtWf4bAwYcjPY42VnXxjT/ZWhYkcWCgUvfa9V3D6LIYiZNHzwRKVdLl9p+Y6KwsJCIiAjs7e1p0KDB1ZEszMrK4vTp0kVSIyIiOHDgAD4+Pvj6+vLyyy8zfPhwatWqRVJSEnPnziU6Opobb7yxAqOuWu5rMJidySeIz0vD1c6J/jXb0qZGfaYe+KykTJCLL6296/H4gc8vOr+bX1NqOHpwLP0cBWYTHXwacXtoP747V/aHBKT6eHp0X65r15hHP19Odn4Bvh6uAGTl5ZNfWERWXgE/7jzCtOG9SM/JIzuvgOkj+3AgIoZD56xvKc8lprHu8GmeGNGbGYvXkJ1XwKNDuhORkMru01EV2TypQC5ODtTx9y7ZDvLzpFGwPxnZecSlZrLn1AUmjepBfqGJ2OQM2jcKZkiXZrxd/BGKID8vBrZvxI7j50jNzCWghjt3DepIfoGpZMSYVE8X9S3fsvtWXqGJ2JQM2jcMZmjnZry9pPQ3b8Hve5gwtCunopM4GZXAsM7NCA30YdqnKyugRVJZuDg6EPKXvtU4yJ/0HGvfGtCmIalZucSmZtKwli+Pj+rN+sNn2H6ydDT0/HV7eGBwV05GJ3EyOoHhnZoRGuDDY5+rb1VXzw/uy9AWjZn4vfVey8/Neq+VmZ9PvqmIpOycMj9qEpORaZNYDKnhhaujI/7ubjg72NMk0B+AM4nJFJbT2ldSud1Vbyi7U46RmJeGi70TfQLa08o7jKcPf8SFnHiicxJ5tOEYPj27jIzCbLr5taRdjUY8d+RTAJp6htLEoy4H08LJKcqnqWcoExqMYF38HrJMuRXcOpGr2/79+y/al5GRwZ133snIkSP/53orVbJwz5499OnTp2T7j+nD48aN46OPPuLEiRMsWLCApKQkfH196dixI5s3b6Z58+YVFXKVU8PRnaea3YyvkyfZpjzOZMUy9cBn7EkJLylzXe2OJOanszvl1EXnm8xmRgZ34+GGwwAD0bnJzA1fwYronVewFVIZ3XyN9avkXzw4xmb/M9+uZtlu63pLry/biMViYfadw3Cws2PbyUheWrLOpvxT36zm8RG9+OCeEZgtFvaciWLCJz9i0s1rtdWsbiCfTil9KfTYjb0BWL79KC8s+I3pn/3CwyO68/L4wXi6OhObksHcZVv5YdMhwPrF0bYNg7i1X1s8XZ1Jzshh3+ko7nrje1IzdQNbnTULCeSzyaV9a+oNvQFr33r+q9948vNfePj67rxy15/61vKtLN58qOScb9bvx8nBnsdu6IWXqzOnohN54L0lRCWlX+nmSCXSPCSQeQ+X9q1pI3sDsGznUZ775jf8Pd2YOqIXvh6uJGZks3L3MT5ebXsv9fVGa9+aNtLat07GJDLhwyVEJatvVVe3drDeay0cZ3uv9eSy1Sw9dOxf1/PS0AF0Dq1Tsr3svtsB6PvuPKLTNZOjOvJ2cGdak9vxcfQkx5RLRHYMTx/+iH2p1ufBZ458zN31hjGjxb242DkSk5vEmye+YXfKcQAKzSZ6BbTl9tBrcTDYEZeXwo9RG/kxan1FNksqEYPWLLyiPD09mTFjBsOGDWPs2LH/Ux0Gi8VSLf+19Vw7raJDkKvQpn5v0HLK7IoOQ65Ch9+eTLsJ6ltyee37aDJtJ6pfyeW3/4PJtH5UfUsuv4NzJtN4pvqWXF4nn53MoI2TKjoMuQqt7vVORYdQKTSZUbWu2yeen1zRIfy/bdmyhWHDhpGamvo/nV+pRhaKiIiIiIiIiIjIP3v33Xdtti0WC7GxsXz11VcMHjz4f65XyUIRERERERERESkf1XI+65Uxe7btqE2j0Yi/vz/jxo1j+vTp/3O9ShaKiIiIiIiIiIhUMRER5fPBRiULRUREREREREREqohRo0b9Yxl7e3tq1qzJgAEDGDZs2H+qX8lCEREREREREREpH5qGfNl5eXn9Yxmz2Ux4eDifffYZU6dO5cUXX/zX9StZKCIiIiIiIiIiUkV88cUX/7rsypUrmThx4n9KFhr/l6BERERERERERESkcuvevTsdOnT4T+coWSgiIiIiIiIiInIV8vb25scff/xP52gasoiIiIiIiIiIlAuD1iyscjSyUERERERERERERAAlC0VERERERERERKSYpiGLiIiIiIiIiEj50DTkKsdgsVj0r01ERERERERERC67ps/OrugQ/pPjMydXdAgVrtqOLOy06qmKDkGuQruufYU2D1etC6FUDQfem0zHu96u6DDkKrP7iyl0HK9+JZff7s+n0P4+/R7K5bf3k8lV7qFTKr/jMyfTb/2Uig5DrkJr++g+S6omrVkoIiIiIiIiIiIiQDUeWSgiIiIiIiIiIuXLoMXvqhyNLBQRERERERERERFAyUIREREREREREREppmnIIiIiIiIiIiJSPjQNucrRyEIREREREREREREBlCwUERERERERERGRYkoWioiIiIiIiIiICKA1C0VEREREREREpLxozcIqRyMLRUREREREREREBFCyUERERERERERERIppGrKIiIiIiIiIiJQLg6YhVzmVKlm4adMm3njjDfbu3UtsbCxLly5lxIgRZZadMGECH3/8MbNnz2bSpElXNM6qbHSdzowK6UQtlxoARGQl8NnpdWxPOlVSpqV3HR5oOJDmXnUowkx4RiyP7PmCfLPJpi4Hgx1fdH2ARp61uW3re4Rnxl7Rtkjl0q5BEOP6daBpSAABXu5M/nQ56w+dKTnu4+HKpOu706VJXTxcnNh3OprXfljP+cS0kjLP3NSPzo1D8PdyJye/gIMRscxZvpnI+NQKaJFUFm0bBTF2cAea1A3Ev4Y7U99dxsb9Z2zKhNby4eEbe9CucTB2dkYiYpJ5/P0VxKdkAuDr6cojN/Wkc/O6uDo7ci4uhc9X7GL93vCKaJJUEm0bBTH22g40CQ3E39udqe/Z9q3dn08p87w5izaxcNUeAO4a2onurerTqI4/hUVF9H3ogysSu1RubRsGccfADjStG4C/tzuPfbCcDQdK+9beTyaXed47P2ziq9/2AhAS4M2jN/SkTVht7O2MnI5O4sNl29hzMuqKtEEqn3t7dmRA0zDq+/uQV2hi/4UY3vptC5FJ1vskLxcnHurblWvC6lLLy5OU7BzWHj/Du2u3kZVfUFJPl/p1eKRfNxoF+pFTUMiyA8d4Z81Wisx6mq+uhtXuxvCgbgQ6+wBwLjuOryJ/Y1fKCQBqOHpwf4NhtK/RCBd7J6JyEvn63Bo2Jx4qqePWuv3p4tuUBu5BmMxFXL/l6Qppi4hcHpUqWZidnU3r1q0ZP348o0aNumS5pUuXsmPHDmrXrn0Fo7s6xOelM/fkai7kJGMAhgS14812tzN22/uczUqgpXcd5rS/i/lnN/Dm8RWYLGYaedTCbLn45uHhxoNJzM+k0ZVvhlRCLk4OnIpO5KcdR5h97/CLjs++dximIjOTP1lOVl4BY/u046OHRjPq5QXkFVgT0ccvJPDLnhPEpWbi6erMhOu68OHEUQx54fMy+6BUDy5ODpy6kMjyzUd54+GL+1aQvxefPnUTyzcd4eOftpGdW0CDIF8KCktfcLxw77V4uDozZc4y0rNyGdSlCbMmDuGOGV9z6nzilWyOVCIlfWvLUd546OK+de2kj2y2u7WqxzN3DrRJMjvY2bFm9ykOn4lheI8W5R6zVA0uTg6cikpk+dYjvDnx4r41cOrHNtvdWoTy3B0DWbfvdMm+dx4ewYWEVO5/6wfyC03c2q8t7zw0guuf/pzkjJxyb4NUPh1Dg/lm10GORMdjZzQwuf81zBs3iqHvLiC30ESAhzsBHu68vmozZxKSqe3tyQvD+xHg6c6k71YC0LimHx+PHcHHG3fx5JJVBHq68/zwfhgNBt5YvbmCWygVJSk/jU/P/Ex0biIGDAys2YEXW47n/t1vcS4nnieb3oq7vQvPHP6cjMIs+ga249nmdzBxz2xOZ0UD1oEkGxMOciz9HINrda7gFonI/1elShYOHjyYwYMH/22Z6OhoHn74YVavXs2QIUOuUGRXjy2JJ2y2Pwz/nVF1OtPCqw5nsxKY1GQI35/bxpcRm0rKnM9Ouqiern6N6OwXxpP7v+Ea/8blHrdUfluPRbL1WGSZx0L8vWldrzajX/6SM3HJALy8aC1rX76fwe2bsHT7EQCWbDtcck5MSgZzV25j8fSx1Pb1JCopvdzbIJXTtsORbDscecnjE0dfw7ZDEby3uPQhJzrRtr+0CqvNq1+u5VhEHACfr9jJLQPb0TQ0UMnCauyf+tZfEzI92zRg74kLNv3rk2XbARh6TbNyiVGqpm1HItl2JPKSx//at3q3acCekxeILv6t83Z3pm5gDV5c8Duno633Ye/9uIUxfdrQIMiP5Izz5Ra7VF73fbnUZnv6j7+xbfoEmtcOZM+5aMITknm0OCkIcCE1nXfWbOX1G67FzmigyGxhcIvGnIxL4oMNOwE4n5LOm6u3MPumIcxdv4OcgsIr2iapHLYnH7PZ/jziV4YFXUMzr1DO5cTT3DOUd079wMlM67Xn63NruKFOLxp5BJckCxdErgZgUM2OVzZ4ESkXVeoDJ2azmbFjxzJt2jSaN29e0eFUeUYMDKjZChd7Rw6nXaCGoxstvUNILcjms87382ufp/io07209q5rc56PoztPtRjJC4cWk2cuuETtIqUc7e0AyDeVjvSyWKDAVETbBmWPEHZ2tOf6Ls2JSkonLjXzisQpVY/BANe0qs/5uFTefWwUq+dM4ItnbqFX2wY25Q6djmFAp8Z4ujljMMCATo1xcrBn7wlN55N/x8fTle6t6rFs85GKDkWuMj4ernRvWY9lW0v7VlpWHpFxKQzt2hRnR3vsjAZG92xFckY2x8/FV2C0Upl4ODsCkJ6b9zdlnMjKLyiZYuxob0e+qcimTH6hCWcHe5rXDiy/YKXKMGKgT0AbnO0cOZYeCcDRjEj6BLTBw94VQ/FxB6M9B9LO/H1lIn+wVLE/UrlGFv6T1157DXt7ex555JF/fU5+fj75+fk2+5ycnC53aFVKA/dA5nWZgKPRntyiAh7ft5CI7ARaeNUB4N6wfsw5+QunMmIZEtSWuZ3u5pYtc7iQYx0R9lzL0Sw9v4vjGdHUcvGuwJZIVREZn0pMSgaPDOvOzO/WkFtQyO192lGzhgd+nm42Zcf0aMWk63vg6uRIRHwKE+YuwVRkrqDIpbLz8XDFzcWRcUM68eGPW3l/0Wa6tgzl9YeG88Dri9lXvLbX9A9+5pWJQ1j7/kRMpiLyCkxMe285UQlpFdsAqTKGdGtGdl6h1rmUy25ocd/68xRkgAfeXsJbE4ez+d2HMFsspGbm8PCcpWTm5F+iJqlODAaYfl1v9haPKCyLt6szD/TuzKI9pTM3toRHckfXtlzXsjGrjpzCz92ViX2sU0b9PdzKrEeqh3putXiv3SMlz4jPH/6CcznWlxMvHl3As83v4KceL2EyF5Fnth6Pyb14BpqIXB2qTLJw7969zJkzh3379mEwGP71ebNmzWLGjBk2+55//nnocrkjrDrOZSdx+7b3cLd3pm/NFjzf6kYm7Py05J/rjxd2sTJ6HwCnTsTSwbcBw4Lb88Gp3xhTtyuu9k7MP7uhAlsgVY3JbOaxz1bwwq0D2Pz6RExFZnaePM+WoxHwl/+cf9l9gh0nzuPn6cYd/drz+l1DuHP29xT85S24CIDBaO1AG/ef4dvfiq9bFxJpFVabUb1blSQLJ4zqhoeLExNfX0xaVi692oUxa+IQ7p21iDNRutGVfza8RwtW7Tiua5Fcdtdf05xfd17ct564tS8pmTnc88Yi8gtNjOjegtkPXc8dr3xLUnp2BUUrlcVzQ/vSMMCX2z5bVOZxNydHPrp9BKcTkpm7bkfJ/m1nzvPG6s28MLwfr42+loKiIj7csJMOocFYtD50tXYhJ4H79ryFm50zPQNa80TTW5iyfy7ncuK5q95g3O1dmHrgQ9ILsrnGvwXPNR/HpP3vE5Gtj1yKXI2qTLJw8+bNJCQkEBISUrKvqKiIxx57jHfeeYfIyMgyz5s+fTpTpth+zdDJyYlf1s8os3x1YLIUEZWTAsCJjBiaeQZzU2g3vjy7EbB+IfnPIrMSqensDUBHnwa09A5hy8AXbcos6DqR1bEHmXH4h/JvgFRJxy8kcNNrX+Pu7IiDvR2pWbl89djNHDtvO50qK6+ArLwCziemcSgyls2vTaRv6zBW7T1ZQZFLZZaWmYvJVEREjO2oiojYFNo0tE5xD/L34qb+bbnp6QWcLS4XfiGJtg2DuLFva179cu0Vj1uqljYNgwit5cNTH63858Ii/0GbsCBCa/rw5Cc/2+zv2KQOPVrVo8+kD8nOsy758uo36+jcNIShXZsxf9XuighXKolnhvShV+P6jP1sEfEZWRcdd3V04NM7RpJTUMjD367AZLadobFg2z4WbNuHv4cbGbl5BNXw4rGB3bmQqvWhqzOTpahkpGB4VhSNPeowKrgn351fx8jgHozf+VrJSMOz2TG09KrP9UHX8M4pPf/Jv6B3EVVOlUkWjh07lv79+9vsGzRoEGPHjuWuu+665HlOTk7VftrxPzEaDDga7YjJTSUhL526bn42x0Pc/NiWeAqAN4+v4MPw30uO+Tt58F7H8Tx98DuOpl24onFL1ZRV/NAT4u9Ns5BAPvh52yXLGgwGMJSueSjyV6YiM8ci46lbs4bN/pDAGsQmW9e6dHZyALjoi9pFFgvG/zBSXaqv63u04FhkHOEXNApVLq8R3ZtzLDKe8L+McHZ2LPu6ZbZY0GWrentmSB/6Nwtj3LzFRKdlXHTczcmRz+4YSUFRERO/Xva3o6ETM60jVIe0bExMWgbHYhIuWVaqH6PBgIPRDmc769qYlr9ke8yY/9OMPxGpWipVsjArK4vTp0vXa4mIiODAgQP4+PgQEhKCr6+vTXkHBwdq1qxJ48b6Gu+/NbHRQLYnniIuLw1XOycG1W5NO596PLJnPgALIzZzX1h/wjPjOJUZw5Da7ajr5s+T+78BID4vHSh965hbZF03JyonhYT8i29YpPpwcXQgxN+7ZDvI15PGQf6k5+QRl5rJgDYNSc3KJTY1k4a1fXl8dG/WHzrD9hPni8t7MahdI7afOEdqVi6B3u7cNaAj+YUmNh+NqKBWSWXg4uRAnQDvku3a/l40quNPenYe8SmZfPXrHl55YAj7T0az58QFurYMpUeb+kx4zTo1KzI2hfPxqUwf1585328iPSuX3u3C6NysLpPn/FQxjZJK4aK+5WfbtwDcnB3p17ER73y/scw6An088HJzpqaPJ0ajkUZ1/AG4kJBGbr6+KlpduTg5UOdPv4m1/TxpFOxPRk4ecX/qW/3bN2L24k0XnX/4bAyZOfnMuGsQn67cQX6BiZE9WhLk58WWw/pNrK6eG9qXIa0a89A3y8kuKMDP3RWAzLx88k1FuDk5Mm/cKJwd7Hn8m1W4Ozni7mRN9KRk55Ykn8df057NpyOxWGBAszDu6dGRKYt+vig5LdXH3fWHsCv5OAn5qbjaOdM3sB2tvRvw5MFPOJ8TT1ROIpMb38hHp1eQUZhNd/8WtK/RiKcPzSupI8DJGw8HVwKca2A0GGjgbp3hEZ2bRF6RPoopUtVUqmThnj176NOnT8n2H9OHx40bx/z58ysoqquLj6M7z7e6ET8nD7IK8zidGccje+azK9mapP3u3DYcjfZMbnIdng6uhGfG8vDuz4nOTangyKWyax4SyGeP3liyPXVUbwCW7zzKcwt/w8/LjcdG9cLXw5XEjGxW7jrGJ6t2lpQvKDTRrkEQt/Vui6erM8mZOew7HcW4t78nNSv3SjdHKpGmoYF8/OSYku0pt/QGYOWWo8yYt5oN+04z68s13DmkE4/d1ofzcSk8MXcFB8NjACgqMjNp9lIeuqEHbz96Pa7OjlyIT+OFz1ax7ZAeuquzpqGBfPzEJfrW56sBGNi5MQZg9c4TZdYxYUQ3hnZvXrL99YyxANz/2qKSNTOl+mlWN5BPppb+Jj42pjcAK7Yd5YX5vwEwsGNjDAZYvfvivpWWlcdDc5by4IhufDTlBuztjJyNSWbKB8svGoUo1cctnVsD8OXdY2z2T/9xNT/tP0azWgG0rlMLgN+mjLcp0++tecQUj0Ts0SiU+3t1wtHenpNxiTz0zXI2h0eWfwOk0qrh4M6TTW/Fx8mTbFMuZ7NiefLgJ+xNtc4ue+rQp9xTfygvt7obZztHYnKTee34t+xKOV5Sx531rmVQrU4l2590nArAlP1zOaivJld7Br2LqHIMlmq6km2nVU9VdAhyFdp17Su0eXh2RYchV6ED702m411vV3QYcpXZ/cUUOo5Xv5LLb/fnU2h/n34P5fLb+8lkmj6rviWX1/GZk+m3fso/FxT5j9b20X0WQIvHq9Z1+8jrkys6hApnrOgAREREREREREREpHJQslBERERERERERESASrZmoYiIiIiIiIiIXEWq5eJ3VZtGFoqIiIiIiIiIiAigZKGIiIiIiIiIiIgU0zRkEREREREREREpFwZNQ65yNLJQREREREREREREACULRUREREREREREpJiShSIiIiIiIiIiIgJozUIRERERERERESkvWrOwytHIQhEREREREREREQGULBQREREREREREZFiBovFogGhIiIiIiIiIiJy2bWcMruiQ/hPDr89uaJDqHDVds3C1iufregQ5Cp0cOhMWk2uWhdCqRoOzZ5M24nqW3J57f9gMu3uV7+Sy2/fx5Np/aj6llx+B+dMpuEs9S25vMKnT2bABiUH5PL7vbeuV1I1aRqyiIiIiIiIiIiIAEoWioiIiIiIiIiISLFqOw1ZRERERERERETKl6GiA5D/TCMLRUREREREREREBFCyUERERERERERERIppGrKIiIiIiIiIiJQPS0UHIP+VRhaKiIiIiIiIiIj8R7NmzaJjx454eHgQEBDAiBEjOHnypE2ZvLw8HnzwQXx9fXF3d2f06NHEx8fblDl//jxDhgzB1dWVgIAApk2bhslkupJNsaFkoYiIiIiIiIiIyH+0ceNGHnzwQXbs2MHvv/9OYWEhAwcOJDs7u6TM5MmTWbFiBYsXL2bjxo3ExMQwatSokuNFRUUMGTKEgoICtm3bxoIFC5g/fz7PPfdcRTQJ0DRkEREREREREREpJ4YqNg05Pz+f/Px8m31OTk44OTldVHbVqlU22/PnzycgIIC9e/fSs2dP0tPTmTdvHt988w19+/YF4IsvvqBp06bs2LGDLl268Ntvv3Hs2DHWrFlDYGAgbdq0YebMmTzxxBO88MILODo6ll9jL0EjC0VERERERERERLBOLfby8rL5M2vWrH91bnp6OgA+Pj4A7N27l8LCQvr3719SpkmTJoSEhLB9+3YAtm/fTsuWLQkMDCwpM2jQIDIyMjh69OjlatZ/opGFIiIiIiIiIiIiwPTp05kyZYrNvrJGFf6V2Wxm0qRJXHPNNbRo0QKAuLg4HB0d8fb2tikbGBhIXFxcSZk/Jwr/OP7HsYpQqZKFmzZt4o033mDv3r3ExsaydOlSRowYUXL8zjvvZMGCBTbnDBo06KJhn3JpN9btyJi6najt4g3AmawEPj61ga2J4QB81nU8HX3r2Zyz+NwuXjq84qK6vBxcWNzzQQJdvOi+6mUyTXnlHr9UXnf360i/VmHUC/Ahv9DEgcgY3lmxhcjE1JIyjvZ2TL2+J9e2bYyjvR3bTpzjpR/WkZKVA0Cj2n7c3a8jbesF4e3mQkxqOou3HebrTfsrqllSCbQLC+KOAR1oVicAf293Jn+8nA0Hz5Qcd3Fy4JHru9OndQO83FyISU7n2w0H+GHzIQBq+Xjyy0t3l1n3tE9XsmZ/+BVph1Q+7RoGccfADjQNsfatKR+U0bdGdqd3m+K+lZTOt+sPsGTToZIyo3q05NqOjWkSEoC7ixM9J31AVm5+WX87qUbaNQjizr4daFongAAvdyZ9tpz1h0v7lo+HK5OGdadrk7p4uDix70w0ry5Zz/nENJt6WoXW4uEh3WhZtxZFFjMnoxJ54KMfyS8susItksrg/q4dGdg4jPo+PuSbTOyLjuGN9VuISCm911p46w10rlvH5rxv9x3iudVrAWgS4Mf9XTvSPjiIGi4uRKen8+3+wyzYo3ut6mxo7W4Mq30Ngc7WkVDnsuNYeG41u1NOAFDD0YP76g+nnU8jXOyciMpJ5Jtzv7Mlyfp7GOhcg9vqDqSNd0N8HD1ILshgbfxevjn3OyaLrldS9VxqyvE/efDBBzly5Ahbtmwph6iurEqVLMzOzqZ169aMHz/eZrHHP7v22mv54osvSrb/l3+B1VlCbgZzTvzG+exkDBgYFtyWOR1v5aZNH3ImKwGAH87t5oNT60rOySsqLLOuF1qP5FRmPIEuXlckdqncOjQI5rstBzl6IR47o4FHhlzDRxNGMfK1BeQWWL/i9PiIXvRoVo+p838mMy+fp0b3Yfb4YYx793sAmgUHkpKVy/SvfyUuLYs2obV4bkx/isxmvttysCKbJxXIxdGBU1GJLNt2hLfvH37R8cdG96Jjozo8PX8VMckZdG1al+k39yUxLYuNh88Sn5pJ/yc/tjln9DUtuWNAB7Yei7xCrZDKyPmPvrX1CG89UEbfurEXHRvX4ZnPi/tWs7o8eYu1b206dLa4Dnu2HT3HtqPneGRU9yvdBKmkXBwdOBmdyE87jzD77ov71jt3D8NUZGbSZ8vJyivgjt7t+HjiaEbNKv3NbBVaiw8mjOTzNbt5dckGTGYzjWv7YzZf6dZIZdEpJJiv9x7kUGw89kYDj/W6hi9uHsXgTxeQW1j6xczv9h9mzuZtJdt5fzrWomYgydm5TF3+K7GZWbQNqsVLg/tTZDGzcK/utaqrpPx05p1dSXRuImBgYM2OzGhxNw/seYtzOXE80eQ23Oydee7wPNILs+kb2I5nmo/jwb1vcyYrmjqugRgxMOfUYqJzk6jnVpPJjW/C2c6RT84sr+jmSWVQxdYs/F889NBDrFy5kk2bNhEcHFyyv2bNmhQUFJCWlmYzujA+Pp6aNWuWlNm1a5dNfX98LfmPMldapUoWDh48mMGDB/9tGScnpwr7h3U12Jhg+wnv90+uYUzdjrSqEVySLMwrKiQ5P+tv67mxbkc8HJz55NR6egQ0Krd4pep44JOlNtvPfvMbG1+aQLPgQPaejcbd2ZGRnVvw5MJf2XX6grXMt7+xfPqdtKpbk0Pn4vhpl+16DNHJ6bQOrUX/VmFKFlZjW49F/m1Sr3X9WqzceYy94VEA/Lj1MKN7tKR5aE02Hj6L2WIhOSPH5pw+bcL4fd8pcvPLfhki1cO2o5FsOxp5yeOt6tdixfZj7D1V3Lc2W/tWi3o1S5KF36y1jsZp3yj4kvVI9bP1eCRbj0eWeayuvzet69Vm1KwvOROXDMBLi9eybub9XNuuCUt3HAFg2shefLtpP5+v2V1y7rmE1DLrlOrh7u9t77WeWPkbOydNoEXNQHZfiC7Zn2cqJCk756+nA/DDIdt7rQtp6bQNqsXARmFKFlZjO5Jt+8UXEb8wtHY3mnrW5VxOHM28Qnn31A+czDwPwDfnfmd0cC8aeQRzJiuaPSkn2FM8ChEgLi+Z4AvrGVb7GiUL5apnsVh4+OGHWbp0KRs2bKBePduZmu3bt8fBwYG1a9cyevRoAE6ePMn58+fp2rUrAF27duXll18mISGBgIAAAH7//Xc8PT1p1qzZlW1QsSr3gZMNGzYQEBBA48aNeeCBB0hOTq7okKosIwaurd0SFztHDqZeKNl/XVBrNgx8kiU9H+KRJgNwNjrYnFff3Z/7G/bhmf1LMFeHVwTyP3F3sX6xKT3HOj29WXAgDvZ27Dh5vqRMZEIqMSkZtAqtdel6nJ1Iz9GUPrm0g2dj6dWqPv5ebgB0aBRM3YAa7Dh+rszyTesE0KROAD9tO3Ilw5Qq6NDZWHq1ro+/d2nfCgmswY5jZfctkX/Dwd4OgPw/jfayWKDAVETb+rUB8HF3oVVoLVIyc1kw6SbWvXQf8x6+seS4CIC7s/VeKy3Xdimg4c2bsPPRCfx8z1ge63UNzvZ/Pz7Ew8mJ9Dzda4mVEQO9A9ribOfEsYxIAI6lR9IroA0e9q4Yio87GO05mHbmkvW42TuTaSo7aS1yNXnwwQdZuHAh33zzDR4eHsTFxREXF0dubi4AXl5e3H333UyZMoX169ezd+9e7rrrLrp27UqXLl0AGDhwIM2aNWPs2LEcPHiQ1atX88wzz/Dggw9W2GzaSjWy8J9ce+21jBo1inr16nHmzBmeeuopBg8ezPbt27GzsyvznEt98ro6C/MI5Ktr7sXRaE9OUQGT937D2axEAH6NPkRsbhoJeZk08gxkUpOBhLr5MWXvtwA4GO14td0YZh9fTVxeOsFuNSqyKVJJGQzw+Ije7DsbzeniURN+nq4UmExk/uVmNDkzBz8PtzLraR1ai0FtG/HQpz+Vd8hShb22aD3P3tqf32bdR2FRERazhZnfrGHf6egyy4+4pgVnY5M5eDb2CkcqVc1r363nmdv7s/q1P/WthWvYF1523xL5NyLjrS/KHhnWnZnfryG3oJCxvdtRs4YH/p7W38MgX+sSLxMGd+HtZZs4GZXI0E7N+OTB0Yx+9auL1jaU6scAPNO/N3suRBOeVDp4YsWxk0SnZ5CQlUWTAH+m9e5Ofd8aPPjjyjLraRtUi+uaNuK+xT9dmcCl0gp1q8W77R7F0WhPblEBM458zvkc6zTImcfm80yzcfzY/WVM5iLyzQXMOPIFMblJZdZV28WPEUE9+FijCuUPV/EYow8//BCA3r172+z/4osvuPPOOwGYPXs2RqOR0aNHk5+fz6BBg/jggw9KytrZ2bFy5UoeeOABunbtipubG+PGjePFF1+8Us24SJVKFt58880lf92yZUtatWpFgwYN2LBhA/369SvznFmzZjFjxgybfc8//zx0KNdQK7XIrCTGbPoAdwdnBtRqzszWo7l7+zzOZiWy5PyeknKnM+NJysvk067jCXatQVROKo82GUBEZiI/R2uaglza06P7ElbLlzvfXfQ/1xFW05c5dw/no9U72P6n0Ygif3Vz7za0rFeTRz9cRmxKBu3Cgnjypr4kpmWz8y99x8nBjsEdGvPprzsrKFqpSm7uY+1bk+YuIzY5g3YNg4rXLMxm1wldl+R/YzKbmTJvBS/cMoAtr07EVGRm56nzbD4WgaG4jNFg/asfth1m2c5jAJxYupHOjeowonNz3l25tYKil8rihUF9aejnyy0Lbe+1vj9wuOSvTyUmk5CVzVe33kCItxfn09Jtyjb08+WjG4bz/pYdbInQNa26i8pJYMKeN3Gzc6aHf2umNbmVxw68z/mceO4MvQ43exceP/AB6YXZdPNryTPNxzF5/3tEZtu+fPV19OKVVvexKfEgv8buqKDWiFw5Fss/Z0KdnZ2ZO3cuc+fOvWSZunXr8ssvv1zO0P5fqlSy8K/q16+Pn58fp0+fvmSy8FKfvF76+0tXIsRKyWQp4kJOCgDH02No7hXEbfW6MvPwxW9+DqdZ12kKcfMlKieVjr71aegZSP9aLwBgKL6Z3TDwST47vYkP//RhFKmepo/qQ89m9bnr/UXEp5eufZmUkYOjvT0ezk42owt9PVxJysy2qaN+oA+fThzNku2H+fR324VeRf7MycGOh4dfw5RPVrDlSAQA4dFJNA72Z2z/9hclC/u3bYSzowMrdx6viHClCnFysOOhEdfw2Ie2fatRHX/uGNheyUL5fzkelcBNb3yNu7MjDnZ2pGbnsnDyzRy9YB3Fk5Rh/V08G2e73E5EXAo1a3hc8XilcnluYB/6hNXn1oWLiMv8+3XGD8ZYEzkhNbxtkoVhvj58eetovtt/mA+26V5LrM+If4wUDM+KorFnCCODe7Lo/DpGBPfgnl2vcS4nDoCz2TG09K7P9UHdmXNqcUkdvo6evNlmIsfSI5l98n8fNCAiFa9KJwujoqJITk6mVq1Lr3f2v37yujoxGgw4GMuext3Y0/rPNjEvE4DH9n6Ls13pGobNvYJ4sc0o7to2j6jiBKRUX9NH9aFvyzDunruY6JQMm2PHouIpNBXRuVEd1hw6DUCofw1q+3hyKLL0jWSDmr58NnE0y3cf571ftiHyd+zt7HCwt8Nitn2jV2S2YDQaLio/oltzNh46S2pW7pUKUaqoP/qW+S9vi81mS8mLMpH/r6y8AgBC/L1pFhLI3OLfveiUDBLSsggNsF3upW5ADbZc4sMpUj08N7APAxqFcfvXi4lKz/jH8k2LF8pPzCp9MRvm58tXt45m6eHjzN6key0pmwEDjkZ7nOysa2NasP0Uu9lixkDp76GvoxdvtplIeGYUb574FsvVPO9UpBqoVMnCrKwsTp8+XbIdERHBgQMH8PHxwcfHhxkzZjB69Ghq1qzJmTNnePzxxwkLC2PQoEEVGHXV8kiTAWxJOEVcbjqu9k5cF9SKDr6hPLDzS4Jda3BdUGs2J5wivSCHhp41mdZsMHuSIwjPtL7pjsqx/Qqft6MrABFZiWSa8i76+0n18fTovgxu35hH5y0nO78AXw9r38jKyye/sIisvAKW7jzC1Ot7kZ6TR1ZeAdNH9eFARAyHzlnfUobV9OWziTew9eQ5vtywt6QOs9lCaraSO9WVi5MDdfy9S7aDfD1pFOxPRnYecamZ7Dl1gUmjepBXaCI2JYP2DYMZ2rkZby/ZaFNPHX8v2oUF8/AHSxGBMvqW31/61skLTBrdg/xCE7HJGbRvFMyQLs14e3Fp3/L1dMXX062knoZBfmTnFRCXkkGGPs5Ubbk4OhDyl+tW4yB/0nOsfWtAm4akZuUSm5pJw1q+PD6qN+sPn7FZdmP+uj08MLgrJ6OTOBmdwPBOzQgN8OGxz8tee06ufi8M6suwZo154IflZBcU4OdmvU/KzM8n31REiLcXw5o3YcOZCNJy82js78fT/Xux63wUJxOtI8Ya+vny1a03sDniHJ/v2ltSh9lsISVX91rV1fh6Q9idcpyE/FRc7JzpG9CO1t4NmH7oYy7kxBOdk8ijjcbwyZnlZBRmc41fS9rVaMSzhz8DrInCt9o8SHx+Kh+fWY6Xo3tJ3akFmRXVLKlEDModVzmVKlm4Z88e+vTpU7L9x/ThcePG8eGHH3Lo0CEWLFhAWloatWvXZuDAgcycOVMjB/8DH0c3XmozGn8nD7JMeZzKiOeBnV+yI+kMgc6edParz231uuJi50BcXgZr4o7yafjGf65Yqr2burcG4IuHxtjsf+ab1SzfbV1v6fWfNmK2WHj7zmE42tux9WQkL/9QOnV9QOuG+Hi4MqxDU4Z1aFqyPzolncEzP78CrZDKqFlIIJ9NvrFke+oNvQFYvv0oz3/1G09+/gsPX9+dV+4ajKerM7EpGcxdvpXFmw/Z1HN91xbEp2Wy/RJfSZbqp1ndQD59rLRvPTamNwDLtx3lhQW/Mf2zX3h4ZHdeHj8YT7fivrVsKz9sKu1bN/Rsxf3DupZsz5tmvQY+P381K7YfuzINkUqneUgg8x4u7VvTRvYGYNnOozz3zW/4e7oxdUQvfD1cSczIZuXuY3y82nYt1a837sfJwZ5pI3vh5erMyZhEJny4hKhk23XnpPq4rZ31Xuvr223vtZ5YuZofDx+joKiIbqEhjOvYFlcHB2IzMll98jQfbC3tW9c2aYivmysjWjRlRIvSe62otHT6fKh7rerK29Gdx5veho+jJ9mmXCKyY5l+6GP2pZ4C4OnDn3B3/aHMbHkPznaOxOQm8caJb9mVYl3Wpb1PI4Jc/Qly9ee7bi/Y1D1gw+Qr3RwRuQwMln+zGuNVqPXKZys6BLkKHRw6k1aTZ1d0GHIVOjR7Mm0nqm/J5bX/g8m0u1/9Si6/fR9PpvWj6lty+R2cM5mGs9S35PIKnz5ZSS0pF7/31vUKoM3DVeufw4H3dD2oVCMLRURERERERETkKlIth6hVbcaKDkBEREREREREREQqByULRUREREREREREBFCyUERERERERERERIppzUIRERERERERESkXBq1ZWOVoZKGIiIiIiIiIiIgAShaKiIiIiIiIiIhIMU1DFhERERERERGR8qFpyFWORhaKiIiIiIiIiIgIoGShiIiIiIiIiIiIFNM0ZBERERERERERKRf6GnLVo5GFIiIiIiIiIiIiAihZKCIiIiIiIiIiIsUMFotFA0JFREREREREROSya/fA7IoO4T/Z9+Hkig6hwlXbNQvb/PxsRYcgV6EDQ2YSOvetig5DrkKRDz5G6AdvVnQYcpWJnDiV+nPerugw5Cp09tEpumZJuYicOJWwRS9VdBhylTk95hm6rJ5e0WHIVWjHoFkVHULloCFqVY6mIYuIiIiIiIiIiAigZKGIiIiIiIiIiIgUq7bTkEVEREREREREpJxpGnKVo5GFIiIiIiIiIiIiAihZKCIiIiIiIiIiIsWULBQRERERERERERFAaxaKiIiIiIiIiEg5MWjNwipHIwtFREREREREREQEULJQREREREREREREimkasoiIiIiIiIiIlA9NQ65yNLJQREREREREREREgEo2snDTpk288cYb7N27l9jYWJYuXcqIESNsyhw/fpwnnniCjRs3YjKZaNasGUuWLCEkJKRigq5ibgzpyI11O1HbxRuAM1kJfBK+ga2J4QB81mU8HXzr2Zyz+NwuXj6yomT7wJCZF9X7xL5FrI49XH6BS6U3sV0nBtVvSIMaPuSZTOyLi+HV7Zs4m5ZaUsbf1ZXp3XrRo05d3BwcOZuWwvt7drLqbPhF9Tka7fjpxltp5hfAdd9/ybGkxCvZHKlErH2rEQ28/+hb0by64y99y+WPvhVa2rf27ijpW11q1+G7ETeVWf/wHxZyKCHuirRFKo8HOnRkUFhD6v9xzYqN4bUtm4ko7ldBHp5sHn9Pmec++PMKfj0djrezM7MHXUcTPz+8nZ1Jzs1lzdkzvLltC1kFBVeyOVKJXI5r1h/61K3Pox260sTXj3xTETtjLnDfqmVXuklSSdzaoB23NmhPsJs3AOHpibx3bDOb4s4AMLP9dVwTWI8AZ3dyTAXsS47i9UPrOJuZXFLHs20H0t63Do28/DmdkcTw3z+riKZIJTOqTmdG1elMLZcaAJzNSuDzM2vZnnSqpEwLrxAmNBxIc686mDFzKiOWSXs/J99sKinTza8xdzfoRwOPmhSYTexPOcsTBxZe8faIyP9fpUoWZmdn07p1a8aPH8+oUaMuOn7mzBm6d+/O3XffzYwZM/D09OTo0aM4OztXQLRVU3xeBu+e+I3z2clgMDA8uC3vdLiVmzd/yJmsBACWnN/NB6fWlZyTV1R4UT3PHfyxJMEIkFmYV/7BS6XWuXYwXx05wMGEOOwNRqZ16c6Xw29gwDdfkGuy3kS81W8wnk5O3PPzT6Tk5XJ9wybMHTSU4Yu/5mhSgk1907v1JD47i2Z+ARXRHKlEOteuw1eH91v7ltHItC49+HLYjQz49gtyTdbr01v9r8PT0Yl7flla3LeaMnfgMIb/sJCjSQnsjYum4xcf2NQ7pXN3rgkKUaKwmuoUVIevDh7gUHw8dkYD07p158uRoxn41XxyTSZiszLp9OlHNufc0qIV97bvwMZzkQCYLRbWnD3N29u3kpybQ6i3NzN698O7b38mrfqlAlollcHluGYBXFu/Ia/2HsgbO7ewLeo8dkYjjX38KrJpUsHicjJ549A6IrNSMGBgVGgrPrpmDNf//inhGUkcSY1l+bkjxOSk4+3owiPNezK/5630/uV9zJbSOYA/RB6gtU8Qjb10jyVWCXnpzD21mqicJMDAkNrteL3tWO7Y9h4R2Qm08ArhnfZ3sSBiA28dX06RxUxDj1o2/apPYHOebD6Kj06tZk/KWewMRhq4B1Zco0Tk/6VSJQsHDx7M4MGDL3n86aef5rrrruP1118v2degQYMrEdpVY1PCSZvt90+u4caQjrSsEVySLMwrKiQ5P+tv68kszPvHMlK9jFv5o8321LWr2Hf3RFr6B7IrNhqA9rVq88yGNRwsTs68v3cnd7dpTwv/QJtkYe+QUHrUqcuEVcvpU7f+lWuEVErjVi6x2Z669lf2jX+wuG9FAdC+Zm2e2fjnvrWDu1uX9q1Cs5nE3JySOuyNRgaEhrHg8L4r1xCpVO5aZnvNmvb7avbc9wAtAgLZHRON2WIhKSfHpszABmH8En6KnEJrwicjP5+vDx8qOR6TmcnCQwe5t32H8m+AVFqX45plZzDwfPe+vLJ9I4uOHymp63RqMlJ9rYu1HXn69pEN3NqgPW18gwnPSOL7s/tLjkXnpPP2kQ38POg+gl29OZ9tHdk6c/9vAPg0d1OyUEpsSTxhs/3R6d8YGdKZFt4hRGQnMKnJEBad38ZXERtLypzPSSr5azuDkclNhvH+yV9ZEb2nZH9ktu1gAKm+DBYtWljVVJk1C81mMz///DONGjVi0KBBBAQE0LlzZ3766aeKDq3KMmJgUK2WuNg5cij1Qsn+wbVbs37Ak/zQ8yEebjwAZ6PDRedObzGU9QOeZOE193N9cLsrGbZUER5OTgCk5ZeOOt0bG8PQho3xcnLGAAwLa4yTnT07Ykr7n5+LK7P6DGTyml/JM5n+Wq0IHo5l9K24GIaGldG3oi+UWUf/0AbUcHZm8YkjZR6X6uePfpWeX/ZI+RYBATQPCGDR0UsvuRHg5sagsDB2RUeVS4xSNf0v16wW/oHUcvfAYoGfbxzLrnETmD9kNI00slCKGQ0GhtRphqu9A/uTL77muNg5cEO91pzPSiU2N70CIpSqyoiB/jVb4WLnyOG089RwdKOFdwipBVl80mkCv/R+ig863ktr77ol5zT2rE2Asxdmi4UFXR9mZe/pzG53J/U1slCkyqpUIwv/TkJCAllZWbz66qu89NJLvPbaa6xatYpRo0axfv16evXqVeZ5+fn55Ofn2+xzKk5iVFdhHoF82e1eHI325BYVMGXvN5zNsq4H92v0IWJy00jMz6SRRyCPNhlIqLsfj+39tuT8uSfXsjv5LLlFhXT1C+OpFkNxtXfk28gdFdUkqWQMwHPde7M7JppTKaWjIB5avZL3Bw3l4D0PUlhURK7JxP2/LuNcelpJmTf7XcvXRw5yODGeYA/PKx+8VGrWvtWH3bFRnEopfaP90OoVvD9wKAfvfqi0b636iXMZaWXWc1PTlmy6EElctkZIi7VfPdurN3tiojmVXPbIrTHNWxCenMy+2NiLjs259jr612+Ai4MDa86e4ck1v5VzxFJV/K/XrBBPLwAe7diNl7auJyozg3tbd+C768fQ55vPL5nUlqtfIy9/Fve9Cyc7e3JMBTywdTGnM0r71m0N2vN4q364OThyJiOJOzd+Q6HZXIERS1XRwD2QTzs/UPKM+MT+hURmJ9Dcqw4A9zToz7snfyE8M4bBtdvxXsd7uG3rO1zISaa2i4+1TFg/3j35MzG5qdwa2oMPOt7LmC1vkVGYW5FNE5H/QZUaWQhw/fXXM3nyZNq0acOTTz7J0KFD+eijjy553qxZs/Dy8rL5M2vWrCsVdqUUmZXETZs/YOzWT1h0bjcvth5NfXd/AJZc2MP2pNOczoznl5hDPHNwCf1qNiPYtUbJ+Z+e3sCB1POczIhl/tnNzD+7hXH1u1dUc6QSmtmrH419/Hj4t5U2+6d0vgZPJyduXbaY4Yu/Zt7BvcwdNLRkDaY7W7XFzcGRD/btqoiwpQqY2bN/2X2r0zV4Ojlz67JFDP9hIfMO7mHuwGFlru9V082dnnVC+f64PsokVi/26UcjX18e+fXnMo872dkzvHETFh0teyTqzE0bGPbtQu5d/hMhXl4807PsF5hS/fyv1yyDwQDA3OKPnhxJjGfaulVYgCENGl3pZkglEpGZzPDfP2X02s/55sxe3ug0nDDP0t+6ZeePMPz3T7ll3ZdEZqbwbtdROBrtKjBiqSrOZSdxx/b3uHvnB/x4YSfPtbyBULcAjMXXo6VRO/k5Zi+nMmOZc/JnzmcnMjTIuuzGH2Xmn13P+vijnMyI4aXDP2DBQt/AlhXWJqlELFXsj1SdZKGfnx/29vY0a9bMZn/Tpk05f/78Jc+bPn066enpNn+mT59e3uFWaiZLERdyUjieEcN7J3/nVGYct4Z2LbPs4TTrtIY6rr6XrO9IWhQ1Xbxw0I2IADN69KVv3Qbc/NMim1FbIZ5e3NmqLdPWrWZb1HmOJycyZ/d2DiXEc0fLNgB0CwqhXc1anJowidMPTGbD7XcDsPzG23mr37UV0RypRGb06Eff0PrcvKysvtWOaetWsS26uG/tse1bf3Zjkxak5uWxJvLMFYxeKqsXevelT7363LpkMXFZZY80HdywIc72Diw9cazM40k5OZxNTWVtxFmeWbeG21u1wd/VrTzDlirg/3PNSszOBiD8T6PzC8xFXMhIp7ZG3VdrhWYz57JSOZoax5uH13M8PYFxDTuVHM8qzOdcViq7k87z0PYfqO/py8CgJhUYsVQVJksRUTnJnMyI4cPw1ZzOjOOmut1Iys8EIDLLdv3ByKxEajp7A5RZptBSRExOakkZEalaqsw0ZEdHRzp27MjJk7Yf6Dh16hR169a9xFnWKcfVfdrxPzFiuOQbxyaetYDSH4CyNPasRXpBDoXmonKJT6qOGT36Mqh+GDf/tIiozAybYy721rUvzX9Z3NZssZSMoHhh8zre3Lml5FigmztfDb+Bh1av5ED8xVP/pPqY0aMfg+qFcfOy74nKtF17qaRv8de+ZcaA4aK6bmzSgh9PHcWkaVnV3gu9+zKwQRi3LllEVEbGJcuNad6CtWfPkJL7z9Oo/uhzjnZ6gVad/X+vWYcT48k3mahfowZ74qwfCbM3Ggny8CQ689J9Vaqfv7uPNxT/T9cj+V8YMOBotCc2N5WEvHRC3Pxtjtdx82N7kvXZ/ER6NPlFhYS4+XMw7Rxg/ehJLRdvYvNSr3jsIvL/V6mShVlZWZw+fbpkOyIiggMHDuDj40NISAjTpk3jpptuomfPnvTp04dVq1axYsUKNmzYUHFBVzEPNx7A1sRTxOWm42rvxODarejgG8rEXV8S7FqDwbVbsyXhFOmFOTT0qMnUZoPZkxxBeGY8AD0DGuPr5M6h1AsUmE108WvA3Q168uXZrRXcMqloM3v24/pGTbj3l2VkFxbg7+oKQEZ+AflFJs6kpRCRlsorvQfwytaNpOblMrB+GN3r1GX8z0sBiMmyTUr/8cXR8xlpWluuGpvZsz/XN2zCvb/+RHZBAf4uxX2r4C99q9cAXtlW3LfqNaR7nVDG/2z7xdtuQSGEeHnz/TFNQa7uXuzTl+GNm3DfiuVkFRTgV3zNyiy+Zv2hrpc3nYKCGb9s6UV19A6th5+rK4fi48guKKSRry9Pdu/JnphoJXSqsctxzcoqLODroweZ3PEaYrMyic7M4L42HQH4+czJS/695eo2tWUfNsaeISYnHTcHR4aHtKBzQF3u2vQNddy8GVKnGZvjz5KSn0NNF08mNOlGXlEhG2JLn6/qutfA1d4RP2c3nO0caOpt/QDF6YxErW1YjT3QcBDbk04Sn5uGq70TA2u1oZ1PPSbt/QKAryM3c2+D/oRnxhKeGct1tdtR182fpw58DUBOUT5Lo3Zxb1h/4vPSictN5fZ6PQFYF6d7LgGDpvZWOZUqWbhnzx769OlTsj1lyhQAxo0bx/z58xk5ciQfffQRs2bN4pFHHqFx48YsWbKE7t21Xt6/5ePkxkutR+Pn5EGWKY9TmfFM3PUlO5LOEOjsSWe/+txWrysudg7E52WwNu4on57eWHK+yVLETXU7M7XZYAzAhewU3jz+Kz+e31txjZJKYWzx1KnvR95ks3/q2lX8cMI6iuuulT/yRNcefDZkBG4OjpxLT+WxNb+y4VxEBUQsVcXYFm0A+H7EzTb7p679lR9OFvetn5fwRJeefHbdyNK+tfZXNpy37Vs3NW3JnthozqSlXKnwpZK6vVUbAL67YYzN/mm/rWLJ8dLpxjc2b05cViabz0VeVEeeycRNzVvyTM9eONrZE5uZyeoz4Xy4e3d5hi6V3OW6Zr2yfSMmi5m3+12Hs709B+JjuXXZIjL+8uE+qT58ndx4o/NwApzdySzM50R6Andt+oat8REEOLvTwT+EOxt1wtPBheT8bHYlnmfMuvmk5OeU1PFKh6F0DiidlbVi4L0A9Fr5HtE5+mpydVXD0Y3nW47B18mDrMI8zmTFMWnvF+xKtiaavz+3FUejPZMaD8HTwZXwzFge3TOP6NzS+6n3Tv5CkbmIF1reiJOdA0fTLvDg7s/INOmDTCJVkcFisVTLHG+bn5+t6BDkKnRgyExC575V0WHIVSjywccI/eDNig5DrjKRE6dSf87bFR2GXIXOPjpF1ywpF5ETpxK26KWKDkOuMqfHPEOX1dV7XXspHzsGVe+Pq/6h4/iqdb+5+/MpFR1ChasyHzgRERERERERERGR8lWppiGLiIiIiIiIiMhVpFrOZ63aNLJQREREREREREREACULRUREREREREREpJimIYuIiIiIiIiISLkwaBpylaORhSIiIiIiIiIiIgIoWSgiIiIiIiIiIiLFlCwUERERERERERERQGsWioiIiIiIiIhIedGahVWORhaKiIiIiIiIiIgIoGShiIiIiIiIiIiIFNM0ZBERERERERERKRcGTUOucgwWi0X/2kRERERERERE5LLrfMfbFR3Cf7LzyykVHUKFq7YjC+t9PauiQ5CrUMRt09l3PqSiw5CrULuQ85jjGlV0GHKVMdY8RXhU7YoOQ65CDYNjSIwJqugw5CrkXzuajZH6PZTLq1foKRr9MLOiw5Cr0Kkbnq3oEET+J1qzUERERERERERERIBqPLJQRERERERERETKmRa/q3I0slBEREREREREREQAJQtFRERERERERESkmKYhi4iIiIiIiIhIuTBoGnKVo5GFIiIiIiIiIiIiAihZKCIiIiIiIiIiIsWULBQRERERERERERFAaxaKiIiIiIiIiEh5sWjRwqpGIwtFREREREREREQEULJQREREREREREREimkasoiIiIiIiIiIlAuDZiFXOZUqWbhp0ybeeOMN9u7dS2xsLEuXLmXEiBElxw0GQ5nnvf7660ybNu0KRVm13dawLbc3bEeQuxcA4WlJvHtkCxtjzgJwS1gbhoc2o7lPTTwcnGi16G0yC/Nt6mheI5An2/ahlW8tiiwWVp0/wUv71pJjKrzi7ZHK44cv7VnylYPNvtp1zLz1ubX/FBTAwo8c2L7BjsJCaN3BzF2PFOBdw1r23BkDy76z5+RRI5npBvwDLfQfamLwqKIr3RSpZN7/AubOt73+1wux8MtXtuUsFrj/cdi8y8B7L1no3+PiulLTYeTdEJ9oYOdKC54e5Ri4VGpfL3Dk2y+dbPYF1ynio/k5AKxa6cCGdfacCbcjN8fAd8sycXe3rePFZ1yIOGMkLdWAu4eFNu2KuPPefHz9dEdcnc2b78gXCxxt9oXUMfPNlzlkZFiP79pjT3y8AW9vCz2vMXHP+IKS/vXLKnteec25zLpX/JhNjRrqX2L16/ew9HMD/UZYuOkB676EGPjhUzh9FEyF0Lw93PIgeBbfbyXFwc/fwIkDkJEKXr7QpS9cdwvYO1zybyVXuVvqt+eW+u0JdvMGIDwjkbnHN7Ep7gwAL7a7jm4B9Qhw8SDHVMC+5CjePLyWs5nJF9Xl7ejC8v73UdPVk/bLXr/oWVJEqoZKlSzMzs6mdevWjB8/nlGjRl10PDY21mb7119/5e6772b06NFXKsQqLy4nk9cObCAyMwUDBkbXb8EnPW9g6K+fE56ehLOdAxtjzrIx5ixPtO1z0fkBLu4s7HcLK88d5/ndv+Hu4MSzHfrzZtehTNy8tAJaJJVJcKiZp18rvSEw2pUe++pDB/bvNPLoswW4ulmY/74js19wZMacAgDOhhvx8oYHnyjEN8DCqaNGPnvHAaMRBo1QwrC6C6tn4fO3Srft7S4us2AxUPY7pRLPvg6N6kN84mUNT6qokNAiXn4jt2T7z9es/Hxo37GI9h2LWPCZUxlnQ6s2JsbcWoSPr4XkJAPzPnJm1gwX3nwvp7xDl0quXmgR77yVV7JtZ2dN8CUlG0lKMvLghHzq1TUTF2/kjdlOJCUbeWmGtXy/PiY6d8q2qe/lV50oKDAoUSglIk/Cpp8huF5pn8jPg3eegjr1Ycpr1n3LFsD7z8GTc8BohLgLYDHD7Y9CQG2IjoSv3rGee+N9FdIUqQTicjN468g6IrNSMAAj67bmg243MWLNp5zOSORoaizLzx8hNicdL0cXHm7Wi8973EbfX97DjO116ZX2wziZHk9NV8+KaYyIXBaVKlk4ePBgBg8efMnjNWvWtNletmwZffr0oX79+uUd2lVjbfRpm+03D27itobtaOtXm/D0JL44uRuAzgEhZZ7fLygMk9nMc7tXl/wsPLNrFauG3ENd9xqcy0otz/ClkrMzgrfPxftzsmH9Kjsenl5Ai7ZmAO6fWsDUu50JP2agYTMLfa4tAkqTgoG1igg/ZmTXVjslCwV7O/D3vfTx4+EwfxEs/hh6XvyuCYBvf4KMLJg4DjbvLJcwpYqxs4MaPmUnX64fbR0tf+hAGZnpYiNuKB1RHxBo4cZb8nnpORdMJrCvVHdYcqXZ2YFvGX2rfj0zL79YmkQMCirivrvzmfmKM6Yi67XOyQmcnErPTU2DffvteHKaRueIVV4ufPYajJ0Ev3xbuv/0UUiOh2fngoubdd9d02DyaOtIwmbtoEVH658/+NeC+CjYuFLJwupsfWy4zfbso+u5pUF72vgEcTojke8j9pcci85J552j61kx4H6C3Ly5kF36/HdL/fZ4ODox99hmetVqeMXilypA77qqnCp7KxsfH8/PP//MggULKjqUKstoMHBdSBNc7B3Ylxj9r85xNNpRYC6y+W89z2QCoENAsJKF1VxcjIEHbnLG0dFCw2Zmbr7bhF+AhbOnjBSZDLRoZy4pGxRiwS/ATPhxIw2blZ0MzMkBd00TFeBclDUJ6OQIbZrD5PugdqD1WG4eTJsJz066dELxdCR8sAC+/wiiYq5U1FLZxUQbuWOMGw6O0KRZEePuzicg8H+7m83MgA1rHWjavEiJQiEq2sj1N7ji6AgtmhVx/70F1LxE38rONuDmWvaIaYBVvzng7AR9epnKMWKpSr59H1p2sib//pwsNBVaB9j/eTqxgwMYDNZEYrN2ZdeXmw1uut+SYkYMDA5uhqudA/uToy467mLnwKjQ1lzISiUuJ71kfwMPPx5s2oMb131OHfcaVzJkESkHVfZ2dsGCBXh4eJQ5XfnP8vPzyc+3fRPr5FT2dKLqorG3P0sG3oGTnT05pgImbPqR0xkXrzdRlm3x53i6fT/ua9qZL07uxsXekSfa9gasU5Sl+gprYmbC1AJq1bGQlmxgyUJ7Zkx25PVP80lPNWDvYMHtL13EqwakpZQ9b/TUUSM7Ntjx+EsFVyB6qcxaNYVXnoR6IZCYDHPnw+0Pw4r54OYKr74PbVpAv+5ln19QAFNfhGkPWBOMShYKQOMmRUx+PI+gYDMpKQa+/dKJJya5MndeNq6u/76eLz5xZOUyR/LzDDRuWsTzL2sKcnXXrGkRTz1RREgdC8nJBr740pEHH3Xhq89zLupbaekw/ytHhg299LrPP//iQP9+Jqr57asU27UBzp2Gp9+7+Fj9JuDoDD/OgxF3Wff9OA/MZgPpKWUnqxOiYd0yuPHe8otZqoZGngF83/cunIzWZ8QHty/mTGZSyfFb67dnWqv+uNk7cjYjiTs3f02hxToQwMFox+zOo3j98FpiczOULBS5ClTZZOHnn3/ObbfdhrNz2QtA/2HWrFnMmDHDZt/zzz8PDavvHdfZjGSG/PI5Ho5ODA5pzJtdh3Lz7wv/VcIwPD2JqdtX8ky7fkxr05sii5kFJ/eQmJuF2aKxxdVZm06lowbr1rcQ1rSAh29zZsdGOxz/439uFyIMvPm8I6PGmmjVwfzPJ8hVrWeX0r9u3MCaPOx3E/y6Hny8Ycc++PGzS5//9idQvy4MH1juoUoV0qFz6Yjmeg2gcdMcxt/qzpYNDgy87t9/sGvUTYUMHFxIQryRb79y5O3XXHj+5Vwu8U02qQa6/qlvhTWAZs1yueFmN9att2fokNLRgdnZMO1JF0Lrmrn7zrJfjB05aiTynJFnpueVeVyql5QE+P5DmDwLHBwvPu7hDfc/A1+/Z00AGgzQsQ+EhFkwlnFNSk2COU9Dh57Q47pyD18quYjMJK7//RM8HJy4NrgZr3Uczm0bvixJGC4/f4StCRH4O7tzd6OuzOkympvXf0GBuYipLfpyJjOJ5ecPV3ArRORyqZLJws2bN3Py5Em+//77fyw7ffp0pkyZYrPPycmJBT+8XV7hVXqFZnPJdOEjKXG08qnFXU068vSuVf/q/OWRx1geeQw/Z1dyTIVYLHB3k05cyEorx6ilqnFzh1rBFuJiDLRsZ8ZUaCA7C5vRhemp4P2XNZ2izhl46XEn+l1nYtRtmnIlF/P0gNBgOB8Np87ChRjoPNS2zKPPQftW8OUc2LnfWq7FRuuxP95rdLse7r8dHh5/ZeOXysndHYKCzcTE/Lcsn5eXBS8vCKpTRJ26edx5szsnjhlp2lwvOsTKwx3qBJuJijGW7MvJgceecMHV1cIrM/MuOXV9xc8ONAwroklj9SexjijMTDPw0oOl905ms4HwwxbWL4cPVlq/fvzKfMhMt66d6eoOU28Gv1q2daUlw1uPQ4Nm1o+diBRazJwvXn/waFocLWvUYlzDTjy37xcAskz5ZGXlcy4rhYPJUey+fhoDgprw84WjdAkIpZFXAIOCngYoeWG2c9hUPjqxhXePbayQNknlYdDPWJVTJZOF8+bNo3379rRu3fofyzo5OVX7acf/xGgw4Gi89ALul5KUZ51qdWP9VuSbTWyOjbjcoUkVlpcL8bEGevhYqN/IjJ29hSP7jXTuYf2liLlgICnBSMOmpb8cFyINvDTNiZ4DTdw0XolCKVt2jjVBONwHru0DNwyxPX79XfDkg9DnGuv2nBch70+rURw5AU+/Bl+9CyFBVy5uqdxycyE2xkif/v/7KHlz8eWssFDDCqVUTi5ExxgZNMD6u5adDVMed8HBAV57OQ+nMkaI/XHeug32TLhXy3GIVdM28PzHtteo+W9ZqFkHrh1j+0V3Dy/r/584AJlp0PpPo/RTk6yJwroN4c7HrF9JFvkrg8GAo/ES6QKDAQOlz5APbf8BZ7vSsi1r1ObVjsO5dcP8kgSkiFQtlSpZmJWVxenTpV/rjYiI4MCBA/j4+BASYv06b0ZGBosXL+att96qqDCrtGlterEx5izR2Rm4OzgyPLQZXQLrMm7ddwD4Obvh7+JGqId1nYkm3v5kmQqIyc4gvcA6BeaORu3ZmxhFjqmQ7rVCmd62L68f2EBmob7SV50t/Niedl3M+AdaSE02sPhLe4xG6NanCFc36HNtEQs/csDdoxAXVwvz5zrQsFkRDZtZb3ovRFhHFLZqX8SQ0SbSUqz1Go3g6V1x7ZKK9/oH0LsbBAVCQjK897m1Xwzpb52GXNZHTWoFQnDxKIq/JgTTitfiblDXOkpRqqd5HznRqauJgEAzKckGvp7vhNFooVdfa0InNcVAaoqB2GjrU3TkWTtcXS34B5jx8ISTx42cOmlH8xZFuHtYiI0xsvALJ2rVNtP0Eh9tkurh/Q8duaariZo1LSQlGZg33xE7I/TvV0h2Nkye5kJ+Pjz3VB7ZOQayi5e59PayYPenZM+6dfYUFcHAAf9+Wrxc3ZxdISjUdp+Ts/VjcH/s37oaaoWAuxecPW6dttx/JNSsYz2emgRvTQOfALjhXusIxD94+VyJVkhl9FiLvmyMO01sTjpu9k4MC2lBZ/9Qxm/+mjpu3lwX3Jwt8WdIyc+hpqsn9zW+hryiQjbGWZ/dL/wlIVjDybpA65nMJD0jilRRlSpZuGfPHvr06VOy/cf04XHjxjF//nwAvvvuOywWC7fccktFhFjl+Tq58VbXofi7uJNZmM+J1ATGrfuOLXGRANzWsC2TWvUoKb9o4FgApm5fyZKz1jUoWvvWYlKrHrjaO3A2I5mnd61iacSRK94WqVxSkgy894ojWZng6QWNWxQx8938kkTf2AcKMRgcmP2iI6ZCaNXezPhHSkdL7NxsR0aagS1r7dmytvTS5Bdo5r2FusmozuISrR8oScuwJgfbtYTvPrT+tcj/KinRwBsvO5ORYcDLy0KzFkW89X4OXt7WFxi/rHDg2y9LZyY8Odn64DNpWi79r7V+bGL7Znu+me9EXh74+Fpo19HETbcVlLmWmFQfiYkGXnjJ2re8vSy0alnEx3NzqOEN+w7Ycey4NSN40+1uNuct/jabWjVLR42t/NWBXj1MeOj7cfIfxEfB0i8gOxN8A+G6W6D/n74HeXwfJMQYSIiBJ26zPfeT1Vp/vLrycXLl9Y7XE+BsfUY8mR7P+M1fsy0hggBndzr41WFcw054OrqQnJfF7qTz3Lx+Pin5+qiX/Eu6vFQ5Boulen6Vot7Xsyo6BLkKRdw2nX3nQyo6DLkKtQs5jzmuUUWHIVcZY81ThEfVrugw5CrUMDiGxBjN85fLz792NBsj9Xsol1ev0FM0+mFmRYchV6FTNzxb0SFUCt3GVK2ZodsWPVbRIVQ4rVAhIiIiIiIiIiIigJKFIiIiIiIiIiIiUqxSrVkoIiIiIiIiIiJXD0O1XPyuatPIQhEREREREREREQGULBQREREREREREZFimoYsIiIiIiIiIiLlw6J5yFWNRhaKiIiIiIiIiIgIoGShiIiIiIiIiIiIFFOyUERERERERERERACtWSgiIiIiIiIiIuXEoCULqxyNLBQRERERERERERFAyUIREREREREREREpZrBY9A1rERERERERERG5/LqPerOiQ/hPtvw4taJDqHDVds3C+nPerugQ5Cp09tEprDjbqqLDkKvQsPqHiIyqVdFhyFUmNDiWzZFhFR2GXIV6hJ5m3/mQig5DrkLtQs4zcd/tFR2GXGU+aLeQ0I+rVjJDqobI+5V0kqpJ05BFREREREREREQEqMYjC0VEREREREREpHzpa8hVj0YWioiIiIiIiIiICKBkoYiIiIiIiIiIiBRTslBEREREREREREQArVkoIiIiIiIiIiLlxaJFC6sajSwUERERERERERERQMlCERERERERERERKaZpyCIiIiIiIiIiUi4MmoVc5WhkoYiIiIiIiIiIiABKFoqIiIiIiIiIiEixSjUNedOmTbzxxhvs3buX2NhYli5dyogRI0qOZ2Vl8eSTT/LTTz+RnJxMvXr1eOSRR5gwYULFBV3FPNChI4PCGlK/hg95JhP7YmN4bctmItJSAQjy8GTz+HvKPPfBn1fw6+lwvJ2dmT3oOpr4+eHt7Exybi5rzp7hzW1byCoouJLNkUps3SITv3xRRI/r7bh+gvVSk5FiYeU8E+H7zeTlQECwgX4329Gqu13JeWu+NXF8t5mYsxbs7OGlH5wqqglSSXy1wImFX9r2g+A6Rcybnw3ALysdWL/OgdPhduTkGFiyLAN3d9s6oi4Y+fQTJ44dscNkMlCvfhF33JlPm7ZFV6oZUsn98r2BHz830n+EmZsfsM6VSYiBxZ8aCT8KpkJo0d7CLQ9a8Kpx8fmFBfDKo0YunDXw3AdFhDS4wg2QSuOHL+1Z8pWDzb7adcy89Xk+AAUFsPAjB7ZvsKOwEFp3MHPXIwV4F/erc2cMLPvOnpNHjWSmG/APtNB/qInBo3S9EluRy2I5810Uda4NpNG4EAqzTJxdHE3K4QzykvJx8HTAv4M3DcYEYe9a+th3cv450k9lkXUhF7cgZzq/2qICWyGVwcQ2nRhUrxENvH3IKzKxLy6aV3du4mx6akmZEE8vnu7Smw41g3C0s2PjhUhe2LqWpNwcAILdPXm4fVe61Q7B39WV+Oxsfjp9jPf37aDQbK6oponI/6hSJQuzs7Np3bo148ePZ9SoURcdnzJlCuvWrWPhwoWEhoby22+/MXHiRGrXrs3w4cMrIOKqp1NQHb46eIBD8fHYGQ1M69adL0eOZuBX88k1mYjNyqTTpx/ZnHNLi1bc274DG89FAmC2WFhz9jRvb99Kcm4Ood7ezOjdD+++/Zm06pcKaJVUNudPmtn+SxG16hls9n/3ZiG52XDX8w64eRrYv6GIr2aZmDTHQFCYdaBzkQla9zBStynsWq0HI7GqG1rEq2/klGzbleaXycs30KGjiQ4dTXz+mXOZ5z/3tAtBwWZeezMHJydYusSR555xZf5XWfj4aBGV6i7iJGz62UBwvdK+kJ8Hs58yElwfpr5mfcj5aYGR954z8NQcM8a/zM34YZ4BL1+4cPZKRi6VVXComadfyy/ZNv7pmvXVhw7s32nk0WcLcHWzMP99R2a/4MiMOdYXrmfDjXh5w4NPFOIbYOHUUSOfveOA0QiDRuh3UawyzmQRvTYB9xCXkn35qQXkpxUSdlsd3IKdyUss4MS8SPJTC2k1Oczm/Fq9/cg4nU3W+Zy/Vi3VUOfadfjq6H4OJsZhbzAyrVMPvhxyIwMWfUGuqRAXewe+uu5GjqckcOvKRQA81uEaPrt2JCOXfo0FaFDDB6PBwFObfyMyPY3GPn7M6jkQF3sHXtmxsWIbKBVPt9tVTqWahjx48GBeeuklRo4cWebxbdu2MW7cOHr37k1oaCj33XcfrVu3ZteuXVc40qrrrmU/suT4McJTkjmRlMS031cT5OlJi4BAwJoITMrJsfkzsEEYv4SfIqewEICM/Hy+PnyIwwnxxGRmsu3CBRYeOkiH2kEV2TSpJPJzLXzzhokbH3XA5S+juyKPW+g+3I6QxkZ8axnof4s9Lm4Qdbr012PQWHt6jrSnVqgBkT/Y2YGPj6Xkj5dXaZ8ZNbqAm24poEnTsh+i09MNREfbMebmAuo3MBMUbGb8vXnk5xmIjKhUP4NSAfJy4bPXjNwxyYyrR+n+00chKR7GP2YmuB4E14Px08ycC4cTB2zrOLwbju41MOZejZwQKzsjePuU/vH0su7PyYb1q+wYO6GQFm3N1G9k4f6pBZw6Zkf4MevvXp9rixj3YCHNWpsJrGWhR/8ieg0sYtdWu7/5O0p1Ysor4sj7Z2l6byj2bqVjP9zruNJqchj+7b1xDXTGp4UnDW4KJmlfGuai0t/NxnfWpc7AQFwCNHtDrMb9soQfTh0lPDWZ4ymJTN3wK8EenrT0tz4jdqhZm2APT6auX8XJlCROpiTx2IZfaeVfk25BIQBsvBDJtA2r2Bx1jguZ6aw5d4ZPD+3h2noNK7JpIvI/qlJPSd26dWP58uVER0djsVhYv349p06dYuDAgRUdWpXl4Wi9SUjPzyvzeIuAAJoHBLDo6OFL1hHg5sagsDB2RUeVS4xStfw410TTjkYatb348hLa1MCBTWZyMi2YzRb2byiisAAatKpSlyKpANHRRm4Z486429159RUXEuL/fTLZ09NCcJ0i1vzuQF4uFBXBzysd8fY207CRRulUd1+/b6BlJwvN2tnuLywEA2D/p9mkDg5gMED40dL+l54KX75j5J7HzTjquVuKxcUYeOAmZx4d68T7sxxISrD2mbOnjBSZDLRoV5pYDgqx4BdgJvz4pX8Lc3LA3eOSh6WaOfn5OfzaeuPT0usfy5pyirB3scNop5ew8u/98YyYlmd9RnS0s8MCFBSV3jflm4owWyx0rBn8N/U4knaJ50wRqdwq1TTkf/Lee+9x3333ERwcjL29PUajkU8//ZSePXte8pz8/Hzy8/Nt9jk56W4erA9Bz/bqzZ6YaE4lJ5dZZkzzFoQnJ7MvNvaiY3OuvY7+9Rvg4uDAmrNneHLNb+UcsVR2+zcUEX3GwqNzyr60jH3Kga9mFfLcmAKMduDoBHc+64Bfbd3AyqU1aVLE1MdzCQ42k5JiYOGXTjw2yY2P52Xh6vrP5xsM8OobOcx4zpURwzwwGMC7hoWXX83BQw/f1dquDQbOnzbwzHsXjwhs0AScnGHJPAMj77KOyFkyz4DZbCA9xbptscAXbxrpNcRCaCNIirui4UslFdbEzISpBdSqYyEt2cCShfbMmOzI65/mk55qwN7BgttfRt571YC0lLJ/C08dNbJjgx2Pv6R1oQXitiWTGZlDx5ea/WPZgoxCIpfGENTP/wpEJlcLA/Bctz7sjo3iVGoSAPvjY8kpLOTJLj15fddmDBh4onMP7I1GAlzdyqynrqc345q345UdG65c8FJpGTQNucqpUsN53nvvPXbs2MHy5cvZu3cvb731Fg8++CBr1qy55DmzZs3Cy8vL5s+sWbOuYNSV14t9+tHI15dHfv25zONOdvYMb9yERUePlHl85qYNDPt2Ifcu/4kQLy+e6dmrPMOVSi4t0cKyj03c+rg9Do5lP/Cs+tJEbjbc/4oDk951oOcoO76aVUhshKbuyaV17GyiZy8T9RuY6dCxiJdm5ZCVbWDTBod/PhlrQuf9d53x9jbz1js5vDs3m27XmHj+GVeSk5Worq5SEuDbDw3c84QZB8eLj3t4w4RnzBzcaeChEUYeHmkkJxtCwiwYirvN2mUG8nLhupt0Byyl2nQy06WXmbr1LbTuaOaJlwvIzjKwY+N/n0Z8IcLAm887MmqsiVYd9FtZ3eUl53NqwXmaP1gfO8e/f4wz5RRx8PVw3IJcqDe69hWKUK4GM7v3p7GPHw+vXVmyLyUvlwfXLKdfSAOOjX+Uw3c9jKejE4cT4zBbLv4NDHR1Z8F1o/nl7Em+O3HpGWoiUnlVmZGFubm5PPXUUyxdupQhQ4YA0KpVKw4cOMCbb75J//79yzxv+vTpTJkyxWafk5MTX340t9xjrsxe6N2XPvXqc/MP3xOXlVVmmcENG+Js78DSE8fKPP7HmoZnU1NJz89j0Y03897OnSTmZJdn6FJJRYWbyUqDdx4qLNlnNkPEkSK2riji8U8d2brCzNSPHKhZ13qDW7u+kYgjZrauLOKGh6vUuwupQO7uEBxsJibm3/WZA/vt2LXDnh9+ysSt+OV3w0Z57NvrxprfHLjpFo3WqY7OnYbMNAMzHyztR2azgfDDsG65gY9WmmneHmbNN5OZbl0309UdptxswL+WtfyJAwbOHIcJQ2374ksPGenc18Ld05REFHBzh1rBFuJiDLRsZ8ZUaCA7C5vRhemp4P2Xjy1FnTPw0uNO9LvOxKjbTFc4aqmMMs/mUJhhYvdTR0v2WcyQdiKTqN/i6fNVBwxGA6bcIg68ehI7FztaTgnDaK97LPl3ZlzTj7516zNm+ffEZds+I26OOkev7z6jhrMLRWYzGQX57B77ACsyT9qUC3B149thY9gbH8P0TZp5JlJVVZlkYWFhIYWFhRj/8vlBOzs7zH/zKXYnJydNO/6LF3r3ZWCDMG5dsoiojIxLlhvTvAVrz54hJTf3H+s0YB1m4Winxberq7A2Rh770Hak1/dvmwioY6DPjXYU5lsfggx/GchlMFpvdEX+rdxciIkx0q//v0vE5OdZO91fv15rNFgT2lI9NW0DMz62XbPyi7eM1KxjYfAYi83Xaz2KlwU7fgAy06BNF2vfu2WimZF3lpZLS4bZT9lx/1Nm6jUpz+ilKsnLhfhYAz18LNRvZMbO3sKR/UY697BegGIuGEhKMNKwaekF6UKkgZemOdFzoImbxitRKFY1WnjS+fXmNvuOfRSBW20X6g6vaU0U5hSx/9WTGO2NtJ4a9o8jEEX+MOOafgyqF8bNy78nKjP9kuVS86zPhl1r18HXxZU1kadLjgW6uvPtsDEcSYpn2oZV+gCuSBVWqZKFWVlZnD5derGJiIjgwIED+Pj4EBISQq9evZg2bRouLi7UrVuXjRs38uWXX/L2229XYNRVy4t9+jK8cRPuW7GcrIIC/IoX/MrMLyC/qPRmtK6XN52Cghm/bOlFdfQOrYefqyuH4uPILiikka8vT3bvyZ6YaKIzL518lKubs6vhoi8YOzqDm4eBWqFGikwW/Gob+OE9E8PuscfVw8CR7UWE77cw/oXSp/LUBAs5mRZSEyxYzBB9xvrw5FfbgJOLpoxWR5985ESXriYCAs0kJxv5ar4TdkYLvftaR7GmpBhITTEQE219IIo4a4erqwX/ADOentC0eRHu7hbeeM2F28bm4+QIv/7iQFyckU5d9BBeXTm7QlCo7T5HZ+tHJP7Yv2W1gVohFjy84MxxA999aKD/SAs161iP+wbYnu/kbP1//9rgoyXCqq2FH9vTrosZ/0ALqckGFn9pj9EI3foU4epm/drxwo8ccPcoxMXVwvy5DjRsVkTDZtbH6gsR1hGFrdoXMWS0ibQUa71GI3h6V1y7pOLZu9jhXsd2sV47Jzsc3O1xr+NqTRTOOok530zzx+pjyjVjyrXeRzl62mMwWu+jcuLyKMozU5BWiLnAQmZkDgBuwc4ahVhNzezen+vDmnDv6p/ILizA38XazzIKSp8Rb2zcgtOpySTn5dAusDbPd+vLvEN7OZueClgThd8Nv4nozAxe3r4RX2eXkvoTc3OufKOkcjErdVzVVKpk4Z49e+jTp0/J9h/Th8eNG8f8+fP57rvvmD59OrfddhspKSnUrVuXl19+mQkTJlRUyFXO7a3aAPDdDWNs9k/7bRVLjpdON76xeXPisjLZfC7yojryTCZuat6SZ3r2wtHOntjMTFafCefD3bvLM3Sp4uzsDdz9oj2/fFHE5y8Ukp9rTQDe/Jg9TTuVJgtXf2Viz5rS0RWzi6c1T3jNgbBWShZWR0mJRma97EJmhgEvLwvNWxTxzvvZeHtbbzp+XuHIwi9LR5BPnWyda/zYtFwGXluIl5f1YybzP3fmicdcKSoyULduES+8mEuDBhpaKJcWFwU/fmEkOxP8AmHILRYGjNLNrvy9lCQD773iSFYmeHpB4xZFzHw3vyTRN/aBQgwGB2a/6IipEFq1NzP+kdLlEHZutiMjzcCWtfZsWVt6q+4XaOa9hfmIXEpmZDYZp63LAW2fZLtOXLd3W+Hib/2tPP5JJGnHM0uO7Zp+9KIyUr2Mbd4GgO+H32yzf+r6X/nhlLV/1PeqweOdeuDl5ExUZjrv79vBvMN7S8r2CK5LPa8a1POqwc6xts/noR+/Wb4NEJHLzmCxlLEiaTVQf45GI8rld/bRKaw426qiw5Cr0LD6h4iMqlXRYchVJjQ4ls2RYRUdhlyFeoSeZt/5kIoOQ65C7ULOM3Hf7RUdhlxlPmi3UAktKReR90+t6BAqhV5DXq/oEP6TjT8/XtEhVLhKNbJQRERERERERESuItVyiFrVpkUpREREREREREREBFCyUERERERERERERIppGrKIiIiIiIiIiJQLg6YhVzkaWSgiIiIiIiIiIiKAkoUiIiIiIiIiIiJSTMlCERERERERERERAbRmoYiIiIiIiIiIlBeLFi2sajSyUERERERERERERAAlC0VERERERERERKSYpiGLiIiIiIiIiEi5MGgWcpWjkYUiIiIiIiIiIiICKFkoIiIiIiIiIiIixQwWiz5LIyIiIiIiIiIil1+fQa9VdAj/yfrVT1R0CBWu2q5Z2Ozp2RUdglyFjr08mWY/vVDRYchV6NiIF2i98tmKDkOuMgeHzqTdL89UdBhyFdp33UvqW1Iu9l33EnU/f72iw5CrzLnxj9P4RT0fyuV38rnJFR1C5aAhalWOpiGLiIiIiIiIiIgIoGShiIiIiIiIiIiIFKu205BFRERERERERKR8GfSpjCpHIwtFREREREREREQEULJQREREREREREREiilZKCIiIiIiIiIiIoDWLBQRERERERERkfJirugA5L/SyEIREREREREREREBlCwUERERERERERGRYpqGLCIiIiIiIiIi5cJgsVR0CPIfaWShiIiIiIiIiIiIAJVsZOGmTZt444032Lt3L7GxsSxdupQRI0aUHI+Pj+eJJ57gt99+Iy0tjZ49e/Lee+/RsGHDigu6irm3Z0f6Nw+jvr8PeYUmDpyP4a3VW4hMSgXAy8WJh/p1pVtYXWp5e5KancPaY2d4d802svILSuo59vLki+p+7Luf+fXwqSvWFqlcbgrtwM31OhLk6g3A6cwEPjyxkc0Jpy8q+3HX2+gR2JCHd37H2tgTJfuPjXjhorKP7f6BX6OPlFfYUgXcWLcjY+p2oraLNwBnshL4+NQGtiaGA/BZ1/F09K1nc87ic7t46fCKi+rycnBhcc8HCXTxovuql8k05ZV7/FI53RDSiRtDOlGruF+dzUrgk9Pr2Vbcrz7pfDcd/tKvfji/i1eOLC/ZbuYVxCONB9LUqzYW4GhaFO+cWE14ZtyVaoZUQupbUl5ub9KG25u0IdjdC4DwtCTmHNjGhqgIAJzs7HimUx+G1WuKo50dm6IjeGbb7yTl5QDQ1MefB1p1oWNAED7OLkRlZbDwxAG+OLa3wtoklcN913RkYJMw6vv5kGcysf9CDG+u3UJEcmqZ5T+9dQQ9w+ox8fvlrD15pmR/LU8PXhjSl86hdcgpKOSng8d4a+0WijSqTKTKqVTJwuzsbFq3bs348eMZNWqUzTGLxcKIESNwcHBg2bJleHp68vbbb9O/f3+OHTuGm5tbBUVdtXSoF8y3Ow5yJDoeO6OBSQOv4bM7RzFszgJyC034e7jj7+HOG6s2cyYhmdrenjx/fT/8Pd2Z/O1Km7qe+mE1W8IjS7Yz8vKvcGukMonPy2D2sTWcy0oGDIwIac37XW5h9PqPOJ2ZWFLujgZd+Lv7haf2/cSW+NIEY0ahkjnVXUJuBnNO/Mb57GQMGBgW3JY5HW/lpk0fciYrAYAfzu3mg1PrSs7JKyoss64XWo/kVGY8gS5eVyR2qbwS8tJ592RxvzLAsKC2zG5/G7ds+YCzxf3qx/O7+fDU2pJz8syl/crFzpH3O45jU8IJZh1dgZ3ByISGfZnbaRzXrXsDk0Wf/auu1LekvMRmZ/Lank1EZKRiAG5o2IJP+43iumXzCU9L5tlOfelbpwET1y8joyCfmV3783G/EYz++RsAWvrWJDk3m0mbfiYmO4MOAUHMumYQZouZBcf3V2zjpEJ1qhvM13sOcjjG+ow4pe81zLttFEM+tD4j/tm4zm3LvJc3Ggx8fMsIkrKzufnz7wnwcOO16wdRaDYze93WK9QSqbSUL65yKlWycPDgwQwePLjMY+Hh4ezYsYMjR47QvHlzAD788ENq1qzJt99+yz333HMlQ62y7l+w1Gb7qR9+Y+vTE2gWFMjeyGhOJyQz6U9JwQsp6cz5fSuv3XgtdkYDRebS/8oz8/JJysq5YrFL5bYhznZU6Zzj67i5Xkda+QSXJAubeNXkzrBujNnwCZsGTy2znszCPJLys8o9Xqk6NiactNl+/+QaxtTtSKsawSXJwryiQpL/od/cWLcjHg7OfHJqPT0CGpVbvFI1bPpLv5p7ag03hHSipXedkoROXlEhyQVl96tQdz+8HV358NRa4vPSAfjk9HoW9XiYWi7eXMhJKd8GSKWlviXlZe2FMzbbb+zdzO1N2tDOvzZx2Znc1KgVj25cwbbY8wBM3fwr60bfQ1v/WuxPjGVR+GGb8y9kptMuoDbX1m2kZGE1d883ts+ITy77jR1TJ9C8ViB7zkeX7G8S6M/4ru0Z/ek3bH3sfptzujeoS5i/D3ctXEJydg4n4hOZs2E7U/t15/0N2yk060WHSFVSZdYszM+3jlpzdnYu2Wc0GnFycmLLli0VFVaV5+HsCEB6zqVHb7k7O5GVX2CTKAR4Znhftj41ge8euIVR7ZuXa5xStRgxMDioBS52DhxMiQLA2c6BN9qP5qWDP/9tMvCZVtexdfDjfNfrXkaFtL1SIUsVYcTAtbVb4mLnyMHUCyX7rwtqzYaBT7Kk50M80mQAzkYHm/Pqu/tzf8M+PLN/CWa92pS/MGJgYC1rvzqUdr5k/+DarVnbfzqLejzMQ41t+9W5rCRSC7IZUac99gY7nIz2jAhuz9nMBGJy0yqgFVIZqW9JeTEaDAyr1wQXewf2JcbQ0q8mjnZ2bIk5V1LmTHoKUVnptAsIumQ9Hg5OpOVrFofY8nAqfkbMLe0bzvb2vDVqMC/+so6k7IsHjLQJrsWphCSS/3Rsy5lIPJydCAvwLf+gReSyqlQjC/9OkyZNCAkJYfr06Xz88ce4ubkxe/ZsoqKiiI2NveR5+fn5JYnGPzg5OZV3uFWCwQBPDuldMqKwLN6uzjzQuzOLd9u+iXx3zTZ2nrlAXmEh3cLq8uywvrg6OrBw+4ErELlUVg09A/i25z04Gu3JKSrgkV3fc6Z4VOGTLQaxP+UC6+JOXvL8d4+vY2diBHlFhXQLaMCzrYfgau/IwrM7r1QTpJIK8wjkq2vuLelbk/d+w9ksa9/6NfoQsblpJORl0sgzkElNBhLq5seUvd8C4GC049V2Y5h9fDVxeekEu9WoyKZIJRLmEcj8rvfhaLQnt6iAx/Z9Q0Rxv1oVc5DY3DQS8zNp6FGTRxpb+9XUfdZ+lVNUwH075vF2+9u4J6w3AOezk3lo1wKKNE202lPfkvLSuIYfS4fejpOdPdmFBdy/9ifC05Jp5hNAfpGJjALb556k3Bz8Xcperql9QG2G1m/CXb8tuRKhSxVhAJ4a1Ju956MJTyx9Rpw+qBf7L8Sw9tTZMs/zc3O7KIn4xyw0f3c3jpNY1mkiUklVmWShg4MDP/74I3fffTc+Pj7Y2dnRv39/Bg8ejOVvFkCbNWsWM2bMsNn3/PPPA1qv6tlhfWkY6Mvtnywq87ibkyMf3TGCM4nJzF27w+bYR+tLkzfHYxNxcXTgru4dlCys5iIzkxm1/iPc7Z0YFNSMV9qNYNyW+YS4+dDZvx6j13/8t+d/dHJTyV8fT4/Dxc6Ru8K6KVkoRGYlMWbTB7g7ODOgVnNmth7N3dvncTYrkSXn95SUO50ZT1JeJp92HU+waw2iclJ5tMkAIjIT+Tn6YAW2QCqjyKwkbtkyF3d7Z/rVas6LrUZzz87PiMhK5McLf+lX+Zl83Hk8wa4+ROWk4GS057lWIzmQep7pBxZhZzAwtl535nQcy9itH5JvNv3N31mudupbUl7Opqcw+Kf5eDg6cV1oY97qcR03/frtf66nkbcfn/YbxZz929gcE3n5A5Uq6/nr+tIwwJdbvyh9RuzbqD5dQusw8pOvKzAyqdL0kZsqp8okCwHat2/PgQMHSE9Pp6CgAH9/fzp37kyHDh0uec706dOZMmWKzT4nJycWvfhBeYdbqT09rA+9Gtfnjs8WEZ9x8ZRQV0cHPhk3kuz8Qh7+egWmf1hj4lBUHBP7dsHBzo7CoqLyClsquUJLEeezrWspHUuPpYV3EGPrdybPbKKOmw87hjxpU/6dTmPYm3yeO7fML7O+Q6lRTGzSCwejHYVm9avqzGQpKlmn63h6DM29gritXldmHl5+UdnDadap7yFuvkTlpNLRtz4NPQPpX+sFAAwGAwAbBj7JZ6c38eGfPowi1YtNv8qIoblXMLeGduPlI8suKns4zTrtvU5xQufa2q2p7VKDO7d9gqV4avtTBxazccDT9Apsym+xhy+qQ6oP9S0pL4VmM+cy0wA4khxPa/+a3NWsPSsjTuBkZ4+no5PN6EI/F1cSc7Nt6mjo7cs3g2/i21MHee/g9isZvlRyz17bh94N63P7gkXEZ5Y+I3YJrUOIjze7n5hoU/69G4ey53w0d3z5A0nZ2bQKCrQ57ufuCkBilm0fFJHKr0olC//g5WUdFRgeHs6ePXuYOXPmJcs6OTlp2vFfPD2sD/2bhXHnZ4uJTs246LibkyOf3jmSAlMRDy5cRoHpn5M0TWv5k56Tp0Sh2DAYDDjY2fP+iQ38ELnP5tjyfhN57fBq1v/NtOSmXjVJL8hVolAuYjQYcDDalXmssWctABLzMgF4bO+3ONuVrgfW3CuIF9uM4q5t84jShwLkT4z8c79Kyrf2K2c7B8wWS0kyB8BS/D9jcUJa5A/qW1JejBhwtLPjcFIcBUVFXFOrLr+es350rr6nD8HuXuxLKP1ARUNvX74dfDNLwo/wxt7NFRW2VELPXtuHAU3CGPvlYqLSbJ8RP9m6m8X7j9jsW/nAHcz6bSPri6clH4iKZUL3Tvi4upCSkwtAt/p1yczL53Si7rdEqppKlSzMysri9OnTJdsREREcOHAAHx8fQkJCWLx4Mf7+/oSEhHD48GEeffRRRowYwcCBAysw6qrl2eF9GdKqMQ8tXE52fkHJ257MvHzyTUW4OTny2Z2jcHa054nFq3B3csS9eIHblOxczBYLvZvUx9fdlYPnYykwmegaVpd7e3Vi/pa9Fdk0qWCTm/VjU/xpYnPTcbN3ZGhwSzr5hXLvtq9Iys8q86MmsbnpROekAdC7ZiN8ndw5mBJFgdlEV//63NuoB/NPb7vCLZHK5pEmA/6vvfuOq6r+4zj+YoPKVEAQcYtbc29xr0rTMs1MW2qh5chyVJpZpmVqQzP7pWZajlyZMwfuvTUHLlSGyAZl8/sDvHYDVwkX8P18PHg8PN/zPed+jn689/C53+/3sOP6WUJuRVPI0oZOJWpQt2hp3tj7E16FnOlUoibbr58lOukmFRyKM6JKRw6EX+RcbCgAV29GGp3PyTrjfe9iXBixKVrU/XE1yKctu66fIzghisKWNnTwrEGdoqXx2z8Pr0IudPCswc7rZ4lKvkkF++IMr9yJg3/Lq703AhhSqT0jqz7Fokt7MDMz4+VyzUlNT+NAePbrOcnjQbklOeXdOs3ZevUCQfExFLaypkvZKjT08KbP+sXEJiex6Owx3m/QkqjEBGKTExnfsA0HQ69xOCxjffeKTsX4pePzbLt2iR9OHjCsZZiankZEwi1TXpqY2NiOrXiyug9vLsr8HbFw5u+IiRm/I96Iv5ntQ02ComMNhcUd5y8TEBbB5Gc68Pmf23EtUpghLRuz4MBRDSgRzDQLOd/JU8XCAwcO0LJlS8P27enDffv2Ze7cuQQHBzNs2DBCQ0Px8PDgpZde4oMPPjBVuPlSrwY1Afjp9R5G7aOXrmfF4VNU8XSjpnfGN9zrh79i1KfN5/8jKCqGlNRUXmhQk5GdWmAGBEZEMXmNP0sOaFrM48zFpjCf1XkGV5sixKYkcjY6lNd3zWd32IP9YpOSlsYLZeoxslp7zMzMCIyPYPKJ9Sz5x4hEefy4WBdmQq3uuNrYE5eSwNmYUN7Y+xN7bpzH3daBBsXK0rtMI+wsrAhJiOHPkJPMPudv6rAlj3OxLsL4mt0plplX52JD8ds/j703zuNu60iDouV4oXRj7CysCE2IZnPISX44v9Vw/KX4Gww5+DP9y7dibuP+pKWncyYmmEH7593zie9S8Cm3JKcUsyvEl80741aoMLFJiZyODKPP+sWGJyB/vG8z6aTzXesuWJtbsO3aJd7fvdFwfKcyPhSzK0y38lXpVr6qof1KbDRNl9x7XWkp2F6ol/E74s99jX9HHLlyPcuPnnqgc6SlpzPw1xWM69SaRa/05FZSMsuPneKrLfriXyQ/Mku/19NBCrAqY6aaOgQpgE59MpQqK8aZOgwpgE51HUfN1fpyRB6to09+TO0175s6DCmADnWaoNySHHGo0wRK/TjZ1GFIAXP5lXfxGa/fD+XRO/PhUFOHkCe0afGpqUN4KH/6j37gvtu2bePzzz/n4MGDBAcHs3z5crp27WrYn56eztixY5k9ezZRUVE0adKEmTNnUqFCBUOfiIgIBg8ezO+//465uTndu3dn+vTpFClS5FFe1kMxN9kri4iIiIiIiIiI5FPx8fHUrFmTb7/9Ntv9kydP5quvvuK7775j7969FC5cmPbt25OQcGc5pN69e3Py5Ek2btzI6tWr2bZtG/3798+tS8hWnpqGLCIiIiIiIiIiBUgBntDasWNHOnbsmO2+9PR0pk2bxvvvv0+XLl0A+Omnn3B3d2fFihX07NmTv/76i3Xr1rF//37q1q0LwNdff02nTp344osv8PT0zLVr+TuNLBQREREREREREQESExOJiYkx+klMTHzo81y8eJGQkBDatGljaHN0dKRBgwbs3r0bgN27d+Pk5GQoFAK0adMGc3Nz9u7d+98v5l9SsVBERERERERERASYOHEijo6ORj8TJ0586POEhIQA4O7ubtTu7u5u2BcSEoKbm5vRfktLS1xcXAx9TEHTkEVEREREREREJEeYpZk6goczatQohg0bZtRmY2NjomhMQ8VCERERERERERERMgqDj6I4WLx4cQBCQ0Px8PAwtIeGhlKrVi1Dn+vXrxsdl5KSQkREhOF4U9A0ZBERERERERERkUeoTJkyFC9enE2bNhnaYmJi2Lt3L40aNQKgUaNGREVFcfDgQUOfzZs3k5aWRoMGDXI95ts0slBEREREREREROQhxcXFERAQYNi+ePEiR44cwcXFBW9vb4YMGcKECROoUKECZcqU4YMPPsDT05OuXbsCULlyZTp06MDrr7/Od999R3JyMoMGDaJnz54mexIyqFgoIiIiIiIiIiI5JT3d1BHkmAMHDtCyZUvD9u21Dvv27cvcuXN59913iY+Pp3///kRFRdG0aVPWrVuHra2t4ZgFCxYwaNAgWrdujbm5Od27d+err77K9Wv5OxULRUREREREREREHpKvry/p9yiGmpmZMX78eMaPH3/XPi4uLixcuDAnwvvXtGahiIiIiIiIiIiIABpZKCIiIiIiIiIiOaXgzkIusMzS7zVeUkRERERERERE5F9q23iCqUN4KBt3vW/qEEzusR1ZWO/lL00dghRA++cMw+fjqaYOQwqgMx8MpcJnyi15tM6NHEr5ScorefQC3htK2am615JH78LQYVR7V+9b8midmDyU2gOUV/LoHZo11NQhiPwrWrNQREREREREREREgMd4ZKGIiIiIiIiIiOQsM61+l+9oZKGIiIiIiIiIiIgAKhaKiIiIiIiIiIhIJk1DFhERERERERGRnKFpyPmORhaKiIiIiIiIiIgIoGKhiIiIiIiIiIiIZNI0ZBERERERERERyRlppg5AHpZGFoqIiIiIiIiIiAigYqGIiIiIiIiIiIhkUrFQREREREREREREAK1ZKCIiIiIiIiIiOcQsPd3UIchDylPFwokTJ7Js2TJOnz6NnZ0djRs3ZtKkSfj4+Bj6JCQkMHz4cH799VcSExNp3749M2bMwN3d3YSR5y9PVCxBn451qVTKHVfnIrzz1Ur8D5836lPaw4XBzzWjto8XFhbmXAwK591vfic0IhaAog6FeOv55jSoWopCttZcDongx9/3seXgOVNckuQB/ZvUo12l8pQt6kJCSgqHrwbxxaYdXAyPzLb/7F5daV6+DG8uXsWmMxn55+NejP6N61GnZAmcC9lxLTqaXw8e56d9h3PzUiSPGdCwHu18ylPWxYXElBQOXQvi8607uBhxJ7d+fuFZGniXNDrul8PH+HD9JgCcbG2Z8nRHfFyL4WxnS/jNW/x57jxf+u8kLikpV69H8oaBDevRrqJxXk32N86rBb2y5tXCw8f4cENGXnWrVoXJndtne/76X39HxM1bOXcBkme9Ua8e7ctXoKxLxufhoaAgJu3YzsVI48/DJzw8GN64CbU8PEhNS+OvsDD6LltGYmoKAFXd3HivaTNquLuTmp7OuoBzfOLvz83kZFNcluQBr7WsR5tq5Snj5kJCcgpHLgUxde0OLoXdya1nG1Sncy0fKpdwo4itDY0+nEFsQqLReb7u9zSVPFxxKVKImFuJ7DkXyJdrtxMWE5/blyR5RO0KJXipXV0qe7vh6lSEYTNWsfXond8P7WyseOuZpvjWKodjYTuCbkTzy5Yj/LbtmKFPt2bV6VDPh0rebhSxs6H5kBnE3UrM7uVEJB/IU8VCf39//Pz8qFevHikpKYwePZp27dpx6tQpChcuDMDQoUP5448/WLJkCY6OjgwaNIhu3bqxc+dOE0eff9jZWHH2Shirtp/k88FPZ9lfwtWR2aOfZ9W2E8xasYv4W0mUK1GUpOQUQ59xr3fAvpAtw6avJDruFu0bVmLim5156aMFnA0My83LkTyivrcXC/Yf5XhwKBbmZgxr2YT/vdCNzt/N49bfcgegb4MnyO7LpWrF3YmIv8WIFWsJjomjdkkPxnduQ2paGgsOHM2lK5G8pr63FwsOHeVYcCiW5mYMb96EOc93o+MPxrn165HjTN++y7Cd8Ld9aenpbDp3nqnbdhFx8yalnJ0Y264VTra2DPt9ba5ej+QN9Ut68fOhoxwPCcXCzIzhLZowt0c3Ovwva15N25F9Xv1x+gzbLl4yOu/kTu2xsbRQofAxVt+rJPOPHuFYaEZujWjSlJ+6dafdvLncSsnInyc8PJj7TDdm7t/HR1u3kJKWRmVXV9LJ+HB0K1yY+d2f5Y8zZxi7ZTP21ta87+vL5+3b47d6tSkvT0yoblkvftl1lBNXMz4P3+7QhO9f60aXL+68b9laWbLjzGV2nLnM0E5Nsz3PvvNXmL15H2Ex8bg7FuGdzs2Z+uKTvDhjUW5ejuQhttZWnL0axsqdJ5jyRtbfD4c/14J6PiV5/8d1BIXH0KhKKUb2akVYVBzbjl3IPIclu05eZtfJy7zVLfvcE5H8I08VC9etW2e0PXfuXNzc3Dh48CDNmzcnOjqa//3vfyxcuJBWrVoBMGfOHCpXrsyePXto2LChKcLOd3Ydv8Su45fuuv/N7k3YdewiXy/Zbmi7FhZt1KdGeU8++2kTpy6GAPDj73vp1a42lUu7q1j4mHrtl+VG2yNXbWDP8IFU9XDnQOA1Q3sld1deaViH7j8sZOewAUbH/Hb0pNH21ahoapXwoF2l8ioWPsZeXWycW+/9sYG9bw+kWnF39l+5k1sJycnciL+Z7TliEhNZePjOt99BMbEsPHSU1xrUzZmgJc97ZUnWvNr31kCqubuz/+qdvLqVcve8SkxJJTHlzj4XOzsalirJ6LUbcyZoyRdeXr7MaHvEhvUcGPhGRm5dy8it91v4MvfwYb7bv9/Q7+8jD1uVLUtKaiofbt7E7e/WPvhzE2tfeolSjk5cjo7K6cuQPGjg/4zft8Ys3sD2sQOp4uXOwYsZufXzjozZGPXKet31PPO335mxERwVyw9b9/PVS09jaW5OSlpaDkQued2uk5fYdfLSXffXKOvB77tPcfDsVQCWbT9O92bVqVamuKFYuHBTRl7VqXj33JPHmKYh5zt5+gEn0dEZBSoXFxcADh48SHJyMm3atDH0qVSpEt7e3uzevdskMRY0ZmbQpEZZAkMi+Wp4N9ZPH8ic93vR4olyRv2OBQTRtr4PDoVtMTODtvV9sLGy5ODpqyaKXPIaextrAKJvJRjabC0tmfJMR8av3XzXX76znMfWhqgETWGQO4pk5lbU33IL4Omqldj71kD+eLUPw1s0wdby7t+HuRUpTDuf8uwL1HuWZLj9nhWVYJxXXapUYt/ggax5pQ/vNL93Xj1TrTIJycmsPXM2R2OV/MXe2gaA6MzcKmpnxxMeHoTfusmS53uyr/8AfnmuB3U9PQ3HWFtYkJSWxt9/tUrIHJVYt4QnIgBFbDPvtW4m3Kfn3TnY2fDkE5U4cjlIhUK5q2MXgmlRsyyuThmz/epW9MLb3Zk9py6bODIRySl5amTh36WlpTFkyBCaNGlCtWrVAAgJCcHa2honJyejvu7u7oSEhGR7nsTERBITjQsNNjY2ORJzQeBiX4jCdtb07Vyfmct28s3i7TSqXprJg57mjclLOHQm4xfrUTP+4NM3O7PpmzdJSUklISmFEV+v4ur1KNNegOQJZsDodr4cDLzGubBwQ/uodi04fDWITWcvPNB5nvDyoGOVigz4dUXOBCr5jhnwfhtfDly5xrkbd3Lr95NnuBYTw/W4OCq5ujLCtyllXZzxW248XW/q0x1pXaEcdlZWbDp3XiPABMjIqzGtfTlw1TivVp06Q1BMDKGxcVRyc+Vd36aUcXHGb0X200Cfq1GN30+dITElNZcil7zODPjA15cD165xNjwjt0o6OgHwdsNGTNy2jVNh1+lWpQrzuz9Lx/k/cSkqit1XrjCmeQter1OXuYcPYWdlxbvNMqb1uWUuzSOPNzMzGPm0L4cuXiMgNPz+B/zD0I5N6dWkFoWsrThyOQi/OStzIEopKCb9uoX3X2zD+kn9SU5NJT0tnY9//pND567d/2ARyZfybLHQz8+PEydOsGPHjv90nokTJ/LRRx8ZtY0dOxZw+E/nLajMzM0A8D98nl82HALg7JUwapT3pJtvDUOxcGC3xtjb2fDm5CVExd2iRe3yTHyzM69PXMz5qzdMFr/kDWM7tqKCW1FemLvY0NaqYlkali7JM7MXPNA5KrgWZUaPp/l22x52XgjMqVAlnxnXrhUVXIvS6+fFRu2Ljh43/PlsWDjX4+OZ3+tZvJ0cCYy6s4zCJ5v8+XrHHkq7OPNOi6aMbt2CcRs251r8kjeNa9eKiq5F6bngHnl1I5zrcfH8nE1eATzh6UH5YkUZvtp4SRV5vI1v1ZqKRYvSY/GdteAyb7X45fgxlp7KWH7jlL8/jUt681zVany+cwfnwsMZsX49Y1q0YETTpqSmpTHvyBHC4uNJ00wuAd7v2ory7kV5aebi+3fOxhz/AyzbfwJPZwfeaNOQic+3500VDOUuerasRfUyxRny7UqCw2OoXaFE5pqF8ew7rft0kYIoTxYLBw0axOrVq9m2bRteXnfWPChevDhJSUlERUUZjS4MDQ2lePHi2Z5r1KhRDBs2zKjNxsaGPwZ+myOx53dRsbdISUnlYpDxN5QXgyOoVSFj2ksJV0eeb/MEz4+Zx4XMfueu3OCJCiV4rlVNPvtpU67HLXnHBx1a4luhLC/+tJjQ2DhDe8PSJfF2cWL/u28a9f/62Sc5EHiNl+YvNbSVK+bC3Be7s+jwcWbu2JdrsUve9mHblrQsX5YXFiwm5G+5lZ2jQcEAeDs7GRV1bsTf5Eb8TS5ERBKdkMCvLz7Ptzv3EhavJ0A+rsa2aUmrcmXptfAB8io4I69K/SOvAHrUrMap0OucDL2eY7FK/jKuZStali1Lz8WLCIm7k1vXM99vzoVHGPUPiIjA097esL3qzGlWnTlNsUKFuJmcTHp6Oq/Wrk2g1it87I3u0pIWlcvSd+ZiQqPv/b51N1E3E4i6mcDlG1FcuB7BpjGvU9Pbg6OBwY84WsnvbKwsGNS1CcNn/s6OExcBOHftBhVLuvJSuzoqFsqD0ZqF+U6eKhamp6czePBgli9fztatWylTpozR/jp16mBlZcWmTZvo3r07AGfOnCEwMJBGjRple04bGxtNO34IKalpnLoUSqnizkbt3u7OBIfHAmBrYwVkPF3071LT0zE3M8udQCVP+qBDS9r6lKfP/CVcjYox2vf9zv0sOXzCqG31wJeYuMGfLefuTEsu71qUeS92Z8Wxv5i2ZRcikFEobFuxPC8uXMLV6Jj79q/s5gZAWNzdi4C336+sLS0eTZCS74xtk5FXvX95uLy6/o+8KmRlRUefikzZ9t9mQ0jBMa5lK9qVL88LSxZzNcY4t67GxBASF0dZZ+N7rTLOzvhfupjlXDduZqzx+1zVqiSmprIjUL+YP85Gd2lJ62rleXnWEq5F3v9960GY6fNQ7sHSwgIrS4ssv/ulpaUbckdECp48VSz08/Nj4cKFrFy5Ent7e8M6hI6OjtjZ2eHo6Mirr77KsGHDcHFxwcHBgcGDB9OoUSM9Cfkh2NlYUdLNybDt6epIxZKuRMcnEBoRy/y1B/j0jc4cPnONA6ev0Kh6aZrVKsvASRnTHC4FRxAYGsmovm2Yvmgb0XG38K1dngZVSjF0+grTXJSY3NiOrXiymg9vLlpFfGISxQoXAiA2MZHElFTDiK5/CoqJNRQWK7gWZV6fZ9lx/jJz9hw0nCM1PZ3Im7dy72IkTxnXrhVPVfHhjd9WEZ+UNbe8nRx5qkoltp6/SFRCAj6uxRjTugX7Aq9yJixjWYQWZUtTrHAhjgWHcjM5mQrFivJey2YcuHKNaw9QJJKC56O2GXk1cNkD5NWtBCq5FWNMK+O8uq1z5YpYmpuz4uRpU1yK5DHjW7XiaZ9K9F+1irikJIoVup1bSSSmZjykZPaB/Qxp1JjTN8I4dT2MblWqUM7FBb/VvxvO06dmLQ4FB3EzKYmmpUoxsllzJu/YQWyiHvr1uHq/ays6PeHDW/NWEZ+QRNEiGbkVl5BoWCu1aJFCFLMvjHcxJwAqFC9GfGISwVExxNxKpHrJ4lQr6c6hi0HE3EqgZFEnBrdvTOCNKI5c1qjCx5WdjRUlXZ0M2yWKOVDRy5WY+ARCImM5cOYKQ7o3IzE5heDwGOpU9KJzwyp8ucTfcExRh0IUdShsOE+FEsWIT0giJCKGmJt63xLJb/JUsXDmzJkA+Pr6GrXPmTOHfv36ATB16lTMzc3p3r07iYmJtG/fnhkzZuRypPlb5dLuzBrZw7A9rJcvAKt3nOSj/61n66EAJv70J/0612d475YEhkTw3re/c/RcEACpqWkMmbqcQc8248u3u1DI1poroVGM+2Edu45l/UZcHg8v1K0JwM99exi1j1y5nuXHTj3QOdpXrkDRwoXoUqMyXWpUNrRfjYqm9dc/PrpgJV/pXTsjtxb0Ns6t9/5Yz7Ljp0hKTaVxaW/61nuCQlZWBMfEsv5MADN27TX0TUhJoUfN6oxu3QJrC0uCY2PZcCaAWXv25+q1SN5xO68WvmCcV+/+sZ5lJ06RnJpKk1Le9Kt7J6/WnTXOq9ueq1GN9WfPqYgjALxYsxYAv/Ywzq0R69fx26mMz8M5hw9jY2nJmBa+ONna8ldYGC/9tpTA6DvT22sWL86QRo0oZGXFhchIxmz6kxV//ZVr1yF5T8/GGe9bcwca59aYRetZeTAjt55vVIM3296ZcfXTmz2M+iQkJ9OmWnn82jbCztqKsNh4dp65xKxNe0lO1cOZHldVSrkze/hzhu3hPXwBWLXrJOPmbWDUD2sY/ExTPnmlIw6FbQmOiOHblTtZuu2Y4Zhnm9dgwFN3cu9/IzJyb+zc9fy++8F+F5ACTA9bz3fM0tMfz8nj9V7+0tQhSAG0f84wfD6eauowpAA688FQKnym3JJH69zIoZSfpLySRy/gvaGUnap7LXn0LgwdRrV39b4lj9aJyUOpPUB5JY/eoVlDTR1CntD+ibGmDuGhrD/80f07FXDmpg5ARERERERERERE8gYVC0VERERERERERATIY2sWioiIiIiIiIhIwWH2eK5+l69pZKGIiIiIiIiIiIgAKhaKiIiIiIiIiIhIJk1DFhERERERERGRnKFpyPmORhaKiIiIiIiIiIgIoGKhiIiIiIiIiIiIZNI0ZBERERERERERyRmahpzvaGShiIiIiIiIiIiIACoWioiIiIiIiIiISCYVC0VERERERERERAQAs/R0TR4XEREREREREZFHr0P1MaYO4aGsO/6JqUMwucf2ASctnvrc1CFIAeT/+wjqvvalqcOQAujAD8N44s2ppg5DCpjDM4ZS8y3llTx6R78aSs23lVvy6B2dPpR6r+heSx6t/T8Oo2HvKaYOQwqgPQuGmzoEkX9F05BFREREREREREQEeIxHFoqIiIiIiIiISA5LM3UA8rA0slBEREREREREREQAFQtFREREREREREQkk4qFIiIiIiIiIiIiAmjNQhERERERERERySFm6emmDkEekkYWioiIiIiIiIiICKBioYiIiIiIiIiIiGTSNGQREREREREREckZmoac72hkoYiIiIiIiIiIiAAqFoqIiIiIiIiIiEimPDUNeeLEiSxbtozTp09jZ2dH48aNmTRpEj4+PoY+33//PQsXLuTQoUPExsYSGRmJk5OT6YLOh2pU9aJXt3pULFecYkWLMOaT5ezYEwCAhYU5r73YlIZ1y+JR3JH4+CQOHr3MrHn+hEfEG87h5enMGy+3oFqVElhZWnD+Uhg//ryDw8evmOqyJA94okIJ+nSoS+VS7rg6FWH4NyvxP3LesP/AD8OyPW76km3MX38AgFWfvYpnMUej/V//tp15a/fnXOCSp9UuX4KX2talSkk3XJ2KMHTWKrYevZNXdjZWvNWlKS1rlsOxsB1B4dH8svUIS7cfMzpPjTIe+D3dmOqlPUhNS+Ps1TDe/GYZicmpuX1JkkfULleCfq3rUrmkG26ORRgyexVbjt/JLRf7Qgx5uimNKpXC3s6GQ+ev8dnSLQSGRRn6/DD4WepVKGl03iU7jjFh8abcugzJg2qXK0G/Vn/LrR+yya2n/pFbvxnnVlH7Qgzr0pyGPt4UtrHm0vUIZm/cx6ajASa4IskLnqiYcZ9VqXTGfdY7X6/E//CdvNr/413usxZv4+d1GfdZDoVtGfFCS5rWKkt6ejqbDwYwZeEWbiUm58o1SN5Uq1IJXuxcD58y7rg6F+HdL1ey7eCd95oPBrSnc/NqRsfsPnqRoZOXGbU1rlWGV59pRDnvYiQlp3L4r6u8N3VlrlyDiDxaeapY6O/vj5+fH/Xq1SMlJYXRo0fTrl07Tp06ReHChQG4efMmHTp0oEOHDowaNcrEEedPdrZWBFwMY83GE0wY09Von62NJRXLufPTot0EXLyOfRFbBr/eik/f78aAYfMN/T77sBtXgyIZOmYxiYnJPNelLhM/7MYLr/9ARFQ88niys7Hi3JUwVu04yRd+T2fZ337Yd0bbjauX4YO+7dh88JxR+8wVO1mx7bhhOz4hKWcClnzBztqKs1fDWLnrBF8OyJpXw7u3oF7FkoyZu46g8BgaVS7FqJ6tCIuKw//4BSCjUPjNoGeYs34/kxZvJTU1jYperqRp+ZTHmp21FWeuhbFizwmmvpY1t6a99hQpqWkMmb2KuIQkXmpZm1l+3en26TxuJaUY+i3deZwZa3YZthOSU7KcSx4vhtzae4Kpr2aTW69m5tYPmbnlW5tZb3an28Q7ufXJix2wt7Ph7dkriYxPoFMdHz7v15kXvljI6WthuX1JkgfY2VhxNvM+6/NBWfOqw5B/3GfVKMP7/dqx5W/3WR/370gxx8IMmvIblhbmfPhKe0b3bcsH36/J8fgl77KzseJcYBi/+59g0tAu2fbZffQiH89aZ9hO/seXrS3rVWDka235bvEODpy8goWFGeW8iuVo3JKP6KY738lTxcJ169YZbc+dOxc3NzcOHjxI8+bNARgyZAgAW7duzeXoCo69By+y9+DFbPfF30xi+IdLjNqmz9rErC/74OZqz/WwWBwd7ChZwoXJX63jwqWMm9VZ8/x5pvMTlClVTMXCx9iuE5fYdeLSXfeHx9w02m5RqxwHzlzh2o1oo/abCUlZ+srja+epS+w8demu+2uW9WD13lMcPHcVgGU7j9O9WXWqli5uKBYOf7YFv245zJwNd0aoXr4emaNxS963869L7PzrUrb7Srk6UbOMJ90+/YnzIeEATFi8ic0TBtChTiWW7z5h6JuQnEx4rN6z5I4Hyq2Jf8utJZvY/PEAOtSuxPI9GblVs4wHnyzezInAUABmb9jHi761qVzSXcXCx9Su45fYdfzSXff/896pea1yHDx9hWthGfdZpT1caFy9DC+NX8BflzLy6osFW5g25BmmL/bnhu7hH1u7j15i99FL9+yTlJxKRHT2n3UW5mYMfakl3yzcxu/+dz4fL12LeJRhikguytNrFkZHZ3ywubi4mDiSx1vhQjakpaUTF5cIQHTMLS5fDad9q6rY2lhhYW7G0x1qEREZz5mAEBNHK/mFi0MhmlYvw8rtJ7Ls69uxPn9Oe4MFH75In/Z1sTA3M0GEkl8cvRBMixplcXXMGIFet6IXpdyc2fPXZQCci9hRo4wHEXG3mPvO8/z5WX9+GPoctcp5mjJsyeOsLC0ASEy5M0owPR2SUlJ5oqxx7nSqW4mtnw7kt5F9eOupJtha5anvYiWPMeRW8r1z6+jFYNrXrohDIRvMzKDDExWxsbTkQICWfJH7c3EoRNMaxvdZ1ct5EBOfYCgUAuw7dZm09HSqlfUwRZiSj9Su7MWaGW+w6POXeffl1jgUsTXs8yntjpuLPWnp6cz7pA+rvxnA1He7UdarqAkjFpH/Is/ezaalpTFkyBCaNGlCtWrV7n/AXSQmJpKYmGjUZmNj81/De2xYW1kwoF9zNm37i5u37kwFHf7+YiaMeYa1i98mLT2dqKibvDtuKXHxifc4m8gdTzauQnxiMlsOGU9BXrTpMKcDrxMdn0DNcp74dWtKMcfCTF3sb6JIJa+btHgLH7zQhg0T+5Ocmkp6WjofL/yTQwHXAPDKXANzQKeGTF22jTNXw3iyQRVmvdWd5ybMN1ojTOS2S6GRBEXE8NZTTfn41z+5lZRMn5a1Ke5sj6tDYUO/tQfPEBwRw/XoOCqWcGXI000p7ebMsP+tNmH0kpcZ5daizNzyzZpbI+b+weS+ndg+8U2SU1NJSEph6P9WceUfo/FFstO5cRXiE5KNpiAXdSxM5D9GQaempRMTn0BRh0K5HaLkI7uPXmLr/gCCwqIp4ebEG883Zeq73Xh97C+kpafj6ZZxr/Va98Z89fNWgsKieaFzXWa8/zw9hv9ITHyCia9ATC5d05DzmzxbLPTz8+PEiRPs2LHjP51n4sSJfPTRR0ZtY8eOBQpnf4AYWFiYM+69pzEzM+PLGRuN9g0Z2Iao6JsMHvkLiUnJPNmuBp9+kLGuYUSkpjDI/T3dpBrr9vxFUorxeicLNh4y/Dng6g2SU1IZ3acN3yzbQXKKHkQhWfX0rUX1MsV5e+ZKgiNiqF2+BCOfb0VYVDx7zwRinjky9bcdx1m15xQAZ676U79SSbo0rsrXK3eaMnzJo1LS0hj2v98Z16stOya9SUpqGnvPBrL95EXM/jbY+bddd9ZXDQgO50Z0PLMHP4tXMUeuqqgj2TDKrc/+llunLvL3cfR+nRphb2fD698uJSruFi1rlGdyv868/NViAoLDTRa/5A9PN8v+Pkvk3/hzzxnDn89fuUFAYBjLpr1G7SolOXDyzr3W3BV72LI/o0A9YdZ6Vn3dn1YNKrJi87FszysieVeeLBYOGjSI1atXs23bNry8vP7TuUaNGsWwYcZPBrOxsWHLs1/9p/MWdBYW5nz03tO4uzkwdMwio1GFtWt406heOZ7s9bWhferMP6lbqzQdWldl4dJ9pgpb8olaFUpQ2sOFUbPuP/LmxMUQLC0t8CzqwOVQrTEnxmysLBj8dBOGff87O05krMV67toNfLxc6dOmDnvPBBIWnfEFxoUQ41+uL4ZEUNzZPtdjlvzjryvXeX7yAorYWmNlaUFk3C1+HtaTk1dC73rM8cvBAHgXc1KxUO7qr6vXef7zzNyysCAy/hY/D72TW15FHenV/AmjdQ3PBt2gdtkS9GxWS0/blnu6fZ81+jvj+6zw6Hic7Y1HEFqYm+FQ2FZrRctDCQqLJjLmJl7uThw4GWhY7/LvaxQmp6QSdD2a4kV1ryWSH+WpNQvT09MZNGgQy5cvZ/PmzZQpU+Y/n9PGxgYHBwejH01DvrfbhcISnk4Me38xMbHGw8ZtbayAjH+vv0tLS8fcTGvLyf11aVqNU5dCOHf1xn37VizpSmpaGhF6eIBkw9LCAitLC9L/8YS11LR0w7fcQeExXI+Ko7Sbs1GfUm7OBEfE5lqskn/FJSQRGXcLb1cnqni7s/X4+bv29SnhBkBYjEbZy/3FJSQRGZ81t2ytM77PT8tyr5WGme615D66NMu8z7pifJ91/HwwDoVtqVTKzdBWt7I35mZmnLgQnNthSj7m6lIExyJ2hGcWCU9fDCUxKQVvjzv3WhYW5ni4OhB8I8ZUYUpekp6ev34kb40s9PPzY+HChaxcuRJ7e3tCQjIeluHo6IidnR0AISEhhISEEBAQAMDx48ext7fH29tbD0J5QHa2VpT42xu5h7sj5cu4ERN3i/CIeMaPfJqK5dwZOX4ZFubmuDhlTNmOibtFSkoaJ88EERufwKihnZj3yy4Sk1J4sn0NPNwd2b3/gqkuS/IAOxsrSro5GbZLuDpSsaQr0fEJhGYWZQrbWtOmbkWmZbMGYfWyHlQrW5wDp69wMyGZ6uU8GPa8L2v3/EXsTa2H+biys7GipKuTYbtEUQcqerkSE59ASGQsB85eYUi3ZiQkpxAcEUOdCl482aAKX/52J8fmbTzAwCcbcfbaDc5cvc5TDapQ2t2FEbO1rtzjzM7aCu9/5JZPCVeib2bkVttaFYiMu0VwZCwVPIvybjdfthw7z+7TgUDGepid6lRi+6mLRMcnUMGzGCO6teBAwFXOBd3/yxApuB4qtzwyc+v4eXafycitS6GRXA6L5IMerfly5Tai4hNoVaMcDX1KMXj2CtNclJjcP++zPItlf5/Vul5Fpi3Kep91KTiCXccvMqZfWyb+tAlLC3NG9G7Fhn1n9CTkx5ydjRVexZ0M256uDlQo5UpMXAIxcQm82q0RW/afIyIqnhLuTgzq1ZyroZHsOXYJgJu3kli+6SivP9uY0IhYQm7E8GLnegBs3nvWBFckIv9VnioWzpw5EwBfX1+j9jlz5tCvXz8AvvvuO6M1CJs3b56lj9ybT/niTJ/Y07A96LVWAKzddIK5C3fStGEFAH78up/RcW+P+pUjJ64QHXOLd8cu5bU+zZj6yfNYWppzKTCcMZ8s5/ylsFy7Dsl7qpR2Z9aIHobtYc/7AvD7zpN8NGc9AO3q+2AGrNt3OsvxSSmptKtXif5PN8LK0pKgG9Es3HjQaB1DefxU8Xbnh6HPGbbfedYXgFW7TzJ2/gZG/riGwV2a8unLHXEoZEtwRAzfrtrJku131sdZuOUwNlaWDH+2BY6FbDl7LYw3vv5N00Qfc1W93fnfW3dya0Q3XwBW7j3Jhws24OpQmHeeaUFR+0KExcSzet8pZq3fa+ifnJJKAx9vevs+gZ21FSGRsfx5JIDZG/b+86XkMVPV253/Df5bbj3jC2Tm1sLM3Or6t9zab5xbKWlpDJq1grefaspX/btQyNqawBtRfLBgPTtOXcrdi5E8o3Jpd2a997f7rF6+AKzecZKPfsy8z2qQcZ+1fm/W+yyAD75fy4jerZgx4lnS09LZfPAcXyzcktOhSx5Xuaw7M95/3rA9pE9LAP7YdoLJP26ivLcrnZpVxb6wDTci49h7/DLfL9lptJ74179sIzUtnXFvdMTG2pKTASH4fbJEX/iL5FNm6f+cS/qYaPHU56YOQQog/99HUPe1L00dhhRAB34YxhNvTjV1GFLAHJ4xlJpvKa/k0Tv61VBqvq3ckkfv6PSh1HtF91ryaO3/cRgNe08xdRhSAO1ZMNzUIeQJHSu8a+oQHsrac5NNHYLJ5amRhSIiIiIiIiIiUoA8nmPU8rU89YATERERERERERERMR0VC0VERERERERERATQNGQREREREREREckpaZqGnN9oZKGIiIiIiIiIiIgAKhaKiIiIiIiIiIhIJhULRUREREREREREBNCahSIiIiIiIiIiklPS00wdgTwkjSwUERERERERERERQMVCERERERERERERyaRpyCIiIiIiIiIikjPS000dgTwkjSwUERERERERERERAMzS01XiFRERERERERGRR69j6aGmDuGhrL001dQhmNxjOw25beMJpg5BCqCNu96nZbtJpg5DCqAtG96jeZfPTR2GFDDbVo6gyXNTTB2GFEA7lwyncQ/lljx6uxYrt+TR27V4OE27f2HqMKQA2vHbO6YOQeRfeWyLhSIiIiIiIiIiksPSNKE1v9GahSIiIiIiIiIiIgKoWCgiIiIiIiIiIiKZNA1ZRERERERERERyhp6rm+9oZKGIiIiIiIiIiIgAKhaKiIiIiIiIiIhIJk1DFhERERERERGRnKFpyPmORhaKiIiIiIiIiIgIoGKhiIiIiIiIiIiIZFKxUERERERERERERACtWSgiIiIiIiIiIjlFaxbmOxpZKCIiIiIiIiIiIkAeG1k4ceJEli1bxunTp7Gzs6Nx48ZMmjQJHx8fACIiIhg7diwbNmwgMDAQV1dXunbtyscff4yjo6OJo8+/7ApZ0+/1FjRpUQkn50IEnA1hxrQNnP0rOEvft0d05Mln6jBj2gaWL95ngmglr6pR3Yvnn2tAxQruFCtqz/vjlrFz1znD/mZNKvLUk7WoWKE4jg52vDZwDucvXM9yniqVPXn15eZUruRBWmo6AReu8+6oxSQlpeTm5UgeUrOKFz2fqYdP+eIUcynC6E+Xs2NvgGH/yz0b06pZJdyK2ZOSksaZ86HM/nk7f53NeA8r7uZA3x6NqF3DGxenwtyIiGeD/ynmL9lNSkqaqS5L8oCalUvwwtP1qFTWnWIuRRg5eSXb9wdk23fE623o2q4m0+dsYfGaQ1n2W1laMHviC1Qo7Ua/ET9x7lJYTocveVitzNzyKeOOq0sRRn6+km33yK1n2tZk2tw7ufVEFS++Hfd8tv1fHfUzf50PzbHYJe9SXklOqVnFixe61MMn8/Nw1KQVbN+XfW69078NXdvXYvqPm1nyx53PQ/sitgx9tRVN6pYjLT0d/z3nmP7jZm4lJOfWZYjII5SnioX+/v74+flRr149UlJSGD16NO3atePUqVMULlyYoKAggoKC+OKLL6hSpQqXL19m4MCBBAUFsXTpUlOHn28NG9mZ0mXdmDR+JeFhsbTuUJ3J03vz6guzCL8Ra+jXpLkPlauW4EZYjAmjlbzK1taa8xeus3b9MT4e2y2b/VacOHGVrf6nGTGsY7bnqFLZk0mf9mDhr7v5+ts/SU1No1xZN9I1bP2xZmtrxflLYazZdIJPRnXNsv9KUCTTvt9EUEgUNtaW9OhSlynjnqPXwNlEx9zCu4QLZuZmfDFjI1eDIylbqhgj/NpjZ2PFjLlbc/16JO+ws7Ei4HIYf2w5wcQRXe7ar3n98lSt6EFYROxd+7zZpzk3IuKoUNotJ0KVfMbWxoqAS2Gs3nyCz+6VW/XKU7VC1tw6fiaIJ1+fadTWv2cT6lTzVkHnMaa8kpxiZ2NFwKXr/LHpOJ++1/Wu/TI+Dz0JC8/6eTj27c4UdS7M0PFLsLSwYNSgDrw7sB0fTfsjByOXfCNNX9DnN3mqWLhu3Tqj7blz5+Lm5sbBgwdp3rw51apV47fffjPsL1euHJ988gkvvvgiKSkpWFrmqcvJF6ytLWnmW5kPRy7m+JFAAOb/bxsNm1TgqW51mPv9VgCKFrPHb1h7Rg1dyIQvepowYsmr9u2/wL79F+66f+OmkwC4uzvctY/fwNYsW3GQXxbtNbRduRrx6IKUfGnvoYvsPXTxrvv/3PaX0fY3/9vCk21rUK60K4eOBbLv8CX2Hb5k2B8cGk3JEvvp2qGWioWPuT1HLrHnyKV79inmUoShr7Ri2ITf+HzUM9n2aVirNPVrlGLMlFU0ql02ByKV/OaBcsu5CMNeacXQT37ji5HGuZWSmkZE9E3DtoWFOc3qlmfJusM5Ea7kE8orySl7Dl9kz+G732tBxufhkNdaM/zjpUwebTwwoFQJFxrWLsOr787nTGbhedoPm/h8THe+mbeV8Mj4HItdRHJGnl6zMDo6GgAXF5d79nFwcFCh8F+ysDTHwtKc5ETjKZ5JiSlUq1ESADMzeG9sF5Ys3M3lizdMEaY8BpycClGlsidRUfF8PfVFfls0iGlf9KJa1RKmDk3yEUtLc55uX5PYuATOX7z7NNAihWyIiUvIxcgkPzIzgw8Hd2Thqv1cvBqebR9nx0K8N7AdH3+9loRELZcgD8bMDMbeJ7f+rlndcjjY2/LHlhO5EJ3kV8orySlmZvDBW534ZeV+Ll7JmlvVfDyJjUswFAoBDhy7TFp6OlUreORmqCLyiOTZCltaWhpDhgyhSZMmVKtWLds+N27c4OOPP6Z///53PU9iYiKJiYlGbTY2No801vzs1s0kTh6/Qu+XmxF4+QaREfG0bFuVytVKEHQ1EoDnX2xMWmoayxfvN3G0UpB5FHcCoG+fpnz3/RYCzofSrm01pkzqySv9f+RaUKRpA5Q8rVHdsox95ylsbawIj4xj+NglRMfeyrZvieJOdOtcmxlztuZukJLvvNilPqmpaSxZc/dRN2P8OrBiw1FOXwiluOvdR06L/N3t3Fq89sFGdD3Zshp7j1wiLCIuhyOT/Ex5JTmld9fMz8M/sq7ZC+DiVJjIv41aBUhNSyc2LgEX58K5EaKIPGJ5dmShn58fJ06c4Ndff812f0xMDJ07d6ZKlSqMGzfurueZOHEijo6ORj8TJ07Moajzp0njV2FmBr+uGsKaraPo+lw9tvx5kvT0dCr4FOeZHvX5fMIqU4cpBZy5uRkAq/84wroNxwk4f50Z323mytUIOnaobuLoJK87fPwKrw6Zx5vvLWDfoYt89O5TODkWytKvmEsRPh/3LFt3nWH1xmMmiFTyC5+ybjzXuTaffLvurn2e7fgEheysmb9CD/ySB+dTxo0enWozYcbdc+vvXF2K0KBWaVZr9Jfcg/JKcopPWXee61yHT75Za+pQJD9LT89fP5I3RxYOGjSI1atXs23bNry8vLLsj42NpUOHDtjb27N8+XKsrKzueq5Ro0YxbNgwozYbGxue3PD5I487vwq+Fslwv/nY2lpRqLANEeFxjBn/DMFBkVSr6Y2Tc2EWLHvL0N/C0pwBg9vQ7fn69On+jQkjl4IkPPNb7UuBxlPdAwPDcXfTaB25t4TEZK6FRHEtJIpTZ4NZOPM1OrepzoLf7qx/WdSlMNMnPM+J00F8/u16E0Yr+UHNSl44OxTit5l3Zi9YWpgzqG8LenSuzbN+P1CnmjfVKnqwZeEQo2N/+OxFNm7/iwn3KDTK46tm5YzcWjbDOLcGv9SC5zvVpvugH4z6d25ZjZjYBLYfOJ/boUo+orySnFKjcgmcHQvx26wBhraMz0NfejxZh+femE1EVDzO//iS1sLcDPsitkRovUKRfClPFQvT09MZPHgwy5cvZ+vWrZQpUyZLn5iYGNq3b4+NjQ2rVq3C1tb2nue0sbHRtOMHlJCQTEJCMkXsbanboByzZ2xi+5bTHD5gvNjtxKm9+HPdcdb/cdREkUpBFBISTdiNWEp6FTVq9/JyueeDU0SyY2ZmhrWVhWG7mEsRpk94njPnQ/nsq7X6wlDua922U+w/ftmober73Vm37S/WZI7EmTZnM9//usOw39W5CFM/eJaxU1dz8lxwrsYr+ce6bac48M/cGpORW9mtHdfZtyprt50iNVVPkpS7U15JTlnvf4oDxwKN2r78oDvrt53ij80ZuXXiTBD2RWzxKevOmQsZ6xbWru6NuZmZPg9F8qk8VSz08/Nj4cKFrFy5Ent7e0JCQgBwdHTEzs6OmJgY2rVrx82bN/n555+JiYkhJiYGAFdXVywsLO51ermLug0yntx4NTACTy9n+vu15srlG6xffZTU1DRiY4zX/UpJSSMiPJ6rgXpKrdxha2tFCU9nw7ZHcUfKlXUjNvYW18Nisbe3xc3VgWJFiwDgXTLjwUURkfFEZn7juGjJPvq91JTzF64TcD6U9m2r413ShXEfr8j165G8w87WihIef8std0fKl3EjJvYWMbEJ9HmuITv3BRAeGY+jgx3PdHqCYkWLsGXnGSCjUPjVJz0JCYthxpytODnc+eY7Ikrfdj/O7Gyt8MpcLxXA082BCqVdiYlLIPRGbJaH4KSkpBERGU9g5hqqoTdijfbfSkgG4FpolNYAe8zZ2RjnloebAxVKZeZWePa5FR4VT2Cw8fq8dap5U8Ldid83Hc+NsCWPU15JTrGztaKEUW45Ur60K7F3+zxMTSM8Mp4rmZ+Hl69FsOfQRd59ox1fzNqIpYU5w15rzaadp/UkZMmgb+rznTxVLJw5cyYAvr6+Ru1z5syhX79+HDp0iL17M6aUlS9f3qjPxYsXKV26dG6EWeAUKmzDq2+0opirPbExt9ix9TQ/ztqqbxrlofhULM60L14wbPsNbA3Aug3HmfTFGho3LM/IEZ0N+z8c0wWAufN3MG/+TgB+W34Aa2sL/Aa2wt7elvPnw3hn5CKCgqNy70Ikz/EpX5yvPulp2B78aisA1m46wZSZGyjl5UKHVl1wdLAjJjaB0+eCGTzqFy5lPq2vbq1SeHk64+XpzLI5bxidu3kXLUnxOKtU1p1vPnresP1Wv5YArNl6gk80VV3+g0rl3Pl23J3certvRm79sfUEn8x48Nx6qlU1jp2+xuUgfUEryivJOZXKFefr8X/7PHw58/Nwywk+/ebBltT4aPofDHutNdPH9SAtLR3/PWeZ9uPmHIlXRHKeWXr641nibdt4gqlDkAJo4673adlukqnDkAJoy4b3VNiSR27byhE0eW6KqcOQAmjnkuE07qHckkdv12Llljx6uxYPp2n3L0wdhhRAO357x9Qh5Akd3d+4f6c8ZG3oTFOHYHJ59mnIIiIiIiIiIiIikrvy1DRkEREREREREREpQNIeywmt+ZpGFoqIiIiIiIiIiAigYqGIiIiIiIiIiIhk0jRkERERERERERHJEenpaaYOQR6SRhaKiIiIiIiIiIgIoGKhiIiIiIiIiIiIZFKxUERERERERERERACtWSgiIiIiIiIiIjklLd3UEchD0shCERERERERERERAVQsFBERERERERERkUyahiwiIiIiIiIiIjkjXdOQ8xuz9HT9q4mIiIiIiIiIyKPXwfk1U4fwUNZF/mDqEEzusR1Z2NFnpKlDkAJo7ZnP6FhltKnDkAJo7alP6VDrQ1OHIQXMuiPjaV93nKnDkAJo/YFxtG0ywdRhSAG0cef7tGw3ydRhSAGzZcN7yivJEVs2vGfqEET+lce2WCgiIiIiIiIiIjksLc3UEchD0gNOREREREREREREBFCxUERERERERERERDKpWCgiIiIiIiIiIiKA1iwUEREREREREZGckp5u6gjkIWlkoYiIiIiIiIiIiAAqFoqIiIiIiIiIiEgmTUMWEREREREREZEckZ6WZuoQ5CFpZKGIiIiIiIiIiIgAKhaKiIiIiIiIiIhIJhULRUREREREREREBMhjaxZOnDiRZcuWcfr0aezs7GjcuDGTJk3Cx8fH0GfAgAH8+eefBAUFUaRIEUOfSpUqmTDy/K+omwOvjOhI3WYVsbGzJuhyOFNHL+HciWtYWJrTd0g76javhEdJF+LjEji8K4A5U9YScT3W1KFLHlbUzYFXhrenbjMfbGytCAoMZ+qY3zh38hoAwz7pTttn6hgdc2D7WT4YMNcE0Up+MW/NUNw9nbO0/75oL99O/AOAyjVK0ndQaypV9yI1NY0LZ0IY8+ZPJCWm5Ha4ko+Ym5vxYn9fWnesgXPRIoTfiGXj70dY+L9t2fZ/a9STdO5el++mrGP5L3tyOVrJT+wKWdPv9RY0aV4JJ+dCBJwNYca0DZw9HQzAxp3vZ3vc99/+yZKFyi3JUKO6F88/14CKFdwpVtSe98ctY+euc4b9zZpU5Kkna1GxQnEcHex4beAczl+4bnSOqZ/3olZNb6O2VasPM/WrDblyDZI3PYrcAqhS2ZNXX25O5UoepKWmE3DhOu+OWkxSku6/Hnvp6aaOQB5SnioW+vv74+fnR7169UhJSWH06NG0a9eOU6dOUbhwYQDq1KlD79698fb2JiIignHjxtGuXTsuXryIhYWFia8gfyriYMeUX97g6N7zfPD6HKIj4ylRqhhx0bcAsLG1olyVEvwycxMXTgdj72DHgDFPMXZmX97u/o2Jo5e8qoiDLVMWDODovgt8MGAu0RHxlChVlLiYW0b99m8/w9Qxvxm2k3UzIffxVu9ZmJvfGRhfurwbE2f1Y/vGk0BGoXDCt31Y9ON2Zk76g9SUNMr4FCc9TTcpcm89+jblyWfr8cXY5Vy+EEaFKp4M/7AL8XGJrFy016hvY99KVKrmxY3rMSaKVvKTYSM7U7qsG5PGryT8Riyt21dn8vTevNp7FuE3Yunx1FSj/vUblmfYqCfZvvW0iSKWvMjW1przF66zdv0xPh7bLZv9Vpw4cZWt/qcZMazjXc+zes0Rfpy3w7CdmJicI/FK/vEocqtKZU8mfdqDhb/u5utv/yQ1NY1yZd1IV5FIJF/KU8XCdevWGW3PnTsXNzc3Dh48SPPmzQHo37+/YX/p0qWZMGECNWvW5NKlS5QrVy5X4y0onnu9BWEhUUwdvdTQFno10vDnm3GJjHnlf0bHzPx4FdOXDsLVw5Gw4Ohci1Xyj+debUFYSLRRITD0WmSWfslJqUTeiMvN0CSfi468abTd45VmBAWGc+zAJQD6v9OBlb/sYfGc7YY+Vy+H52aIkk9VqVGS3f6n2bczYzRFaHAULdtXw6dqCaN+RV3teXNEJ8YMns/4ab1NEarkI9bWljRrUZkPRy7m+NFAAOb/uI2GTSrw1DN1mDt7K5ER8UbHNGpWkaOHLhESFGWCiCWv2rf/Avv2X7jr/o2bMr40c3d3uOd5EhJSiIyMv2cfebw8itzyG9iaZSsO8svfvly7cjXi0QUpIrkqTxUL/yk6OqMI5eLiku3++Ph45syZQ5kyZShZsmRuhlagNGxVmYM7zjF6+gtUr1eW8NAYVi/czbol++96TKEitqSlpREfk5CLkUp+kpFXZxk9tRfV65Yh/HoMq3/Zw7qlB4z61ahXhl+2jyYu5hZH915g3vQNxEbfustZRYxZWlrQqlMNlv28GwBH58JUrlGSLWuO8eW81/DwcuHKxRvM++ZPTh4JNHG0ktedOnaFjs/UoYR3Ua4FhlO2gjtVa3oza+p6Qx8zMzPeHd+NpfN3cvlCmAmjlfzCwtIcC0vzLCPnkxJTqFYj6/2rk3NhGjQuz+QJq3IrRHnMtGlVhbatqxARGc+uPQHMX7CLRC3TIf+Bk1MhqlT25M/NJ/l66ot4ejpx5Uo4P8zZxonM5YfkMacZPvlOni0WpqWlMWTIEJo0aUK1atWM9s2YMYN3332X+Ph4fHx82LhxI9bW1tmeJzExkcTERKM2GxubHIs7Pype0oXOvRqwbM4OFn23lYrVvRj4/tOkJKfy54pDWfpbWVvyyjsd8P/jKDfjE7M5owgU93Kmc88GLJu3k0Xfb6ViNS8Gjn4qI69WHgbg4I5z7PzzJKFXI/HwdqHfkPZ8PKsfw174jjR9oMgDaNSqEkXsbdm4KiOnPLwy1jJ8cWBLZk9dz4XTwbR+qhYTv+/HwGe/IShQ33DL3S2au4NChW34Yekg0tLSMDc3Z+6MTWxZd9zQp0ffJqSmprHi1733OJPIHbduJnHy+BV692tG4OUbREbE07JNVSpXK0FQNiPu23Wswc2bSezw1xRkefQ2bTlFaGgMN8JjKVfWjf6v+lLSy4Wx41eYOjTJxzyKOwHQt09Tvvt+CwHnQ2nXthpTJvXklf4/ci0o63udiORtebZY6Ofnx4kTJ9ixY0eWfb1796Zt27YEBwfzxRdf0KNHD3bu3ImtrW2WvhMnTuSjjz4yahs7dmyOxZ0fmZmZce7ENeZljpw4/1cQpSq406lngyzFQgtLc0ZPfwEzMzO+GbvCBNFKfmFmnplX0zIWzD7/V3BGXj3fwFAs9F97zND/0rlQLp4JYc6GEdSoX5Yje86bJG7JXzp0rcP+nQFEhGU8bMnM3AyANb8dYGNmnp0/s44n6pelfZfazPn6T5PFKnlf87ZVadWhOp+9/xuXz1+nnE9xBg7rQHhYLH/+cZTylTzo2rMhfi/OMnWoks9M+ngV74x6kl9XDiE1JY1zZ4PZ8udJKvp4ZOnb/smabN5wguSkVBNEKgXd6jVHDX++eOkG4RFxfDm5F54eTgQFR5kuMMnXzDPvv1b/cYR1GzK+YAs4v5natUrRsUN1fvgx+weFiUjelSeLhYMGDWL16tVs27YNLy+vLPsdHR1xdHSkQoUKNGzYEGdnZ5YvX06vXr2y9B01ahTDhg0zarOxsaHrLyoY3hYRFkvgeeOnWV25cJ0m7Y1HdFpYmjN6Wm/cPJ0Z2Xe2RhXKPWWbV+fDaNK26l2PCbkaSXREPB7eRVUslPty83CkVoOyfDz8V0Pb7aLhP3Mv8GIYrh6OuRqf5D+vv9WWRfN24L/hBACXzl/HzcOJni83488/jlL9iVI4uRTm59VDDcdYWJrz+pB2dO3VkL5PTzNR5JLXBV+LZPig+djaWlGosA0R4XGMGf8Mwf8YbVOtZkm8SxXjkw+XmShSedz8lflE7hKezioWyr8WHpGx/vilwBtG7YGB4bi73XsNTRHJm/JUsTA9PZ3BgwezfPlytm7dSpkyZR7omPT09CxTjW+zsbHRtOP7OHXoMl5lihm1lSjtyvVrUYbt24VCz1JFGfnSbGKjbiJyL6cOBeJVxtWorUTpoly/x2LtxdwdsHeyIyJMTxeV+2vXpTbREfHs237W0BYaFMWN6zF4lf7He1qpYhzIfGiFyN3Y2FpleWp2WmoaZmYZIyb+XHOUQ/uMF4D/9OsX2bTmGBt+P5xrcUr+lZCQTEJCMkXsbalbvxyzZ2wy2t/xyVqcPR3EhYDrdzmDyKNVvqwbcKfYI/JvhIREE3YjlpJeRY3avbxc7vngFHmMpKeZOgJ5SHmqWOjn58fChQtZuXIl9vb2hISEABkjCe3s7Lhw4QKLFi2iXbt2uLq6cvXqVT777DPs7Ozo1KmTiaPPv1bM28GUX97g+QG+bFt7HJ8aXnTsUZ+vMr/VtrA0Z8xXL1K+iidjB8zD3MIM52JFAIiNvkVKsqbJSFYrftrBlAUDeb5/C7atO45P9ZJ0fK4+X41bDoBtIWt6v9mKnRtOEnEjFk/vorwyvANBgREc2qGijtybmZkZbZ9+go2/HyEt1fjmY+m8nfQZ2JILZ0M4fyaEtk/VomTpYnzyzq93OZtIhj3bz9LzleZcD4nm8oUwyvkUp1vvRmzIXBMzNvpWlgcwpaSkERkepyduyz3VrV8WzOBqYASeXs7092vNlcAbrP/jzpTQQoWsadayMt9/o+USJHu2tlaU8HQ2bHsUd6RcWTdiY29xPSwWe3tb3FwdKFY04z7du2TGQyIjIuOJjIzH08OJ1q2qsHffeaJjblGujBtvDmzF0WOBXLioBzY9zv5rbgEsWrKPfi815fyF6wScD6V92+p4l3Rh3Mcrcv16ROS/y1PFwpkzZwLg6+tr1D5nzhz69euHra0t27dvZ9q0aURGRuLu7k7z5s3ZtWsXbm5uJoi4YDh7/CofD5pPv2EdeMGvNSFXI5n16e9s+f0IAEXdHWnUugoAM1a9bXTsu32+5/g+fVskWZ09cY2P3/qZfkPb88IbrTLy6rPVbFmd8YtRWmoaZSoWp02X2hR2sCXieiyHdp7jp6//JFkFaLmPJxqWxd3TiQ3ZPIRpxYLdWFtbMuCdjtg72nHhbAijB84j+KoW15Z7m/H5GvoObMWgkZ1xci5M+I1Y1iw7yILZ/qYOTfK5QkVseHVgK4q52hMbc4sd/qf5cdZWUv/2ZYdvm6qYmZmxeeNJE0YqeZlPxeJM++IFw7bfwNYArNtwnElfrKFxw/KMHNHZsP/DMV0AmDt/B/Pm7yQ5JZU6T5Si+zN1sbO14npYDNt3nGX+wl25eyGS5/zX3AL4bfkBrK0t8BvYCnt7W86fD+OdkYs0vV0knzJLT09/LB852tFnpKlDkAJo7ZnP6FhltKnDkAJo7alP6VDrQ1OHIQXMuiPjaV93nKnDkAJo/YFxtG0ywdRhSAG0cef7tGw3ydRhSAGzZcN7yivJEVs2vGfqEPKEdtYv3L9THrIhaaGpQzA5c1MHICIiIiIiIiIiInmDioUiIiIiIiIiIiIC5LE1C0VEREREREREpADR05DzHY0sFBEREREREREREUDFQhEREREREREREcmkYqGIiIiIiIiIiIgAWrNQRERERERERERySHpauqlDkIekkYUiIiIiIiIiIiICqFgoIiIiIiIiIiIimTQNWUREREREREREckZ6mqkjkIekkYUiIiIiIiIiIiICqFgoIiIiIiIiIiIimVQsFBEREREREREREQDM0tPT9QxryVZiYiITJ05k1KhR2NjYmDocKUCUW5JTlFuSU5RbkhOUV5JTlFuSU5RbIo8HFQvlrmJiYnB0dCQ6OhoHBwdThyMFiHJLcopyS3KKcktygvJKcopyS3KKckvk8aBpyCIiIiIiIiIiIgKoWCgiIiIiIiIiIiKZVCwUERERERERERERQMVCuQcbGxvGjh2rhWvlkVNuSU5RbklOUW5JTlBeSU5RbklOUW6JPB70gBMREREREREREREBNLJQREREREREREREMqlYKCIiIiIiIiIiIoCKhSIiIiIiIiIiIpJJxUIREREREREREREBVCyUe/j2228pXbo0tra2NGjQgH379pk6JMnntm3bxlNPPYWnpydmZmasWLHC1CFJATFx4kTq1auHvb09bm5udO3alTNnzpg6LMnnZs6cSY0aNXBwcMDBwYFGjRqxdu1aU4clBdBnn32GmZkZQ4YMMXUoks+NGzcOMzMzo59KlSqZOiwpAK5du8aLL75I0aJFsbOzo3r16hw4cMDUYYlIDlGxULK1aNEihg0bxtixYzl06BA1a9akffv2XL9+3dShST4WHx9PzZo1+fbbb00dihQw/v7++Pn5sWfPHjZu3EhycjLt2rUjPj7e1KFJPubl5cVnn33GwYMHOXDgAK1ataJLly6cPHnS1KFJAbJ//35mzZpFjRo1TB2KFBBVq1YlODjY8LNjxw5ThyT5XGRkJE2aNMHKyoq1a9dy6tQppkyZgrOzs6lDE5EcYpaenp5u6iAk72nQoAH16tXjm2++ASAtLY2SJUsyePBgRo4caeLopCAwMzNj+fLldO3a1dShSAEUFhaGm5sb/v7+NG/e3NThSAHi4uLC559/zquvvmrqUKQAiIuLo3bt2syYMYMJEyZQq1Ytpk2bZuqwJB8bN24cK1as4MiRI6YORQqQkSNHsnPnTrZv327qUEQkl2hkoWSRlJTEwYMHadOmjaHN3NycNm3asHv3bhNGJiLyYKKjo4GMwo7Io5Camsqvv/5KfHw8jRo1MnU4UkD4+fnRuXNno3sukf/q3LlzeHp6UrZsWXr37k1gYKCpQ5J8btWqVdStW5fnnnsONzc3nnjiCWbPnm3qsEQkB6lYKFncuHGD1NRU3N3djdrd3d0JCQkxUVQiIg8mLS2NIUOG0KRJE6pVq2bqcCSfO378OEWKFMHGxoaBAweyfPlyqlSpYuqwpAD49ddfOXToEBMnTjR1KFKANGjQgLlz57Ju3TpmzpzJxYsXadasGbGxsaYOTfKxCxcuMHPmTCpUqMD69et54403eOutt5g3b56pQxORHGJp6gBEREQeJT8/P06cOKE1muSR8PHx4ciRI0RHR7N06VL69u2Lv7+/Cobyn1y5coW3336bjRs3Ymtra+pwpADp2LGj4c81atSgQYMGlCpVisWLF2v5BPnX0tLSqFu3Lp9++ikATzzxBCdOnOC7776jb9++Jo5ORHKCRhZKFsWKFcPCwoLQ0FCj9tDQUIoXL26iqERE7m/QoEGsXr2aLVu24OXlZepwpACwtramfPny1KlTh4kTJ1KzZk2mT59u6rAknzt48CDXr1+ndu3aWFpaYmlpib+/P1999RWWlpakpqaaOkQpIJycnKhYsSIBAQGmDkXyMQ8PjyxfklWuXFlT3EUKMBULJQtra2vq1KnDpk2bDG1paWls2rRJ6zSJSJ6Unp7OoEGDWL58OZs3b6ZMmTKmDkkKqLS0NBITE00dhuRzrVu35vjx4xw5csTwU7duXXr37s2RI0ewsLAwdYhSQMTFxXH+/Hk8PDxMHYrkY02aNOHMmTNGbWfPnqVUqVImikhEcpqmIUu2hg0bRt++falbty7169dn2rRpxMfH8/LLL5s6NMnH4uLijL7ZvnjxIkeOHMHFxQVvb28TRib5nZ+fHwsXLmTlypXY29sb1ld1dHTEzs7OxNFJfjVq1Cg6duyIt7c3sbGxLFy4kK1bt7J+/XpThyb5nL29fZY1VQsXLkzRokW11qr8J++88w5PPfUUpUqVIigoiLFjx2JhYUGvXr1MHZrkY0OHDqVx48Z8+umn9OjRg3379vH999/z/fffmzo0EckhKhZKtp5//nnCwsL48MMPCQkJoVatWqxbty7LQ09EHsaBAwdo2bKlYXvYsGEA9O3bl7lz55ooKikIZs6cCYCvr69R+5w5c+jXr1/uByQFwvXr13nppZcIDg7G0dGRGjVqsH79etq2bWvq0EREsnX16lV69epFeHg4rq6uNG3alD179uDq6mrq0CQfq1evHsuXL2fUqFGMHz+eMmXKMG3aNHr37m3q0EQkh5ilp6enmzoIERERERERERERMT2tWSgiIiIiIiIiIiKAioUiIiIiIiIiIiKSScVCERERERERERERAVQsFBERERERERERkUwqFoqIiIiIiIiIiAigYqGIiIiIiIiIiIhkUrFQREREREREREREABULRUREREREREREJJOKhSIiIvlc6dKl6dev3wP1vXLlCra2tuzcuTNng8plc+fOxczMjEuXLpk6FPmXfH19qVatWq681qlTp7C0tOTEiRO58noiIiIi+YmKhSIiIo/I7YLVgQMHst2fm8WQuxk/fjwNGjSgSZMmRu3Xrl2jR48eODk54eDgQJcuXbhw4UKux+fr64uZmRkVKlTIdv/GjRsxMzPDzMyMpUuX5nJ0eUNoaCgDBgygRIkS2NraUrp0aV599dVcj+PSpUu8/PLLlCtXDltbW4oXL07z5s0ZO3Zsjr5uUFAQ48aN48iRI//6HFWqVKFz5858+OGHjy4wERERkQLC0tQBiIiIyH9z5swZzM3v//1fWFgY8+bNY968eUbtcXFxtGzZkujoaEaPHo2VlRVTp06lRYsWHDlyhKJFi+ZU6NmytbUlICCAffv2Ub9+faN9CxYswNbWloSEBKP2Pn360LNnT2xsbHIz1Fx35coVQ6F34MCBlChRgqCgIPbt25ercQQEBFCvXj3s7Ox45ZVXKF26NMHBwRw6dIhJkybx0Ucf5dhrBwUF8dFHH1G6dGlq1ar1r88zcOBAOnXqxPnz5ylXrtyjC1BEREQkn1OxUEREJB9KT08nISEBOzu7By6Q/fzzz1haWvLUU08Ztc+YMYNz586xb98+6tWrB0DHjh2pVq0aU6ZM4dNPP33k8d9LuXLlSElJ4ZdffjEqFiYkJLB8+XI6d+7Mb7/9ZnSMhYUFFhYWuRqnKQwYMABLS0v279+f60Xcv5s6dSpxcXEcOXKEUqVKGe27fv26iaJ6OG3atMHZ2Zl58+Yxfvx4U4cjIiIikmdoGrKIiIgJzZkzh1atWuHm5oaNjQ1VqlRh5syZWfqVLl2aJ598kvXr11O3bl3s7OyYNWuWYd+DrFm4YsUKGjRoQJEiRYzaly5dSr169QyFQoBKlSrRunVrFi9e/N8u8F/q1asXixYtIi0tzdD2+++/c/PmTXr06JGlf3ZrFt7+O9uxYwf169fH1taWsmXL8tNPP2U5/tixY7Ro0QI7Ozu8vLyYMGECc+bMyXLOtLQ0xo0bh6enJ4UKFaJly5acOnUqy7/BuHHjMDMze6A4H9Tp06dZu3YtI0aMoGjRoiQkJJCcnPzQ53kUzp8/j5eXV5ZCIYCbm5vR9sqVK+ncuTOenp7Y2NhQrlw5Pv74Y1JTU7M998GDB2ncuDF2dnaUKVOG7777zrBv69athjx9+eWXDVPS586dC9z9/4Kvry++vr5GbVZWVvj6+rJy5cqHuHIRERGRgk/FQhERkUcsOjqaGzduZPnJrrAzc+ZMSpUqxejRo5kyZQolS5bkzTff5Ntvv83S98yZM/Tq1Yu2bdsyffr0h5qCmZyczP79+6ldu7ZRe1paGseOHaNu3bpZjqlfvz7nz58nNjb2X13vP3/i4uIeON4XXniB4OBgtm7damhbuHAhrVu3zlKMupeAgACeffZZ2rZty5QpU3B2dqZfv36cPHnS0OfatWu0bNmSkydPMmrUKIYOHcqCBQuYPn16lvONGjWKjz76iLp16/L5559ToUIF2rdvT3x8/APH9G/9+eefALi7u9O6dWvs7Oyws7OjY8eOD1R8TE5OfqB/pxs3bhgVabNTqlQprly5wubNm+/7unPnzqVIkSIMGzaM6dOnU6dOHT788ENGjhyZpW9kZCSdOnWiTp06TJ48GS8vL9544w1+/PFHACpXrmwYBdi/f3/mz5/P/Pnzad68+X3jyE6dOnU4ceIEMTEx/+p4ERERkYJI05BFREQesTZt2tx1X9WqVY22/f39sbOzM2wPGjSIDh068OWXX+Ln52fUNyAggHXr1tG+ffuHjikwMJBbt25RpkwZo/aIiAgSExPx8PDIcszttqCgIHx8fO567i5duuDv73/fGPr27WsYAXY/FSpUoG7duixcuJBWrVoRFRXFmjVrmD179gMdf9uZM2fYtm0bzZo1A6BHjx6ULFmSOXPm8MUXXwAwadIkIiMjOXTokKEA+/LLL2d5yEpoaChffvklXbt2Zfny5Yb2jz76iHHjxj1UXP/GuXPngIwiWb169Vi0aBGBgYF89NFHtGnThmPHjlGoUKG7Hr9z505atmz5QK918eJFSpcufdf9b731FvPnz6d169bUqlWLFi1a0LJlS9q2bZslhoULFxrl+MCBAxk4cCAzZsxgwoQJRtPog4KCmDJlCsOGDQMypl03aNCAUaNG0adPH9zd3enYsSMffvghjRo14sUXX3yg67mbsmXLkpaWxunTp7OsjykiIiLyuFKxUERE5BH79ttvqVixYpb24cOHZ5l6+fciSnR0NMnJybRo0YL169cTHR2No6OjYX+ZMmX+VaEQIDw8HABnZ2ej9lu3bgFku+6hra2tUZ+7mTJlCpGRkfeNwdPT84Five2FF17g448/ZsaMGSxduhQLCwueeeYZDh48+MDnqFKliqFQCODq6oqPj4/Rk57XrVtHo0aNjEZquri40Lt3b77++mtD26ZNm0hJSeHNN980eo3BgwfnSrHw9sjM4sWL88cffxgeauPl5UWvXr1YuHAhr7322l2Pr1mzJhs3bnyg1ypevPg991etWpUjR47w8ccfs3r1ao4cOcL06dMpUqQIX375Ja+//rqh799zPDY2lsTERJo1a8asWbM4ffo0NWvWNOy3tLRkwIABhm1ra2sGDBjAG2+8wcGDB2nYsOEDxf+gbv9/uHHjxiM9r4iIiEh+pmKhiIjII1a/fv1sp/U6OztnKUrs3LmTsWPHsnv3bm7evGm0L7ti4X+Vnp5utH27kJOYmJil7+0nDv+92JOdOnXq/Oe4stOzZ0/eeecd1q5dy4IFC3jyySext7d/qHN4e3tnaXN2djYqbl6+fJlGjRpl6Ve+fHmj7cuXL2fb7uLikqUImxNu/zv06NHD6OnXzz33HH369GHXrl33LBY6Ozvfc9Trw6pYsSLz588nNTWVU6dOsXr1aiZPnkz//v0pU6aM4bVOnjzJ+++/z+bNm7NM942Ojjba9vT0pHDhwlleB+DSpUuPvFh4+/9DdutLioiIiDyuVCwUERExkfPnz9O6dWsqVarEl19+ScmSJbG2tmbNmjVMnTo1y7px9yva3cvtJ+f+cwSgi4sLNjY2BAcHZznmdtv9RgRGRESQlJR03xjs7OyMip/34+Hhga+vL1OmTGHnzp1ZnoD8IO72hOR/Fk0ftbsVn+72UI8Hcfvfwd3d3ajdwsKCokWL3nd0Z1JSEhEREQ/0Wq6urg/8dGkLCwuqV69O9erVadSoES1btmTBggW0adOGqKgoWrRogYODA+PHj6dcuXLY2tpy6NAh3nvvvfuujfiw7vX3nt313P47K1as2CONQ0RERCQ/U7FQRETERH7//XcSExNZtWqV0Qi4LVu2PPLX8vb2xs7OjosXLxq1m5ubU716dQ4cOJDlmL1791K2bNn7jubr1q3bI1+z8LYXXniB1157DScnJzp16vRQxz6oUqVKERAQkKX9n223n/wbEBBgNMozPDw8S6Hu9kjDqKgonJycDO23Ryf+G7dHcF67ds2oPSkpiRs3buDq6nrP43ft2vXI1iy8m9sjam8Xmrdu3Up4eDjLli0zegjJP/PwtqCgIOLj441GF549exbAEM+9RgE6OzsTFRWVpf3y5cuULVs2S/vFixcxNzfPdtkAERERkceVioUiIiImcnuk099HuUVHRzNnzpxH/lpWVlbUrVs326Lgs88+y8iRIzlw4ICh2HPmzBk2b97MO++8c99z59Sahbdju3LlCj4+PlhbWz/08Q+iffv2fPvttxw5csSwbmFERAQLFiww6te6dWssLS2ZOXMmbdu2NbR/8803Wc5Zrlw5ALZt28bTTz8NQHx8PPPmzfvXcfr6+uLm5saCBQsYPXq0YU3JuXPnkpqaahRTdh7lmoXbt2+nYcOGWFlZGbWvWbMGwPBAnOxyPCkpiRkzZmR73pSUFGbNmmV4wElSUhKzZs3C1dXVUCy9XUjMrihYrlw5tm/fTlJSkiFfVq9ezZUrV7ItFh48eJCqVas+1IhXERERkYJOxUIRERETadeuHdbW1jz11FMMGDCAuLg4Zs+ejZubW7bTgv+rLl26MGbMGGJiYnBwcDC0v/nmm8yePZvOnTvzzjvvYGVlxZdffom7uzvDhw+/73lzas1CAEdHxxx/eMi7777Lzz//TNu2bRk8eDCFCxfmhx9+wNvbm4iICMNINnd3d95++22mTJnC008/TYcOHTh69Chr166lWLFiRiPe2rVrh7e3N6+++iojRozAwsKCH3/8EVdXVwIDA41ef+7cubz88svMmTOHfv363TVOGxsbPv/8c/r27Uvz5s3p06cPgYGBTJ8+nWbNmtGtW7d7XuejXLNw0qRJHDx4kG7dulGjRg0ADh06xE8//YSLiwtDhgwBoHHjxjg7O9O3b1/eeustzMzMmD9//l2ngXt6ejJp0iQuXbpExYoVWbRoEUeOHOH77783FCbLlSuHk5MT3333Hfb29hQuXJgGDRpQpkwZXnvtNZYuXUqHDh3o0aMH58+f5+effzYUb/8uOTkZf3//LA+sEREREXncmd+/i4iIiOQEHx8fli5dipmZGe+88w7fffcd/fv35+23386R1+vTpw+pqamsWrXKqN3e3p6tW7fSvHlzJkyYwAcffEDNmjXx9/e/79TWgqBkyZJs2bKFypUr8+mnnzJt2jT69u3LK6+8Atx5KjRkFMk++OAD9u/fzzvvvENAQAAbNmwgPT3dqJ+VlRXLly+nXLlyfPDBB3z11Ve89tprDBo0KMvr337KsYeHx31jfemll/jll19ISkpixIgRzJ8/nwEDBvDHH3888BqDj8Lo0aPp3r0727Zt47333mPw4MGsW7eOnj17sn//fsM07aJFi7J69Wo8PDx4//33+eKLL2jbti2TJ0/O9rzOzs6sWbOGAwcOMGLECK5cucI333xj9HRlKysr5s2bh4WFBQMHDqRXr16GafDt27dnypQpnD17liFDhrB7925Wr16Nl5dXltfatGkTERER9O3bNwf+hkRERETyL7P0nF7hW0RERPKMV199lbNnz7J9+3ZTh5LnDRkyhFmzZhEXF3fPQlxUVBTOzs5MmDCBMWPGPPTr9OjRg0uXLrFv377/Eq48pK5du2JmZsby5ctNHYqIiIhInqJpyCIiIo+RsWPHUrFiRXbu3EmTJk1MHU6ecevWLaOnTYeHhzN//nyaNm1qVCj8Zz+AadOmARlrCj6s9PR0tm7dys8///yv4pZ/56+//mL16tUcOXLE1KGIiIiI5DkaWSgiIiKPvVq1auHr60vlypUJDQ3lf//7H0FBQWzatMnoKb5z585l7ty5dOrUiSJFirBjxw5++eUX2rVrx/r16014BSIiIiIij4ZGFoqIiMhjr1OnTixdupTvv/8eMzMzateuzf/+9z+jQiFAjRo1sLS0ZPLkycTExBgeejJhwgQTRS4iIiIi8mhpZKGIiIiIiIiIiIgAehqyiIiIiIiIiIiIZFKxUERERERERERERAAVC0VERERERERERCSTioUiIiIiIiIiIiICqFgoIiIiIiIiIiIimVQsFBEREREREREREUDFQhEREREREREREcmkYqGIiIiIiIiIiIgA8H+S9VCTajmCTwAAAABJRU5ErkJggg==\n"
          },
          "metadata": {}
        }
      ]
    },
    {
      "cell_type": "markdown",
      "source": [
        "**Insight:**\n",
        "- Cuaca cerah meningkatkan penyewaan secara signifikan (rata-rata > 4000), sedangkan hujan berat menurunkan penyewaan drastis (< 1000).\n",
        "- Penyewaan tertinggi terjadi pada jam sibuk (08.00 dan 17.00-18.00) di hari kerja, mengindikasikan penggunaan untuk commuting."
      ],
      "metadata": {
        "id": "w-7MGMYe3aZg"
      }
    },
    {
      "cell_type": "markdown",
      "source": [
        "## Analisis Lanjutan (Opsional)"
      ],
      "metadata": {
        "id": "PiJE6yOy3cMw"
      }
    },
    {
      "cell_type": "code",
      "source": [
        "# Clustering manual dengan binning\n",
        "bins = [0, 2000, 4000, 6000, 8000]\n",
        "labels = ['Sangat Rendah', 'Rendah', 'Sedang', 'Tinggi']\n",
        "day_df['usage_category'] = pd.cut(day_df['cnt'], bins=bins, labels=labels, include_lowest=True)\n",
        "\n",
        "# Visualisasi distribusi kategori\n",
        "fig = px.histogram(day_df,\n",
        "                   x='usage_category',\n",
        "                   title='Distribusi Kategori Penggunaan Sepeda Harian',\n",
        "                   labels={'usage_category': 'Kategori Penggunaan', 'count': 'Jumlah Hari'},\n",
        "                   color='usage_category',\n",
        "                   color_discrete_sequence=px.colors.sequential.Plasma)\n",
        "fig.update_layout(bargap=0.1, template='plotly_white')\n",
        "fig.show()\n",
        "\n",
        "# Analisis korelasi\n",
        "correlation = day_df[['temp_celsius', 'hum', 'windspeed', 'cnt']].corr()\n",
        "plt.figure(figsize=(8, 6))\n",
        "sns.heatmap(correlation, annot=True, cmap='coolwarm', vmin=-1, vmax=1, center=0)\n",
        "plt.title('Matriks Korelasi: Faktor Lingkungan vs Penyewaan', fontsize=14)\n",
        "plt.show()"
      ],
      "metadata": {
        "colab": {
          "base_uri": "https://localhost:8080/",
          "height": 1000
        },
        "id": "sTADasNb3e8G",
        "outputId": "9a699b1f-715c-4754-a119-d0076efcb97a"
      },
      "execution_count": 8,
      "outputs": [
        {
          "output_type": "display_data",
          "data": {
            "text/html": [
              "<html>\n",
              "<head><meta charset=\"utf-8\" /></head>\n",
              "<body>\n",
              "    <div>            <script src=\"https://cdnjs.cloudflare.com/ajax/libs/mathjax/2.7.5/MathJax.js?config=TeX-AMS-MML_SVG\"></script><script type=\"text/javascript\">if (window.MathJax && window.MathJax.Hub && window.MathJax.Hub.Config) {window.MathJax.Hub.Config({SVG: {font: \"STIX-Web\"}});}</script>                <script type=\"text/javascript\">window.PlotlyConfig = {MathJaxConfig: 'local'};</script>\n",
              "        <script charset=\"utf-8\" src=\"https://cdn.plot.ly/plotly-2.35.2.min.js\"></script>                <div id=\"db38fad8-b669-49d1-aa0b-ffd02694de60\" class=\"plotly-graph-div\" style=\"height:525px; width:100%;\"></div>            <script type=\"text/javascript\">                                    window.PLOTLYENV=window.PLOTLYENV || {};                                    if (document.getElementById(\"db38fad8-b669-49d1-aa0b-ffd02694de60\")) {                    Plotly.newPlot(                        \"db38fad8-b669-49d1-aa0b-ffd02694de60\",                        [{\"alignmentgroup\":\"True\",\"bingroup\":\"x\",\"hovertemplate\":\"Kategori Penggunaan=%{x}\\u003cbr\\u003ecount=%{y}\\u003cextra\\u003e\\u003c\\u002fextra\\u003e\",\"legendgroup\":\"Sangat Rendah\",\"marker\":{\"color\":\"#0d0887\",\"pattern\":{\"shape\":\"\"}},\"name\":\"Sangat Rendah\",\"offsetgroup\":\"Sangat Rendah\",\"orientation\":\"v\",\"showlegend\":true,\"x\":[\"Sangat Rendah\",\"Sangat Rendah\",\"Sangat Rendah\",\"Sangat Rendah\",\"Sangat Rendah\",\"Sangat Rendah\",\"Sangat Rendah\",\"Sangat Rendah\",\"Sangat Rendah\",\"Sangat Rendah\",\"Sangat Rendah\",\"Sangat Rendah\",\"Sangat Rendah\",\"Sangat Rendah\",\"Sangat Rendah\",\"Sangat Rendah\",\"Sangat Rendah\",\"Sangat Rendah\",\"Sangat Rendah\",\"Sangat Rendah\",\"Sangat Rendah\",\"Sangat Rendah\",\"Sangat Rendah\",\"Sangat Rendah\",\"Sangat Rendah\",\"Sangat Rendah\",\"Sangat Rendah\",\"Sangat Rendah\",\"Sangat Rendah\",\"Sangat Rendah\",\"Sangat Rendah\",\"Sangat Rendah\",\"Sangat Rendah\",\"Sangat Rendah\",\"Sangat Rendah\",\"Sangat Rendah\",\"Sangat Rendah\",\"Sangat Rendah\",\"Sangat Rendah\",\"Sangat Rendah\",\"Sangat Rendah\",\"Sangat Rendah\",\"Sangat Rendah\",\"Sangat Rendah\",\"Sangat Rendah\",\"Sangat Rendah\",\"Sangat Rendah\",\"Sangat Rendah\",\"Sangat Rendah\",\"Sangat Rendah\",\"Sangat Rendah\",\"Sangat Rendah\",\"Sangat Rendah\",\"Sangat Rendah\",\"Sangat Rendah\",\"Sangat Rendah\",\"Sangat Rendah\",\"Sangat Rendah\",\"Sangat Rendah\",\"Sangat Rendah\",\"Sangat Rendah\",\"Sangat Rendah\",\"Sangat Rendah\",\"Sangat Rendah\",\"Sangat Rendah\",\"Sangat Rendah\",\"Sangat Rendah\",\"Sangat Rendah\",\"Sangat Rendah\",\"Sangat Rendah\",\"Sangat Rendah\",\"Sangat Rendah\",\"Sangat Rendah\",\"Sangat Rendah\",\"Sangat Rendah\",\"Sangat Rendah\",\"Sangat Rendah\",\"Sangat Rendah\",\"Sangat Rendah\",\"Sangat Rendah\",\"Sangat Rendah\",\"Sangat Rendah\",\"Sangat Rendah\",\"Sangat Rendah\",\"Sangat Rendah\",\"Sangat Rendah\",\"Sangat Rendah\",\"Sangat Rendah\",\"Sangat Rendah\",\"Sangat Rendah\",\"Sangat Rendah\",\"Sangat Rendah\",\"Sangat Rendah\",\"Sangat Rendah\",\"Sangat Rendah\",\"Sangat Rendah\",\"Sangat Rendah\",\"Sangat Rendah\"],\"xaxis\":\"x\",\"yaxis\":\"y\",\"type\":\"histogram\"},{\"alignmentgroup\":\"True\",\"bingroup\":\"x\",\"hovertemplate\":\"Kategori Penggunaan=%{x}\\u003cbr\\u003ecount=%{y}\\u003cextra\\u003e\\u003c\\u002fextra\\u003e\",\"legendgroup\":\"Rendah\",\"marker\":{\"color\":\"#46039f\",\"pattern\":{\"shape\":\"\"}},\"name\":\"Rendah\",\"offsetgroup\":\"Rendah\",\"orientation\":\"v\",\"showlegend\":true,\"x\":[\"Rendah\",\"Rendah\",\"Rendah\",\"Rendah\",\"Rendah\",\"Rendah\",\"Rendah\",\"Rendah\",\"Rendah\",\"Rendah\",\"Rendah\",\"Rendah\",\"Rendah\",\"Rendah\",\"Rendah\",\"Rendah\",\"Rendah\",\"Rendah\",\"Rendah\",\"Rendah\",\"Rendah\",\"Rendah\",\"Rendah\",\"Rendah\",\"Rendah\",\"Rendah\",\"Rendah\",\"Rendah\",\"Rendah\",\"Rendah\",\"Rendah\",\"Rendah\",\"Rendah\",\"Rendah\",\"Rendah\",\"Rendah\",\"Rendah\",\"Rendah\",\"Rendah\",\"Rendah\",\"Rendah\",\"Rendah\",\"Rendah\",\"Rendah\",\"Rendah\",\"Rendah\",\"Rendah\",\"Rendah\",\"Rendah\",\"Rendah\",\"Rendah\",\"Rendah\",\"Rendah\",\"Rendah\",\"Rendah\",\"Rendah\",\"Rendah\",\"Rendah\",\"Rendah\",\"Rendah\",\"Rendah\",\"Rendah\",\"Rendah\",\"Rendah\",\"Rendah\",\"Rendah\",\"Rendah\",\"Rendah\",\"Rendah\",\"Rendah\",\"Rendah\",\"Rendah\",\"Rendah\",\"Rendah\",\"Rendah\",\"Rendah\",\"Rendah\",\"Rendah\",\"Rendah\",\"Rendah\",\"Rendah\",\"Rendah\",\"Rendah\",\"Rendah\",\"Rendah\",\"Rendah\",\"Rendah\",\"Rendah\",\"Rendah\",\"Rendah\",\"Rendah\",\"Rendah\",\"Rendah\",\"Rendah\",\"Rendah\",\"Rendah\",\"Rendah\",\"Rendah\",\"Rendah\",\"Rendah\",\"Rendah\",\"Rendah\",\"Rendah\",\"Rendah\",\"Rendah\",\"Rendah\",\"Rendah\",\"Rendah\",\"Rendah\",\"Rendah\",\"Rendah\",\"Rendah\",\"Rendah\",\"Rendah\",\"Rendah\",\"Rendah\",\"Rendah\",\"Rendah\",\"Rendah\",\"Rendah\",\"Rendah\",\"Rendah\",\"Rendah\",\"Rendah\",\"Rendah\",\"Rendah\",\"Rendah\",\"Rendah\",\"Rendah\",\"Rendah\",\"Rendah\",\"Rendah\",\"Rendah\",\"Rendah\",\"Rendah\",\"Rendah\",\"Rendah\",\"Rendah\",\"Rendah\",\"Rendah\",\"Rendah\",\"Rendah\",\"Rendah\",\"Rendah\",\"Rendah\",\"Rendah\",\"Rendah\",\"Rendah\",\"Rendah\",\"Rendah\",\"Rendah\",\"Rendah\",\"Rendah\",\"Rendah\",\"Rendah\",\"Rendah\",\"Rendah\",\"Rendah\",\"Rendah\",\"Rendah\",\"Rendah\",\"Rendah\",\"Rendah\",\"Rendah\",\"Rendah\",\"Rendah\",\"Rendah\",\"Rendah\",\"Rendah\",\"Rendah\",\"Rendah\",\"Rendah\",\"Rendah\",\"Rendah\",\"Rendah\",\"Rendah\",\"Rendah\",\"Rendah\",\"Rendah\",\"Rendah\",\"Rendah\"],\"xaxis\":\"x\",\"yaxis\":\"y\",\"type\":\"histogram\"},{\"alignmentgroup\":\"True\",\"bingroup\":\"x\",\"hovertemplate\":\"Kategori Penggunaan=%{x}\\u003cbr\\u003ecount=%{y}\\u003cextra\\u003e\\u003c\\u002fextra\\u003e\",\"legendgroup\":\"Sedang\",\"marker\":{\"color\":\"#7201a8\",\"pattern\":{\"shape\":\"\"}},\"name\":\"Sedang\",\"offsetgroup\":\"Sedang\",\"orientation\":\"v\",\"showlegend\":true,\"x\":[\"Sedang\",\"Sedang\",\"Sedang\",\"Sedang\",\"Sedang\",\"Sedang\",\"Sedang\",\"Sedang\",\"Sedang\",\"Sedang\",\"Sedang\",\"Sedang\",\"Sedang\",\"Sedang\",\"Sedang\",\"Sedang\",\"Sedang\",\"Sedang\",\"Sedang\",\"Sedang\",\"Sedang\",\"Sedang\",\"Sedang\",\"Sedang\",\"Sedang\",\"Sedang\",\"Sedang\",\"Sedang\",\"Sedang\",\"Sedang\",\"Sedang\",\"Sedang\",\"Sedang\",\"Sedang\",\"Sedang\",\"Sedang\",\"Sedang\",\"Sedang\",\"Sedang\",\"Sedang\",\"Sedang\",\"Sedang\",\"Sedang\",\"Sedang\",\"Sedang\",\"Sedang\",\"Sedang\",\"Sedang\",\"Sedang\",\"Sedang\",\"Sedang\",\"Sedang\",\"Sedang\",\"Sedang\",\"Sedang\",\"Sedang\",\"Sedang\",\"Sedang\",\"Sedang\",\"Sedang\",\"Sedang\",\"Sedang\",\"Sedang\",\"Sedang\",\"Sedang\",\"Sedang\",\"Sedang\",\"Sedang\",\"Sedang\",\"Sedang\",\"Sedang\",\"Sedang\",\"Sedang\",\"Sedang\",\"Sedang\",\"Sedang\",\"Sedang\",\"Sedang\",\"Sedang\",\"Sedang\",\"Sedang\",\"Sedang\",\"Sedang\",\"Sedang\",\"Sedang\",\"Sedang\",\"Sedang\",\"Sedang\",\"Sedang\",\"Sedang\",\"Sedang\",\"Sedang\",\"Sedang\",\"Sedang\",\"Sedang\",\"Sedang\",\"Sedang\",\"Sedang\",\"Sedang\",\"Sedang\",\"Sedang\",\"Sedang\",\"Sedang\",\"Sedang\",\"Sedang\",\"Sedang\",\"Sedang\",\"Sedang\",\"Sedang\",\"Sedang\",\"Sedang\",\"Sedang\",\"Sedang\",\"Sedang\",\"Sedang\",\"Sedang\",\"Sedang\",\"Sedang\",\"Sedang\",\"Sedang\",\"Sedang\",\"Sedang\",\"Sedang\",\"Sedang\",\"Sedang\",\"Sedang\",\"Sedang\",\"Sedang\",\"Sedang\",\"Sedang\",\"Sedang\",\"Sedang\",\"Sedang\",\"Sedang\",\"Sedang\",\"Sedang\",\"Sedang\",\"Sedang\",\"Sedang\",\"Sedang\",\"Sedang\",\"Sedang\",\"Sedang\",\"Sedang\",\"Sedang\",\"Sedang\",\"Sedang\",\"Sedang\",\"Sedang\",\"Sedang\",\"Sedang\",\"Sedang\",\"Sedang\",\"Sedang\",\"Sedang\",\"Sedang\",\"Sedang\",\"Sedang\",\"Sedang\",\"Sedang\",\"Sedang\",\"Sedang\",\"Sedang\",\"Sedang\",\"Sedang\",\"Sedang\",\"Sedang\",\"Sedang\",\"Sedang\",\"Sedang\",\"Sedang\",\"Sedang\",\"Sedang\",\"Sedang\",\"Sedang\",\"Sedang\",\"Sedang\",\"Sedang\",\"Sedang\",\"Sedang\",\"Sedang\",\"Sedang\",\"Sedang\",\"Sedang\",\"Sedang\",\"Sedang\",\"Sedang\",\"Sedang\",\"Sedang\",\"Sedang\",\"Sedang\",\"Sedang\",\"Sedang\",\"Sedang\",\"Sedang\",\"Sedang\",\"Sedang\",\"Sedang\",\"Sedang\",\"Sedang\",\"Sedang\",\"Sedang\",\"Sedang\",\"Sedang\",\"Sedang\",\"Sedang\",\"Sedang\",\"Sedang\",\"Sedang\",\"Sedang\",\"Sedang\",\"Sedang\",\"Sedang\",\"Sedang\",\"Sedang\",\"Sedang\",\"Sedang\",\"Sedang\",\"Sedang\",\"Sedang\",\"Sedang\",\"Sedang\",\"Sedang\",\"Sedang\",\"Sedang\",\"Sedang\",\"Sedang\",\"Sedang\",\"Sedang\",\"Sedang\",\"Sedang\",\"Sedang\",\"Sedang\",\"Sedang\",\"Sedang\",\"Sedang\",\"Sedang\",\"Sedang\",\"Sedang\",\"Sedang\",\"Sedang\",\"Sedang\",\"Sedang\",\"Sedang\",\"Sedang\",\"Sedang\",\"Sedang\",\"Sedang\",\"Sedang\",\"Sedang\",\"Sedang\",\"Sedang\",\"Sedang\",\"Sedang\",\"Sedang\",\"Sedang\",\"Sedang\",\"Sedang\",\"Sedang\",\"Sedang\",\"Sedang\",\"Sedang\",\"Sedang\",\"Sedang\",\"Sedang\",\"Sedang\",\"Sedang\",\"Sedang\",\"Sedang\",\"Sedang\",\"Sedang\",\"Sedang\"],\"xaxis\":\"x\",\"yaxis\":\"y\",\"type\":\"histogram\"},{\"alignmentgroup\":\"True\",\"bingroup\":\"x\",\"hovertemplate\":\"Kategori Penggunaan=%{x}\\u003cbr\\u003ecount=%{y}\\u003cextra\\u003e\\u003c\\u002fextra\\u003e\",\"legendgroup\":\"Tinggi\",\"marker\":{\"color\":\"#9c179e\",\"pattern\":{\"shape\":\"\"}},\"name\":\"Tinggi\",\"offsetgroup\":\"Tinggi\",\"orientation\":\"v\",\"showlegend\":true,\"x\":[\"Tinggi\",\"Tinggi\",\"Tinggi\",\"Tinggi\",\"Tinggi\",\"Tinggi\",\"Tinggi\",\"Tinggi\",\"Tinggi\",\"Tinggi\",\"Tinggi\",\"Tinggi\",\"Tinggi\",\"Tinggi\",\"Tinggi\",\"Tinggi\",\"Tinggi\",\"Tinggi\",\"Tinggi\",\"Tinggi\",\"Tinggi\",\"Tinggi\",\"Tinggi\",\"Tinggi\",\"Tinggi\",\"Tinggi\",\"Tinggi\",\"Tinggi\",\"Tinggi\",\"Tinggi\",\"Tinggi\",\"Tinggi\",\"Tinggi\",\"Tinggi\",\"Tinggi\",\"Tinggi\",\"Tinggi\",\"Tinggi\",\"Tinggi\",\"Tinggi\",\"Tinggi\",\"Tinggi\",\"Tinggi\",\"Tinggi\",\"Tinggi\",\"Tinggi\",\"Tinggi\",\"Tinggi\",\"Tinggi\",\"Tinggi\",\"Tinggi\",\"Tinggi\",\"Tinggi\",\"Tinggi\",\"Tinggi\",\"Tinggi\",\"Tinggi\",\"Tinggi\",\"Tinggi\",\"Tinggi\",\"Tinggi\",\"Tinggi\",\"Tinggi\",\"Tinggi\",\"Tinggi\",\"Tinggi\",\"Tinggi\",\"Tinggi\",\"Tinggi\",\"Tinggi\",\"Tinggi\",\"Tinggi\",\"Tinggi\",\"Tinggi\",\"Tinggi\",\"Tinggi\",\"Tinggi\",\"Tinggi\",\"Tinggi\",\"Tinggi\",\"Tinggi\",\"Tinggi\",\"Tinggi\",\"Tinggi\",\"Tinggi\",\"Tinggi\",\"Tinggi\",\"Tinggi\",\"Tinggi\",\"Tinggi\",\"Tinggi\",\"Tinggi\",\"Tinggi\",\"Tinggi\",\"Tinggi\",\"Tinggi\",\"Tinggi\",\"Tinggi\",\"Tinggi\",\"Tinggi\",\"Tinggi\",\"Tinggi\",\"Tinggi\",\"Tinggi\",\"Tinggi\",\"Tinggi\",\"Tinggi\",\"Tinggi\",\"Tinggi\",\"Tinggi\",\"Tinggi\",\"Tinggi\",\"Tinggi\",\"Tinggi\",\"Tinggi\",\"Tinggi\",\"Tinggi\",\"Tinggi\",\"Tinggi\",\"Tinggi\",\"Tinggi\",\"Tinggi\",\"Tinggi\",\"Tinggi\",\"Tinggi\",\"Tinggi\",\"Tinggi\",\"Tinggi\",\"Tinggi\",\"Tinggi\",\"Tinggi\",\"Tinggi\",\"Tinggi\",\"Tinggi\",\"Tinggi\",\"Tinggi\",\"Tinggi\",\"Tinggi\",\"Tinggi\",\"Tinggi\",\"Tinggi\",\"Tinggi\",\"Tinggi\",\"Tinggi\",\"Tinggi\",\"Tinggi\",\"Tinggi\",\"Tinggi\",\"Tinggi\",\"Tinggi\",\"Tinggi\",\"Tinggi\",\"Tinggi\",\"Tinggi\",\"Tinggi\",\"Tinggi\",\"Tinggi\",\"Tinggi\",\"Tinggi\",\"Tinggi\",\"Tinggi\",\"Tinggi\",\"Tinggi\",\"Tinggi\",\"Tinggi\",\"Tinggi\",\"Tinggi\",\"Tinggi\"],\"xaxis\":\"x\",\"yaxis\":\"y\",\"type\":\"histogram\"}],                        {\"template\":{\"data\":{\"barpolar\":[{\"marker\":{\"line\":{\"color\":\"white\",\"width\":0.5},\"pattern\":{\"fillmode\":\"overlay\",\"size\":10,\"solidity\":0.2}},\"type\":\"barpolar\"}],\"bar\":[{\"error_x\":{\"color\":\"#2a3f5f\"},\"error_y\":{\"color\":\"#2a3f5f\"},\"marker\":{\"line\":{\"color\":\"white\",\"width\":0.5},\"pattern\":{\"fillmode\":\"overlay\",\"size\":10,\"solidity\":0.2}},\"type\":\"bar\"}],\"carpet\":[{\"aaxis\":{\"endlinecolor\":\"#2a3f5f\",\"gridcolor\":\"#C8D4E3\",\"linecolor\":\"#C8D4E3\",\"minorgridcolor\":\"#C8D4E3\",\"startlinecolor\":\"#2a3f5f\"},\"baxis\":{\"endlinecolor\":\"#2a3f5f\",\"gridcolor\":\"#C8D4E3\",\"linecolor\":\"#C8D4E3\",\"minorgridcolor\":\"#C8D4E3\",\"startlinecolor\":\"#2a3f5f\"},\"type\":\"carpet\"}],\"choropleth\":[{\"colorbar\":{\"outlinewidth\":0,\"ticks\":\"\"},\"type\":\"choropleth\"}],\"contourcarpet\":[{\"colorbar\":{\"outlinewidth\":0,\"ticks\":\"\"},\"type\":\"contourcarpet\"}],\"contour\":[{\"colorbar\":{\"outlinewidth\":0,\"ticks\":\"\"},\"colorscale\":[[0.0,\"#0d0887\"],[0.1111111111111111,\"#46039f\"],[0.2222222222222222,\"#7201a8\"],[0.3333333333333333,\"#9c179e\"],[0.4444444444444444,\"#bd3786\"],[0.5555555555555556,\"#d8576b\"],[0.6666666666666666,\"#ed7953\"],[0.7777777777777778,\"#fb9f3a\"],[0.8888888888888888,\"#fdca26\"],[1.0,\"#f0f921\"]],\"type\":\"contour\"}],\"heatmapgl\":[{\"colorbar\":{\"outlinewidth\":0,\"ticks\":\"\"},\"colorscale\":[[0.0,\"#0d0887\"],[0.1111111111111111,\"#46039f\"],[0.2222222222222222,\"#7201a8\"],[0.3333333333333333,\"#9c179e\"],[0.4444444444444444,\"#bd3786\"],[0.5555555555555556,\"#d8576b\"],[0.6666666666666666,\"#ed7953\"],[0.7777777777777778,\"#fb9f3a\"],[0.8888888888888888,\"#fdca26\"],[1.0,\"#f0f921\"]],\"type\":\"heatmapgl\"}],\"heatmap\":[{\"colorbar\":{\"outlinewidth\":0,\"ticks\":\"\"},\"colorscale\":[[0.0,\"#0d0887\"],[0.1111111111111111,\"#46039f\"],[0.2222222222222222,\"#7201a8\"],[0.3333333333333333,\"#9c179e\"],[0.4444444444444444,\"#bd3786\"],[0.5555555555555556,\"#d8576b\"],[0.6666666666666666,\"#ed7953\"],[0.7777777777777778,\"#fb9f3a\"],[0.8888888888888888,\"#fdca26\"],[1.0,\"#f0f921\"]],\"type\":\"heatmap\"}],\"histogram2dcontour\":[{\"colorbar\":{\"outlinewidth\":0,\"ticks\":\"\"},\"colorscale\":[[0.0,\"#0d0887\"],[0.1111111111111111,\"#46039f\"],[0.2222222222222222,\"#7201a8\"],[0.3333333333333333,\"#9c179e\"],[0.4444444444444444,\"#bd3786\"],[0.5555555555555556,\"#d8576b\"],[0.6666666666666666,\"#ed7953\"],[0.7777777777777778,\"#fb9f3a\"],[0.8888888888888888,\"#fdca26\"],[1.0,\"#f0f921\"]],\"type\":\"histogram2dcontour\"}],\"histogram2d\":[{\"colorbar\":{\"outlinewidth\":0,\"ticks\":\"\"},\"colorscale\":[[0.0,\"#0d0887\"],[0.1111111111111111,\"#46039f\"],[0.2222222222222222,\"#7201a8\"],[0.3333333333333333,\"#9c179e\"],[0.4444444444444444,\"#bd3786\"],[0.5555555555555556,\"#d8576b\"],[0.6666666666666666,\"#ed7953\"],[0.7777777777777778,\"#fb9f3a\"],[0.8888888888888888,\"#fdca26\"],[1.0,\"#f0f921\"]],\"type\":\"histogram2d\"}],\"histogram\":[{\"marker\":{\"pattern\":{\"fillmode\":\"overlay\",\"size\":10,\"solidity\":0.2}},\"type\":\"histogram\"}],\"mesh3d\":[{\"colorbar\":{\"outlinewidth\":0,\"ticks\":\"\"},\"type\":\"mesh3d\"}],\"parcoords\":[{\"line\":{\"colorbar\":{\"outlinewidth\":0,\"ticks\":\"\"}},\"type\":\"parcoords\"}],\"pie\":[{\"automargin\":true,\"type\":\"pie\"}],\"scatter3d\":[{\"line\":{\"colorbar\":{\"outlinewidth\":0,\"ticks\":\"\"}},\"marker\":{\"colorbar\":{\"outlinewidth\":0,\"ticks\":\"\"}},\"type\":\"scatter3d\"}],\"scattercarpet\":[{\"marker\":{\"colorbar\":{\"outlinewidth\":0,\"ticks\":\"\"}},\"type\":\"scattercarpet\"}],\"scattergeo\":[{\"marker\":{\"colorbar\":{\"outlinewidth\":0,\"ticks\":\"\"}},\"type\":\"scattergeo\"}],\"scattergl\":[{\"marker\":{\"colorbar\":{\"outlinewidth\":0,\"ticks\":\"\"}},\"type\":\"scattergl\"}],\"scattermapbox\":[{\"marker\":{\"colorbar\":{\"outlinewidth\":0,\"ticks\":\"\"}},\"type\":\"scattermapbox\"}],\"scatterpolargl\":[{\"marker\":{\"colorbar\":{\"outlinewidth\":0,\"ticks\":\"\"}},\"type\":\"scatterpolargl\"}],\"scatterpolar\":[{\"marker\":{\"colorbar\":{\"outlinewidth\":0,\"ticks\":\"\"}},\"type\":\"scatterpolar\"}],\"scatter\":[{\"fillpattern\":{\"fillmode\":\"overlay\",\"size\":10,\"solidity\":0.2},\"type\":\"scatter\"}],\"scatterternary\":[{\"marker\":{\"colorbar\":{\"outlinewidth\":0,\"ticks\":\"\"}},\"type\":\"scatterternary\"}],\"surface\":[{\"colorbar\":{\"outlinewidth\":0,\"ticks\":\"\"},\"colorscale\":[[0.0,\"#0d0887\"],[0.1111111111111111,\"#46039f\"],[0.2222222222222222,\"#7201a8\"],[0.3333333333333333,\"#9c179e\"],[0.4444444444444444,\"#bd3786\"],[0.5555555555555556,\"#d8576b\"],[0.6666666666666666,\"#ed7953\"],[0.7777777777777778,\"#fb9f3a\"],[0.8888888888888888,\"#fdca26\"],[1.0,\"#f0f921\"]],\"type\":\"surface\"}],\"table\":[{\"cells\":{\"fill\":{\"color\":\"#EBF0F8\"},\"line\":{\"color\":\"white\"}},\"header\":{\"fill\":{\"color\":\"#C8D4E3\"},\"line\":{\"color\":\"white\"}},\"type\":\"table\"}]},\"layout\":{\"annotationdefaults\":{\"arrowcolor\":\"#2a3f5f\",\"arrowhead\":0,\"arrowwidth\":1},\"autotypenumbers\":\"strict\",\"coloraxis\":{\"colorbar\":{\"outlinewidth\":0,\"ticks\":\"\"}},\"colorscale\":{\"diverging\":[[0,\"#8e0152\"],[0.1,\"#c51b7d\"],[0.2,\"#de77ae\"],[0.3,\"#f1b6da\"],[0.4,\"#fde0ef\"],[0.5,\"#f7f7f7\"],[0.6,\"#e6f5d0\"],[0.7,\"#b8e186\"],[0.8,\"#7fbc41\"],[0.9,\"#4d9221\"],[1,\"#276419\"]],\"sequential\":[[0.0,\"#0d0887\"],[0.1111111111111111,\"#46039f\"],[0.2222222222222222,\"#7201a8\"],[0.3333333333333333,\"#9c179e\"],[0.4444444444444444,\"#bd3786\"],[0.5555555555555556,\"#d8576b\"],[0.6666666666666666,\"#ed7953\"],[0.7777777777777778,\"#fb9f3a\"],[0.8888888888888888,\"#fdca26\"],[1.0,\"#f0f921\"]],\"sequentialminus\":[[0.0,\"#0d0887\"],[0.1111111111111111,\"#46039f\"],[0.2222222222222222,\"#7201a8\"],[0.3333333333333333,\"#9c179e\"],[0.4444444444444444,\"#bd3786\"],[0.5555555555555556,\"#d8576b\"],[0.6666666666666666,\"#ed7953\"],[0.7777777777777778,\"#fb9f3a\"],[0.8888888888888888,\"#fdca26\"],[1.0,\"#f0f921\"]]},\"colorway\":[\"#636efa\",\"#EF553B\",\"#00cc96\",\"#ab63fa\",\"#FFA15A\",\"#19d3f3\",\"#FF6692\",\"#B6E880\",\"#FF97FF\",\"#FECB52\"],\"font\":{\"color\":\"#2a3f5f\"},\"geo\":{\"bgcolor\":\"white\",\"lakecolor\":\"white\",\"landcolor\":\"white\",\"showlakes\":true,\"showland\":true,\"subunitcolor\":\"#C8D4E3\"},\"hoverlabel\":{\"align\":\"left\"},\"hovermode\":\"closest\",\"mapbox\":{\"style\":\"light\"},\"paper_bgcolor\":\"white\",\"plot_bgcolor\":\"white\",\"polar\":{\"angularaxis\":{\"gridcolor\":\"#EBF0F8\",\"linecolor\":\"#EBF0F8\",\"ticks\":\"\"},\"bgcolor\":\"white\",\"radialaxis\":{\"gridcolor\":\"#EBF0F8\",\"linecolor\":\"#EBF0F8\",\"ticks\":\"\"}},\"scene\":{\"xaxis\":{\"backgroundcolor\":\"white\",\"gridcolor\":\"#DFE8F3\",\"gridwidth\":2,\"linecolor\":\"#EBF0F8\",\"showbackground\":true,\"ticks\":\"\",\"zerolinecolor\":\"#EBF0F8\"},\"yaxis\":{\"backgroundcolor\":\"white\",\"gridcolor\":\"#DFE8F3\",\"gridwidth\":2,\"linecolor\":\"#EBF0F8\",\"showbackground\":true,\"ticks\":\"\",\"zerolinecolor\":\"#EBF0F8\"},\"zaxis\":{\"backgroundcolor\":\"white\",\"gridcolor\":\"#DFE8F3\",\"gridwidth\":2,\"linecolor\":\"#EBF0F8\",\"showbackground\":true,\"ticks\":\"\",\"zerolinecolor\":\"#EBF0F8\"}},\"shapedefaults\":{\"line\":{\"color\":\"#2a3f5f\"}},\"ternary\":{\"aaxis\":{\"gridcolor\":\"#DFE8F3\",\"linecolor\":\"#A2B1C6\",\"ticks\":\"\"},\"baxis\":{\"gridcolor\":\"#DFE8F3\",\"linecolor\":\"#A2B1C6\",\"ticks\":\"\"},\"bgcolor\":\"white\",\"caxis\":{\"gridcolor\":\"#DFE8F3\",\"linecolor\":\"#A2B1C6\",\"ticks\":\"\"}},\"title\":{\"x\":0.05},\"xaxis\":{\"automargin\":true,\"gridcolor\":\"#EBF0F8\",\"linecolor\":\"#EBF0F8\",\"ticks\":\"\",\"title\":{\"standoff\":15},\"zerolinecolor\":\"#EBF0F8\",\"zerolinewidth\":2},\"yaxis\":{\"automargin\":true,\"gridcolor\":\"#EBF0F8\",\"linecolor\":\"#EBF0F8\",\"ticks\":\"\",\"title\":{\"standoff\":15},\"zerolinecolor\":\"#EBF0F8\",\"zerolinewidth\":2}}},\"xaxis\":{\"anchor\":\"y\",\"domain\":[0.0,1.0],\"title\":{\"text\":\"Kategori Penggunaan\"},\"categoryorder\":\"array\",\"categoryarray\":[\"Sangat Rendah\",\"Rendah\",\"Sedang\",\"Tinggi\",null]},\"yaxis\":{\"anchor\":\"x\",\"domain\":[0.0,1.0],\"title\":{\"text\":\"count\"}},\"legend\":{\"title\":{\"text\":\"Kategori Penggunaan\"},\"tracegroupgap\":0},\"title\":{\"text\":\"Distribusi Kategori Penggunaan Sepeda Harian\"},\"barmode\":\"relative\",\"bargap\":0.1},                        {\"responsive\": true}                    ).then(function(){\n",
              "                            \n",
              "var gd = document.getElementById('db38fad8-b669-49d1-aa0b-ffd02694de60');\n",
              "var x = new MutationObserver(function (mutations, observer) {{\n",
              "        var display = window.getComputedStyle(gd).display;\n",
              "        if (!display || display === 'none') {{\n",
              "            console.log([gd, 'removed!']);\n",
              "            Plotly.purge(gd);\n",
              "            observer.disconnect();\n",
              "        }}\n",
              "}});\n",
              "\n",
              "// Listen for the removal of the full notebook cells\n",
              "var notebookContainer = gd.closest('#notebook-container');\n",
              "if (notebookContainer) {{\n",
              "    x.observe(notebookContainer, {childList: true});\n",
              "}}\n",
              "\n",
              "// Listen for the clearing of the current output cell\n",
              "var outputEl = gd.closest('.output');\n",
              "if (outputEl) {{\n",
              "    x.observe(outputEl, {childList: true});\n",
              "}}\n",
              "\n",
              "                        })                };                            </script>        </div>\n",
              "</body>\n",
              "</html>"
            ]
          },
          "metadata": {}
        },
        {
          "output_type": "display_data",
          "data": {
            "text/plain": [
              "<Figure size 800x600 with 2 Axes>"
            ],
            "image/png": "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\n"
          },
          "metadata": {}
        }
      ]
    },
    {
      "cell_type": "markdown",
      "source": [
        "# **Conclusion**\n",
        "\n",
        "### Conclution pertanyaan 1\n",
        "- Cuaca cerah meningkatkan penyewaan secara signifikan (rata-rata > 4000), sedangkan hujan berat menurunkan penyewaan drastis (< 1000). Variabilitas penyewaan lebih tinggi saat cuaca berawan, menunjukkan ketidakpastian pengguna.\n",
        "\n",
        "### Conclution pertanyaan 2\n",
        "- Penyewaan tertinggi terjadi pada jam sibuk (08.00 dan 17.00-18.00) di hari kerja, mengindikasikan penggunaan untuk commuting. Akhir pekan menunjukkan pola yang lebih merata sepanjang hari.\n",
        "\n",
        "### Colab paid products - Cancel contracts here\n",
        "- [Tidak ada kontrak berbayar di sini, ini hanya placeholder sesuai format.]"
      ],
      "metadata": {
        "id": "67YnBbsA3jGz"
      }
    }
  ]
}
>>>>>>> 947d53d9dbf8a8de92e8370e88db54ed01502f56
