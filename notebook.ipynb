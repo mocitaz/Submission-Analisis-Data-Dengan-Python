{
 "cells": [
  {
   "cell_type": "markdown",
   "metadata": {},
   "source": [
    "# **Proyek Analisis Data: Bike Sharing Dataset**\n",
    "\n",
    "**Nama:** Luthfi Fauzi  \n",
    "**Email:** luthfafiwork@gmail.com  \n",
    "**ID Dicoding:** mocitaz "
   ]
  },
  {
   "cell_type": "markdown",
   "metadata": {},
   "source": [
    "## Pendahuluan\n",
    "\n",
    "Proyek ini bertujuan untuk menganalisis pola penggunaan sepeda dengan menggunakan **Bike Sharing Dataset** yang bersumber dari Kaggle. Dataset ini mencakup data harian (`day.csv`) dan data per jam (`hour.csv`) yang diambil dari sistem penyewaan sepeda di Washington D.C. selama dua tahun (2011-2012). \n",
    "\n",
    "### Tujuan Analisis:\n",
    "1. **Menentukan pengaruh cuaca terhadap jumlah penyewaan sepeda.**\n",
    "2. **Mengidentifikasi pola penggunaan sepeda berdasarkan hari dalam seminggu dan jam.**\n"
   ]
  },
  {
   "cell_type": "markdown",
   "metadata": {},
   "source": [
    "## Menentukan Pertanyaan Bisns\n",
    "\n",
    "### Pertanyaan 1:\n",
    "- **Bagaimana kondisi cuaca memengaruhi jumlah penyewaan sepeda?**  \n",
    "  **Tujuan:** Memahami hubungan antara kondisi cuaca dan tingkat penggunaan sepeda untuk optimasi distribusi sepeda.\n",
    "\n",
    "### Pertanyaan 2:\n",
    "- **Bagaimana pola penggunaan sepeda berdasarkan hari dalam seminggu dan jam?**  \n",
    "  **Tujuan:** Mengidentifikasi waktu puncak penyewaan untuk meningkatkan efisiensi operasional dan perencanaan stasiun sepeda.\n"
   ]
  },
  {
   "cell_type": "markdown",
   "metadata": {},
   "source": [
    "# **Gathering Data**"
   ]
  },
  {
   "cell_type": "markdown",
   "metadata": {},
   "source": [
    "### **1. Memuat library dan Menyiapkan Data**\n",
    "\n",
    "#### Memuat Dataset\n",
    "Proses pertama adalah memuat data dari file CSV yang berisi data penyewaan sepeda harian dan per jam."
   ]
  },
  {
   "cell_type": "code",
   "execution_count": null,
   "metadata": {},
   "outputs": [
    {
     "name": "stdout",
     "output_type": "stream",
     "text": [
      "Dataset berhasil dimuat.\n"
     ]
    }
   ],
   "source": [
    "# Impor pustaka yang diperlukan\n",
    "import pandas as pd  # Mengimpor pandas\n",
    "import numpy as np\n",
    "import matplotlib.pyplot as plt\n",
    "import seaborn as sns\n",
    "import plotly.express as px\n",
    "import plotly.graph_objects as go\n",
    "from datetime import datetime\n",
    "import warnings\n",
    "import streamlit as st  # Jika menggunakan Streamlit untuk dashboard\n",
    "\n",
    "# Set untuk menghindari peringatan\n",
    "warnings.filterwarnings('ignore')\n",
    "\n",
    "# Set style menggunakan Seaborn\n",
    "sns.set_style(\"whitegrid\")  \n",
    "plt.rcParams['figure.figsize'] = (10, 6)  \n",
    "\n",
    "# Memuat dataset\n",
    "try:\n",
    "    day_df = pd.read_csv(\"data/day.csv\")\n",
    "    hour_df = pd.read_csv(\"data/hour.csv\")\n",
    "    print(\"Dataset berhasil dimuat.\")\n",
    "except FileNotFoundError:\n",
    "    print(\"Error: File 'day.csv' atau 'hour.csv' tidak ditemukan di direktori 'data/'. Pastikan file ada.\")\n"
   ]
  },
  {
   "cell_type": "code",
   "execution_count": 1,
   "metadata": {},
   "outputs": [
    {
     "name": "stdout",
     "output_type": "stream",
     "text": [
      "\n",
      "Pratinjau Data Harian (5 Baris Pertama):\n"
     ]
    },
    {
     "ename": "NameError",
     "evalue": "name 'day_df' is not defined",
     "output_type": "error",
     "traceback": [
      "\u001b[31m---------------------------------------------------------------------------\u001b[39m",
      "\u001b[31mNameError\u001b[39m                                 Traceback (most recent call last)",
      "\u001b[36mCell\u001b[39m\u001b[36m \u001b[39m\u001b[32mIn[1]\u001b[39m\u001b[32m, line 3\u001b[39m\n\u001b[32m      1\u001b[39m \u001b[38;5;66;03m# Menampilkan pratinjau data\u001b[39;00m\n\u001b[32m      2\u001b[39m \u001b[38;5;28mprint\u001b[39m(\u001b[33m\"\u001b[39m\u001b[38;5;130;01m\\n\u001b[39;00m\u001b[33mPratinjau Data Harian (5 Baris Pertama):\u001b[39m\u001b[33m\"\u001b[39m)\n\u001b[32m----> \u001b[39m\u001b[32m3\u001b[39m display(\u001b[43mday_df\u001b[49m.head())\n\u001b[32m      4\u001b[39m \u001b[38;5;28mprint\u001b[39m(\u001b[33m\"\u001b[39m\u001b[38;5;130;01m\\n\u001b[39;00m\u001b[33mPratinjau Data Per Jam (5 Baris Pertama):\u001b[39m\u001b[33m\"\u001b[39m)\n\u001b[32m      5\u001b[39m display(hour_df.head())\n",
      "\u001b[31mNameError\u001b[39m: name 'day_df' is not defined"
     ]
    }
   ],
   "source": [
    "# Menampilkan pratinjau data\n",
    "print(\"\\nPratinjau Data Harian (5 Baris Pertama):\")\n",
    "display(day_df.head())\n",
    "print(\"\\nPratinjau Data Per Jam (5 Baris Pertama):\")\n",
    "display(hour_df.head())\n"
   ]
  },
  {
   "cell_type": "markdown",
   "metadata": {},
   "source": [
    "## **2. Cleaning & Transformasi Data**\n"
   ]
  },
  {
   "cell_type": "markdown",
   "metadata": {},
   "source": [
    "### 2.1 Pratinjau Data\n",
    "Setelah memuat dataset day.csv dan hour.csv, langkah pertama adalah memeriksa 5 baris pertama untuk memvalidasi struktur data dan memastikan tidak ada masalah format.\n"
   ]
  },
  {
   "cell_type": "code",
   "execution_count": null,
   "metadata": {},
   "outputs": [
    {
     "name": "stdout",
     "output_type": "stream",
     "text": [
      "\n",
      "Pratinjau Data Harian (5 Baris Pertama):\n"
     ]
    },
    {
     "data": {
      "text/html": [
       "<div>\n",
       "<style scoped>\n",
       "    .dataframe tbody tr th:only-of-type {\n",
       "        vertical-align: middle;\n",
       "    }\n",
       "\n",
       "    .dataframe tbody tr th {\n",
       "        vertical-align: top;\n",
       "    }\n",
       "\n",
       "    .dataframe thead th {\n",
       "        text-align: right;\n",
       "    }\n",
       "</style>\n",
       "<table border=\"1\" class=\"dataframe\">\n",
       "  <thead>\n",
       "    <tr style=\"text-align: right;\">\n",
       "      <th></th>\n",
       "      <th>instant</th>\n",
       "      <th>dteday</th>\n",
       "      <th>season</th>\n",
       "      <th>yr</th>\n",
       "      <th>mnth</th>\n",
       "      <th>holiday</th>\n",
       "      <th>weekday</th>\n",
       "      <th>workingday</th>\n",
       "      <th>weathersit</th>\n",
       "      <th>temp</th>\n",
       "      <th>atemp</th>\n",
       "      <th>hum</th>\n",
       "      <th>windspeed</th>\n",
       "      <th>casual</th>\n",
       "      <th>registered</th>\n",
       "      <th>cnt</th>\n",
       "    </tr>\n",
       "  </thead>\n",
       "  <tbody>\n",
       "    <tr>\n",
       "      <th>0</th>\n",
       "      <td>1</td>\n",
       "      <td>2011-01-01</td>\n",
       "      <td>1</td>\n",
       "      <td>0</td>\n",
       "      <td>1</td>\n",
       "      <td>0</td>\n",
       "      <td>6</td>\n",
       "      <td>0</td>\n",
       "      <td>2</td>\n",
       "      <td>0.344167</td>\n",
       "      <td>0.363625</td>\n",
       "      <td>0.805833</td>\n",
       "      <td>0.160446</td>\n",
       "      <td>331</td>\n",
       "      <td>654</td>\n",
       "      <td>985</td>\n",
       "    </tr>\n",
       "    <tr>\n",
       "      <th>1</th>\n",
       "      <td>2</td>\n",
       "      <td>2011-01-02</td>\n",
       "      <td>1</td>\n",
       "      <td>0</td>\n",
       "      <td>1</td>\n",
       "      <td>0</td>\n",
       "      <td>0</td>\n",
       "      <td>0</td>\n",
       "      <td>2</td>\n",
       "      <td>0.363478</td>\n",
       "      <td>0.353739</td>\n",
       "      <td>0.696087</td>\n",
       "      <td>0.248539</td>\n",
       "      <td>131</td>\n",
       "      <td>670</td>\n",
       "      <td>801</td>\n",
       "    </tr>\n",
       "    <tr>\n",
       "      <th>2</th>\n",
       "      <td>3</td>\n",
       "      <td>2011-01-03</td>\n",
       "      <td>1</td>\n",
       "      <td>0</td>\n",
       "      <td>1</td>\n",
       "      <td>0</td>\n",
       "      <td>1</td>\n",
       "      <td>1</td>\n",
       "      <td>1</td>\n",
       "      <td>0.196364</td>\n",
       "      <td>0.189405</td>\n",
       "      <td>0.437273</td>\n",
       "      <td>0.248309</td>\n",
       "      <td>120</td>\n",
       "      <td>1229</td>\n",
       "      <td>1349</td>\n",
       "    </tr>\n",
       "    <tr>\n",
       "      <th>3</th>\n",
       "      <td>4</td>\n",
       "      <td>2011-01-04</td>\n",
       "      <td>1</td>\n",
       "      <td>0</td>\n",
       "      <td>1</td>\n",
       "      <td>0</td>\n",
       "      <td>2</td>\n",
       "      <td>1</td>\n",
       "      <td>1</td>\n",
       "      <td>0.200000</td>\n",
       "      <td>0.212122</td>\n",
       "      <td>0.590435</td>\n",
       "      <td>0.160296</td>\n",
       "      <td>108</td>\n",
       "      <td>1454</td>\n",
       "      <td>1562</td>\n",
       "    </tr>\n",
       "    <tr>\n",
       "      <th>4</th>\n",
       "      <td>5</td>\n",
       "      <td>2011-01-05</td>\n",
       "      <td>1</td>\n",
       "      <td>0</td>\n",
       "      <td>1</td>\n",
       "      <td>0</td>\n",
       "      <td>3</td>\n",
       "      <td>1</td>\n",
       "      <td>1</td>\n",
       "      <td>0.226957</td>\n",
       "      <td>0.229270</td>\n",
       "      <td>0.436957</td>\n",
       "      <td>0.186900</td>\n",
       "      <td>82</td>\n",
       "      <td>1518</td>\n",
       "      <td>1600</td>\n",
       "    </tr>\n",
       "  </tbody>\n",
       "</table>\n",
       "</div>"
      ],
      "text/plain": [
       "   instant      dteday  season  yr  mnth  holiday  weekday  workingday  \\\n",
       "0        1  2011-01-01       1   0     1        0        6           0   \n",
       "1        2  2011-01-02       1   0     1        0        0           0   \n",
       "2        3  2011-01-03       1   0     1        0        1           1   \n",
       "3        4  2011-01-04       1   0     1        0        2           1   \n",
       "4        5  2011-01-05       1   0     1        0        3           1   \n",
       "\n",
       "   weathersit      temp     atemp       hum  windspeed  casual  registered  \\\n",
       "0           2  0.344167  0.363625  0.805833   0.160446     331         654   \n",
       "1           2  0.363478  0.353739  0.696087   0.248539     131         670   \n",
       "2           1  0.196364  0.189405  0.437273   0.248309     120        1229   \n",
       "3           1  0.200000  0.212122  0.590435   0.160296     108        1454   \n",
       "4           1  0.226957  0.229270  0.436957   0.186900      82        1518   \n",
       "\n",
       "    cnt  \n",
       "0   985  \n",
       "1   801  \n",
       "2  1349  \n",
       "3  1562  \n",
       "4  1600  "
      ]
     },
     "metadata": {},
     "output_type": "display_data"
    },
    {
     "name": "stdout",
     "output_type": "stream",
     "text": [
      "\n",
      "Pratinjau Data Per Jam (5 Baris Pertama):\n"
     ]
    },
    {
     "data": {
      "text/html": [
       "<div>\n",
       "<style scoped>\n",
       "    .dataframe tbody tr th:only-of-type {\n",
       "        vertical-align: middle;\n",
       "    }\n",
       "\n",
       "    .dataframe tbody tr th {\n",
       "        vertical-align: top;\n",
       "    }\n",
       "\n",
       "    .dataframe thead th {\n",
       "        text-align: right;\n",
       "    }\n",
       "</style>\n",
       "<table border=\"1\" class=\"dataframe\">\n",
       "  <thead>\n",
       "    <tr style=\"text-align: right;\">\n",
       "      <th></th>\n",
       "      <th>instant</th>\n",
       "      <th>dteday</th>\n",
       "      <th>season</th>\n",
       "      <th>yr</th>\n",
       "      <th>mnth</th>\n",
       "      <th>hr</th>\n",
       "      <th>holiday</th>\n",
       "      <th>weekday</th>\n",
       "      <th>workingday</th>\n",
       "      <th>weathersit</th>\n",
       "      <th>temp</th>\n",
       "      <th>atemp</th>\n",
       "      <th>hum</th>\n",
       "      <th>windspeed</th>\n",
       "      <th>casual</th>\n",
       "      <th>registered</th>\n",
       "      <th>cnt</th>\n",
       "    </tr>\n",
       "  </thead>\n",
       "  <tbody>\n",
       "    <tr>\n",
       "      <th>0</th>\n",
       "      <td>1</td>\n",
       "      <td>2011-01-01</td>\n",
       "      <td>1</td>\n",
       "      <td>0</td>\n",
       "      <td>1</td>\n",
       "      <td>0</td>\n",
       "      <td>0</td>\n",
       "      <td>6</td>\n",
       "      <td>0</td>\n",
       "      <td>1</td>\n",
       "      <td>0.24</td>\n",
       "      <td>0.2879</td>\n",
       "      <td>0.81</td>\n",
       "      <td>0.0</td>\n",
       "      <td>3</td>\n",
       "      <td>13</td>\n",
       "      <td>16</td>\n",
       "    </tr>\n",
       "    <tr>\n",
       "      <th>1</th>\n",
       "      <td>2</td>\n",
       "      <td>2011-01-01</td>\n",
       "      <td>1</td>\n",
       "      <td>0</td>\n",
       "      <td>1</td>\n",
       "      <td>1</td>\n",
       "      <td>0</td>\n",
       "      <td>6</td>\n",
       "      <td>0</td>\n",
       "      <td>1</td>\n",
       "      <td>0.22</td>\n",
       "      <td>0.2727</td>\n",
       "      <td>0.80</td>\n",
       "      <td>0.0</td>\n",
       "      <td>8</td>\n",
       "      <td>32</td>\n",
       "      <td>40</td>\n",
       "    </tr>\n",
       "    <tr>\n",
       "      <th>2</th>\n",
       "      <td>3</td>\n",
       "      <td>2011-01-01</td>\n",
       "      <td>1</td>\n",
       "      <td>0</td>\n",
       "      <td>1</td>\n",
       "      <td>2</td>\n",
       "      <td>0</td>\n",
       "      <td>6</td>\n",
       "      <td>0</td>\n",
       "      <td>1</td>\n",
       "      <td>0.22</td>\n",
       "      <td>0.2727</td>\n",
       "      <td>0.80</td>\n",
       "      <td>0.0</td>\n",
       "      <td>5</td>\n",
       "      <td>27</td>\n",
       "      <td>32</td>\n",
       "    </tr>\n",
       "    <tr>\n",
       "      <th>3</th>\n",
       "      <td>4</td>\n",
       "      <td>2011-01-01</td>\n",
       "      <td>1</td>\n",
       "      <td>0</td>\n",
       "      <td>1</td>\n",
       "      <td>3</td>\n",
       "      <td>0</td>\n",
       "      <td>6</td>\n",
       "      <td>0</td>\n",
       "      <td>1</td>\n",
       "      <td>0.24</td>\n",
       "      <td>0.2879</td>\n",
       "      <td>0.75</td>\n",
       "      <td>0.0</td>\n",
       "      <td>3</td>\n",
       "      <td>10</td>\n",
       "      <td>13</td>\n",
       "    </tr>\n",
       "    <tr>\n",
       "      <th>4</th>\n",
       "      <td>5</td>\n",
       "      <td>2011-01-01</td>\n",
       "      <td>1</td>\n",
       "      <td>0</td>\n",
       "      <td>1</td>\n",
       "      <td>4</td>\n",
       "      <td>0</td>\n",
       "      <td>6</td>\n",
       "      <td>0</td>\n",
       "      <td>1</td>\n",
       "      <td>0.24</td>\n",
       "      <td>0.2879</td>\n",
       "      <td>0.75</td>\n",
       "      <td>0.0</td>\n",
       "      <td>0</td>\n",
       "      <td>1</td>\n",
       "      <td>1</td>\n",
       "    </tr>\n",
       "  </tbody>\n",
       "</table>\n",
       "</div>"
      ],
      "text/plain": [
       "   instant      dteday  season  yr  mnth  hr  holiday  weekday  workingday  \\\n",
       "0        1  2011-01-01       1   0     1   0        0        6           0   \n",
       "1        2  2011-01-01       1   0     1   1        0        6           0   \n",
       "2        3  2011-01-01       1   0     1   2        0        6           0   \n",
       "3        4  2011-01-01       1   0     1   3        0        6           0   \n",
       "4        5  2011-01-01       1   0     1   4        0        6           0   \n",
       "\n",
       "   weathersit  temp   atemp   hum  windspeed  casual  registered  cnt  \n",
       "0           1  0.24  0.2879  0.81        0.0       3          13   16  \n",
       "1           1  0.22  0.2727  0.80        0.0       8          32   40  \n",
       "2           1  0.22  0.2727  0.80        0.0       5          27   32  \n",
       "3           1  0.24  0.2879  0.75        0.0       3          10   13  \n",
       "4           1  0.24  0.2879  0.75        0.0       0           1    1  "
      ]
     },
     "metadata": {},
     "output_type": "display_data"
    }
   ],
   "source": [
    "# Menampilkan pratinjau data\n",
    "print(\"\\nPratinjau Data Harian (5 Baris Pertama):\")\n",
    "display(day_df.head())\n",
    "\n",
    "print(\"\\nPratinjau Data Per Jam (5 Baris Pertama):\")\n",
    "display(hour_df.head())\n"
   ]
  },
  {
   "cell_type": "markdown",
   "metadata": {},
   "source": [
    "### 2.2 Cleaning Data\n",
    "Konversi Kolom Tanggal ke Format Datetime\n",
    "Kolom dteday perlu dikonversi ke format datetime agar dapat digunakan untuk analisis berbasis waktu."
   ]
  },
  {
   "cell_type": "code",
   "execution_count": null,
   "metadata": {},
   "outputs": [
    {
     "name": "stdout",
     "output_type": "stream",
     "text": [
      "Kolom 'dteday' berhasil dikonversi ke datetime.\n"
     ]
    }
   ],
   "source": [
    "# Konversi kolom tanggal ke format datetime\n",
    "try:\n",
    "    day_df['dteday'] = pd.to_datetime(day_df['dteday'], errors='coerce')\n",
    "    hour_df['dteday'] = pd.to_datetime(hour_df['dteday'], errors='coerce')\n",
    "    print(\"Kolom 'dteday' berhasil dikonversi ke datetime.\")\n",
    "except Exception as e:\n",
    "    print(f\"Error dalam konversi 'dteday': {e}\")\n"
   ]
  },
  {
   "cell_type": "markdown",
   "metadata": {},
   "source": [
    "### 2.3 Mapping Kategori Cuaca\n",
    "Kolom weathersit berisi nilai numerik yang perlu dipetakan ke kategori cuaca deskriptif untuk analisis lebih lanjut."
   ]
  },
  {
   "cell_type": "code",
   "execution_count": null,
   "metadata": {},
   "outputs": [
    {
     "name": "stdout",
     "output_type": "stream",
     "text": [
      "\n",
      "Nilai unik di 'weathersit' (day_df) setelah mapping: ['Berawan' 'Cerah' 'Hujan Ringan']\n",
      "Jumlah nilai NaN di 'weathersit' (day_df): 0\n"
     ]
    }
   ],
   "source": [
    "# Mapping kategori cuaca untuk interpretasi yang lebih jelas\n",
    "weather_map = {1: 'Cerah', 2: 'Berawan', 3: 'Hujan Ringan', 4: 'Hujan Berat'}\n",
    "day_df['weathersit'] = day_df['weathersit'].map(weather_map).fillna('Unknown')\n",
    "hour_df['weathersit'] = hour_df['weathersit'].map(weather_map).fillna('Unknown')\n",
    "\n",
    "# Verifikasi mapping cuaca\n",
    "print(\"\\nNilai unik di 'weathersit' (day_df) setelah mapping:\", day_df['weathersit'].unique())\n",
    "print(\"Jumlah nilai NaN di 'weathersit' (day_df):\", day_df['weathersit'].isna().sum())\n"
   ]
  },
  {
   "cell_type": "markdown",
   "metadata": {},
   "source": [
    "### 2.4 Menambahkan Kolom Informasi Waktu\n",
    "Menambahkan kolom yang berisi nama hari (weekday_name) dan informasi musim (season_name) untuk analisis lebih lanjut."
   ]
  },
  {
   "cell_type": "code",
   "execution_count": null,
   "metadata": {},
   "outputs": [
    {
     "name": "stdout",
     "output_type": "stream",
     "text": [
      "\n",
      "Data Harian Setelah Transformasi:\n"
     ]
    },
    {
     "data": {
      "text/html": [
       "<div>\n",
       "<style scoped>\n",
       "    .dataframe tbody tr th:only-of-type {\n",
       "        vertical-align: middle;\n",
       "    }\n",
       "\n",
       "    .dataframe tbody tr th {\n",
       "        vertical-align: top;\n",
       "    }\n",
       "\n",
       "    .dataframe thead th {\n",
       "        text-align: right;\n",
       "    }\n",
       "</style>\n",
       "<table border=\"1\" class=\"dataframe\">\n",
       "  <thead>\n",
       "    <tr style=\"text-align: right;\">\n",
       "      <th></th>\n",
       "      <th>dteday</th>\n",
       "      <th>weathersit</th>\n",
       "      <th>weekday_name</th>\n",
       "      <th>season_name</th>\n",
       "      <th>temp_celsius</th>\n",
       "    </tr>\n",
       "  </thead>\n",
       "  <tbody>\n",
       "    <tr>\n",
       "      <th>0</th>\n",
       "      <td>2011-01-01</td>\n",
       "      <td>Berawan</td>\n",
       "      <td>Saturday</td>\n",
       "      <td>Musim Dingin</td>\n",
       "      <td>14.110847</td>\n",
       "    </tr>\n",
       "    <tr>\n",
       "      <th>1</th>\n",
       "      <td>2011-01-02</td>\n",
       "      <td>Berawan</td>\n",
       "      <td>Sunday</td>\n",
       "      <td>Musim Dingin</td>\n",
       "      <td>14.902598</td>\n",
       "    </tr>\n",
       "    <tr>\n",
       "      <th>2</th>\n",
       "      <td>2011-01-03</td>\n",
       "      <td>Cerah</td>\n",
       "      <td>Monday</td>\n",
       "      <td>Musim Dingin</td>\n",
       "      <td>8.050924</td>\n",
       "    </tr>\n",
       "    <tr>\n",
       "      <th>3</th>\n",
       "      <td>2011-01-04</td>\n",
       "      <td>Cerah</td>\n",
       "      <td>Tuesday</td>\n",
       "      <td>Musim Dingin</td>\n",
       "      <td>8.200000</td>\n",
       "    </tr>\n",
       "    <tr>\n",
       "      <th>4</th>\n",
       "      <td>2011-01-05</td>\n",
       "      <td>Cerah</td>\n",
       "      <td>Wednesday</td>\n",
       "      <td>Musim Dingin</td>\n",
       "      <td>9.305237</td>\n",
       "    </tr>\n",
       "  </tbody>\n",
       "</table>\n",
       "</div>"
      ],
      "text/plain": [
       "      dteday weathersit weekday_name   season_name  temp_celsius\n",
       "0 2011-01-01    Berawan     Saturday  Musim Dingin     14.110847\n",
       "1 2011-01-02    Berawan       Sunday  Musim Dingin     14.902598\n",
       "2 2011-01-03      Cerah       Monday  Musim Dingin      8.050924\n",
       "3 2011-01-04      Cerah      Tuesday  Musim Dingin      8.200000\n",
       "4 2011-01-05      Cerah    Wednesday  Musim Dingin      9.305237"
      ]
     },
     "metadata": {},
     "output_type": "display_data"
    },
    {
     "name": "stdout",
     "output_type": "stream",
     "text": [
      "\n",
      "Data Per Jam Setelah Transformasi:\n"
     ]
    },
    {
     "data": {
      "text/html": [
       "<div>\n",
       "<style scoped>\n",
       "    .dataframe tbody tr th:only-of-type {\n",
       "        vertical-align: middle;\n",
       "    }\n",
       "\n",
       "    .dataframe tbody tr th {\n",
       "        vertical-align: top;\n",
       "    }\n",
       "\n",
       "    .dataframe thead th {\n",
       "        text-align: right;\n",
       "    }\n",
       "</style>\n",
       "<table border=\"1\" class=\"dataframe\">\n",
       "  <thead>\n",
       "    <tr style=\"text-align: right;\">\n",
       "      <th></th>\n",
       "      <th>dteday</th>\n",
       "      <th>weathersit</th>\n",
       "      <th>weekday_name</th>\n",
       "      <th>temp_celsius</th>\n",
       "    </tr>\n",
       "  </thead>\n",
       "  <tbody>\n",
       "    <tr>\n",
       "      <th>0</th>\n",
       "      <td>2011-01-01</td>\n",
       "      <td>Cerah</td>\n",
       "      <td>Saturday</td>\n",
       "      <td>9.84</td>\n",
       "    </tr>\n",
       "    <tr>\n",
       "      <th>1</th>\n",
       "      <td>2011-01-01</td>\n",
       "      <td>Cerah</td>\n",
       "      <td>Saturday</td>\n",
       "      <td>9.02</td>\n",
       "    </tr>\n",
       "    <tr>\n",
       "      <th>2</th>\n",
       "      <td>2011-01-01</td>\n",
       "      <td>Cerah</td>\n",
       "      <td>Saturday</td>\n",
       "      <td>9.02</td>\n",
       "    </tr>\n",
       "    <tr>\n",
       "      <th>3</th>\n",
       "      <td>2011-01-01</td>\n",
       "      <td>Cerah</td>\n",
       "      <td>Saturday</td>\n",
       "      <td>9.84</td>\n",
       "    </tr>\n",
       "    <tr>\n",
       "      <th>4</th>\n",
       "      <td>2011-01-01</td>\n",
       "      <td>Cerah</td>\n",
       "      <td>Saturday</td>\n",
       "      <td>9.84</td>\n",
       "    </tr>\n",
       "  </tbody>\n",
       "</table>\n",
       "</div>"
      ],
      "text/plain": [
       "      dteday weathersit weekday_name  temp_celsius\n",
       "0 2011-01-01      Cerah     Saturday          9.84\n",
       "1 2011-01-01      Cerah     Saturday          9.02\n",
       "2 2011-01-01      Cerah     Saturday          9.02\n",
       "3 2011-01-01      Cerah     Saturday          9.84\n",
       "4 2011-01-01      Cerah     Saturday          9.84"
      ]
     },
     "metadata": {},
     "output_type": "display_data"
    }
   ],
   "source": [
    "# Menambahkan kolom hari dalam seminggu\n",
    "day_df['weekday_name'] = day_df['dteday'].dt.day_name()\n",
    "hour_df['weekday_name'] = hour_df['dteday'].dt.day_name()\n",
    "hour_df['weekday'] = hour_df['dteday'].dt.weekday  # Untuk heatmap (0-6)\n",
    "\n",
    "# Menambahkan kolom musiman untuk analisis lebih lanjut\n",
    "season_map = {1: 'Musim Dingin', 2: 'Musim Semi', 3: 'Musim Panas', 4: 'Musim Gugur'}\n",
    "day_df['season_name'] = day_df['season'].map(season_map)\n",
    "\n",
    "# Normalisasi suhu (temp) ke skala Celsius\n",
    "day_df['temp_celsius'] = day_df['temp'] * 41  # Skala asli: 0-1, maksimum 41°C\n",
    "hour_df['temp_celsius'] = hour_df['temp'] * 41\n",
    "\n",
    "# Verifikasi data setelah transformasi\n",
    "print(\"\\nData Harian Setelah Transformasi:\")\n",
    "display(day_df[['dteday', 'weathersit', 'weekday_name', 'season_name', 'temp_celsius']].head())\n",
    "print(\"\\nData Per Jam Setelah Transformasi:\")\n",
    "display(hour_df[['dteday', 'weathersit', 'weekday_name', 'temp_celsius']].head())\n"
   ]
  },
  {
   "cell_type": "markdown",
   "metadata": {},
   "source": [
    "#### Insight:\n",
    "\n",
    "1. Menambahkan kolom baru weekday_name yang menyatakan nama hari dalam seminggu, yang akan sangat berguna untuk analisis tren berdasarkan waktu.\n",
    "2. Kolom season_name memberikan informasi musim, yang dapat membantu melihat apakah musim berpengaruh terhadap jumlah penyewaan.\n",
    "3. Suhu dikonversi ke skala Celsius untuk analisis lebih lanjut."
   ]
  },
  {
   "cell_type": "markdown",
   "metadata": {},
   "source": [
    "## **3. Eksplorasi Data (EDA)**"
   ]
  },
  {
   "cell_type": "markdown",
   "metadata": {},
   "source": [
    "### 3.1 Distribusi Jumlah Penyewaan\n",
    "Menampilkan distribusi jumlah penyewaan sepeda untuk memahami bagaimana penyewaan tersebar.\n",
    "\n"
   ]
  },
  {
   "cell_type": "code",
   "execution_count": null,
   "metadata": {},
   "outputs": [
    {
     "data": {
      "text/html": [
       "<div>\n",
       "<style scoped>\n",
       "    .dataframe tbody tr th:only-of-type {\n",
       "        vertical-align: middle;\n",
       "    }\n",
       "\n",
       "    .dataframe tbody tr th {\n",
       "        vertical-align: top;\n",
       "    }\n",
       "\n",
       "    .dataframe thead th {\n",
       "        text-align: right;\n",
       "    }\n",
       "</style>\n",
       "<table border=\"1\" class=\"dataframe\">\n",
       "  <thead>\n",
       "    <tr style=\"text-align: right;\">\n",
       "      <th></th>\n",
       "      <th>season_name</th>\n",
       "      <th>mean</th>\n",
       "      <th>std</th>\n",
       "      <th>min</th>\n",
       "      <th>max</th>\n",
       "    </tr>\n",
       "  </thead>\n",
       "  <tbody>\n",
       "    <tr>\n",
       "      <th>0</th>\n",
       "      <td>Musim Dingin</td>\n",
       "      <td>2604.132597</td>\n",
       "      <td>1399.942119</td>\n",
       "      <td>431</td>\n",
       "      <td>7836</td>\n",
       "    </tr>\n",
       "    <tr>\n",
       "      <th>1</th>\n",
       "      <td>Musim Gugur</td>\n",
       "      <td>4728.162921</td>\n",
       "      <td>1699.615261</td>\n",
       "      <td>22</td>\n",
       "      <td>8555</td>\n",
       "    </tr>\n",
       "    <tr>\n",
       "      <th>2</th>\n",
       "      <td>Musim Panas</td>\n",
       "      <td>5644.303191</td>\n",
       "      <td>1459.800381</td>\n",
       "      <td>1115</td>\n",
       "      <td>8714</td>\n",
       "    </tr>\n",
       "    <tr>\n",
       "      <th>3</th>\n",
       "      <td>Musim Semi</td>\n",
       "      <td>4992.331522</td>\n",
       "      <td>1695.977235</td>\n",
       "      <td>795</td>\n",
       "      <td>8362</td>\n",
       "    </tr>\n",
       "  </tbody>\n",
       "</table>\n",
       "</div>"
      ],
      "text/plain": [
       "    season_name         mean          std   min   max\n",
       "0  Musim Dingin  2604.132597  1399.942119   431  7836\n",
       "1   Musim Gugur  4728.162921  1699.615261    22  8555\n",
       "2   Musim Panas  5644.303191  1459.800381  1115  8714\n",
       "3    Musim Semi  4992.331522  1695.977235   795  8362"
      ]
     },
     "metadata": {},
     "output_type": "display_data"
    }
   ],
   "source": [
    "# Agregasi jumlah penyewaan berdasarkan musim\n",
    "season_agg = day_df.groupby('season_name')['cnt'].agg(['mean', 'std', 'min', 'max']).reset_index()\n",
    "display(season_agg)\n"
   ]
  },
  {
   "cell_type": "code",
   "execution_count": null,
   "metadata": {},
   "outputs": [
    {
     "data": {
      "image/png": "[encoded data removed]",
      "text/plain": [
       "<Figure size 1000x600 with 1 Axes>"
      ]
     },
     "metadata": {},
     "output_type": "display_data"
    }
   ],
   "source": [
    "# Distribusi jumlah penyewaan\n",
    "plt.figure(figsize=(10, 6))\n",
    "sns.histplot(data=day_df, x='cnt', bins=30, kde=True)\n",
    "plt.title('Distribusi Jumlah Penyewaan Sepeda Harian', fontsize=14)\n",
    "plt.xlabel('Jumlah Penyewaan')\n",
    "plt.ylabel('Frekuensi')\n",
    "plt.show()"
   ]
  },
  {
   "cell_type": "markdown",
   "metadata": {},
   "source": [
    "#### Insight:\n",
    "Distribusi jumlah penyewaan menunjukkan rentang nilai yang cukup besar, dengan sebagian besar penyewaan berada di bawah 6000 sepeda per hari. Ini memberikan gambaran tentang bagaimana sepeda dipakai secara keseluruhan."
   ]
  },
  {
   "cell_type": "markdown",
   "metadata": {},
   "source": [
    "### 3.2 Tren Penyewaan per Bulan"
   ]
  },
  {
   "cell_type": "code",
   "execution_count": null,
   "metadata": {},
   "outputs": [
    {
     "data": {
      "image/png": "[encoded data removed]",
      "text/plain": [
       "<Figure size 1000x600 with 1 Axes>"
      ]
     },
     "metadata": {},
     "output_type": "display_data"
    }
   ],
   "source": [
    "# Tren berdasarkan waktu (per bulan)\n",
    "if pd.api.types.is_datetime64_any_dtype(day_df['dteday']):\n",
    "    day_df['month'] = day_df['dteday'].dt.month\n",
    "    monthly_trend = day_df.groupby('month')['cnt'].mean().reset_index()\n",
    "    plt.figure(figsize=(10, 6))\n",
    "    sns.lineplot(data=monthly_trend, x='month', y='cnt')\n",
    "    plt.title('Tren Rata-rata Penyewaan per Bulan', fontsize=14)\n",
    "    plt.xlabel('Bulan')\n",
    "    plt.ylabel('Rata-rata Penyewaan')\n",
    "    plt.xticks(range(1, 13))\n",
    "    plt.show()\n"
   ]
  },
  {
   "cell_type": "markdown",
   "metadata": {},
   "source": [
    "#### Insight:\n",
    "\n",
    "Penyewaan tertinggi terjadi pada bulan Juni-Agustus (musim panas), di mana suhu yang lebih tinggi mendukung penggunaan sepeda lebih banyak."
   ]
  },
  {
   "cell_type": "markdown",
   "metadata": {},
   "source": [
    "### 3.3 Korelasi Antar Variabel"
   ]
  },
  {
   "cell_type": "code",
   "execution_count": null,
   "metadata": {},
   "outputs": [
    {
     "data": {
      "image/png": "[encoded data removed]",
      "text/plain": [
       "<Figure size 800x600 with 2 Axes>"
      ]
     },
     "metadata": {},
     "output_type": "display_data"
    }
   ],
   "source": [
    "# Korelasi antar variabel\n",
    "correlation = day_df[['temp_celsius', 'hum', 'windspeed', 'cnt']].corr()\n",
    "plt.figure(figsize=(8, 6))\n",
    "sns.heatmap(correlation, annot=True, cmap='coolwarm', vmin=-1, vmax=1, center=0)\n",
    "plt.title('Matriks Korelasi: Faktor Lingkungan vs Penyewaan', fontsize=14)\n",
    "plt.show()\n"
   ]
  },
  {
   "cell_type": "markdown",
   "metadata": {},
   "source": [
    "#### Insight:\n",
    "\n",
    "Suhu memiliki korelasi positif yang cukup kuat dengan jumlah penyewaan sepeda, yang menunjukkan bahwa semakin tinggi suhu, semakin banyak sepeda yang disewa.\n",
    "Kecepatan angin dan kelembapan memiliki korelasi yang lebih lemah terhadap penyewaan.\n"
   ]
  },
  {
   "cell_type": "code",
   "execution_count": null,
   "metadata": {},
   "outputs": [
    {
     "name": "stdout",
     "output_type": "stream",
     "text": [
      "Tabel Kontingensi Cuaca vs Hari dalam Seminggu:\n"
     ]
    },
    {
     "data": {
      "text/html": [
       "<div>\n",
       "<style scoped>\n",
       "    .dataframe tbody tr th:only-of-type {\n",
       "        vertical-align: middle;\n",
       "    }\n",
       "\n",
       "    .dataframe tbody tr th {\n",
       "        vertical-align: top;\n",
       "    }\n",
       "\n",
       "    .dataframe thead th {\n",
       "        text-align: right;\n",
       "    }\n",
       "</style>\n",
       "<table border=\"1\" class=\"dataframe\">\n",
       "  <thead>\n",
       "    <tr style=\"text-align: right;\">\n",
       "      <th>weekday_name</th>\n",
       "      <th>Friday</th>\n",
       "      <th>Monday</th>\n",
       "      <th>Saturday</th>\n",
       "      <th>Sunday</th>\n",
       "      <th>Thursday</th>\n",
       "      <th>Tuesday</th>\n",
       "      <th>Wednesday</th>\n",
       "    </tr>\n",
       "    <tr>\n",
       "      <th>weathersit</th>\n",
       "      <th></th>\n",
       "      <th></th>\n",
       "      <th></th>\n",
       "      <th></th>\n",
       "      <th></th>\n",
       "      <th></th>\n",
       "      <th></th>\n",
       "    </tr>\n",
       "  </thead>\n",
       "  <tbody>\n",
       "    <tr>\n",
       "      <th>Berawan</th>\n",
       "      <td>41</td>\n",
       "      <td>37</td>\n",
       "      <td>34</td>\n",
       "      <td>30</td>\n",
       "      <td>34</td>\n",
       "      <td>38</td>\n",
       "      <td>33</td>\n",
       "    </tr>\n",
       "    <tr>\n",
       "      <th>Cerah</th>\n",
       "      <td>63</td>\n",
       "      <td>66</td>\n",
       "      <td>67</td>\n",
       "      <td>74</td>\n",
       "      <td>67</td>\n",
       "      <td>62</td>\n",
       "      <td>64</td>\n",
       "    </tr>\n",
       "    <tr>\n",
       "      <th>Hujan Ringan</th>\n",
       "      <td>0</td>\n",
       "      <td>2</td>\n",
       "      <td>4</td>\n",
       "      <td>1</td>\n",
       "      <td>3</td>\n",
       "      <td>4</td>\n",
       "      <td>7</td>\n",
       "    </tr>\n",
       "  </tbody>\n",
       "</table>\n",
       "</div>"
      ],
      "text/plain": [
       "weekday_name  Friday  Monday  Saturday  Sunday  Thursday  Tuesday  Wednesday\n",
       "weathersit                                                                  \n",
       "Berawan           41      37        34      30        34       38         33\n",
       "Cerah             63      66        67      74        67       62         64\n",
       "Hujan Ringan       0       2         4       1         3        4          7"
      ]
     },
     "metadata": {},
     "output_type": "display_data"
    },
    {
     "name": "stdout",
     "output_type": "stream",
     "text": [
      "Pivot Table: Rata-rata Penyewaan per Hari dan Cuaca:\n"
     ]
    },
    {
     "data": {
      "text/html": [
       "<div>\n",
       "<style scoped>\n",
       "    .dataframe tbody tr th:only-of-type {\n",
       "        vertical-align: middle;\n",
       "    }\n",
       "\n",
       "    .dataframe tbody tr th {\n",
       "        vertical-align: top;\n",
       "    }\n",
       "\n",
       "    .dataframe thead th {\n",
       "        text-align: right;\n",
       "    }\n",
       "</style>\n",
       "<table border=\"1\" class=\"dataframe\">\n",
       "  <thead>\n",
       "    <tr style=\"text-align: right;\">\n",
       "      <th>weathersit</th>\n",
       "      <th>Berawan</th>\n",
       "      <th>Cerah</th>\n",
       "      <th>Hujan Ringan</th>\n",
       "    </tr>\n",
       "    <tr>\n",
       "      <th>weekday_name</th>\n",
       "      <th></th>\n",
       "      <th></th>\n",
       "      <th></th>\n",
       "    </tr>\n",
       "  </thead>\n",
       "  <tbody>\n",
       "    <tr>\n",
       "      <th>Friday</th>\n",
       "      <td>4093.487805</td>\n",
       "      <td>5078.682540</td>\n",
       "      <td>NaN</td>\n",
       "    </tr>\n",
       "    <tr>\n",
       "      <th>Monday</th>\n",
       "      <td>4234.135135</td>\n",
       "      <td>4485.651515</td>\n",
       "      <td>1393.500000</td>\n",
       "    </tr>\n",
       "    <tr>\n",
       "      <th>Saturday</th>\n",
       "      <td>4010.970588</td>\n",
       "      <td>4975.880597</td>\n",
       "      <td>2012.500000</td>\n",
       "    </tr>\n",
       "    <tr>\n",
       "      <th>Sunday</th>\n",
       "      <td>4040.433333</td>\n",
       "      <td>4348.472973</td>\n",
       "      <td>1027.000000</td>\n",
       "    </tr>\n",
       "    <tr>\n",
       "      <th>Thursday</th>\n",
       "      <td>4271.911765</td>\n",
       "      <td>5014.925373</td>\n",
       "      <td>1383.333333</td>\n",
       "    </tr>\n",
       "    <tr>\n",
       "      <th>Tuesday</th>\n",
       "      <td>3899.605263</td>\n",
       "      <td>4989.903226</td>\n",
       "      <td>2887.500000</td>\n",
       "    </tr>\n",
       "    <tr>\n",
       "      <th>Wednesday</th>\n",
       "      <td>3677.151515</td>\n",
       "      <td>5334.328125</td>\n",
       "      <td>1472.142857</td>\n",
       "    </tr>\n",
       "  </tbody>\n",
       "</table>\n",
       "</div>"
      ],
      "text/plain": [
       "weathersit        Berawan        Cerah  Hujan Ringan\n",
       "weekday_name                                        \n",
       "Friday        4093.487805  5078.682540           NaN\n",
       "Monday        4234.135135  4485.651515   1393.500000\n",
       "Saturday      4010.970588  4975.880597   2012.500000\n",
       "Sunday        4040.433333  4348.472973   1027.000000\n",
       "Thursday      4271.911765  5014.925373   1383.333333\n",
       "Tuesday       3899.605263  4989.903226   2887.500000\n",
       "Wednesday     3677.151515  5334.328125   1472.142857"
      ]
     },
     "metadata": {},
     "output_type": "display_data"
    },
    {
     "name": "stdout",
     "output_type": "stream",
     "text": [
      "Data Setelah Melting (Format Panjang):\n"
     ]
    },
    {
     "data": {
      "text/html": [
       "<div>\n",
       "<style scoped>\n",
       "    .dataframe tbody tr th:only-of-type {\n",
       "        vertical-align: middle;\n",
       "    }\n",
       "\n",
       "    .dataframe tbody tr th {\n",
       "        vertical-align: top;\n",
       "    }\n",
       "\n",
       "    .dataframe thead th {\n",
       "        text-align: right;\n",
       "    }\n",
       "</style>\n",
       "<table border=\"1\" class=\"dataframe\">\n",
       "  <thead>\n",
       "    <tr style=\"text-align: right;\">\n",
       "      <th></th>\n",
       "      <th>dteday</th>\n",
       "      <th>variable</th>\n",
       "      <th>value</th>\n",
       "    </tr>\n",
       "  </thead>\n",
       "  <tbody>\n",
       "    <tr>\n",
       "      <th>0</th>\n",
       "      <td>2011-01-01</td>\n",
       "      <td>temp_celsius</td>\n",
       "      <td>14.110847</td>\n",
       "    </tr>\n",
       "    <tr>\n",
       "      <th>1</th>\n",
       "      <td>2011-01-02</td>\n",
       "      <td>temp_celsius</td>\n",
       "      <td>14.902598</td>\n",
       "    </tr>\n",
       "    <tr>\n",
       "      <th>2</th>\n",
       "      <td>2011-01-03</td>\n",
       "      <td>temp_celsius</td>\n",
       "      <td>8.050924</td>\n",
       "    </tr>\n",
       "    <tr>\n",
       "      <th>3</th>\n",
       "      <td>2011-01-04</td>\n",
       "      <td>temp_celsius</td>\n",
       "      <td>8.200000</td>\n",
       "    </tr>\n",
       "    <tr>\n",
       "      <th>4</th>\n",
       "      <td>2011-01-05</td>\n",
       "      <td>temp_celsius</td>\n",
       "      <td>9.305237</td>\n",
       "    </tr>\n",
       "  </tbody>\n",
       "</table>\n",
       "</div>"
      ],
      "text/plain": [
       "      dteday      variable      value\n",
       "0 2011-01-01  temp_celsius  14.110847\n",
       "1 2011-01-02  temp_celsius  14.902598\n",
       "2 2011-01-03  temp_celsius   8.050924\n",
       "3 2011-01-04  temp_celsius   8.200000\n",
       "4 2011-01-05  temp_celsius   9.305237"
      ]
     },
     "metadata": {},
     "output_type": "display_data"
    }
   ],
   "source": [
    "# 3.5. Tabel Kontingensi (crosstab) antara Cuaca dan Hari dalam Seminggu\n",
    "weather_weekday_crosstab = pd.crosstab(day_df['weathersit'], day_df['weekday_name'])\n",
    "\n",
    "# Menampilkan tabel kontingensi\n",
    "print(\"Tabel Kontingensi Cuaca vs Hari dalam Seminggu:\")\n",
    "display(weather_weekday_crosstab)\n",
    "\n",
    "# 3.6. Pivot Table untuk rata-rata penyewaan berdasarkan hari dan cuaca\n",
    "pivot_table = day_df.pivot_table(values='cnt', index='weekday_name', columns='weathersit', aggfunc='mean')\n",
    "\n",
    "# Menampilkan pivot table\n",
    "print(\"Pivot Table: Rata-rata Penyewaan per Hari dan Cuaca:\")\n",
    "display(pivot_table)\n",
    "\n",
    "# 3.7. Mengubah data menjadi format panjang menggunakan melt() untuk visualisasi lebih lanjut\n",
    "melted_df = pd.melt(day_df, id_vars=['dteday'], value_vars=['temp_celsius', 'hum', 'windspeed'])\n",
    "\n",
    "# Menampilkan data setelah di-melt\n",
    "print(\"Data Setelah Melting (Format Panjang):\")\n",
    "display(melted_df.head())"
   ]
  },
  {
   "cell_type": "markdown",
   "metadata": {},
   "source": [
    "#### Penjelasan:\n",
    "1. groupby():\n",
    "Digunakan untuk menghitung agregasi (rata-rata, standar deviasi, nilai minimum, dan maksimum) dari jumlah penyewaan (cnt) berdasarkan musim (season_name).\n",
    "2. crosstab():\n",
    "Membuat tabel kontingensi untuk melihat hubungan antara kondisi cuaca (weathersit) dan hari dalam seminggu (weekday_name). Ini membantu untuk menganalisis distribusi cuaca di setiap hari.\n",
    "3. pivot_table():\n",
    "Digunakan untuk membuat tabel ringkasan yang menunjukkan rata-rata penyewaan sepeda (cnt) berdasarkan kombinasi hari dalam seminggu dan kondisi cuaca.\n",
    "4. melt():\n",
    "Mengubah data dari format lebar menjadi panjang, menjadikan suhu (temp_celsius), kelembapan (hum), dan kecepatan angin (windspeed) sebagai variabel terpisah, yang mempermudah analisis dan visualisasi.\n",
    "\n",
    "### Insight yang Diperoleh:\n",
    "1. Agregasi Musim: Musim panas cenderung memiliki rata-rata penyewaan tertinggi, sementara musim dingin memiliki penyewaan yang lebih rendah.\n",
    "2. Hubungan Cuaca dan Hari: Cuaca cerah lebih sering terjadi pada hari kerja, yang menunjukkan kemungkinan penyewaan lebih banyak pada hari kerja dibandingkan akhir pekan.\n",
    "3. Rata-rata Penyewaan per Cuaca: Cuaca cerah cenderung memiliki penyewaan yang lebih tinggi, sementara hujan berat mengurangi jumlah penyewaan sepeda.\n",
    "4. Format Panjang: Menggunakan format panjang memudahkan dalam visualisasi, seperti menggambar grafik perubahan suhu, kelembapan, atau kecepatan angin dari waktu ke waktu."
   ]
  },
  {
   "cell_type": "markdown",
   "metadata": {},
   "source": [
    "## **4.a Visualisasi Pengaruh Cuaca terhadap Penyewaan**\n"
   ]
  },
  {
   "cell_type": "code",
   "execution_count": null,
   "metadata": {},
   "outputs": [
    {
     "data": {
      "application/vnd.plotly.v1+json": {
       "config": {
        "plotlyServerURL": "https://plot.ly"
       },
       "data": [
        {
         "error_y": {
          "array": {
           "bdata": "v/VqjnBEnECT9sma712dQLBRlUYjYZNA",
           "dtype": "f8"
          },
          "type": "data",
          "visible": true
         },
         "marker": {
          "color": "steelblue"
         },
         "text": {
          "bdata": "AAAAAACIr0AAAAAAAA2zQAAAAAAALJxA",
          "dtype": "f8"
         },
         "textposition": "auto",
         "type": "bar",
         "x": [
          "Berawan",
          "Cerah",
          "Hujan Ringan"
         ],
         "y": {
          "bdata": "vE2zhbmHr0BpHudCyQyzQJIkSZIkLZxA",
          "dtype": "f8"
         }
        }
       ],
       "layout": {
        "bargap": 0.2,
        "template": {
         "data": {
          "bar": [
           {
            "error_x": {
             "color": "#2a3f5f"
            },
            "error_y": {
             "color": "#2a3f5f"
            },
            "marker": {
             "line": {
              "color": "white",
              "width": 0.5
             },
             "pattern": {
              "fillmode": "overlay",
              "size": 10,
              "solidity": 0.2
             }
            },
            "type": "bar"
           }
          ],
          "barpolar": [
           {
            "marker": {
             "line": {
              "color": "white",
              "width": 0.5
             },
             "pattern": {
              "fillmode": "overlay",
              "size": 10,
              "solidity": 0.2
             }
            },
            "type": "barpolar"
           }
          ],
          "carpet": [
           {
            "aaxis": {
             "endlinecolor": "#2a3f5f",
             "gridcolor": "#C8D4E3",
             "linecolor": "#C8D4E3",
             "minorgridcolor": "#C8D4E3",
             "startlinecolor": "#2a3f5f"
            },
            "baxis": {
             "endlinecolor": "#2a3f5f",
             "gridcolor": "#C8D4E3",
             "linecolor": "#C8D4E3",
             "minorgridcolor": "#C8D4E3",
             "startlinecolor": "#2a3f5f"
            },
            "type": "carpet"
           }
          ],
          "choropleth": [
           {
            "colorbar": {
             "outlinewidth": 0,
             "ticks": ""
            },
            "type": "choropleth"
           }
          ],
          "contour": [
           {
            "colorbar": {
             "outlinewidth": 0,
             "ticks": ""
            },
            "colorscale": [
             [
              0,
              "#0d0887"
             ],
             [
              0.1111111111111111,
              "#46039f"
             ],
             [
              0.2222222222222222,
              "#7201a8"
             ],
             [
              0.3333333333333333,
              "#9c179e"
             ],
             [
              0.4444444444444444,
              "#bd3786"
             ],
             [
              0.5555555555555556,
              "#d8576b"
             ],
             [
              0.6666666666666666,
              "#ed7953"
             ],
             [
              0.7777777777777778,
              "#fb9f3a"
             ],
             [
              0.8888888888888888,
              "#fdca26"
             ],
             [
              1,
              "#f0f921"
             ]
            ],
            "type": "contour"
           }
          ],
          "contourcarpet": [
           {
            "colorbar": {
             "outlinewidth": 0,
             "ticks": ""
            },
            "type": "contourcarpet"
           }
          ],
          "heatmap": [
           {
            "colorbar": {
             "outlinewidth": 0,
             "ticks": ""
            },
            "colorscale": [
             [
              0,
              "#0d0887"
             ],
             [
              0.1111111111111111,
              "#46039f"
             ],
             [
              0.2222222222222222,
              "#7201a8"
             ],
             [
              0.3333333333333333,
              "#9c179e"
             ],
             [
              0.4444444444444444,
              "#bd3786"
             ],
             [
              0.5555555555555556,
              "#d8576b"
             ],
             [
              0.6666666666666666,
              "#ed7953"
             ],
             [
              0.7777777777777778,
              "#fb9f3a"
             ],
             [
              0.8888888888888888,
              "#fdca26"
             ],
             [
              1,
              "#f0f921"
             ]
            ],
            "type": "heatmap"
           }
          ],
          "histogram": [
           {
            "marker": {
             "pattern": {
              "fillmode": "overlay",
              "size": 10,
              "solidity": 0.2
             }
            },
            "type": "histogram"
           }
          ],
          "histogram2d": [
           {
            "colorbar": {
             "outlinewidth": 0,
             "ticks": ""
            },
            "colorscale": [
             [
              0,
              "#0d0887"
             ],
             [
              0.1111111111111111,
              "#46039f"
             ],
             [
              0.2222222222222222,
              "#7201a8"
             ],
             [
              0.3333333333333333,
              "#9c179e"
             ],
             [
              0.4444444444444444,
              "#bd3786"
             ],
             [
              0.5555555555555556,
              "#d8576b"
             ],
             [
              0.6666666666666666,
              "#ed7953"
             ],
             [
              0.7777777777777778,
              "#fb9f3a"
             ],
             [
              0.8888888888888888,
              "#fdca26"
             ],
             [
              1,
              "#f0f921"
             ]
            ],
            "type": "histogram2d"
           }
          ],
          "histogram2dcontour": [
           {
            "colorbar": {
             "outlinewidth": 0,
             "ticks": ""
            },
            "colorscale": [
             [
              0,
              "#0d0887"
             ],
             [
              0.1111111111111111,
              "#46039f"
             ],
             [
              0.2222222222222222,
              "#7201a8"
             ],
             [
              0.3333333333333333,
              "#9c179e"
             ],
             [
              0.4444444444444444,
              "#bd3786"
             ],
             [
              0.5555555555555556,
              "#d8576b"
             ],
             [
              0.6666666666666666,
              "#ed7953"
             ],
             [
              0.7777777777777778,
              "#fb9f3a"
             ],
             [
              0.8888888888888888,
              "#fdca26"
             ],
             [
              1,
              "#f0f921"
             ]
            ],
            "type": "histogram2dcontour"
           }
          ],
          "mesh3d": [
           {
            "colorbar": {
             "outlinewidth": 0,
             "ticks": ""
            },
            "type": "mesh3d"
           }
          ],
          "parcoords": [
           {
            "line": {
             "colorbar": {
              "outlinewidth": 0,
              "ticks": ""
             }
            },
            "type": "parcoords"
           }
          ],
          "pie": [
           {
            "automargin": true,
            "type": "pie"
           }
          ],
          "scatter": [
           {
            "fillpattern": {
             "fillmode": "overlay",
             "size": 10,
             "solidity": 0.2
            },
            "type": "scatter"
           }
          ],
          "scatter3d": [
           {
            "line": {
             "colorbar": {
              "outlinewidth": 0,
              "ticks": ""
             }
            },
            "marker": {
             "colorbar": {
              "outlinewidth": 0,
              "ticks": ""
             }
            },
            "type": "scatter3d"
           }
          ],
          "scattercarpet": [
           {
            "marker": {
             "colorbar": {
              "outlinewidth": 0,
              "ticks": ""
             }
            },
            "type": "scattercarpet"
           }
          ],
          "scattergeo": [
           {
            "marker": {
             "colorbar": {
              "outlinewidth": 0,
              "ticks": ""
             }
            },
            "type": "scattergeo"
           }
          ],
          "scattergl": [
           {
            "marker": {
             "colorbar": {
              "outlinewidth": 0,
              "ticks": ""
             }
            },
            "type": "scattergl"
           }
          ],
          "scattermap": [
           {
            "marker": {
             "colorbar": {
              "outlinewidth": 0,
              "ticks": ""
             }
            },
            "type": "scattermap"
           }
          ],
          "scattermapbox": [
           {
            "marker": {
             "colorbar": {
              "outlinewidth": 0,
              "ticks": ""
             }
            },
            "type": "scattermapbox"
           }
          ],
          "scatterpolar": [
           {
            "marker": {
             "colorbar": {
              "outlinewidth": 0,
              "ticks": ""
             }
            },
            "type": "scatterpolar"
           }
          ],
          "scatterpolargl": [
           {
            "marker": {
             "colorbar": {
              "outlinewidth": 0,
              "ticks": ""
             }
            },
            "type": "scatterpolargl"
           }
          ],
          "scatterternary": [
           {
            "marker": {
             "colorbar": {
              "outlinewidth": 0,
              "ticks": ""
             }
            },
            "type": "scatterternary"
           }
          ],
          "surface": [
           {
            "colorbar": {
             "outlinewidth": 0,
             "ticks": ""
            },
            "colorscale": [
             [
              0,
              "#0d0887"
             ],
             [
              0.1111111111111111,
              "#46039f"
             ],
             [
              0.2222222222222222,
              "#7201a8"
             ],
             [
              0.3333333333333333,
              "#9c179e"
             ],
             [
              0.4444444444444444,
              "#bd3786"
             ],
             [
              0.5555555555555556,
              "#d8576b"
             ],
             [
              0.6666666666666666,
              "#ed7953"
             ],
             [
              0.7777777777777778,
              "#fb9f3a"
             ],
             [
              0.8888888888888888,
              "#fdca26"
             ],
             [
              1,
              "#f0f921"
             ]
            ],
            "type": "surface"
           }
          ],
          "table": [
           {
            "cells": {
             "fill": {
              "color": "#EBF0F8"
             },
             "line": {
              "color": "white"
             }
            },
            "header": {
             "fill": {
              "color": "#C8D4E3"
             },
             "line": {
              "color": "white"
             }
            },
            "type": "table"
           }
          ]
         },
         "layout": {
          "annotationdefaults": {
           "arrowcolor": "#2a3f5f",
           "arrowhead": 0,
           "arrowwidth": 1
          },
          "autotypenumbers": "strict",
          "coloraxis": {
           "colorbar": {
            "outlinewidth": 0,
            "ticks": ""
           }
          },
          "colorscale": {
           "diverging": [
            [
             0,
             "#8e0152"
            ],
            [
             0.1,
             "#c51b7d"
            ],
            [
             0.2,
             "#de77ae"
            ],
            [
             0.3,
             "#f1b6da"
            ],
            [
             0.4,
             "#fde0ef"
            ],
            [
             0.5,
             "#f7f7f7"
            ],
            [
             0.6,
             "#e6f5d0"
            ],
            [
             0.7,
             "#b8e186"
            ],
            [
             0.8,
             "#7fbc41"
            ],
            [
             0.9,
             "#4d9221"
            ],
            [
             1,
             "#276419"
            ]
           ],
           "sequential": [
            [
             0,
             "#0d0887"
            ],
            [
             0.1111111111111111,
             "#46039f"
            ],
            [
             0.2222222222222222,
             "#7201a8"
            ],
            [
             0.3333333333333333,
             "#9c179e"
            ],
            [
             0.4444444444444444,
             "#bd3786"
            ],
            [
             0.5555555555555556,
             "#d8576b"
            ],
            [
             0.6666666666666666,
             "#ed7953"
            ],
            [
             0.7777777777777778,
             "#fb9f3a"
            ],
            [
             0.8888888888888888,
             "#fdca26"
            ],
            [
             1,
             "#f0f921"
            ]
           ],
           "sequentialminus": [
            [
             0,
             "#0d0887"
            ],
            [
             0.1111111111111111,
             "#46039f"
            ],
            [
             0.2222222222222222,
             "#7201a8"
            ],
            [
             0.3333333333333333,
             "#9c179e"
            ],
            [
             0.4444444444444444,
             "#bd3786"
            ],
            [
             0.5555555555555556,
             "#d8576b"
            ],
            [
             0.6666666666666666,
             "#ed7953"
            ],
            [
             0.7777777777777778,
             "#fb9f3a"
            ],
            [
             0.8888888888888888,
             "#fdca26"
            ],
            [
             1,
             "#f0f921"
            ]
           ]
          },
          "colorway": [
           "#636efa",
           "#EF553B",
           "#00cc96",
           "#ab63fa",
           "#FFA15A",
           "#19d3f3",
           "#FF6692",
           "#B6E880",
           "#FF97FF",
           "#FECB52"
          ],
          "font": {
           "color": "#2a3f5f"
          },
          "geo": {
           "bgcolor": "white",
           "lakecolor": "white",
           "landcolor": "white",
           "showlakes": true,
           "showland": true,
           "subunitcolor": "#C8D4E3"
          },
          "hoverlabel": {
           "align": "left"
          },
          "hovermode": "closest",
          "mapbox": {
           "style": "light"
          },
          "paper_bgcolor": "white",
          "plot_bgcolor": "white",
          "polar": {
           "angularaxis": {
            "gridcolor": "#EBF0F8",
            "linecolor": "#EBF0F8",
            "ticks": ""
           },
           "bgcolor": "white",
           "radialaxis": {
            "gridcolor": "#EBF0F8",
            "linecolor": "#EBF0F8",
            "ticks": ""
           }
          },
          "scene": {
           "xaxis": {
            "backgroundcolor": "white",
            "gridcolor": "#DFE8F3",
            "gridwidth": 2,
            "linecolor": "#EBF0F8",
            "showbackground": true,
            "ticks": "",
            "zerolinecolor": "#EBF0F8"
           },
           "yaxis": {
            "backgroundcolor": "white",
            "gridcolor": "#DFE8F3",
            "gridwidth": 2,
            "linecolor": "#EBF0F8",
            "showbackground": true,
            "ticks": "",
            "zerolinecolor": "#EBF0F8"
           },
           "zaxis": {
            "backgroundcolor": "white",
            "gridcolor": "#DFE8F3",
            "gridwidth": 2,
            "linecolor": "#EBF0F8",
            "showbackground": true,
            "ticks": "",
            "zerolinecolor": "#EBF0F8"
           }
          },
          "shapedefaults": {
           "line": {
            "color": "#2a3f5f"
           }
          },
          "ternary": {
           "aaxis": {
            "gridcolor": "#DFE8F3",
            "linecolor": "#A2B1C6",
            "ticks": ""
           },
           "baxis": {
            "gridcolor": "#DFE8F3",
            "linecolor": "#A2B1C6",
            "ticks": ""
           },
           "bgcolor": "white",
           "caxis": {
            "gridcolor": "#DFE8F3",
            "linecolor": "#A2B1C6",
            "ticks": ""
           }
          },
          "title": {
           "x": 0.05
          },
          "xaxis": {
           "automargin": true,
           "gridcolor": "#EBF0F8",
           "linecolor": "#EBF0F8",
           "ticks": "",
           "title": {
            "standoff": 15
           },
           "zerolinecolor": "#EBF0F8",
           "zerolinewidth": 2
          },
          "yaxis": {
           "automargin": true,
           "gridcolor": "#EBF0F8",
           "linecolor": "#EBF0F8",
           "ticks": "",
           "title": {
            "standoff": 15
           },
           "zerolinecolor": "#EBF0F8",
           "zerolinewidth": 2
          }
         }
        },
        "title": {
         "text": "Rata-rata Penyewaan Sepeda Berdasarkan Kondisi Cuaca"
        },
        "xaxis": {
         "title": {
          "text": "Kondisi Cuaca"
         }
        },
        "yaxis": {
         "title": {
          "text": "Jumlah Penyewaan (Rata-rata)"
         }
        }
       }
      }
     },
     "metadata": {},
     "output_type": "display_data"
    }
   ],
   "source": [
    "# Visualisasi rata-rata penyewaan berdasarkan cuaca\n",
    "fig = go.Figure(data=[\n",
    "    go.Bar(\n",
    "        x=weather_agg['weathersit'],\n",
    "        y=weather_agg['mean'],\n",
    "        text=weather_agg['mean'].round().astype(int),\n",
    "        textposition='auto',\n",
    "        marker_color='steelblue',  # Menggunakan warna yang seragam untuk kategori\n",
    "        error_y=dict(type='data', array=weather_agg['std'], visible=True)\n",
    "    )\n",
    "])\n",
    "\n",
    "fig.update_layout(\n",
    "    title='Rata-rata Penyewaan Sepeda Berdasarkan Kondisi Cuaca',\n",
    "    xaxis_title='Kondisi Cuaca',\n",
    "    yaxis_title='Jumlah Penyewaan (Rata-rata)',\n",
    "    template='plotly_white',\n",
    "    bargap=0.2\n",
    ")\n",
    "fig.show()\n"
   ]
  },
  {
   "cell_type": "markdown",
   "metadata": {},
   "source": [
    "#### Insight:\n",
    "\n",
    "Cuaca cerah meningkatkan penyewaan secara signifikan, sementara hujan ringan menurunkan jumlah penyewaan sepeda.\n",
    "Variabilitas penyewaan tertinggi terjadi saat cuaca berawan, menandakan ketidakpastian penggunaan."
   ]
  },
  {
   "cell_type": "markdown",
   "metadata": {},
   "source": [
    "## **4.b Visualisasi Mengidentifikasi pola penggunaan sepeda berdasarkan hari dalam seminggu dan jam**"
   ]
  },
  {
   "cell_type": "code",
   "execution_count": 8,
   "metadata": {},
   "outputs": [
    {
     "data": {
      "application/vnd.plotly.v1+json": {
       "config": {
        "plotlyServerURL": "https://plot.ly"
       },
       "data": [
        {
         "coloraxis": "coloraxis",
         "histfunc": "sum",
         "hovertemplate": "Jam=%{x}<br>Hari dalam Seminggu=%{y}<br>sum of Rata-rata Penyewaan=%{z}<extra></extra>",
         "name": "",
         "type": "histogram2d",
         "x": {
          "bdata": "AAAAAAAAAAAAAAAAAAAAAAAAAAAAAAAAAAAAAA==",
          "dtype": "i4"
         },
         "xaxis": "x",
         "xbingroup": "x",
         "y": [
          "Friday",
          "Monday",
          "Saturday",
          "Sunday",
          "Thursday",
          "Tuesday",
          "Wednesday"
         ],
         "yaxis": "y",
         "ybingroup": "y",
         "z": {
          "bdata": "F/wJWVmEaEA4M/A21PdmQFjSy5+2xmdAxCEpnQAvZkAqWIsp+Y1oQMmMD/+k52dAOnztGC3kZ0A=",
          "dtype": "f8"
         }
        }
       ],
       "layout": {
        "coloraxis": {
         "colorbar": {
          "title": {
           "text": "sum of Rata-rata Penyewaan"
          }
         },
         "colorscale": [
          [
           0,
           "#0d0887"
          ],
          [
           0.1111111111111111,
           "#46039f"
          ],
          [
           0.2222222222222222,
           "#7201a8"
          ],
          [
           0.3333333333333333,
           "#9c179e"
          ],
          [
           0.4444444444444444,
           "#bd3786"
          ],
          [
           0.5555555555555556,
           "#d8576b"
          ],
          [
           0.6666666666666666,
           "#ed7953"
          ],
          [
           0.7777777777777778,
           "#fb9f3a"
          ],
          [
           0.8888888888888888,
           "#fdca26"
          ],
          [
           1,
           "#f0f921"
          ]
         ]
        },
        "legend": {
         "tracegroupgap": 0
        },
        "template": {
         "data": {
          "bar": [
           {
            "error_x": {
             "color": "#2a3f5f"
            },
            "error_y": {
             "color": "#2a3f5f"
            },
            "marker": {
             "line": {
              "color": "white",
              "width": 0.5
             },
             "pattern": {
              "fillmode": "overlay",
              "size": 10,
              "solidity": 0.2
             }
            },
            "type": "bar"
           }
          ],
          "barpolar": [
           {
            "marker": {
             "line": {
              "color": "white",
              "width": 0.5
             },
             "pattern": {
              "fillmode": "overlay",
              "size": 10,
              "solidity": 0.2
             }
            },
            "type": "barpolar"
           }
          ],
          "carpet": [
           {
            "aaxis": {
             "endlinecolor": "#2a3f5f",
             "gridcolor": "#C8D4E3",
             "linecolor": "#C8D4E3",
             "minorgridcolor": "#C8D4E3",
             "startlinecolor": "#2a3f5f"
            },
            "baxis": {
             "endlinecolor": "#2a3f5f",
             "gridcolor": "#C8D4E3",
             "linecolor": "#C8D4E3",
             "minorgridcolor": "#C8D4E3",
             "startlinecolor": "#2a3f5f"
            },
            "type": "carpet"
           }
          ],
          "choropleth": [
           {
            "colorbar": {
             "outlinewidth": 0,
             "ticks": ""
            },
            "type": "choropleth"
           }
          ],
          "contour": [
           {
            "colorbar": {
             "outlinewidth": 0,
             "ticks": ""
            },
            "colorscale": [
             [
              0,
              "#0d0887"
             ],
             [
              0.1111111111111111,
              "#46039f"
             ],
             [
              0.2222222222222222,
              "#7201a8"
             ],
             [
              0.3333333333333333,
              "#9c179e"
             ],
             [
              0.4444444444444444,
              "#bd3786"
             ],
             [
              0.5555555555555556,
              "#d8576b"
             ],
             [
              0.6666666666666666,
              "#ed7953"
             ],
             [
              0.7777777777777778,
              "#fb9f3a"
             ],
             [
              0.8888888888888888,
              "#fdca26"
             ],
             [
              1,
              "#f0f921"
             ]
            ],
            "type": "contour"
           }
          ],
          "contourcarpet": [
           {
            "colorbar": {
             "outlinewidth": 0,
             "ticks": ""
            },
            "type": "contourcarpet"
           }
          ],
          "heatmap": [
           {
            "colorbar": {
             "outlinewidth": 0,
             "ticks": ""
            },
            "colorscale": [
             [
              0,
              "#0d0887"
             ],
             [
              0.1111111111111111,
              "#46039f"
             ],
             [
              0.2222222222222222,
              "#7201a8"
             ],
             [
              0.3333333333333333,
              "#9c179e"
             ],
             [
              0.4444444444444444,
              "#bd3786"
             ],
             [
              0.5555555555555556,
              "#d8576b"
             ],
             [
              0.6666666666666666,
              "#ed7953"
             ],
             [
              0.7777777777777778,
              "#fb9f3a"
             ],
             [
              0.8888888888888888,
              "#fdca26"
             ],
             [
              1,
              "#f0f921"
             ]
            ],
            "type": "heatmap"
           }
          ],
          "histogram": [
           {
            "marker": {
             "pattern": {
              "fillmode": "overlay",
              "size": 10,
              "solidity": 0.2
             }
            },
            "type": "histogram"
           }
          ],
          "histogram2d": [
           {
            "colorbar": {
             "outlinewidth": 0,
             "ticks": ""
            },
            "colorscale": [
             [
              0,
              "#0d0887"
             ],
             [
              0.1111111111111111,
              "#46039f"
             ],
             [
              0.2222222222222222,
              "#7201a8"
             ],
             [
              0.3333333333333333,
              "#9c179e"
             ],
             [
              0.4444444444444444,
              "#bd3786"
             ],
             [
              0.5555555555555556,
              "#d8576b"
             ],
             [
              0.6666666666666666,
              "#ed7953"
             ],
             [
              0.7777777777777778,
              "#fb9f3a"
             ],
             [
              0.8888888888888888,
              "#fdca26"
             ],
             [
              1,
              "#f0f921"
             ]
            ],
            "type": "histogram2d"
           }
          ],
          "histogram2dcontour": [
           {
            "colorbar": {
             "outlinewidth": 0,
             "ticks": ""
            },
            "colorscale": [
             [
              0,
              "#0d0887"
             ],
             [
              0.1111111111111111,
              "#46039f"
             ],
             [
              0.2222222222222222,
              "#7201a8"
             ],
             [
              0.3333333333333333,
              "#9c179e"
             ],
             [
              0.4444444444444444,
              "#bd3786"
             ],
             [
              0.5555555555555556,
              "#d8576b"
             ],
             [
              0.6666666666666666,
              "#ed7953"
             ],
             [
              0.7777777777777778,
              "#fb9f3a"
             ],
             [
              0.8888888888888888,
              "#fdca26"
             ],
             [
              1,
              "#f0f921"
             ]
            ],
            "type": "histogram2dcontour"
           }
          ],
          "mesh3d": [
           {
            "colorbar": {
             "outlinewidth": 0,
             "ticks": ""
            },
            "type": "mesh3d"
           }
          ],
          "parcoords": [
           {
            "line": {
             "colorbar": {
              "outlinewidth": 0,
              "ticks": ""
             }
            },
            "type": "parcoords"
           }
          ],
          "pie": [
           {
            "automargin": true,
            "type": "pie"
           }
          ],
          "scatter": [
           {
            "fillpattern": {
             "fillmode": "overlay",
             "size": 10,
             "solidity": 0.2
            },
            "type": "scatter"
           }
          ],
          "scatter3d": [
           {
            "line": {
             "colorbar": {
              "outlinewidth": 0,
              "ticks": ""
             }
            },
            "marker": {
             "colorbar": {
              "outlinewidth": 0,
              "ticks": ""
             }
            },
            "type": "scatter3d"
           }
          ],
          "scattercarpet": [
           {
            "marker": {
             "colorbar": {
              "outlinewidth": 0,
              "ticks": ""
             }
            },
            "type": "scattercarpet"
           }
          ],
          "scattergeo": [
           {
            "marker": {
             "colorbar": {
              "outlinewidth": 0,
              "ticks": ""
             }
            },
            "type": "scattergeo"
           }
          ],
          "scattergl": [
           {
            "marker": {
             "colorbar": {
              "outlinewidth": 0,
              "ticks": ""
             }
            },
            "type": "scattergl"
           }
          ],
          "scattermap": [
           {
            "marker": {
             "colorbar": {
              "outlinewidth": 0,
              "ticks": ""
             }
            },
            "type": "scattermap"
           }
          ],
          "scattermapbox": [
           {
            "marker": {
             "colorbar": {
              "outlinewidth": 0,
              "ticks": ""
             }
            },
            "type": "scattermapbox"
           }
          ],
          "scatterpolar": [
           {
            "marker": {
             "colorbar": {
              "outlinewidth": 0,
              "ticks": ""
             }
            },
            "type": "scatterpolar"
           }
          ],
          "scatterpolargl": [
           {
            "marker": {
             "colorbar": {
              "outlinewidth": 0,
              "ticks": ""
             }
            },
            "type": "scatterpolargl"
           }
          ],
          "scatterternary": [
           {
            "marker": {
             "colorbar": {
              "outlinewidth": 0,
              "ticks": ""
             }
            },
            "type": "scatterternary"
           }
          ],
          "surface": [
           {
            "colorbar": {
             "outlinewidth": 0,
             "ticks": ""
            },
            "colorscale": [
             [
              0,
              "#0d0887"
             ],
             [
              0.1111111111111111,
              "#46039f"
             ],
             [
              0.2222222222222222,
              "#7201a8"
             ],
             [
              0.3333333333333333,
              "#9c179e"
             ],
             [
              0.4444444444444444,
              "#bd3786"
             ],
             [
              0.5555555555555556,
              "#d8576b"
             ],
             [
              0.6666666666666666,
              "#ed7953"
             ],
             [
              0.7777777777777778,
              "#fb9f3a"
             ],
             [
              0.8888888888888888,
              "#fdca26"
             ],
             [
              1,
              "#f0f921"
             ]
            ],
            "type": "surface"
           }
          ],
          "table": [
           {
            "cells": {
             "fill": {
              "color": "#EBF0F8"
             },
             "line": {
              "color": "white"
             }
            },
            "header": {
             "fill": {
              "color": "#C8D4E3"
             },
             "line": {
              "color": "white"
             }
            },
            "type": "table"
           }
          ]
         },
         "layout": {
          "annotationdefaults": {
           "arrowcolor": "#2a3f5f",
           "arrowhead": 0,
           "arrowwidth": 1
          },
          "autotypenumbers": "strict",
          "coloraxis": {
           "colorbar": {
            "outlinewidth": 0,
            "ticks": ""
           }
          },
          "colorscale": {
           "diverging": [
            [
             0,
             "#8e0152"
            ],
            [
             0.1,
             "#c51b7d"
            ],
            [
             0.2,
             "#de77ae"
            ],
            [
             0.3,
             "#f1b6da"
            ],
            [
             0.4,
             "#fde0ef"
            ],
            [
             0.5,
             "#f7f7f7"
            ],
            [
             0.6,
             "#e6f5d0"
            ],
            [
             0.7,
             "#b8e186"
            ],
            [
             0.8,
             "#7fbc41"
            ],
            [
             0.9,
             "#4d9221"
            ],
            [
             1,
             "#276419"
            ]
           ],
           "sequential": [
            [
             0,
             "#0d0887"
            ],
            [
             0.1111111111111111,
             "#46039f"
            ],
            [
             0.2222222222222222,
             "#7201a8"
            ],
            [
             0.3333333333333333,
             "#9c179e"
            ],
            [
             0.4444444444444444,
             "#bd3786"
            ],
            [
             0.5555555555555556,
             "#d8576b"
            ],
            [
             0.6666666666666666,
             "#ed7953"
            ],
            [
             0.7777777777777778,
             "#fb9f3a"
            ],
            [
             0.8888888888888888,
             "#fdca26"
            ],
            [
             1,
             "#f0f921"
            ]
           ],
           "sequentialminus": [
            [
             0,
             "#0d0887"
            ],
            [
             0.1111111111111111,
             "#46039f"
            ],
            [
             0.2222222222222222,
             "#7201a8"
            ],
            [
             0.3333333333333333,
             "#9c179e"
            ],
            [
             0.4444444444444444,
             "#bd3786"
            ],
            [
             0.5555555555555556,
             "#d8576b"
            ],
            [
             0.6666666666666666,
             "#ed7953"
            ],
            [
             0.7777777777777778,
             "#fb9f3a"
            ],
            [
             0.8888888888888888,
             "#fdca26"
            ],
            [
             1,
             "#f0f921"
            ]
           ]
          },
          "colorway": [
           "#636efa",
           "#EF553B",
           "#00cc96",
           "#ab63fa",
           "#FFA15A",
           "#19d3f3",
           "#FF6692",
           "#B6E880",
           "#FF97FF",
           "#FECB52"
          ],
          "font": {
           "color": "#2a3f5f"
          },
          "geo": {
           "bgcolor": "white",
           "lakecolor": "white",
           "landcolor": "white",
           "showlakes": true,
           "showland": true,
           "subunitcolor": "#C8D4E3"
          },
          "hoverlabel": {
           "align": "left"
          },
          "hovermode": "closest",
          "mapbox": {
           "style": "light"
          },
          "paper_bgcolor": "white",
          "plot_bgcolor": "white",
          "polar": {
           "angularaxis": {
            "gridcolor": "#EBF0F8",
            "linecolor": "#EBF0F8",
            "ticks": ""
           },
           "bgcolor": "white",
           "radialaxis": {
            "gridcolor": "#EBF0F8",
            "linecolor": "#EBF0F8",
            "ticks": ""
           }
          },
          "scene": {
           "xaxis": {
            "backgroundcolor": "white",
            "gridcolor": "#DFE8F3",
            "gridwidth": 2,
            "linecolor": "#EBF0F8",
            "showbackground": true,
            "ticks": "",
            "zerolinecolor": "#EBF0F8"
           },
           "yaxis": {
            "backgroundcolor": "white",
            "gridcolor": "#DFE8F3",
            "gridwidth": 2,
            "linecolor": "#EBF0F8",
            "showbackground": true,
            "ticks": "",
            "zerolinecolor": "#EBF0F8"
           },
           "zaxis": {
            "backgroundcolor": "white",
            "gridcolor": "#DFE8F3",
            "gridwidth": 2,
            "linecolor": "#EBF0F8",
            "showbackground": true,
            "ticks": "",
            "zerolinecolor": "#EBF0F8"
           }
          },
          "shapedefaults": {
           "line": {
            "color": "#2a3f5f"
           }
          },
          "ternary": {
           "aaxis": {
            "gridcolor": "#DFE8F3",
            "linecolor": "#A2B1C6",
            "ticks": ""
           },
           "baxis": {
            "gridcolor": "#DFE8F3",
            "linecolor": "#A2B1C6",
            "ticks": ""
           },
           "bgcolor": "white",
           "caxis": {
            "gridcolor": "#DFE8F3",
            "linecolor": "#A2B1C6",
            "ticks": ""
           }
          },
          "title": {
           "x": 0.05
          },
          "xaxis": {
           "automargin": true,
           "gridcolor": "#EBF0F8",
           "linecolor": "#EBF0F8",
           "ticks": "",
           "title": {
            "standoff": 15
           },
           "zerolinecolor": "#EBF0F8",
           "zerolinewidth": 2
          },
          "yaxis": {
           "automargin": true,
           "gridcolor": "#EBF0F8",
           "linecolor": "#EBF0F8",
           "ticks": "",
           "title": {
            "standoff": 15
           },
           "zerolinecolor": "#EBF0F8",
           "zerolinewidth": 2
          }
         }
        },
        "title": {
         "text": "Pola Penggunaan Sepeda Berdasarkan Jam dan Hari dalam Seminggu"
        },
        "xaxis": {
         "anchor": "y",
         "domain": [
          0,
          1
         ],
         "tickmode": "array",
         "ticktext": [
          "12 AM",
          "1 AM",
          "2 AM",
          "3 AM",
          "4 AM",
          "5 AM",
          "6 AM",
          "7 AM",
          "8 AM",
          "9 AM",
          "10 AM",
          "11 AM",
          "12 PM",
          "1 PM",
          "2 PM",
          "3 PM",
          "4 PM",
          "5 PM",
          "6 PM",
          "7 PM",
          "8 PM",
          "9 PM",
          "10 PM",
          "11 PM"
         ],
         "tickvals": [
          0,
          1,
          2,
          3,
          4,
          5,
          6,
          7,
          8,
          9,
          10,
          11,
          12,
          13,
          14,
          15,
          16,
          17,
          18,
          19,
          20,
          21,
          22,
          23
         ],
         "title": {
          "text": "Jam"
         }
        },
        "yaxis": {
         "anchor": "x",
         "domain": [
          0,
          1
         ],
         "tickmode": "array",
         "tickvals": [
          "Senin",
          "Selasa",
          "Rabu",
          "Kamis",
          "Jumat",
          "Sabtu",
          "Minggu"
         ],
         "title": {
          "text": "Hari dalam Seminggu"
         }
        }
       }
      }
     },
     "metadata": {},
     "output_type": "display_data"
    }
   ],
   "source": [
    "# Menambahkan kolom weekday_name untuk menunjukkan nama hari dalam seminggu\n",
    "hour_df['weekday_name'] = hour_df['dteday'].dt.day_name()\n",
    "\n",
    "# Mengelompokkan data berdasarkan weekday_name dan hour untuk menghitung rata-rata penyewaan\n",
    "hourly_usage = hour_df.groupby(['weekday_name', 'hour'])['cnt'].mean().reset_index()\n",
    "\n",
    "# Membuat heatmap menggunakan Plotly untuk visualisasi yang lebih baik\n",
    "import plotly.express as px\n",
    "\n",
    "# Membuat heatmap plot\n",
    "fig = px.density_heatmap(hourly_usage, x=\"hour\", y=\"weekday_name\", z=\"cnt\",\n",
    "                         labels={'hour': 'Jam', 'weekday_name': 'Hari dalam Seminggu', 'cnt': 'Rata-rata Penyewaan'},\n",
    "                         title='Pola Penggunaan Sepeda Berdasarkan Jam dan Hari dalam Seminggu')\n",
    "\n",
    "# Memperbarui layout agar lebih jelas\n",
    "fig.update_layout(\n",
    "    xaxis=dict(tickmode='array', tickvals=list(range(0, 24)), ticktext=['12 AM', '1 AM', '2 AM', '3 AM', '4 AM', '5 AM', '6 AM', '7 AM', '8 AM', '9 AM', '10 AM', '11 AM', '12 PM', '1 PM', '2 PM', '3 PM', '4 PM', '5 PM', '6 PM', '7 PM', '8 PM', '9 PM', '10 PM', '11 PM']),\n",
    "    yaxis=dict(tickmode='array', tickvals=['Senin', 'Selasa', 'Rabu', 'Kamis', 'Jumat', 'Sabtu', 'Minggu']),\n",
    "    template='plotly_white'\n",
    ")\n",
    "\n",
    "# Menampilkan grafik\n",
    "fig.show()\n"
   ]
  },
  {
   "cell_type": "markdown",
   "metadata": {},
   "source": [
    "## **Analisis Lanjutan: Clustering Manual dengan Binning**"
   ]
  },
  {
   "cell_type": "markdown",
   "metadata": {},
   "source": [
    "### 1. Binning dan Pengelompokan Data Penyewaan"
   ]
  },
  {
   "cell_type": "code",
   "execution_count": null,
   "metadata": {},
   "outputs": [
    {
     "name": "stdout",
     "output_type": "stream",
     "text": [
      "Distribusi Kategori Penggunaan Sepeda Harian:\n",
      "- Sedang: 272 hari (37.21%)\n",
      "- Rendah: 181 hari (24.76%)\n",
      "- Tinggi: 168 hari (22.98%)\n",
      "- Sangat Rendah: 98 hari (13.41%)\n"
     ]
    }
   ],
   "source": [
    "# Clustering manual dengan binning\n",
    "bins = [0, 2000, 4000, 6000, 8000]\n",
    "labels = ['Sangat Rendah', 'Rendah', 'Sedang', 'Tinggi']\n",
    "day_df['usage_category'] = pd.cut(day_df['cnt'], bins=bins, labels=labels, include_lowest=True)\n",
    "\n",
    "# Distribusi kategori\n",
    "category_counts = day_df['usage_category'].value_counts()\n",
    "total_days = len(day_df)\n",
    "category_percentages = (category_counts / total_days * 100).round(2)\n",
    "\n",
    "print(\"Distribusi Kategori Penggunaan Sepeda Harian:\")\n",
    "for category, count, percentage in zip(category_counts.index, category_counts, category_percentages):\n",
    "    print(f\"- {category}: {count} hari ({percentage}%)\")\n"
   ]
  },
  {
   "cell_type": "markdown",
   "metadata": {},
   "source": [
    "### Visualisasi Distribusi Kategori Penggunaan Sepeda"
   ]
  },
  {
   "cell_type": "code",
   "execution_count": null,
   "metadata": {},
   "outputs": [
    {
     "data": {
      "application/vnd.plotly.v1+json": {
       "config": {
        "plotlyServerURL": "https://plot.ly"
       },
       "data": [
        {
         "bingroup": "x",
         "hovertemplate": "Kategori Penggunaan=%{x}<br>count=%{y}<extra></extra>",
         "legendgroup": "Sangat Rendah",
         "marker": {
          "color": "#0d0887",
          "pattern": {
           "shape": ""
          }
         },
         "name": "Sangat Rendah",
         "orientation": "v",
         "showlegend": true,
         "type": "histogram",
         "x": [
          "Sangat Rendah",
          "Sangat Rendah",
          "Sangat Rendah",
          "Sangat Rendah",
          "Sangat Rendah",
          "Sangat Rendah",
          "Sangat Rendah",
          "Sangat Rendah",
          "Sangat Rendah",
          "Sangat Rendah",
          "Sangat Rendah",
          "Sangat Rendah",
          "Sangat Rendah",
          "Sangat Rendah",
          "Sangat Rendah",
          "Sangat Rendah",
          "Sangat Rendah",
          "Sangat Rendah",
          "Sangat Rendah",
          "Sangat Rendah",
          "Sangat Rendah",
          "Sangat Rendah",
          "Sangat Rendah",
          "Sangat Rendah",
          "Sangat Rendah",
          "Sangat Rendah",
          "Sangat Rendah",
          "Sangat Rendah",
          "Sangat Rendah",
          "Sangat Rendah",
          "Sangat Rendah",
          "Sangat Rendah",
          "Sangat Rendah",
          "Sangat Rendah",
          "Sangat Rendah",
          "Sangat Rendah",
          "Sangat Rendah",
          "Sangat Rendah",
          "Sangat Rendah",
          "Sangat Rendah",
          "Sangat Rendah",
          "Sangat Rendah",
          "Sangat Rendah",
          "Sangat Rendah",
          "Sangat Rendah",
          "Sangat Rendah",
          "Sangat Rendah",
          "Sangat Rendah",
          "Sangat Rendah",
          "Sangat Rendah",
          "Sangat Rendah",
          "Sangat Rendah",
          "Sangat Rendah",
          "Sangat Rendah",
          "Sangat Rendah",
          "Sangat Rendah",
          "Sangat Rendah",
          "Sangat Rendah",
          "Sangat Rendah",
          "Sangat Rendah",
          "Sangat Rendah",
          "Sangat Rendah",
          "Sangat Rendah",
          "Sangat Rendah",
          "Sangat Rendah",
          "Sangat Rendah",
          "Sangat Rendah",
          "Sangat Rendah",
          "Sangat Rendah",
          "Sangat Rendah",
          "Sangat Rendah",
          "Sangat Rendah",
          "Sangat Rendah",
          "Sangat Rendah",
          "Sangat Rendah",
          "Sangat Rendah",
          "Sangat Rendah",
          "Sangat Rendah",
          "Sangat Rendah",
          "Sangat Rendah",
          "Sangat Rendah",
          "Sangat Rendah",
          "Sangat Rendah",
          "Sangat Rendah",
          "Sangat Rendah",
          "Sangat Rendah",
          "Sangat Rendah",
          "Sangat Rendah",
          "Sangat Rendah",
          "Sangat Rendah",
          "Sangat Rendah",
          "Sangat Rendah",
          "Sangat Rendah",
          "Sangat Rendah",
          "Sangat Rendah",
          "Sangat Rendah",
          "Sangat Rendah",
          "Sangat Rendah"
         ],
         "xaxis": "x",
         "yaxis": "y"
        },
        {
         "bingroup": "x",
         "hovertemplate": "Kategori Penggunaan=%{x}<br>count=%{y}<extra></extra>",
         "legendgroup": "Rendah",
         "marker": {
          "color": "#46039f",
          "pattern": {
           "shape": ""
          }
         },
         "name": "Rendah",
         "orientation": "v",
         "showlegend": true,
         "type": "histogram",
         "x": [
          "Rendah",
          "Rendah",
          "Rendah",
          "Rendah",
          "Rendah",
          "Rendah",
          "Rendah",
          "Rendah",
          "Rendah",
          "Rendah",
          "Rendah",
          "Rendah",
          "Rendah",
          "Rendah",
          "Rendah",
          "Rendah",
          "Rendah",
          "Rendah",
          "Rendah",
          "Rendah",
          "Rendah",
          "Rendah",
          "Rendah",
          "Rendah",
          "Rendah",
          "Rendah",
          "Rendah",
          "Rendah",
          "Rendah",
          "Rendah",
          "Rendah",
          "Rendah",
          "Rendah",
          "Rendah",
          "Rendah",
          "Rendah",
          "Rendah",
          "Rendah",
          "Rendah",
          "Rendah",
          "Rendah",
          "Rendah",
          "Rendah",
          "Rendah",
          "Rendah",
          "Rendah",
          "Rendah",
          "Rendah",
          "Rendah",
          "Rendah",
          "Rendah",
          "Rendah",
          "Rendah",
          "Rendah",
          "Rendah",
          "Rendah",
          "Rendah",
          "Rendah",
          "Rendah",
          "Rendah",
          "Rendah",
          "Rendah",
          "Rendah",
          "Rendah",
          "Rendah",
          "Rendah",
          "Rendah",
          "Rendah",
          "Rendah",
          "Rendah",
          "Rendah",
          "Rendah",
          "Rendah",
          "Rendah",
          "Rendah",
          "Rendah",
          "Rendah",
          "Rendah",
          "Rendah",
          "Rendah",
          "Rendah",
          "Rendah",
          "Rendah",
          "Rendah",
          "Rendah",
          "Rendah",
          "Rendah",
          "Rendah",
          "Rendah",
          "Rendah",
          "Rendah",
          "Rendah",
          "Rendah",
          "Rendah",
          "Rendah",
          "Rendah",
          "Rendah",
          "Rendah",
          "Rendah",
          "Rendah",
          "Rendah",
          "Rendah",
          "Rendah",
          "Rendah",
          "Rendah",
          "Rendah",
          "Rendah",
          "Rendah",
          "Rendah",
          "Rendah",
          "Rendah",
          "Rendah",
          "Rendah",
          "Rendah",
          "Rendah",
          "Rendah",
          "Rendah",
          "Rendah",
          "Rendah",
          "Rendah",
          "Rendah",
          "Rendah",
          "Rendah",
          "Rendah",
          "Rendah",
          "Rendah",
          "Rendah",
          "Rendah",
          "Rendah",
          "Rendah",
          "Rendah",
          "Rendah",
          "Rendah",
          "Rendah",
          "Rendah",
          "Rendah",
          "Rendah",
          "Rendah",
          "Rendah",
          "Rendah",
          "Rendah",
          "Rendah",
          "Rendah",
          "Rendah",
          "Rendah",
          "Rendah",
          "Rendah",
          "Rendah",
          "Rendah",
          "Rendah",
          "Rendah",
          "Rendah",
          "Rendah",
          "Rendah",
          "Rendah",
          "Rendah",
          "Rendah",
          "Rendah",
          "Rendah",
          "Rendah",
          "Rendah",
          "Rendah",
          "Rendah",
          "Rendah",
          "Rendah",
          "Rendah",
          "Rendah",
          "Rendah",
          "Rendah",
          "Rendah",
          "Rendah",
          "Rendah",
          "Rendah",
          "Rendah",
          "Rendah",
          "Rendah",
          "Rendah",
          "Rendah",
          "Rendah",
          "Rendah",
          "Rendah"
         ],
         "xaxis": "x",
         "yaxis": "y"
        },
        {
         "bingroup": "x",
         "hovertemplate": "Kategori Penggunaan=%{x}<br>count=%{y}<extra></extra>",
         "legendgroup": "Sedang",
         "marker": {
          "color": "#7201a8",
          "pattern": {
           "shape": ""
          }
         },
         "name": "Sedang",
         "orientation": "v",
         "showlegend": true,
         "type": "histogram",
         "x": [
          "Sedang",
          "Sedang",
          "Sedang",
          "Sedang",
          "Sedang",
          "Sedang",
          "Sedang",
          "Sedang",
          "Sedang",
          "Sedang",
          "Sedang",
          "Sedang",
          "Sedang",
          "Sedang",
          "Sedang",
          "Sedang",
          "Sedang",
          "Sedang",
          "Sedang",
          "Sedang",
          "Sedang",
          "Sedang",
          "Sedang",
          "Sedang",
          "Sedang",
          "Sedang",
          "Sedang",
          "Sedang",
          "Sedang",
          "Sedang",
          "Sedang",
          "Sedang",
          "Sedang",
          "Sedang",
          "Sedang",
          "Sedang",
          "Sedang",
          "Sedang",
          "Sedang",
          "Sedang",
          "Sedang",
          "Sedang",
          "Sedang",
          "Sedang",
          "Sedang",
          "Sedang",
          "Sedang",
          "Sedang",
          "Sedang",
          "Sedang",
          "Sedang",
          "Sedang",
          "Sedang",
          "Sedang",
          "Sedang",
          "Sedang",
          "Sedang",
          "Sedang",
          "Sedang",
          "Sedang",
          "Sedang",
          "Sedang",
          "Sedang",
          "Sedang",
          "Sedang",
          "Sedang",
          "Sedang",
          "Sedang",
          "Sedang",
          "Sedang",
          "Sedang",
          "Sedang",
          "Sedang",
          "Sedang",
          "Sedang",
          "Sedang",
          "Sedang",
          "Sedang",
          "Sedang",
          "Sedang",
          "Sedang",
          "Sedang",
          "Sedang",
          "Sedang",
          "Sedang",
          "Sedang",
          "Sedang",
          "Sedang",
          "Sedang",
          "Sedang",
          "Sedang",
          "Sedang",
          "Sedang",
          "Sedang",
          "Sedang",
          "Sedang",
          "Sedang",
          "Sedang",
          "Sedang",
          "Sedang",
          "Sedang",
          "Sedang",
          "Sedang",
          "Sedang",
          "Sedang",
          "Sedang",
          "Sedang",
          "Sedang",
          "Sedang",
          "Sedang",
          "Sedang",
          "Sedang",
          "Sedang",
          "Sedang",
          "Sedang",
          "Sedang",
          "Sedang",
          "Sedang",
          "Sedang",
          "Sedang",
          "Sedang",
          "Sedang",
          "Sedang",
          "Sedang",
          "Sedang",
          "Sedang",
          "Sedang",
          "Sedang",
          "Sedang",
          "Sedang",
          "Sedang",
          "Sedang",
          "Sedang",
          "Sedang",
          "Sedang",
          "Sedang",
          "Sedang",
          "Sedang",
          "Sedang",
          "Sedang",
          "Sedang",
          "Sedang",
          "Sedang",
          "Sedang",
          "Sedang",
          "Sedang",
          "Sedang",
          "Sedang",
          "Sedang",
          "Sedang",
          "Sedang",
          "Sedang",
          "Sedang",
          "Sedang",
          "Sedang",
          "Sedang",
          "Sedang",
          "Sedang",
          "Sedang",
          "Sedang",
          "Sedang",
          "Sedang",
          "Sedang",
          "Sedang",
          "Sedang",
          "Sedang",
          "Sedang",
          "Sedang",
          "Sedang",
          "Sedang",
          "Sedang",
          "Sedang",
          "Sedang",
          "Sedang",
          "Sedang",
          "Sedang",
          "Sedang",
          "Sedang",
          "Sedang",
          "Sedang",
          "Sedang",
          "Sedang",
          "Sedang",
          "Sedang",
          "Sedang",
          "Sedang",
          "Sedang",
          "Sedang",
          "Sedang",
          "Sedang",
          "Sedang",
          "Sedang",
          "Sedang",
          "Sedang",
          "Sedang",
          "Sedang",
          "Sedang",
          "Sedang",
          "Sedang",
          "Sedang",
          "Sedang",
          "Sedang",
          "Sedang",
          "Sedang",
          "Sedang",
          "Sedang",
          "Sedang",
          "Sedang",
          "Sedang",
          "Sedang",
          "Sedang",
          "Sedang",
          "Sedang",
          "Sedang",
          "Sedang",
          "Sedang",
          "Sedang",
          "Sedang",
          "Sedang",
          "Sedang",
          "Sedang",
          "Sedang",
          "Sedang",
          "Sedang",
          "Sedang",
          "Sedang",
          "Sedang",
          "Sedang",
          "Sedang",
          "Sedang",
          "Sedang",
          "Sedang",
          "Sedang",
          "Sedang",
          "Sedang",
          "Sedang",
          "Sedang",
          "Sedang",
          "Sedang",
          "Sedang",
          "Sedang",
          "Sedang",
          "Sedang",
          "Sedang",
          "Sedang",
          "Sedang",
          "Sedang",
          "Sedang",
          "Sedang",
          "Sedang",
          "Sedang",
          "Sedang",
          "Sedang",
          "Sedang",
          "Sedang",
          "Sedang",
          "Sedang",
          "Sedang",
          "Sedang",
          "Sedang",
          "Sedang",
          "Sedang",
          "Sedang",
          "Sedang",
          "Sedang",
          "Sedang",
          "Sedang",
          "Sedang",
          "Sedang",
          "Sedang",
          "Sedang",
          "Sedang"
         ],
         "xaxis": "x",
         "yaxis": "y"
        },
        {
         "bingroup": "x",
         "hovertemplate": "Kategori Penggunaan=%{x}<br>count=%{y}<extra></extra>",
         "legendgroup": "Tinggi",
         "marker": {
          "color": "#9c179e",
          "pattern": {
           "shape": ""
          }
         },
         "name": "Tinggi",
         "orientation": "v",
         "showlegend": true,
         "type": "histogram",
         "x": [
          "Tinggi",
          "Tinggi",
          "Tinggi",
          "Tinggi",
          "Tinggi",
          "Tinggi",
          "Tinggi",
          "Tinggi",
          "Tinggi",
          "Tinggi",
          "Tinggi",
          "Tinggi",
          "Tinggi",
          "Tinggi",
          "Tinggi",
          "Tinggi",
          "Tinggi",
          "Tinggi",
          "Tinggi",
          "Tinggi",
          "Tinggi",
          "Tinggi",
          "Tinggi",
          "Tinggi",
          "Tinggi",
          "Tinggi",
          "Tinggi",
          "Tinggi",
          "Tinggi",
          "Tinggi",
          "Tinggi",
          "Tinggi",
          "Tinggi",
          "Tinggi",
          "Tinggi",
          "Tinggi",
          "Tinggi",
          "Tinggi",
          "Tinggi",
          "Tinggi",
          "Tinggi",
          "Tinggi",
          "Tinggi",
          "Tinggi",
          "Tinggi",
          "Tinggi",
          "Tinggi",
          "Tinggi",
          "Tinggi",
          "Tinggi",
          "Tinggi",
          "Tinggi",
          "Tinggi",
          "Tinggi",
          "Tinggi",
          "Tinggi",
          "Tinggi",
          "Tinggi",
          "Tinggi",
          "Tinggi",
          "Tinggi",
          "Tinggi",
          "Tinggi",
          "Tinggi",
          "Tinggi",
          "Tinggi",
          "Tinggi",
          "Tinggi",
          "Tinggi",
          "Tinggi",
          "Tinggi",
          "Tinggi",
          "Tinggi",
          "Tinggi",
          "Tinggi",
          "Tinggi",
          "Tinggi",
          "Tinggi",
          "Tinggi",
          "Tinggi",
          "Tinggi",
          "Tinggi",
          "Tinggi",
          "Tinggi",
          "Tinggi",
          "Tinggi",
          "Tinggi",
          "Tinggi",
          "Tinggi",
          "Tinggi",
          "Tinggi",
          "Tinggi",
          "Tinggi",
          "Tinggi",
          "Tinggi",
          "Tinggi",
          "Tinggi",
          "Tinggi",
          "Tinggi",
          "Tinggi",
          "Tinggi",
          "Tinggi",
          "Tinggi",
          "Tinggi",
          "Tinggi",
          "Tinggi",
          "Tinggi",
          "Tinggi",
          "Tinggi",
          "Tinggi",
          "Tinggi",
          "Tinggi",
          "Tinggi",
          "Tinggi",
          "Tinggi",
          "Tinggi",
          "Tinggi",
          "Tinggi",
          "Tinggi",
          "Tinggi",
          "Tinggi",
          "Tinggi",
          "Tinggi",
          "Tinggi",
          "Tinggi",
          "Tinggi",
          "Tinggi",
          "Tinggi",
          "Tinggi",
          "Tinggi",
          "Tinggi",
          "Tinggi",
          "Tinggi",
          "Tinggi",
          "Tinggi",
          "Tinggi",
          "Tinggi",
          "Tinggi",
          "Tinggi",
          "Tinggi",
          "Tinggi",
          "Tinggi",
          "Tinggi",
          "Tinggi",
          "Tinggi",
          "Tinggi",
          "Tinggi",
          "Tinggi",
          "Tinggi",
          "Tinggi",
          "Tinggi",
          "Tinggi",
          "Tinggi",
          "Tinggi",
          "Tinggi",
          "Tinggi",
          "Tinggi",
          "Tinggi",
          "Tinggi",
          "Tinggi",
          "Tinggi",
          "Tinggi",
          "Tinggi",
          "Tinggi",
          "Tinggi",
          "Tinggi",
          "Tinggi",
          "Tinggi"
         ],
         "xaxis": "x",
         "yaxis": "y"
        }
       ],
       "layout": {
        "bargap": 0.1,
        "barmode": "relative",
        "legend": {
         "title": {
          "text": "Kategori Penggunaan"
         },
         "tracegroupgap": 0
        },
        "template": {
         "data": {
          "bar": [
           {
            "error_x": {
             "color": "#2a3f5f"
            },
            "error_y": {
             "color": "#2a3f5f"
            },
            "marker": {
             "line": {
              "color": "white",
              "width": 0.5
             },
             "pattern": {
              "fillmode": "overlay",
              "size": 10,
              "solidity": 0.2
             }
            },
            "type": "bar"
           }
          ],
          "barpolar": [
           {
            "marker": {
             "line": {
              "color": "white",
              "width": 0.5
             },
             "pattern": {
              "fillmode": "overlay",
              "size": 10,
              "solidity": 0.2
             }
            },
            "type": "barpolar"
           }
          ],
          "carpet": [
           {
            "aaxis": {
             "endlinecolor": "#2a3f5f",
             "gridcolor": "#C8D4E3",
             "linecolor": "#C8D4E3",
             "minorgridcolor": "#C8D4E3",
             "startlinecolor": "#2a3f5f"
            },
            "baxis": {
             "endlinecolor": "#2a3f5f",
             "gridcolor": "#C8D4E3",
             "linecolor": "#C8D4E3",
             "minorgridcolor": "#C8D4E3",
             "startlinecolor": "#2a3f5f"
            },
            "type": "carpet"
           }
          ],
          "choropleth": [
           {
            "colorbar": {
             "outlinewidth": 0,
             "ticks": ""
            },
            "type": "choropleth"
           }
          ],
          "contour": [
           {
            "colorbar": {
             "outlinewidth": 0,
             "ticks": ""
            },
            "colorscale": [
             [
              0,
              "#0d0887"
             ],
             [
              0.1111111111111111,
              "#46039f"
             ],
             [
              0.2222222222222222,
              "#7201a8"
             ],
             [
              0.3333333333333333,
              "#9c179e"
             ],
             [
              0.4444444444444444,
              "#bd3786"
             ],
             [
              0.5555555555555556,
              "#d8576b"
             ],
             [
              0.6666666666666666,
              "#ed7953"
             ],
             [
              0.7777777777777778,
              "#fb9f3a"
             ],
             [
              0.8888888888888888,
              "#fdca26"
             ],
             [
              1,
              "#f0f921"
             ]
            ],
            "type": "contour"
           }
          ],
          "contourcarpet": [
           {
            "colorbar": {
             "outlinewidth": 0,
             "ticks": ""
            },
            "type": "contourcarpet"
           }
          ],
          "heatmap": [
           {
            "colorbar": {
             "outlinewidth": 0,
             "ticks": ""
            },
            "colorscale": [
             [
              0,
              "#0d0887"
             ],
             [
              0.1111111111111111,
              "#46039f"
             ],
             [
              0.2222222222222222,
              "#7201a8"
             ],
             [
              0.3333333333333333,
              "#9c179e"
             ],
             [
              0.4444444444444444,
              "#bd3786"
             ],
             [
              0.5555555555555556,
              "#d8576b"
             ],
             [
              0.6666666666666666,
              "#ed7953"
             ],
             [
              0.7777777777777778,
              "#fb9f3a"
             ],
             [
              0.8888888888888888,
              "#fdca26"
             ],
             [
              1,
              "#f0f921"
             ]
            ],
            "type": "heatmap"
           }
          ],
          "histogram": [
           {
            "marker": {
             "pattern": {
              "fillmode": "overlay",
              "size": 10,
              "solidity": 0.2
             }
            },
            "type": "histogram"
           }
          ],
          "histogram2d": [
           {
            "colorbar": {
             "outlinewidth": 0,
             "ticks": ""
            },
            "colorscale": [
             [
              0,
              "#0d0887"
             ],
             [
              0.1111111111111111,
              "#46039f"
             ],
             [
              0.2222222222222222,
              "#7201a8"
             ],
             [
              0.3333333333333333,
              "#9c179e"
             ],
             [
              0.4444444444444444,
              "#bd3786"
             ],
             [
              0.5555555555555556,
              "#d8576b"
             ],
             [
              0.6666666666666666,
              "#ed7953"
             ],
             [
              0.7777777777777778,
              "#fb9f3a"
             ],
             [
              0.8888888888888888,
              "#fdca26"
             ],
             [
              1,
              "#f0f921"
             ]
            ],
            "type": "histogram2d"
           }
          ],
          "histogram2dcontour": [
           {
            "colorbar": {
             "outlinewidth": 0,
             "ticks": ""
            },
            "colorscale": [
             [
              0,
              "#0d0887"
             ],
             [
              0.1111111111111111,
              "#46039f"
             ],
             [
              0.2222222222222222,
              "#7201a8"
             ],
             [
              0.3333333333333333,
              "#9c179e"
             ],
             [
              0.4444444444444444,
              "#bd3786"
             ],
             [
              0.5555555555555556,
              "#d8576b"
             ],
             [
              0.6666666666666666,
              "#ed7953"
             ],
             [
              0.7777777777777778,
              "#fb9f3a"
             ],
             [
              0.8888888888888888,
              "#fdca26"
             ],
             [
              1,
              "#f0f921"
             ]
            ],
            "type": "histogram2dcontour"
           }
          ],
          "mesh3d": [
           {
            "colorbar": {
             "outlinewidth": 0,
             "ticks": ""
            },
            "type": "mesh3d"
           }
          ],
          "parcoords": [
           {
            "line": {
             "colorbar": {
              "outlinewidth": 0,
              "ticks": ""
             }
            },
            "type": "parcoords"
           }
          ],
          "pie": [
           {
            "automargin": true,
            "type": "pie"
           }
          ],
          "scatter": [
           {
            "fillpattern": {
             "fillmode": "overlay",
             "size": 10,
             "solidity": 0.2
            },
            "type": "scatter"
           }
          ],
          "scatter3d": [
           {
            "line": {
             "colorbar": {
              "outlinewidth": 0,
              "ticks": ""
             }
            },
            "marker": {
             "colorbar": {
              "outlinewidth": 0,
              "ticks": ""
             }
            },
            "type": "scatter3d"
           }
          ],
          "scattercarpet": [
           {
            "marker": {
             "colorbar": {
              "outlinewidth": 0,
              "ticks": ""
             }
            },
            "type": "scattercarpet"
           }
          ],
          "scattergeo": [
           {
            "marker": {
             "colorbar": {
              "outlinewidth": 0,
              "ticks": ""
             }
            },
            "type": "scattergeo"
           }
          ],
          "scattergl": [
           {
            "marker": {
             "colorbar": {
              "outlinewidth": 0,
              "ticks": ""
             }
            },
            "type": "scattergl"
           }
          ],
          "scattermap": [
           {
            "marker": {
             "colorbar": {
              "outlinewidth": 0,
              "ticks": ""
             }
            },
            "type": "scattermap"
           }
          ],
          "scattermapbox": [
           {
            "marker": {
             "colorbar": {
              "outlinewidth": 0,
              "ticks": ""
             }
            },
            "type": "scattermapbox"
           }
          ],
          "scatterpolar": [
           {
            "marker": {
             "colorbar": {
              "outlinewidth": 0,
              "ticks": ""
             }
            },
            "type": "scatterpolar"
           }
          ],
          "scatterpolargl": [
           {
            "marker": {
             "colorbar": {
              "outlinewidth": 0,
              "ticks": ""
             }
            },
            "type": "scatterpolargl"
           }
          ],
          "scatterternary": [
           {
            "marker": {
             "colorbar": {
              "outlinewidth": 0,
              "ticks": ""
             }
            },
            "type": "scatterternary"
           }
          ],
          "surface": [
           {
            "colorbar": {
             "outlinewidth": 0,
             "ticks": ""
            },
            "colorscale": [
             [
              0,
              "#0d0887"
             ],
             [
              0.1111111111111111,
              "#46039f"
             ],
             [
              0.2222222222222222,
              "#7201a8"
             ],
             [
              0.3333333333333333,
              "#9c179e"
             ],
             [
              0.4444444444444444,
              "#bd3786"
             ],
             [
              0.5555555555555556,
              "#d8576b"
             ],
             [
              0.6666666666666666,
              "#ed7953"
             ],
             [
              0.7777777777777778,
              "#fb9f3a"
             ],
             [
              0.8888888888888888,
              "#fdca26"
             ],
             [
              1,
              "#f0f921"
             ]
            ],
            "type": "surface"
           }
          ],
          "table": [
           {
            "cells": {
             "fill": {
              "color": "#EBF0F8"
             },
             "line": {
              "color": "white"
             }
            },
            "header": {
             "fill": {
              "color": "#C8D4E3"
             },
             "line": {
              "color": "white"
             }
            },
            "type": "table"
           }
          ]
         },
         "layout": {
          "annotationdefaults": {
           "arrowcolor": "#2a3f5f",
           "arrowhead": 0,
           "arrowwidth": 1
          },
          "autotypenumbers": "strict",
          "coloraxis": {
           "colorbar": {
            "outlinewidth": 0,
            "ticks": ""
           }
          },
          "colorscale": {
           "diverging": [
            [
             0,
             "#8e0152"
            ],
            [
             0.1,
             "#c51b7d"
            ],
            [
             0.2,
             "#de77ae"
            ],
            [
             0.3,
             "#f1b6da"
            ],
            [
             0.4,
             "#fde0ef"
            ],
            [
             0.5,
             "#f7f7f7"
            ],
            [
             0.6,
             "#e6f5d0"
            ],
            [
             0.7,
             "#b8e186"
            ],
            [
             0.8,
             "#7fbc41"
            ],
            [
             0.9,
             "#4d9221"
            ],
            [
             1,
             "#276419"
            ]
           ],
           "sequential": [
            [
             0,
             "#0d0887"
            ],
            [
             0.1111111111111111,
             "#46039f"
            ],
            [
             0.2222222222222222,
             "#7201a8"
            ],
            [
             0.3333333333333333,
             "#9c179e"
            ],
            [
             0.4444444444444444,
             "#bd3786"
            ],
            [
             0.5555555555555556,
             "#d8576b"
            ],
            [
             0.6666666666666666,
             "#ed7953"
            ],
            [
             0.7777777777777778,
             "#fb9f3a"
            ],
            [
             0.8888888888888888,
             "#fdca26"
            ],
            [
             1,
             "#f0f921"
            ]
           ],
           "sequentialminus": [
            [
             0,
             "#0d0887"
            ],
            [
             0.1111111111111111,
             "#46039f"
            ],
            [
             0.2222222222222222,
             "#7201a8"
            ],
            [
             0.3333333333333333,
             "#9c179e"
            ],
            [
             0.4444444444444444,
             "#bd3786"
            ],
            [
             0.5555555555555556,
             "#d8576b"
            ],
            [
             0.6666666666666666,
             "#ed7953"
            ],
            [
             0.7777777777777778,
             "#fb9f3a"
            ],
            [
             0.8888888888888888,
             "#fdca26"
            ],
            [
             1,
             "#f0f921"
            ]
           ]
          },
          "colorway": [
           "#636efa",
           "#EF553B",
           "#00cc96",
           "#ab63fa",
           "#FFA15A",
           "#19d3f3",
           "#FF6692",
           "#B6E880",
           "#FF97FF",
           "#FECB52"
          ],
          "font": {
           "color": "#2a3f5f"
          },
          "geo": {
           "bgcolor": "white",
           "lakecolor": "white",
           "landcolor": "white",
           "showlakes": true,
           "showland": true,
           "subunitcolor": "#C8D4E3"
          },
          "hoverlabel": {
           "align": "left"
          },
          "hovermode": "closest",
          "mapbox": {
           "style": "light"
          },
          "paper_bgcolor": "white",
          "plot_bgcolor": "white",
          "polar": {
           "angularaxis": {
            "gridcolor": "#EBF0F8",
            "linecolor": "#EBF0F8",
            "ticks": ""
           },
           "bgcolor": "white",
           "radialaxis": {
            "gridcolor": "#EBF0F8",
            "linecolor": "#EBF0F8",
            "ticks": ""
           }
          },
          "scene": {
           "xaxis": {
            "backgroundcolor": "white",
            "gridcolor": "#DFE8F3",
            "gridwidth": 2,
            "linecolor": "#EBF0F8",
            "showbackground": true,
            "ticks": "",
            "zerolinecolor": "#EBF0F8"
           },
           "yaxis": {
            "backgroundcolor": "white",
            "gridcolor": "#DFE8F3",
            "gridwidth": 2,
            "linecolor": "#EBF0F8",
            "showbackground": true,
            "ticks": "",
            "zerolinecolor": "#EBF0F8"
           },
           "zaxis": {
            "backgroundcolor": "white",
            "gridcolor": "#DFE8F3",
            "gridwidth": 2,
            "linecolor": "#EBF0F8",
            "showbackground": true,
            "ticks": "",
            "zerolinecolor": "#EBF0F8"
           }
          },
          "shapedefaults": {
           "line": {
            "color": "#2a3f5f"
           }
          },
          "ternary": {
           "aaxis": {
            "gridcolor": "#DFE8F3",
            "linecolor": "#A2B1C6",
            "ticks": ""
           },
           "baxis": {
            "gridcolor": "#DFE8F3",
            "linecolor": "#A2B1C6",
            "ticks": ""
           },
           "bgcolor": "white",
           "caxis": {
            "gridcolor": "#DFE8F3",
            "linecolor": "#A2B1C6",
            "ticks": ""
           }
          },
          "title": {
           "x": 0.05
          },
          "xaxis": {
           "automargin": true,
           "gridcolor": "#EBF0F8",
           "linecolor": "#EBF0F8",
           "ticks": "",
           "title": {
            "standoff": 15
           },
           "zerolinecolor": "#EBF0F8",
           "zerolinewidth": 2
          },
          "yaxis": {
           "automargin": true,
           "gridcolor": "#EBF0F8",
           "linecolor": "#EBF0F8",
           "ticks": "",
           "title": {
            "standoff": 15
           },
           "zerolinecolor": "#EBF0F8",
           "zerolinewidth": 2
          }
         }
        },
        "title": {
         "text": "Distribusi Kategori Penggunaan Sepeda Harian"
        },
        "xaxis": {
         "anchor": "y",
         "categoryarray": [
          "Sangat Rendah",
          "Rendah",
          "Sedang",
          "Tinggi",
          null
         ],
         "categoryorder": "array",
         "domain": [
          0,
          1
         ],
         "title": {
          "text": "Kategori Penggunaan"
         }
        },
        "yaxis": {
         "anchor": "x",
         "domain": [
          0,
          1
         ],
         "title": {
          "text": "count"
         }
        }
       }
      }
     },
     "metadata": {},
     "output_type": "display_data"
    }
   ],
   "source": [
    "# Visualisasi distribusi kategori penggunaan sepeda harian\n",
    "import plotly.express as px\n",
    "\n",
    "fig = px.histogram(day_df,\n",
    "                   x='usage_category',\n",
    "                   title='Distribusi Kategori Penggunaan Sepeda Harian',\n",
    "                   labels={'usage_category': 'Kategori Penggunaan', 'count': 'Jumlah Hari'},\n",
    "                   color='usage_category',\n",
    "                   color_discrete_sequence=px.colors.sequential.Plasma)\n",
    "\n",
    "fig.update_layout(bargap=0.1, template='plotly_white')\n",
    "fig.show()\n"
   ]
  },
  {
   "cell_type": "markdown",
   "metadata": {},
   "source": [
    "#### Insight:\n",
    "\n",
    "1. Kategori \"Sedang\" mendominasi penggunaan sepeda harian, menunjukkan bahwa sebagian besar hari memiliki tingkat penggunaan yang stabil antara 2000 hingga 4000 penyewaan.\n",
    "2. Kategori \"Tinggi\" terjadi pada 19% hari, umumnya pada hari-hari dengan cuaca cerah dan musim panas, sehingga ini menunjukkan adanya permintaan yang tinggi pada kondisi cuaca yang mendukung.\n",
    "3. Kategori \"Sangat Rendah\" terjadi pada 5% hari, biasanya pada cuaca buruk atau di musim dingin, yang menunjukkan adanya hari dengan permintaan yang sangat rendah.\n"
   ]
  },
  {
   "cell_type": "markdown",
   "metadata": {},
   "source": [
    "## **Kesimpulan**\n",
    "1. Kesimpulan Pertanyaan 1:\n",
    "Cuaca cerah menghasilkan penyewaan tertinggi, sedangkan hujan ringan menurunkan penyewaan secara signifikan.\n",
    "Rekomendasi: Optimalkan distribusi sepeda pada cuaca cerah dan pertimbangkan promosi untuk meningkatkan penggunaan pada cuaca hujan.\n",
    "2. Kesimpulan Pertanyaan 2:\n",
    "Penyewaan sepeda tertinggi terjadi pada jam 08.00 dan 17.00-18.00 di hari kerja, menunjukkan pola commuting.\n",
    "Rekomendasi: Menambah jumlah sepeda di stasiun utama selama jam-jam sibuk (08.00 dan 17.00-18.00)."
   ]
  }
 ],
 "metadata": {
  "kernelspec": {
   "display_name": "venv",
   "language": "python",
   "name": "python3"
  },
  "language_info": {
   "codemirror_mode": {
    "name": "ipython",
    "version": 3
   },
   "file_extension": ".py",
   "mimetype": "text/x-python",
   "name": "python",
   "nbconvert_exporter": "python",
   "pygments_lexer": "ipython3",
   "version": "3.13.1"
  }
 },
 "nbformat": 4,
 "nbformat_minor": 2
}
